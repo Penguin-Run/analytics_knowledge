{
 "cells": [
  {
   "cell_type": "code",
   "execution_count": 5,
   "id": "d23f5f89",
   "metadata": {
    "ExecuteTime": {
     "end_time": "2022-01-18T20:18:49.531021Z",
     "start_time": "2022-01-18T20:18:47.934308Z"
    }
   },
   "outputs": [],
   "source": [
    "import pandas as pd\n",
    "import numpy as np\n",
    "\n",
    "import statsmodels.api as sm \n",
    "import statsmodels.formula.api as sf"
   ]
  },
  {
   "cell_type": "markdown",
   "id": "a097b2e5",
   "metadata": {},
   "source": [
    "## "
   ]
  },
  {
   "cell_type": "code",
   "execution_count": 6,
   "id": "815fbd7d",
   "metadata": {
    "ExecuteTime": {
     "end_time": "2022-01-18T20:18:49.550722Z",
     "start_time": "2022-01-18T20:18:49.547533Z"
    }
   },
   "outputs": [],
   "source": [
    "delta = 200"
   ]
  },
  {
   "cell_type": "code",
   "execution_count": 7,
   "id": "844b75e9",
   "metadata": {
    "ExecuteTime": {
     "end_time": "2022-01-18T20:18:49.569145Z",
     "start_time": "2022-01-18T20:18:49.564450Z"
    }
   },
   "outputs": [
    {
     "name": "stdout",
     "output_type": "stream",
     "text": [
      "2250.0\n",
      "574.0604972870494\n"
     ]
    }
   ],
   "source": [
    "expenses = 2000\n",
    "example_sample = np.array([3000, 1500, 2000, 2500, 2500, 2500, 2500, 3000, 1500, 2500, 1250])\n",
    "print(example_sample.mean())\n",
    "print(example_sample.std())"
   ]
  },
  {
   "cell_type": "code",
   "execution_count": 8,
   "id": "17687f91",
   "metadata": {
    "ExecuteTime": {
     "end_time": "2022-01-18T20:18:50.131096Z",
     "start_time": "2022-01-18T20:18:50.126892Z"
    }
   },
   "outputs": [],
   "source": [
    "sample_size = 40\n",
    "sample = np.random.normal(2250, 550, sample_size)\n",
    "sample = pd.DataFrame(sample)\n",
    "sample.columns = ['income']\n",
    "sample['none'] = 0\n"
   ]
  },
  {
   "cell_type": "code",
   "execution_count": 9,
   "id": "6d937e4f",
   "metadata": {
    "ExecuteTime": {
     "end_time": "2022-01-18T20:18:51.998060Z",
     "start_time": "2022-01-18T20:18:51.966385Z"
    }
   },
   "outputs": [
    {
     "name": "stdout",
     "output_type": "stream",
     "text": [
      "                            OLS Regression Results                            \n",
      "==============================================================================\n",
      "Dep. Variable:                 income   R-squared:                      -0.000\n",
      "Model:                            OLS   Adj. R-squared:                 -0.000\n",
      "Method:                 Least Squares   F-statistic:                       nan\n",
      "Date:                Tue, 18 Jan 2022   Prob (F-statistic):                nan\n",
      "Time:                        23:18:51   Log-Likelihood:                -310.84\n",
      "No. Observations:                  40   AIC:                             623.7\n",
      "Df Residuals:                      39   BIC:                             625.4\n",
      "Df Model:                           0                                         \n",
      "Covariance Type:            nonrobust                                         \n",
      "==============================================================================\n",
      "                 coef    std err          t      P>|t|      [0.025      0.975]\n",
      "------------------------------------------------------------------------------\n",
      "Intercept   2215.7931     91.870     24.119      0.000    2029.969    2401.617\n",
      "none                0          0        nan        nan           0           0\n",
      "==============================================================================\n",
      "Omnibus:                        0.773   Durbin-Watson:                   1.392\n",
      "Prob(Omnibus):                  0.679   Jarque-Bera (JB):                0.412\n",
      "Skew:                          -0.248   Prob(JB):                        0.814\n",
      "Kurtosis:                       3.029   Cond. No.                          inf\n",
      "==============================================================================\n",
      "\n",
      "Notes:\n",
      "[1] Standard Errors assume that the covariance matrix of the errors is correctly specified.\n",
      "[2] The smallest eigenvalue is      0. This might indicate that there are\n",
      "strong multicollinearity problems or that the design matrix is singular.\n"
     ]
    },
    {
     "name": "stderr",
     "output_type": "stream",
     "text": [
      "/opt/anaconda3/lib/python3.8/site-packages/statsmodels/regression/linear_model.py:1860: RuntimeWarning: divide by zero encountered in double_scalars\n",
      "  return np.sqrt(eigvals[0]/eigvals[-1])\n"
     ]
    }
   ],
   "source": [
    "model = sf.ols('income ~ none', sample).fit()\n",
    "print(model.summary())"
   ]
  },
  {
   "cell_type": "markdown",
   "id": "0645ee38",
   "metadata": {},
   "source": [
    "## "
   ]
  },
  {
   "cell_type": "code",
   "execution_count": null,
   "id": "fbc6793b",
   "metadata": {},
   "outputs": [],
   "source": [
    "n = 3"
   ]
  },
  {
   "cell_type": "code",
   "execution_count": 4,
   "id": "dad10559",
   "metadata": {
    "ExecuteTime": {
     "end_time": "2022-01-18T20:18:19.632213Z",
     "start_time": "2022-01-18T20:18:19.629974Z"
    }
   },
   "outputs": [],
   "source": [
    "month = 30 * 4"
   ]
  },
  {
   "cell_type": "markdown",
   "id": "65fefea7",
   "metadata": {},
   "source": [
    "550 \n",
    "790"
   ]
  },
  {
   "cell_type": "code",
   "execution_count": 52,
   "id": "f091fd0d",
   "metadata": {
    "ExecuteTime": {
     "end_time": "2022-01-18T20:55:07.150370Z",
     "start_time": "2022-01-18T20:55:07.147675Z"
    }
   },
   "outputs": [],
   "source": [
    "n = 1000\n",
    "\n",
    "p1 = 550\n",
    "c1 = 0.5\n",
    "\n",
    "\n",
    "p2 = 740\n",
    "c2 = 0.5"
   ]
  },
  {
   "cell_type": "code",
   "execution_count": 53,
   "id": "8b21c418",
   "metadata": {
    "ExecuteTime": {
     "end_time": "2022-01-18T20:55:07.389655Z",
     "start_time": "2022-01-18T20:55:07.386199Z"
    }
   },
   "outputs": [
    {
     "data": {
      "text/plain": [
       "275000.0"
      ]
     },
     "execution_count": 53,
     "metadata": {},
     "output_type": "execute_result"
    }
   ],
   "source": [
    "n * p1 * c1"
   ]
  },
  {
   "cell_type": "code",
   "execution_count": 54,
   "id": "45670558",
   "metadata": {
    "ExecuteTime": {
     "end_time": "2022-01-18T20:55:07.862672Z",
     "start_time": "2022-01-18T20:55:07.859177Z"
    }
   },
   "outputs": [
    {
     "data": {
      "text/plain": [
       "370000.0"
      ]
     },
     "execution_count": 54,
     "metadata": {},
     "output_type": "execute_result"
    }
   ],
   "source": [
    "n * p2 * c2"
   ]
  },
  {
   "cell_type": "code",
   "execution_count": 55,
   "id": "311dcb6a",
   "metadata": {
    "ExecuteTime": {
     "end_time": "2022-01-18T20:55:08.305912Z",
     "start_time": "2022-01-18T20:55:08.302077Z"
    }
   },
   "outputs": [
    {
     "data": {
      "text/plain": [
       "0.34545454545454546"
      ]
     },
     "execution_count": 55,
     "metadata": {},
     "output_type": "execute_result"
    }
   ],
   "source": [
    "95/275"
   ]
  },
  {
   "cell_type": "code",
   "execution_count": 56,
   "id": "356f78f9",
   "metadata": {
    "ExecuteTime": {
     "end_time": "2022-01-18T20:57:12.340948Z",
     "start_time": "2022-01-18T20:57:12.337570Z"
    }
   },
   "outputs": [
    {
     "data": {
      "text/plain": [
       "60.0"
      ]
     },
     "execution_count": 56,
     "metadata": {},
     "output_type": "execute_result"
    }
   ],
   "source": [
    "15*8/2"
   ]
  }
 ],
 "metadata": {
  "kernelspec": {
   "display_name": "Python 3",
   "language": "python",
   "name": "python3"
  },
  "language_info": {
   "codemirror_mode": {
    "name": "ipython",
    "version": 3
   },
   "file_extension": ".py",
   "mimetype": "text/x-python",
   "name": "python",
   "nbconvert_exporter": "python",
   "pygments_lexer": "ipython3",
   "version": "3.8.8"
  },
  "toc": {
   "base_numbering": 1,
   "nav_menu": {},
   "number_sections": true,
   "sideBar": true,
   "skip_h1_title": false,
   "title_cell": "Table of Contents",
   "title_sidebar": "Contents",
   "toc_cell": false,
   "toc_position": {
    "height": "calc(100% - 180px)",
    "left": "10px",
    "top": "150px",
    "width": "305.455px"
   },
   "toc_section_display": true,
   "toc_window_display": true
  },
  "varInspector": {
   "cols": {
    "lenName": 16,
    "lenType": 16,
    "lenVar": 40
   },
   "kernels_config": {
    "python": {
     "delete_cmd_postfix": "",
     "delete_cmd_prefix": "del ",
     "library": "var_list.py",
     "varRefreshCmd": "print(var_dic_list())"
    },
    "r": {
     "delete_cmd_postfix": ") ",
     "delete_cmd_prefix": "rm(",
     "library": "var_list.r",
     "varRefreshCmd": "cat(var_dic_list()) "
    }
   },
   "types_to_exclude": [
    "module",
    "function",
    "builtin_function_or_method",
    "instance",
    "_Feature"
   ],
   "window_display": false
  }
 },
 "nbformat": 4,
 "nbformat_minor": 5
}
