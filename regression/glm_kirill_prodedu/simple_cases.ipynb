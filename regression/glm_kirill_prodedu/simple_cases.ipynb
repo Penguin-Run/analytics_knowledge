{
 "cells": [
  {
   "cell_type": "code",
   "execution_count": 1,
   "id": "b21b48bf",
   "metadata": {},
   "outputs": [],
   "source": [
    "import pandas as pd\n",
    "import numpy as np\n",
    "from matplotlib import pyplot as plt"
   ]
  },
  {
   "cell_type": "code",
   "execution_count": 2,
   "id": "2b57df07",
   "metadata": {},
   "outputs": [],
   "source": [
    "def generate_linear_model(beta, n, std_dev):\n",
    "    x = np.random.random(n) * 100\n",
    "    e = np.random.randn(n) * std_dev\n",
    "    y = x * beta + e\n",
    "    \n",
    "    return x, y\n",
    "\n",
    "def generate_nonlinear_model(n, std_dev):\n",
    "    x1 = np.random.random(n) * 10000\n",
    "    x2 = np.random.random(n) * 10\n",
    "    \n",
    "    e = np.random.randn(n) * std_dev\n",
    "    \n",
    "    y = np.sqrt(x1) + x2 ** 2 + e\n",
    "    \n",
    "    return x1, x2, y"
   ]
  },
  {
   "cell_type": "code",
   "execution_count": 3,
   "id": "a2e61a1b",
   "metadata": {
    "jupyter": {
     "source_hidden": true
    }
   },
   "outputs": [],
   "source": [
    "x, y = generate_linear_model(3, 100, 4)\n",
    "x1, x2, y1 = generate_nonlinear_model(100, 2)\n",
    "\n",
    "linear = pd.DataFrame()\n",
    "nonlinear = pd.DataFrame()\n",
    "\n",
    "linear['x'] = x\n",
    "linear['y'] = y\n",
    "\n",
    "nonlinear['x1'] = x1\n",
    "nonlinear['x2'] = x2\n",
    "nonlinear['y1'] = y1"
   ]
  },
  {
   "cell_type": "code",
   "execution_count": 4,
   "id": "db31f178",
   "metadata": {},
   "outputs": [
    {
     "data": {
      "text/html": [
       "<div>\n",
       "<style scoped>\n",
       "    .dataframe tbody tr th:only-of-type {\n",
       "        vertical-align: middle;\n",
       "    }\n",
       "\n",
       "    .dataframe tbody tr th {\n",
       "        vertical-align: top;\n",
       "    }\n",
       "\n",
       "    .dataframe thead th {\n",
       "        text-align: right;\n",
       "    }\n",
       "</style>\n",
       "<table border=\"1\" class=\"dataframe\">\n",
       "  <thead>\n",
       "    <tr style=\"text-align: right;\">\n",
       "      <th></th>\n",
       "      <th>x</th>\n",
       "      <th>y</th>\n",
       "    </tr>\n",
       "  </thead>\n",
       "  <tbody>\n",
       "    <tr>\n",
       "      <th>0</th>\n",
       "      <td>28.076302</td>\n",
       "      <td>79.410139</td>\n",
       "    </tr>\n",
       "    <tr>\n",
       "      <th>1</th>\n",
       "      <td>53.419786</td>\n",
       "      <td>160.987503</td>\n",
       "    </tr>\n",
       "    <tr>\n",
       "      <th>2</th>\n",
       "      <td>75.136371</td>\n",
       "      <td>224.403753</td>\n",
       "    </tr>\n",
       "    <tr>\n",
       "      <th>3</th>\n",
       "      <td>40.614089</td>\n",
       "      <td>119.210003</td>\n",
       "    </tr>\n",
       "    <tr>\n",
       "      <th>4</th>\n",
       "      <td>58.060275</td>\n",
       "      <td>178.404946</td>\n",
       "    </tr>\n",
       "  </tbody>\n",
       "</table>\n",
       "</div>"
      ],
      "text/plain": [
       "           x           y\n",
       "0  28.076302   79.410139\n",
       "1  53.419786  160.987503\n",
       "2  75.136371  224.403753\n",
       "3  40.614089  119.210003\n",
       "4  58.060275  178.404946"
      ]
     },
     "execution_count": 4,
     "metadata": {},
     "output_type": "execute_result"
    }
   ],
   "source": [
    "linear.head()"
   ]
  },
  {
   "cell_type": "code",
   "execution_count": 5,
   "id": "1053917c",
   "metadata": {},
   "outputs": [
    {
     "data": {
      "text/html": [
       "<div>\n",
       "<style scoped>\n",
       "    .dataframe tbody tr th:only-of-type {\n",
       "        vertical-align: middle;\n",
       "    }\n",
       "\n",
       "    .dataframe tbody tr th {\n",
       "        vertical-align: top;\n",
       "    }\n",
       "\n",
       "    .dataframe thead th {\n",
       "        text-align: right;\n",
       "    }\n",
       "</style>\n",
       "<table border=\"1\" class=\"dataframe\">\n",
       "  <thead>\n",
       "    <tr style=\"text-align: right;\">\n",
       "      <th></th>\n",
       "      <th>x1</th>\n",
       "      <th>x2</th>\n",
       "      <th>y1</th>\n",
       "    </tr>\n",
       "  </thead>\n",
       "  <tbody>\n",
       "    <tr>\n",
       "      <th>0</th>\n",
       "      <td>1725.857089</td>\n",
       "      <td>7.948749</td>\n",
       "      <td>107.540932</td>\n",
       "    </tr>\n",
       "    <tr>\n",
       "      <th>1</th>\n",
       "      <td>5509.343976</td>\n",
       "      <td>0.323708</td>\n",
       "      <td>73.417966</td>\n",
       "    </tr>\n",
       "    <tr>\n",
       "      <th>2</th>\n",
       "      <td>6312.080986</td>\n",
       "      <td>1.166170</td>\n",
       "      <td>78.832167</td>\n",
       "    </tr>\n",
       "    <tr>\n",
       "      <th>3</th>\n",
       "      <td>6744.244231</td>\n",
       "      <td>5.498972</td>\n",
       "      <td>112.171144</td>\n",
       "    </tr>\n",
       "    <tr>\n",
       "      <th>4</th>\n",
       "      <td>9498.335547</td>\n",
       "      <td>4.458464</td>\n",
       "      <td>118.029878</td>\n",
       "    </tr>\n",
       "  </tbody>\n",
       "</table>\n",
       "</div>"
      ],
      "text/plain": [
       "            x1        x2          y1\n",
       "0  1725.857089  7.948749  107.540932\n",
       "1  5509.343976  0.323708   73.417966\n",
       "2  6312.080986  1.166170   78.832167\n",
       "3  6744.244231  5.498972  112.171144\n",
       "4  9498.335547  4.458464  118.029878"
      ]
     },
     "execution_count": 5,
     "metadata": {},
     "output_type": "execute_result"
    }
   ],
   "source": [
    "nonlinear.head()"
   ]
  },
  {
   "cell_type": "code",
   "execution_count": 6,
   "id": "33aff8b2",
   "metadata": {},
   "outputs": [
    {
     "data": {
      "text/plain": [
       "[<matplotlib.lines.Line2D at 0x7fed62b4a250>]"
      ]
     },
     "execution_count": 6,
     "metadata": {},
     "output_type": "execute_result"
    },
    {
     "data": {
      "image/png": "[encoded data removed]",
      "text/plain": [
       "<Figure size 432x288 with 1 Axes>"
      ]
     },
     "metadata": {
      "needs_background": "light"
     },
     "output_type": "display_data"
    }
   ],
   "source": [
    "plt.plot(linear['x'], linear['y'], 'bo')"
   ]
  },
  {
   "cell_type": "code",
   "execution_count": 15,
   "id": "1c7c15a8",
   "metadata": {},
   "outputs": [
    {
     "data": {
      "text/plain": [
       "[<matplotlib.lines.Line2D at 0x7fed631bba60>]"
      ]
     },
     "execution_count": 15,
     "metadata": {},
     "output_type": "execute_result"
    },
    {
     "data": {
      "image/png": "[encoded data removed]",
      "text/plain": [
       "<Figure size 432x288 with 1 Axes>"
      ]
     },
     "metadata": {
      "needs_background": "light"
     },
     "output_type": "display_data"
    }
   ],
   "source": [
    "plt.plot(nonlinear['x1'], nonlinear['y1'], 'bo')"
   ]
  },
  {
   "cell_type": "code",
   "execution_count": 16,
   "id": "5be0e3a2",
   "metadata": {},
   "outputs": [],
   "source": [
    "nonlinear['x2_porabola'] = nonlinear['x2'] ** 2\n",
    "nonlinear['x1_sqrt'] = nonlinear['x1'] ** .5"
   ]
  },
  {
   "cell_type": "code",
   "execution_count": 17,
   "id": "d23a833e",
   "metadata": {},
   "outputs": [
    {
     "data": {
      "text/plain": [
       "[<matplotlib.lines.Line2D at 0x7fed6330f8e0>]"
      ]
     },
     "execution_count": 17,
     "metadata": {},
     "output_type": "execute_result"
    },
    {
     "data": {
      "image/png": "[encoded data removed]",
      "text/plain": [
       "<Figure size 432x288 with 1 Axes>"
      ]
     },
     "metadata": {
      "needs_background": "light"
     },
     "output_type": "display_data"
    }
   ],
   "source": [
    "plt.plot(nonlinear['x1_sqrt'], nonlinear['y1'], 'bo')"
   ]
  }
 ],
 "metadata": {
  "kernelspec": {
   "display_name": "Python 3",
   "language": "python",
   "name": "python3"
  },
  "language_info": {
   "codemirror_mode": {
    "name": "ipython",
    "version": 3
   },
   "file_extension": ".py",
   "mimetype": "text/x-python",
   "name": "python",
   "nbconvert_exporter": "python",
   "pygments_lexer": "ipython3",
   "version": "3.8.8"
  },
  "toc": {
   "base_numbering": 1,
   "nav_menu": {},
   "number_sections": true,
   "sideBar": true,
   "skip_h1_title": false,
   "title_cell": "Table of Contents",
   "title_sidebar": "Contents",
   "toc_cell": false,
   "toc_position": {},
   "toc_section_display": true,
   "toc_window_display": false
  },
  "varInspector": {
   "cols": {
    "lenName": 16,
    "lenType": 16,
    "lenVar": 40
   },
   "kernels_config": {
    "python": {
     "delete_cmd_postfix": "",
     "delete_cmd_prefix": "del ",
     "library": "var_list.py",
     "varRefreshCmd": "print(var_dic_list())"
    },
    "r": {
     "delete_cmd_postfix": ") ",
     "delete_cmd_prefix": "rm(",
     "library": "var_list.r",
     "varRefreshCmd": "cat(var_dic_list()) "
    }
   },
   "types_to_exclude": [
    "module",
    "function",
    "builtin_function_or_method",
    "instance",
    "_Feature"
   ],
   "window_display": false
  }
 },
 "nbformat": 4,
 "nbformat_minor": 5
}
