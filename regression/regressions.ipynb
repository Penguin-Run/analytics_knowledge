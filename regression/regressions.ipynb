{
 "cells": [
  {
   "cell_type": "code",
   "execution_count": 2,
   "id": "974993bf",
   "metadata": {
    "ExecuteTime": {
     "end_time": "2021-11-06T15:04:24.550043Z",
     "start_time": "2021-11-06T15:04:22.753940Z"
    }
   },
   "outputs": [],
   "source": [
    "import numpy as np\n",
    "import pandas as pd\n",
    "\n",
    "import matplotlib.pyplot as plt\n",
    "import seaborn as sns\n",
    "\n",
    "import statsmodels.api as sm \n",
    "import statsmodels.formula.api as sf"
   ]
  },
  {
   "cell_type": "markdown",
   "id": "54c80db8",
   "metadata": {},
   "source": [
    "### Explore Data\n",
    "Попробовать самостоятельно найти датасет titanic, загрузить его"
   ]
  },
  {
   "cell_type": "code",
   "execution_count": 19,
   "id": "8d9cdf2c",
   "metadata": {
    "ExecuteTime": {
     "end_time": "2021-11-06T15:08:45.561189Z",
     "start_time": "2021-11-06T15:08:45.552013Z"
    }
   },
   "outputs": [],
   "source": [
    "df = sns.load_dataset('titanic')"
   ]
  },
  {
   "cell_type": "markdown",
   "id": "7f66b269",
   "metadata": {},
   "source": [
    "### Logistic regression"
   ]
  },
  {
   "cell_type": "code",
   "execution_count": 55,
   "id": "210c38b5",
   "metadata": {
    "ExecuteTime": {
     "end_time": "2021-11-05T10:52:59.828639Z",
     "start_time": "2021-11-05T10:52:59.806746Z"
    }
   },
   "outputs": [],
   "source": [
    "# определяем значимость влияния класса пассажира и его пола на веростность выживаемости\n",
    "model = sf.glm('survived ~ C(pclass) + C(sex) + C(pclass)*C(sex)', df, family = sm.families.Binomial()).fit()"
   ]
  },
  {
   "cell_type": "code",
   "execution_count": 56,
   "id": "8c29b995",
   "metadata": {
    "ExecuteTime": {
     "end_time": "2021-11-05T10:52:59.977184Z",
     "start_time": "2021-11-05T10:52:59.967212Z"
    }
   },
   "outputs": [
    {
     "name": "stdout",
     "output_type": "stream",
     "text": [
      "                 Generalized Linear Model Regression Results                  \n",
      "==============================================================================\n",
      "Dep. Variable:               survived   No. Observations:                  891\n",
      "Model:                            GLM   Df Residuals:                      885\n",
      "Model Family:                Binomial   Df Model:                            5\n",
      "Link Function:                  logit   Scale:                          1.0000\n",
      "Method:                          IRLS   Log-Likelihood:                -399.05\n",
      "Date:                Fri, 05 Nov 2021   Deviance:                       798.10\n",
      "Time:                        13:52:59   Pearson chi2:                     891.\n",
      "No. Iterations:                     6                                         \n",
      "Covariance Type:            nonrobust                                         \n",
      "=================================================================================================\n",
      "                                    coef    std err          z      P>|z|      [0.025      0.975]\n",
      "-------------------------------------------------------------------------------------------------\n",
      "Intercept                         3.4122      0.587      5.815      0.000       2.262       4.562\n",
      "C(pclass)[T.2]                   -0.9555      0.725     -1.318      0.187      -2.376       0.465\n",
      "C(pclass)[T.3]                   -3.4122      0.610     -5.594      0.000      -4.608      -2.217\n",
      "C(sex)[T.male]                   -3.9494      0.616     -6.411      0.000      -5.157      -2.742\n",
      "C(pclass)[T.2]:C(sex)[T.male]    -0.1850      0.794     -0.233      0.816      -1.741       1.371\n",
      "C(pclass)[T.3]:C(sex)[T.male]     2.0958      0.657      3.189      0.001       0.808       3.384\n",
      "=================================================================================================\n"
     ]
    }
   ],
   "source": [
    "print(model.summary())"
   ]
  },
  {
   "cell_type": "markdown",
   "id": "ff088093",
   "metadata": {},
   "source": [
    "log of chances -> propability\n",
    "![logit func](https://upload.wikimedia.org/wikipedia/commons/c/c8/Logit.svg)"
   ]
  },
  {
   "cell_type": "code",
   "execution_count": 24,
   "id": "a56dfdb2",
   "metadata": {
    "ExecuteTime": {
     "end_time": "2021-11-05T10:38:25.736382Z",
     "start_time": "2021-11-05T10:38:25.733459Z"
    }
   },
   "outputs": [],
   "source": [
    "import math as m\n",
    "\n",
    "def activasion(x):\n",
    "    return m.log(x/(1-x), m.e)\n",
    "\n",
    "def activasion_back(x):\n",
    "    return 1/(1+m.e**(-x))"
   ]
  },
  {
   "cell_type": "code",
   "execution_count": 58,
   "id": "daa0c7d7",
   "metadata": {
    "ExecuteTime": {
     "end_time": "2021-11-05T10:53:11.134506Z",
     "start_time": "2021-11-05T10:53:11.130346Z"
    }
   },
   "outputs": [
    {
     "data": {
      "text/plain": [
       "0.9680851063829116"
      ]
     },
     "execution_count": 58,
     "metadata": {},
     "output_type": "execute_result"
    }
   ],
   "source": [
    "activasion_back(model.params[0])"
   ]
  },
  {
   "cell_type": "code",
   "execution_count": 57,
   "id": "39655ad1",
   "metadata": {
    "ExecuteTime": {
     "end_time": "2021-11-05T10:53:08.342158Z",
     "start_time": "2021-11-05T10:53:08.334336Z"
    }
   },
   "outputs": [
    {
     "data": {
      "text/plain": [
       "0.9680851063829787"
      ]
     },
     "execution_count": 57,
     "metadata": {},
     "output_type": "execute_result"
    }
   ],
   "source": [
    "df.query('pclass == 1 and sex == \"female\"').survived.mean()"
   ]
  },
  {
   "cell_type": "markdown",
   "id": "83f68fdf",
   "metadata": {
    "heading_collapsed": true
   },
   "source": [
    "### Linear regression"
   ]
  },
  {
   "cell_type": "markdown",
   "id": "55beb67d",
   "metadata": {
    "hidden": true
   },
   "source": [
    "Lets look at contibutors to the fare price with linear regression"
   ]
  },
  {
   "cell_type": "code",
   "execution_count": 159,
   "id": "d768ce78",
   "metadata": {
    "ExecuteTime": {
     "end_time": "2021-10-10T16:44:33.079818Z",
     "start_time": "2021-10-10T16:44:33.057163Z"
    },
    "hidden": true
   },
   "outputs": [],
   "source": [
    "model_2 = sf.ols('fare ~ C(pclass) + age + C(embark_town) + C(parch)', df).fit()"
   ]
  },
  {
   "cell_type": "code",
   "execution_count": 160,
   "id": "fbd15edd",
   "metadata": {
    "ExecuteTime": {
     "end_time": "2021-10-10T16:44:33.909469Z",
     "start_time": "2021-10-10T16:44:33.896928Z"
    },
    "hidden": true
   },
   "outputs": [
    {
     "name": "stdout",
     "output_type": "stream",
     "text": [
      "                            OLS Regression Results                            \n",
      "==============================================================================\n",
      "Dep. Variable:                   fare   R-squared:                       0.432\n",
      "Model:                            OLS   Adj. R-squared:                  0.423\n",
      "Method:                 Least Squares   F-statistic:                     48.48\n",
      "Date:                Sun, 10 Oct 2021   Prob (F-statistic):           1.06e-78\n",
      "Time:                        19:44:33   Log-Likelihood:                -3634.2\n",
      "No. Observations:                 712   AIC:                             7292.\n",
      "Df Residuals:                     700   BIC:                             7347.\n",
      "Df Model:                          11                                         \n",
      "Covariance Type:            nonrobust                                         \n",
      "=================================================================================================\n",
      "                                    coef    std err          t      P>|t|      [0.025      0.975]\n",
      "-------------------------------------------------------------------------------------------------\n",
      "Intercept                        99.3740      6.303     15.766      0.000      86.999     111.749\n",
      "C(pclass)[T.2]                  -63.1417      4.609    -13.701      0.000     -72.190     -54.093\n",
      "C(pclass)[T.3]                  -73.2206      4.268    -17.157      0.000     -81.599     -64.842\n",
      "C(embark_town)[T.Queenstown]    -11.8242      8.642     -1.368      0.172     -28.792       5.143\n",
      "C(embark_town)[T.Southampton]   -15.3492      4.182     -3.670      0.000     -23.561      -7.137\n",
      "C(parch)[T.1]                    16.3429      4.353      3.755      0.000       7.797      24.889\n",
      "C(parch)[T.2]                    32.7211      5.541      5.906      0.000      21.843      43.599\n",
      "C(parch)[T.3]                    15.8417     18.101      0.875      0.382     -19.697      51.380\n",
      "C(parch)[T.4]                    66.3083     20.281      3.270      0.001      26.490     106.127\n",
      "C(parch)[T.5]                    30.2453     18.213      1.661      0.097      -5.514      66.004\n",
      "C(parch)[T.6]                    46.1925     40.313      1.146      0.252     -32.957     125.342\n",
      "age                              -0.2348      0.123     -1.913      0.056      -0.476       0.006\n",
      "==============================================================================\n",
      "Omnibus:                      816.543   Durbin-Watson:                   2.008\n",
      "Prob(Omnibus):                  0.000   Jarque-Bera (JB):            78784.680\n",
      "Skew:                           5.453   Prob(JB):                         0.00\n",
      "Kurtosis:                      53.366   Cond. No.                         884.\n",
      "==============================================================================\n",
      "\n",
      "Notes:\n",
      "[1] Standard Errors assume that the covariance matrix of the errors is correctly specified.\n"
     ]
    }
   ],
   "source": [
    "print(model_2.summary())"
   ]
  },
  {
   "cell_type": "markdown",
   "id": "a4894348",
   "metadata": {
    "hidden": true
   },
   "source": [
    "**Contributors to fare**:\n",
    "1. pclass: strong + precise\n",
    "2. parch: medium + imprecise\n",
    "3. embarked town: small + kind of precise  \n",
    "    Southampton\n",
    "    \n",
    "**next step**:  \n",
    "1. накинуть какой импакт дает предиктор, если его сдвинуть адекватно бизнес реалиям (вывести влияние на зависимую переменную от примерно равного по сложности реализации сдвига каждого из предикторов)  \n",
    "2. приоретизировать важность предикторов по этому влиянию"
   ]
  },
  {
   "cell_type": "markdown",
   "id": "9bcb457b",
   "metadata": {},
   "source": [
    "### Tips & Tricks"
   ]
  },
  {
   "cell_type": "markdown",
   "id": "4c7c0519",
   "metadata": {},
   "source": [
    "#### propability doesnt equal in regression and in data"
   ]
  },
  {
   "cell_type": "markdown",
   "id": "defbeed7",
   "metadata": {},
   "source": [
    "This can be possible due to not including significant interactions between two factors\n",
    "Without interaction model just sum up bias of each factor (bias determinated om all other data), and dont consider that interactions of two factor can change it bias (has its own bias)"
   ]
  },
  {
   "cell_type": "code",
   "execution_count": 24,
   "id": "fdfab724",
   "metadata": {
    "ExecuteTime": {
     "end_time": "2021-11-06T15:10:13.789007Z",
     "start_time": "2021-11-06T15:10:13.760920Z"
    }
   },
   "outputs": [
    {
     "name": "stdout",
     "output_type": "stream",
     "text": [
      "                            OLS Regression Results                            \n",
      "==============================================================================\n",
      "Dep. Variable:                   fare   R-squared:                       0.368\n",
      "Model:                            OLS   Adj. R-squared:                  0.365\n",
      "Method:                 Least Squares   F-statistic:                     171.8\n",
      "Date:                Sat, 06 Nov 2021   Prob (F-statistic):           8.28e-88\n",
      "Time:                        18:10:13   Log-Likelihood:                -4539.8\n",
      "No. Observations:                 891   AIC:                             9088.\n",
      "Df Residuals:                     887   BIC:                             9107.\n",
      "Df Model:                           3                                         \n",
      "Covariance Type:            nonrobust                                         \n",
      "==================================================================================\n",
      "                     coef    std err          t      P>|t|      [0.025      0.975]\n",
      "----------------------------------------------------------------------------------\n",
      "Intercept         91.2804      3.124     29.216      0.000      85.149      97.412\n",
      "C(pclass)[T.2]   -63.2132      3.972    -15.915      0.000     -71.009     -55.418\n",
      "C(pclass)[T.3]   -68.6888      3.257    -21.093      0.000     -75.080     -62.297\n",
      "C(sex)[T.male]   -12.6161      2.803     -4.501      0.000     -18.117      -7.115\n",
      "==============================================================================\n",
      "Omnibus:                      999.847   Durbin-Watson:                   2.022\n",
      "Prob(Omnibus):                  0.000   Jarque-Bera (JB):            94476.225\n",
      "Skew:                           5.368   Prob(JB):                         0.00\n",
      "Kurtosis:                      52.290   Cond. No.                         5.33\n",
      "==============================================================================\n",
      "\n",
      "Notes:\n",
      "[1] Standard Errors assume that the covariance matrix of the errors is correctly specified.\n"
     ]
    }
   ],
   "source": [
    "# определяем значимость влияния класса пассажира и его пола на веростность выживаемости\n",
    "model = sf.ols('fare ~ C(pclass) + C(sex)', df).fit()\n",
    "print(model.summary())"
   ]
  },
  {
   "cell_type": "markdown",
   "id": "29e74b0e",
   "metadata": {},
   "source": [
    "intercept - females in the first class"
   ]
  },
  {
   "cell_type": "code",
   "execution_count": 48,
   "id": "d564509c",
   "metadata": {
    "ExecuteTime": {
     "end_time": "2021-11-05T10:50:22.485474Z",
     "start_time": "2021-11-05T10:50:22.481385Z"
    }
   },
   "outputs": [
    {
     "data": {
      "text/plain": [
       "0.9086385042622006"
      ]
     },
     "execution_count": 48,
     "metadata": {},
     "output_type": "execute_result"
    }
   ],
   "source": [
    "intercept = model.params[0]\n",
    "activasion_back(intercept)"
   ]
  },
  {
   "cell_type": "code",
   "execution_count": 47,
   "id": "8b171fce",
   "metadata": {
    "ExecuteTime": {
     "end_time": "2021-11-05T10:50:12.606643Z",
     "start_time": "2021-11-05T10:50:12.598707Z"
    }
   },
   "outputs": [
    {
     "data": {
      "text/plain": [
       "0.9680851063829787"
      ]
     },
     "execution_count": 47,
     "metadata": {},
     "output_type": "execute_result"
    }
   ],
   "source": [
    "df.query('pclass == 1 and sex == \"female\"').survived.mean()"
   ]
  },
  {
   "cell_type": "markdown",
   "id": "6036b7ca",
   "metadata": {},
   "source": [
    "the results are not equal due to lack of interactions factor  \n",
    "lets add it"
   ]
  },
  {
   "cell_type": "code",
   "execution_count": 49,
   "id": "1846644f",
   "metadata": {
    "ExecuteTime": {
     "end_time": "2021-11-05T10:51:15.001635Z",
     "start_time": "2021-11-05T10:51:14.971084Z"
    }
   },
   "outputs": [
    {
     "name": "stdout",
     "output_type": "stream",
     "text": [
      "                 Generalized Linear Model Regression Results                  \n",
      "==============================================================================\n",
      "Dep. Variable:               survived   No. Observations:                  891\n",
      "Model:                            GLM   Df Residuals:                      885\n",
      "Model Family:                Binomial   Df Model:                            5\n",
      "Link Function:                  logit   Scale:                          1.0000\n",
      "Method:                          IRLS   Log-Likelihood:                -399.05\n",
      "Date:                Fri, 05 Nov 2021   Deviance:                       798.10\n",
      "Time:                        13:51:14   Pearson chi2:                     891.\n",
      "No. Iterations:                     6                                         \n",
      "Covariance Type:            nonrobust                                         \n",
      "=================================================================================================\n",
      "                                    coef    std err          z      P>|z|      [0.025      0.975]\n",
      "-------------------------------------------------------------------------------------------------\n",
      "Intercept                         3.4122      0.587      5.815      0.000       2.262       4.562\n",
      "C(pclass)[T.2]                   -0.9555      0.725     -1.318      0.187      -2.376       0.465\n",
      "C(pclass)[T.3]                   -3.4122      0.610     -5.594      0.000      -4.608      -2.217\n",
      "C(sex)[T.male]                   -3.9494      0.616     -6.411      0.000      -5.157      -2.742\n",
      "C(pclass)[T.2]:C(sex)[T.male]    -0.1850      0.794     -0.233      0.816      -1.741       1.371\n",
      "C(pclass)[T.3]:C(sex)[T.male]     2.0958      0.657      3.189      0.001       0.808       3.384\n",
      "=================================================================================================\n"
     ]
    }
   ],
   "source": [
    "print(sf.glm('survived ~ C(pclass) + C(sex) + C(pclass)*C(sex)', df, family = sm.families.Binomial()).fit().summary())"
   ]
  },
  {
   "cell_type": "code",
   "execution_count": 51,
   "id": "3d65a8f7",
   "metadata": {
    "ExecuteTime": {
     "end_time": "2021-11-05T10:51:46.170150Z",
     "start_time": "2021-11-05T10:51:46.166505Z"
    }
   },
   "outputs": [
    {
     "data": {
      "text/plain": [
       "0.9680836474923478"
      ]
     },
     "execution_count": 51,
     "metadata": {},
     "output_type": "execute_result"
    }
   ],
   "source": [
    "activasion_back(3.4122)"
   ]
  },
  {
   "cell_type": "markdown",
   "id": "97e4b28b",
   "metadata": {},
   "source": [
    "#### Normalisation & Standartisation"
   ]
  },
  {
   "cell_type": "markdown",
   "id": "d067bd87",
   "metadata": {},
   "source": [
    "Возможно рабочий вариант сразу выводить коэффициенты модели, интепретируемые в значимость эффекта, в его размер более менее который можно сопоставлять"
   ]
  },
  {
   "cell_type": "markdown",
   "id": "b86dc385",
   "metadata": {},
   "source": [
    "У богдана в курсе было, ну а вообще там тупо одна формула к данным применить и все"
   ]
  },
  {
   "cell_type": "markdown",
   "id": "27a28b37",
   "metadata": {
    "ExecuteTime": {
     "end_time": "2021-11-05T16:33:24.965626Z",
     "start_time": "2021-11-05T16:33:24.962632Z"
    }
   },
   "source": [
    "Или в либах:\n",
    "    Sklearn: MinMaxScaler, StandartScaler"
   ]
  },
  {
   "cell_type": "markdown",
   "id": "67cef63a",
   "metadata": {},
   "source": [
    "про необходимость data scaling и основные подходы: https://medium.com/greyatom/why-how-and-when-to-scale-your-features-4b30ab09db5e  "
   ]
  },
  {
   "cell_type": "markdown",
   "id": "a98dff4e",
   "metadata": {},
   "source": [
    "#### "
   ]
  },
  {
   "cell_type": "code",
   "execution_count": 27,
   "id": "1b9f8bdf",
   "metadata": {
    "ExecuteTime": {
     "end_time": "2021-11-06T15:11:24.254765Z",
     "start_time": "2021-11-06T15:11:23.688868Z"
    }
   },
   "outputs": [
    {
     "data": {
      "image/png": "[encoded data removed]",
      "text/plain": [
       "<Figure size 444.75x360 with 1 Axes>"
      ]
     },
     "metadata": {
      "needs_background": "light"
     },
     "output_type": "display_data"
    }
   ],
   "source": [
    "g = sns.lmplot(data=df, x = 'sepal_length', y = 'petal_length', hue = 'species')"
   ]
  },
  {
   "cell_type": "code",
   "execution_count": 28,
   "id": "6b428099",
   "metadata": {
    "ExecuteTime": {
     "end_time": "2021-11-06T15:12:31.712884Z",
     "start_time": "2021-11-06T15:12:31.449500Z"
    }
   },
   "outputs": [
    {
     "data": {
      "image/png": "[encoded data removed]",
      "text/plain": [
       "<Figure size 360x360 with 1 Axes>"
      ]
     },
     "metadata": {
      "needs_background": "light"
     },
     "output_type": "display_data"
    }
   ],
   "source": [
    "g = sns.lmplot(data=df, x = 'sepal_length', y = 'petal_length')"
   ]
  },
  {
   "cell_type": "code",
   "execution_count": 25,
   "id": "9aeb8df8",
   "metadata": {
    "ExecuteTime": {
     "end_time": "2021-11-06T15:10:29.684947Z",
     "start_time": "2021-11-06T15:10:29.666316Z"
    }
   },
   "outputs": [
    {
     "name": "stdout",
     "output_type": "stream",
     "text": [
      "                            OLS Regression Results                            \n",
      "==============================================================================\n",
      "Dep. Variable:           petal_length   R-squared:                       0.760\n",
      "Model:                            OLS   Adj. R-squared:                  0.758\n",
      "Method:                 Least Squares   F-statistic:                     468.6\n",
      "Date:                Sat, 06 Nov 2021   Prob (F-statistic):           1.04e-47\n",
      "Time:                        18:10:29   Log-Likelihood:                -190.57\n",
      "No. Observations:                 150   AIC:                             385.1\n",
      "Df Residuals:                     148   BIC:                             391.2\n",
      "Df Model:                           1                                         \n",
      "Covariance Type:            nonrobust                                         \n",
      "================================================================================\n",
      "                   coef    std err          t      P>|t|      [0.025      0.975]\n",
      "--------------------------------------------------------------------------------\n",
      "Intercept       -7.1014      0.507    -14.016      0.000      -8.103      -6.100\n",
      "sepal_length     1.8584      0.086     21.646      0.000       1.689       2.028\n",
      "==============================================================================\n",
      "Omnibus:                        0.253   Durbin-Watson:                   1.204\n",
      "Prob(Omnibus):                  0.881   Jarque-Bera (JB):                0.386\n",
      "Skew:                          -0.082   Prob(JB):                        0.824\n",
      "Kurtosis:                       2.812   Cond. No.                         43.4\n",
      "==============================================================================\n",
      "\n",
      "Notes:\n",
      "[1] Standard Errors assume that the covariance matrix of the errors is correctly specified.\n"
     ]
    }
   ],
   "source": [
    "df = sns.load_dataset('iris')\n",
    "\n",
    "model = sf.ols('petal_length ~ sepal_length', df).fit()\n",
    "print(model.summary())"
   ]
  },
  {
   "cell_type": "code",
   "execution_count": 26,
   "id": "612b1000",
   "metadata": {
    "ExecuteTime": {
     "end_time": "2021-11-06T15:11:09.211546Z",
     "start_time": "2021-11-06T15:11:09.187550Z"
    }
   },
   "outputs": [
    {
     "name": "stdout",
     "output_type": "stream",
     "text": [
      "                            OLS Regression Results                            \n",
      "==============================================================================\n",
      "Dep. Variable:           petal_length   R-squared:                       0.975\n",
      "Model:                            OLS   Adj. R-squared:                  0.974\n",
      "Method:                 Least Squares   F-statistic:                     1890.\n",
      "Date:                Sat, 06 Nov 2021   Prob (F-statistic):          1.46e-116\n",
      "Time:                        18:11:09   Log-Likelihood:                -21.237\n",
      "No. Observations:                 150   AIC:                             50.47\n",
      "Df Residuals:                     146   BIC:                             62.52\n",
      "Df Model:                           3                                         \n",
      "Covariance Type:            nonrobust                                         \n",
      "============================================================================================\n",
      "                               coef    std err          t      P>|t|      [0.025      0.975]\n",
      "--------------------------------------------------------------------------------------------\n",
      "Intercept                   -1.7023      0.230     -7.397      0.000      -2.157      -1.248\n",
      "C(species)[T.versicolor]     2.2101      0.070     31.362      0.000       2.071       2.349\n",
      "C(species)[T.virginica]      3.0900      0.091     33.870      0.000       2.910       3.270\n",
      "sepal_length                 0.6321      0.045     13.962      0.000       0.543       0.722\n",
      "==============================================================================\n",
      "Omnibus:                        0.652   Durbin-Watson:                   1.757\n",
      "Prob(Omnibus):                  0.722   Jarque-Bera (JB):                0.310\n",
      "Skew:                          -0.022   Prob(JB):                        0.856\n",
      "Kurtosis:                       3.218   Cond. No.                         64.2\n",
      "==============================================================================\n",
      "\n",
      "Notes:\n",
      "[1] Standard Errors assume that the covariance matrix of the errors is correctly specified.\n"
     ]
    }
   ],
   "source": [
    "df = sns.load_dataset('iris')\n",
    "\n",
    "model = sf.ols('petal_length ~ sepal_length + C(species)', df).fit()\n",
    "print(model.summary())"
   ]
  },
  {
   "cell_type": "code",
   "execution_count": 29,
   "id": "4378759e",
   "metadata": {
    "ExecuteTime": {
     "end_time": "2021-11-06T15:14:25.048116Z",
     "start_time": "2021-11-06T15:14:25.023819Z"
    }
   },
   "outputs": [
    {
     "name": "stdout",
     "output_type": "stream",
     "text": [
      "                            OLS Regression Results                            \n",
      "==============================================================================\n",
      "Dep. Variable:           petal_length   R-squared:                       0.979\n",
      "Model:                            OLS   Adj. R-squared:                  0.978\n",
      "Method:                 Least Squares   F-statistic:                     1333.\n",
      "Date:                Sat, 06 Nov 2021   Prob (F-statistic):          1.19e-118\n",
      "Time:                        18:14:25   Log-Likelihood:                -8.3584\n",
      "No. Observations:                 150   AIC:                             28.72\n",
      "Df Residuals:                     144   BIC:                             46.78\n",
      "Df Model:                           5                                         \n",
      "Covariance Type:            nonrobust                                         \n",
      "=========================================================================================================\n",
      "                                            coef    std err          t      P>|t|      [0.025      0.975]\n",
      "---------------------------------------------------------------------------------------------------------\n",
      "Intercept                                 0.8031      0.531      1.512      0.133      -0.247       1.853\n",
      "C(species)[T.versicolor]                 -0.6179      0.684     -0.904      0.368      -1.969       0.733\n",
      "C(species)[T.virginica]                  -0.1926      0.658     -0.293      0.770      -1.493       1.108\n",
      "sepal_length                              0.1316      0.106      1.244      0.216      -0.078       0.341\n",
      "sepal_length:C(species)[T.versicolor]     0.5548      0.128      4.330      0.000       0.302       0.808\n",
      "sepal_length:C(species)[T.virginica]      0.6184      0.121      5.111      0.000       0.379       0.858\n",
      "==============================================================================\n",
      "Omnibus:                        2.045   Durbin-Watson:                   1.824\n",
      "Prob(Omnibus):                  0.360   Jarque-Bera (JB):                1.679\n",
      "Skew:                           0.115   Prob(JB):                        0.432\n",
      "Kurtosis:                       3.464   Cond. No.                         322.\n",
      "==============================================================================\n",
      "\n",
      "Notes:\n",
      "[1] Standard Errors assume that the covariance matrix of the errors is correctly specified.\n"
     ]
    }
   ],
   "source": [
    "df = sns.load_dataset('iris')\n",
    "\n",
    "model = sf.ols('petal_length ~ sepal_length + C(species) + sepal_length*C(species)', df).fit()\n",
    "print(model.summary())"
   ]
  },
  {
   "cell_type": "code",
   "execution_count": 8,
   "id": "117fc7d0",
   "metadata": {
    "ExecuteTime": {
     "end_time": "2021-11-21T16:16:28.831176Z",
     "start_time": "2021-11-21T16:16:28.826392Z"
    }
   },
   "outputs": [],
   "source": [
    "a = (\n",
    "    1 \n",
    "    == \n",
    "    1\n",
    ")"
   ]
  }
 ],
 "metadata": {
  "kernelspec": {
   "display_name": "Python 3",
   "language": "python",
   "name": "python3"
  },
  "language_info": {
   "codemirror_mode": {
    "name": "ipython",
    "version": 3
   },
   "file_extension": ".py",
   "mimetype": "text/x-python",
   "name": "python",
   "nbconvert_exporter": "python",
   "pygments_lexer": "ipython3",
   "version": "3.8.8"
  },
  "toc": {
   "base_numbering": 1,
   "nav_menu": {},
   "number_sections": true,
   "sideBar": true,
   "skip_h1_title": false,
   "title_cell": "Table of Contents",
   "title_sidebar": "Contents",
   "toc_cell": false,
   "toc_position": {
    "height": "573.636px",
    "left": "626px",
    "top": "165.284px",
    "width": "228.466px"
   },
   "toc_section_display": true,
   "toc_window_display": true
  },
  "varInspector": {
   "cols": {
    "lenName": 16,
    "lenType": 16,
    "lenVar": 40
   },
   "kernels_config": {
    "python": {
     "delete_cmd_postfix": "",
     "delete_cmd_prefix": "del ",
     "library": "var_list.py",
     "varRefreshCmd": "print(var_dic_list())"
    },
    "r": {
     "delete_cmd_postfix": ") ",
     "delete_cmd_prefix": "rm(",
     "library": "var_list.r",
     "varRefreshCmd": "cat(var_dic_list()) "
    }
   },
   "types_to_exclude": [
    "module",
    "function",
    "builtin_function_or_method",
    "instance",
    "_Feature"
   ],
   "window_display": false
  }
 },
 "nbformat": 4,
 "nbformat_minor": 5
}
