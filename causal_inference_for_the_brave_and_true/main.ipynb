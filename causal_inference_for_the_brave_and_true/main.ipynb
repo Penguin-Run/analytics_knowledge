{
 "cells": [
  {
   "cell_type": "markdown",
   "id": "2d1e523f",
   "metadata": {},
   "source": [
    "# Research name"
   ]
  },
  {
   "cell_type": "markdown",
   "id": "4309fb60",
   "metadata": {},
   "source": [
    "## Intro"
   ]
  },
  {
   "cell_type": "markdown",
   "id": "3fc6c89a",
   "metadata": {},
   "source": [
    "### Task"
   ]
  },
  {
   "cell_type": "markdown",
   "id": "c810ba13",
   "metadata": {},
   "source": [
    "### Imports"
   ]
  },
  {
   "cell_type": "code",
   "execution_count": 1,
   "id": "a6223b5c",
   "metadata": {
    "ExecuteTime": {
     "end_time": "2022-04-10T19:05:49.267209Z",
     "start_time": "2022-04-10T19:05:47.963748Z"
    }
   },
   "outputs": [],
   "source": [
    "# BASIC LIBS\n",
    "\n",
    "# data\n",
    "import pandas as pd\n",
    "import numpy as np\n",
    "\n",
    "# stat significance\n",
    "import scipy as sp\n",
    "\n",
    "# visualisation\n",
    "import matplotlib.pyplot as plt\n",
    "import seaborn as sns\n",
    "%matplotlib inline\n",
    "sns.set()\n",
    "%config InlineBackend.figure_format = 'retina'"
   ]
  },
  {
   "cell_type": "code",
   "execution_count": 18,
   "id": "a8934e1e",
   "metadata": {
    "ExecuteTime": {
     "end_time": "2022-02-13T11:21:50.908634Z",
     "start_time": "2022-02-13T11:21:50.905854Z"
    }
   },
   "outputs": [],
   "source": [
    "# JUPYTER CONFIG\n",
    "import warnings\n",
    "warnings.filterwarnings('ignore')\n",
    "\n",
    "pd.set_option('display.max_columns', 100)\n",
    "pd.set_option('display.max_rows', 100)"
   ]
  },
  {
   "cell_type": "code",
   "execution_count": 6,
   "id": "29442bf9",
   "metadata": {
    "ExecuteTime": {
     "end_time": "2022-04-10T19:07:19.357727Z",
     "start_time": "2022-04-10T19:07:19.355442Z"
    }
   },
   "outputs": [],
   "source": [
    "from scipy import stats"
   ]
  },
  {
   "cell_type": "markdown",
   "id": "112eb58c",
   "metadata": {},
   "source": [
    "### Config"
   ]
  },
  {
   "cell_type": "markdown",
   "id": "cdb07233",
   "metadata": {},
   "source": [
    "## Data"
   ]
  },
  {
   "cell_type": "markdown",
   "id": "c1a3af47",
   "metadata": {},
   "source": [
    "### Load"
   ]
  },
  {
   "cell_type": "code",
   "execution_count": null,
   "id": "69688af4",
   "metadata": {},
   "outputs": [],
   "source": []
  },
  {
   "cell_type": "markdown",
   "id": "0561a743",
   "metadata": {},
   "source": [
    "### Preprocessing"
   ]
  },
  {
   "cell_type": "code",
   "execution_count": null,
   "id": "4db57b35",
   "metadata": {},
   "outputs": [],
   "source": []
  },
  {
   "cell_type": "markdown",
   "id": "7d1b6fcd",
   "metadata": {},
   "source": [
    "## Research"
   ]
  },
  {
   "cell_type": "markdown",
   "id": "13102d96",
   "metadata": {},
   "source": [
    "### 03"
   ]
  },
  {
   "cell_type": "markdown",
   "id": "3f8bdc5c",
   "metadata": {},
   "source": [
    "#### "
   ]
  },
  {
   "cell_type": "code",
   "execution_count": 28,
   "id": "d4086298",
   "metadata": {
    "ExecuteTime": {
     "end_time": "2022-04-10T19:08:47.921525Z",
     "start_time": "2022-04-10T19:08:47.914487Z"
    }
   },
   "outputs": [
    {
     "name": "stdout",
     "output_type": "stream",
     "text": [
      "2.5758293035489004\n"
     ]
    },
    {
     "data": {
      "text/plain": [
       "(73.7773381773405, 74.22325839771896)"
      ]
     },
     "execution_count": 28,
     "metadata": {},
     "output_type": "execute_result"
    }
   ],
   "source": [
    "true_std = 2\n",
    "true_mean = 74\n",
    "\n",
    "n = 500\n",
    "def run_experiment(): \n",
    "    return np.random.normal(true_mean,true_std, 500)\n",
    "\n",
    "np.random.seed(321)\n",
    "exp_data = run_experiment()\n",
    "exp_se = exp_data.std() / np.sqrt(len(exp_data))\n",
    "exp_mu = exp_data.mean()\n",
    "\n",
    "z = stats.norm.ppf(.995)\n",
    "print(z)\n",
    "ci = (exp_mu - z * exp_se, exp_mu + z * exp_se)\n",
    "ci"
   ]
  },
  {
   "cell_type": "code",
   "execution_count": 54,
   "id": "8c99c9a2",
   "metadata": {
    "ExecuteTime": {
     "end_time": "2022-04-10T19:18:14.559393Z",
     "start_time": "2022-04-10T19:18:14.554342Z"
    }
   },
   "outputs": [
    {
     "data": {
      "text/plain": [
       "1.959963984540054"
      ]
     },
     "execution_count": 54,
     "metadata": {},
     "output_type": "execute_result"
    }
   ],
   "source": [
    "stats.norm.ppf(0.975)"
   ]
  },
  {
   "cell_type": "code",
   "execution_count": 31,
   "id": "68bb7fcd",
   "metadata": {
    "ExecuteTime": {
     "end_time": "2022-04-10T19:09:24.519294Z",
     "start_time": "2022-04-10T19:09:24.515340Z"
    }
   },
   "outputs": [
    {
     "data": {
      "text/plain": [
       "1.0"
      ]
     },
     "execution_count": 31,
     "metadata": {},
     "output_type": "execute_result"
    }
   ],
   "source": [
    "stats.norm.std()"
   ]
  },
  {
   "cell_type": "markdown",
   "id": "70f7bd5a",
   "metadata": {},
   "source": [
    "stats.norm is model of a standartized normal distribution with mean = 0 and std = 1"
   ]
  },
  {
   "cell_type": "markdown",
   "id": "94e44a84",
   "metadata": {},
   "source": [
    "### "
   ]
  },
  {
   "cell_type": "code",
   "execution_count": null,
   "id": "4ed08b65",
   "metadata": {},
   "outputs": [],
   "source": []
  },
  {
   "cell_type": "markdown",
   "id": "0960241a",
   "metadata": {},
   "source": [
    "## Other"
   ]
  },
  {
   "cell_type": "markdown",
   "id": "397839d5",
   "metadata": {},
   "source": [
    "### "
   ]
  },
  {
   "cell_type": "code",
   "execution_count": null,
   "id": "21a80e22",
   "metadata": {},
   "outputs": [],
   "source": []
  }
 ],
 "metadata": {
  "kernelspec": {
   "display_name": "Python 3",
   "language": "python",
   "name": "python3"
  },
  "language_info": {
   "codemirror_mode": {
    "name": "ipython",
    "version": 3
   },
   "file_extension": ".py",
   "mimetype": "text/x-python",
   "name": "python",
   "nbconvert_exporter": "python",
   "pygments_lexer": "ipython3",
   "version": "3.8.8"
  },
  "toc": {
   "base_numbering": 1,
   "nav_menu": {},
   "number_sections": true,
   "sideBar": true,
   "skip_h1_title": true,
   "title_cell": "Table of Contents",
   "title_sidebar": "Contents",
   "toc_cell": false,
   "toc_position": {
    "height": "calc(100% - 180px)",
    "left": "10px",
    "top": "150px",
    "width": "313.6px"
   },
   "toc_section_display": true,
   "toc_window_display": true
  },
  "varInspector": {
   "cols": {
    "lenName": 16,
    "lenType": 16,
    "lenVar": 40
   },
   "kernels_config": {
    "python": {
     "delete_cmd_postfix": "",
     "delete_cmd_prefix": "del ",
     "library": "var_list.py",
     "varRefreshCmd": "print(var_dic_list())"
    },
    "r": {
     "delete_cmd_postfix": ") ",
     "delete_cmd_prefix": "rm(",
     "library": "var_list.r",
     "varRefreshCmd": "cat(var_dic_list()) "
    }
   },
   "types_to_exclude": [
    "module",
    "function",
    "builtin_function_or_method",
    "instance",
    "_Feature"
   ],
   "window_display": false
  }
 },
 "nbformat": 4,
 "nbformat_minor": 5
}
