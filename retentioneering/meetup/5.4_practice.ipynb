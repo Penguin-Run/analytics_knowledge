{
 "cells": [
  {
   "cell_type": "code",
   "execution_count": 1,
   "metadata": {
    "ExecuteTime": {
     "end_time": "2021-10-02T15:20:01.225493Z",
     "start_time": "2021-10-02T15:20:01.223235Z"
    },
    "colab": {
     "base_uri": "https://localhost:8080/",
     "height": 1000
    },
    "colab_type": "code",
    "id": "mQd5yDRNzJ0x",
    "outputId": "512dd450-e1d2-4ab1-8835-8a06d708365e",
    "scrolled": true
   },
   "outputs": [],
   "source": [
    "#!pip3 install retentioneering"
   ]
  },
  {
   "cell_type": "code",
   "execution_count": 2,
   "metadata": {
    "ExecuteTime": {
     "end_time": "2021-10-02T15:20:12.568163Z",
     "start_time": "2021-10-02T15:20:01.402967Z"
    },
    "colab": {
     "base_uri": "https://localhost:8080/",
     "height": 72
    },
    "colab_type": "code",
    "id": "ch0tsGfGzLvi",
    "outputId": "5755a44b-a6e0-47ca-d83d-a28d24973f7f"
   },
   "outputs": [],
   "source": [
    "#import sys\n",
    "#sys.path.insert(0, '/Users/Daria/Dev/Retentioneering/retentioneering-tools/')\n",
    "import retentioneering\n",
    "import pandas as pd\n",
    "import numpy as np\n",
    "import io\n",
    "from datetime import timedelta\n",
    "import seaborn as sns"
   ]
  },
  {
   "cell_type": "markdown",
   "metadata": {},
   "source": [
    "# Загрузка файла локально\n",
    "для этого сохраните датасет в той же папке, в которой вы открываете ноутбук"
   ]
  },
  {
   "cell_type": "code",
   "execution_count": 3,
   "metadata": {
    "ExecuteTime": {
     "end_time": "2021-10-02T15:20:12.615066Z",
     "start_time": "2021-10-02T15:20:12.580345Z"
    }
   },
   "outputs": [
    {
     "name": "stdout",
     "output_type": "stream",
     "text": [
      "<class 'pandas.core.frame.DataFrame'>\n",
      "RangeIndex: 15792 entries, 0 to 15791\n",
      "Data columns (total 3 columns):\n",
      " #   Column           Non-Null Count  Dtype \n",
      "---  ------           --------------  ----- \n",
      " 0   user_id          15792 non-null  int64 \n",
      " 1   event_name       15792 non-null  object\n",
      " 2   event_timestamp  15792 non-null  object\n",
      "dtypes: int64(1), object(2)\n",
      "memory usage: 370.2+ KB\n"
     ]
    }
   ],
   "source": [
    "data = pd.read_csv('5.4_practice_dataset.csv')\n",
    "data.info()"
   ]
  },
  {
   "cell_type": "markdown",
   "metadata": {},
   "source": [
    "# Загрузка файла при работе в google colab"
   ]
  },
  {
   "cell_type": "code",
   "execution_count": 4,
   "metadata": {
    "ExecuteTime": {
     "end_time": "2021-10-02T15:20:12.636771Z",
     "start_time": "2021-10-02T15:20:12.634780Z"
    },
    "colab": {
     "base_uri": "https://localhost:8080/",
     "height": 75,
     "resources": {
      "http://localhost:8080/nbextensions/google.colab/files.js": {
       "data": "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",
       "headers": [
        [
         "content-type",
         "application/javascript"
        ]
       ],
       "ok": true,
       "status": 200,
       "status_text": ""
      }
     }
    },
    "colab_type": "code",
    "id": "5aaNQBEfzgfi",
    "outputId": "6d361d27-175d-44e5-8585-292ab39fb916"
   },
   "outputs": [],
   "source": [
    "#from google.colab import files\n",
    "#uploaded=files.upload()"
   ]
  },
  {
   "cell_type": "code",
   "execution_count": 5,
   "metadata": {
    "ExecuteTime": {
     "end_time": "2021-10-02T15:20:12.662285Z",
     "start_time": "2021-10-02T15:20:12.659970Z"
    },
    "colab": {},
    "colab_type": "code",
    "id": "9WzaZINWzjeg"
   },
   "outputs": [],
   "source": [
    "#data = pd.read_csv(io.StringIO(uploaded['5.4_practice_dataset.csv'].decode('utf-8')),sep=',')\n",
    "#data.head()"
   ]
  },
  {
   "cell_type": "code",
   "execution_count": 6,
   "metadata": {
    "ExecuteTime": {
     "end_time": "2021-10-02T15:20:12.708736Z",
     "start_time": "2021-10-02T15:20:12.685758Z"
    }
   },
   "outputs": [
    {
     "name": "stdout",
     "output_type": "stream",
     "text": [
      "15792\n"
     ]
    },
    {
     "data": {
      "text/html": [
       "<div>\n",
       "<style scoped>\n",
       "    .dataframe tbody tr th:only-of-type {\n",
       "        vertical-align: middle;\n",
       "    }\n",
       "\n",
       "    .dataframe tbody tr th {\n",
       "        vertical-align: top;\n",
       "    }\n",
       "\n",
       "    .dataframe thead th {\n",
       "        text-align: right;\n",
       "    }\n",
       "</style>\n",
       "<table border=\"1\" class=\"dataframe\">\n",
       "  <thead>\n",
       "    <tr style=\"text-align: right;\">\n",
       "      <th></th>\n",
       "      <th>user_id</th>\n",
       "      <th>event_name</th>\n",
       "      <th>event_timestamp</th>\n",
       "    </tr>\n",
       "  </thead>\n",
       "  <tbody>\n",
       "    <tr>\n",
       "      <th>13</th>\n",
       "      <td>8150029619427326610</td>\n",
       "      <td>https://sampleonlineshop.ru/?utm_source=blog</td>\n",
       "      <td>2019-09-01 07:14:47.967690496</td>\n",
       "    </tr>\n",
       "    <tr>\n",
       "      <th>15</th>\n",
       "      <td>3463487194338123780</td>\n",
       "      <td>https://sampleonlineshop.ru/?utm_source=blog</td>\n",
       "      <td>2019-09-01 08:31:45.484353280</td>\n",
       "    </tr>\n",
       "    <tr>\n",
       "      <th>6</th>\n",
       "      <td>2163557180402591013</td>\n",
       "      <td>https://sampleonlineshop.ru/?utm_source=blog</td>\n",
       "      <td>2019-09-01 10:58:26.619910912</td>\n",
       "    </tr>\n",
       "    <tr>\n",
       "      <th>2</th>\n",
       "      <td>5868438858211963279</td>\n",
       "      <td>https://sampleonlineshop.ru/?utm_source=facebook</td>\n",
       "      <td>2019-09-01 14:51:00.401165312</td>\n",
       "    </tr>\n",
       "    <tr>\n",
       "      <th>11</th>\n",
       "      <td>8032084142377665129</td>\n",
       "      <td>https://sampleonlineshop.ru/?utm_source=facebook</td>\n",
       "      <td>2019-09-01 16:23:29.307095296</td>\n",
       "    </tr>\n",
       "  </tbody>\n",
       "</table>\n",
       "</div>"
      ],
      "text/plain": [
       "                user_id                                        event_name  \\\n",
       "13  8150029619427326610      https://sampleonlineshop.ru/?utm_source=blog   \n",
       "15  3463487194338123780      https://sampleonlineshop.ru/?utm_source=blog   \n",
       "6   2163557180402591013      https://sampleonlineshop.ru/?utm_source=blog   \n",
       "2   5868438858211963279  https://sampleonlineshop.ru/?utm_source=facebook   \n",
       "11  8032084142377665129  https://sampleonlineshop.ru/?utm_source=facebook   \n",
       "\n",
       "                 event_timestamp  \n",
       "13 2019-09-01 07:14:47.967690496  \n",
       "15 2019-09-01 08:31:45.484353280  \n",
       "6  2019-09-01 10:58:26.619910912  \n",
       "2  2019-09-01 14:51:00.401165312  \n",
       "11 2019-09-01 16:23:29.307095296  "
      ]
     },
     "execution_count": 6,
     "metadata": {},
     "output_type": "execute_result"
    }
   ],
   "source": [
    "data['event_timestamp'] = pd.to_datetime(data['event_timestamp'])\n",
    "data = data.sort_values('event_timestamp')\n",
    "print(len(data))\n",
    "data.head()"
   ]
  },
  {
   "cell_type": "markdown",
   "metadata": {
    "colab_type": "text",
    "id": "B0rJqBqHRLHa"
   },
   "source": [
    "# Подготовка данных"
   ]
  },
  {
   "cell_type": "code",
   "execution_count": 7,
   "metadata": {
    "ExecuteTime": {
     "end_time": "2021-10-02T15:20:12.731752Z",
     "start_time": "2021-10-02T15:20:12.729375Z"
    },
    "colab": {},
    "colab_type": "code",
    "id": "HUwA7mulzsmQ"
   },
   "outputs": [],
   "source": [
    "user_id = 'user_id'\n",
    "event_name = 'event_name'\n",
    "event_time = 'event_timestamp'\n",
    "source = 'utm_source'"
   ]
  },
  {
   "cell_type": "code",
   "execution_count": 8,
   "metadata": {
    "ExecuteTime": {
     "end_time": "2021-10-02T15:20:12.755787Z",
     "start_time": "2021-10-02T15:20:12.752054Z"
    }
   },
   "outputs": [
    {
     "data": {
      "text/plain": [
       "(15792, 3)"
      ]
     },
     "execution_count": 8,
     "metadata": {},
     "output_type": "execute_result"
    }
   ],
   "source": [
    "data.shape"
   ]
  },
  {
   "cell_type": "code",
   "execution_count": 9,
   "metadata": {
    "ExecuteTime": {
     "end_time": "2021-10-02T15:20:12.781613Z",
     "start_time": "2021-10-02T15:20:12.778102Z"
    }
   },
   "outputs": [],
   "source": [
    "#обновление словаря retentioneering.config в соответствии с названиями колонок в нашем датафрейме\n",
    "retentioneering.config.update({\n",
    "    'event_col': event_name,\n",
    "    'event_time_col': event_time,\n",
    "    'user_col': user_id,\n",
    "})"
   ]
  },
  {
   "cell_type": "code",
   "execution_count": 10,
   "metadata": {
    "ExecuteTime": {
     "end_time": "2021-10-02T15:20:12.816914Z",
     "start_time": "2021-10-02T15:20:12.810658Z"
    }
   },
   "outputs": [
    {
     "data": {
      "text/plain": [
       "https://sampleonlineshop.ru/?utm_source=facebook                         3793\n",
       "https://sampleonlineshop.ru/catalog/                                     3056\n",
       "https://sampleonlineshop.ru/catalog/divani/bed_bed_frame/                2034\n",
       "https://sampleonlineshop.ru/?utm_source=blog                             1645\n",
       "https://sampleonlineshop.ru/catalog/pillow/podushka_anatomicheskay/      1265\n",
       "https://sampleonlineshop.ru/delivery/                                    1059\n",
       "https://sampleonlineshop.ru/o-kompanii                                    950\n",
       "https://sampleonlineshop.ru/order/confirmation                            518\n",
       "https://sampleonlineshop.ru/order/                                        485\n",
       "https://sampleonlineshop.ru/order/submit                                  408\n",
       "https://sampleonlineshop.ru/order/payment-option-switcher                 334\n",
       "https://sampleonlineshop.ru/catalog/matrasy/sampleonlineshop_gravity/     245\n",
       "Name: event_name, dtype: int64"
      ]
     },
     "execution_count": 10,
     "metadata": {},
     "output_type": "execute_result"
    }
   ],
   "source": [
    "data[event_name].value_counts()"
   ]
  },
  {
   "cell_type": "code",
   "execution_count": 11,
   "metadata": {
    "ExecuteTime": {
     "end_time": "2021-10-02T15:20:13.036856Z",
     "start_time": "2021-10-02T15:20:12.837977Z"
    },
    "colab": {},
    "colab_type": "code",
    "id": "qL9M7iiEr742"
   },
   "outputs": [],
   "source": [
    "# убираем из названия событий общий префикс https://sampleonlineshop.ru/\n",
    "data[event_name] = data[event_name].apply(lambda x: x.split('https://sampleonlineshop.ru/')[1] if x.find('https://sampleonlineshop.ru/') != -1 else x )\n",
    "\n",
    "# выносим признак utm_source в отдельное поле\n",
    "data[source] = data[event_name].apply(lambda x: x.split('?utm_source=')[1] if x.find('?utm_source=') != -1 else '')\n",
    "data[event_name] = data[event_name].apply(lambda x: x.split('?utm_source=')[1] if x.find('?utm_source=') != -1 else x)\n",
    "\n",
    "#меняем название целевого события на 'passed'\n",
    "data[event_name] = data[event_name].apply(lambda x: 'passed' if x=='order/submit' else x)\n",
    "\n",
    "# выделим списки пользователей пришедших по разным каналам\n",
    "users_facebook = set(data[data[source] == 'facebook'][user_id])\n",
    "users_blog = set(data[data[source] == 'blog'][user_id])\n",
    "\n",
    "data[source]= data.apply(lambda x: 'facebook' if (x[user_id] in users_facebook) else 'blog', axis = 1)"
   ]
  },
  {
   "cell_type": "code",
   "execution_count": 12,
   "metadata": {
    "ExecuteTime": {
     "end_time": "2021-10-02T15:20:13.063852Z",
     "start_time": "2021-10-02T15:20:13.056703Z"
    }
   },
   "outputs": [
    {
     "data": {
      "text/plain": [
       "facebook                                     3793\n",
       "catalog/                                     3056\n",
       "catalog/divani/bed_bed_frame/                2034\n",
       "blog                                         1645\n",
       "catalog/pillow/podushka_anatomicheskay/      1265\n",
       "delivery/                                    1059\n",
       "o-kompanii                                    950\n",
       "order/confirmation                            518\n",
       "order/                                        485\n",
       "passed                                        408\n",
       "order/payment-option-switcher                 334\n",
       "catalog/matrasy/sampleonlineshop_gravity/     245\n",
       "Name: event_name, dtype: int64"
      ]
     },
     "execution_count": 12,
     "metadata": {},
     "output_type": "execute_result"
    }
   ],
   "source": [
    "data[event_name].value_counts()"
   ]
  },
  {
   "cell_type": "markdown",
   "metadata": {},
   "source": [
    "# Событие lost\n",
    "теперь всем пользователям, кто не купил (не было события 'order/submit'), мы добавляем событие \"lost\""
   ]
  },
  {
   "cell_type": "code",
   "execution_count": 15,
   "metadata": {
    "ExecuteTime": {
     "end_time": "2021-10-02T15:25:07.042710Z",
     "start_time": "2021-10-02T15:25:07.038870Z"
    }
   },
   "outputs": [],
   "source": [
    "def add_lost_event(df,seconds_to_add=1):\n",
    "    #список пользователей, у которых было событие покупки\n",
    "    passed_ids = list(df[df[event_name]=='passed'][user_id])\n",
    "    #отфильтруем все события с несконвертированными пользователсями\n",
    "    lost_df = df[~df[user_id].isin(passed_ids)]\n",
    "    #сгруппируем датасет по пользователям и возьмем последнее по времени событие, прибавим к нему 1 секунду\n",
    "    lost_df = lost_df.groupby([user_id,'utm_source'])[[event_time]].max().reset_index()\n",
    "    \n",
    "    lost_df[event_time] = lost_df[event_time].apply(lambda x: x + timedelta(seconds=seconds_to_add))\n",
    "    #переименуем событие в lost у всех строк\n",
    "    lost_df[event_name] = 'lost'\n",
    "    #склеим 2 датафрейма\n",
    "    df_with_lost = pd.concat([df,lost_df])\n",
    "    \n",
    "    return df_with_lost"
   ]
  },
  {
   "cell_type": "code",
   "execution_count": 16,
   "metadata": {
    "ExecuteTime": {
     "end_time": "2021-10-02T15:25:08.384588Z",
     "start_time": "2021-10-02T15:25:08.315752Z"
    }
   },
   "outputs": [
    {
     "data": {
      "text/html": [
       "<div>\n",
       "<style scoped>\n",
       "    .dataframe tbody tr th:only-of-type {\n",
       "        vertical-align: middle;\n",
       "    }\n",
       "\n",
       "    .dataframe tbody tr th {\n",
       "        vertical-align: top;\n",
       "    }\n",
       "\n",
       "    .dataframe thead th {\n",
       "        text-align: right;\n",
       "    }\n",
       "</style>\n",
       "<table border=\"1\" class=\"dataframe\">\n",
       "  <thead>\n",
       "    <tr style=\"text-align: right;\">\n",
       "      <th></th>\n",
       "      <th>user_id</th>\n",
       "      <th>event_name</th>\n",
       "      <th>event_timestamp</th>\n",
       "      <th>utm_source</th>\n",
       "    </tr>\n",
       "  </thead>\n",
       "  <tbody>\n",
       "    <tr>\n",
       "      <th>13</th>\n",
       "      <td>8150029619427326610</td>\n",
       "      <td>blog</td>\n",
       "      <td>2019-09-01 07:14:47.967690496</td>\n",
       "      <td>blog</td>\n",
       "    </tr>\n",
       "    <tr>\n",
       "      <th>15</th>\n",
       "      <td>3463487194338123780</td>\n",
       "      <td>blog</td>\n",
       "      <td>2019-09-01 08:31:45.484353280</td>\n",
       "      <td>blog</td>\n",
       "    </tr>\n",
       "    <tr>\n",
       "      <th>6</th>\n",
       "      <td>2163557180402591013</td>\n",
       "      <td>blog</td>\n",
       "      <td>2019-09-01 10:58:26.619910912</td>\n",
       "      <td>blog</td>\n",
       "    </tr>\n",
       "    <tr>\n",
       "      <th>2</th>\n",
       "      <td>5868438858211963279</td>\n",
       "      <td>facebook</td>\n",
       "      <td>2019-09-01 14:51:00.401165312</td>\n",
       "      <td>facebook</td>\n",
       "    </tr>\n",
       "    <tr>\n",
       "      <th>11</th>\n",
       "      <td>8032084142377665129</td>\n",
       "      <td>facebook</td>\n",
       "      <td>2019-09-01 16:23:29.307095296</td>\n",
       "      <td>facebook</td>\n",
       "    </tr>\n",
       "    <tr>\n",
       "      <th>...</th>\n",
       "      <td>...</td>\n",
       "      <td>...</td>\n",
       "      <td>...</td>\n",
       "      <td>...</td>\n",
       "    </tr>\n",
       "    <tr>\n",
       "      <th>3391</th>\n",
       "      <td>9211184395632652112</td>\n",
       "      <td>lost</td>\n",
       "      <td>2019-11-01 13:42:35.970815488</td>\n",
       "      <td>facebook</td>\n",
       "    </tr>\n",
       "    <tr>\n",
       "      <th>3392</th>\n",
       "      <td>9219484628138534504</td>\n",
       "      <td>lost</td>\n",
       "      <td>2019-10-30 02:24:56.885488128</td>\n",
       "      <td>facebook</td>\n",
       "    </tr>\n",
       "    <tr>\n",
       "      <th>3393</th>\n",
       "      <td>9222385022196670624</td>\n",
       "      <td>lost</td>\n",
       "      <td>2019-10-21 03:54:38.494139392</td>\n",
       "      <td>blog</td>\n",
       "    </tr>\n",
       "    <tr>\n",
       "      <th>3394</th>\n",
       "      <td>9222501761129383702</td>\n",
       "      <td>lost</td>\n",
       "      <td>2019-09-18 21:35:52.517752576</td>\n",
       "      <td>facebook</td>\n",
       "    </tr>\n",
       "    <tr>\n",
       "      <th>3395</th>\n",
       "      <td>9223320337369398956</td>\n",
       "      <td>lost</td>\n",
       "      <td>2019-09-17 07:09:15.151507712</td>\n",
       "      <td>blog</td>\n",
       "    </tr>\n",
       "  </tbody>\n",
       "</table>\n",
       "<p>19188 rows × 4 columns</p>\n",
       "</div>"
      ],
      "text/plain": [
       "                  user_id event_name               event_timestamp utm_source\n",
       "13    8150029619427326610       blog 2019-09-01 07:14:47.967690496       blog\n",
       "15    3463487194338123780       blog 2019-09-01 08:31:45.484353280       blog\n",
       "6     2163557180402591013       blog 2019-09-01 10:58:26.619910912       blog\n",
       "2     5868438858211963279   facebook 2019-09-01 14:51:00.401165312   facebook\n",
       "11    8032084142377665129   facebook 2019-09-01 16:23:29.307095296   facebook\n",
       "...                   ...        ...                           ...        ...\n",
       "3391  9211184395632652112       lost 2019-11-01 13:42:35.970815488   facebook\n",
       "3392  9219484628138534504       lost 2019-10-30 02:24:56.885488128   facebook\n",
       "3393  9222385022196670624       lost 2019-10-21 03:54:38.494139392       blog\n",
       "3394  9222501761129383702       lost 2019-09-18 21:35:52.517752576   facebook\n",
       "3395  9223320337369398956       lost 2019-09-17 07:09:15.151507712       blog\n",
       "\n",
       "[19188 rows x 4 columns]"
      ]
     },
     "execution_count": 16,
     "metadata": {},
     "output_type": "execute_result"
    }
   ],
   "source": [
    "#применяем функцию выше и получаем датафрейм, где у всех несконвертированных пользователей добавилось новое событие \"lost\"\n",
    "data_with_lost = add_lost_event(data)\n",
    "data_with_lost"
   ]
  },
  {
   "cell_type": "code",
   "execution_count": 17,
   "metadata": {
    "ExecuteTime": {
     "end_time": "2021-10-02T15:25:18.821478Z",
     "start_time": "2021-10-02T15:25:18.815096Z"
    },
    "colab": {
     "base_uri": "https://localhost:8080/",
     "height": 69
    },
    "colab_type": "code",
    "id": "fR1qYzfUr744",
    "outputId": "ad61781f-95ea-46f8-e8e9-9fe02a4fb529"
   },
   "outputs": [
    {
     "data": {
      "text/plain": [
       "facebook    12816\n",
       "blog         6372\n",
       "Name: utm_source, dtype: int64"
      ]
     },
     "execution_count": 17,
     "metadata": {},
     "output_type": "execute_result"
    }
   ],
   "source": [
    "# обратим внимание на соотношение пользователей по РК\n",
    "data_with_lost[source].value_counts()"
   ]
  },
  {
   "cell_type": "markdown",
   "metadata": {
    "colab_type": "text",
    "id": "8xtFksC6RBnc"
   },
   "source": [
    " Посмотрим траекторию одного пользователя"
   ]
  },
  {
   "cell_type": "code",
   "execution_count": 19,
   "metadata": {
    "ExecuteTime": {
     "end_time": "2021-10-02T15:26:00.413888Z",
     "start_time": "2021-10-02T15:26:00.403817Z"
    },
    "colab": {
     "base_uri": "https://localhost:8080/",
     "height": 110
    },
    "colab_type": "code",
    "id": "Eovqs0Q5huh7",
    "outputId": "0e93446f-df79-4955-e017-05c6ec382873"
   },
   "outputs": [
    {
     "data": {
      "text/html": [
       "<div>\n",
       "<style scoped>\n",
       "    .dataframe tbody tr th:only-of-type {\n",
       "        vertical-align: middle;\n",
       "    }\n",
       "\n",
       "    .dataframe tbody tr th {\n",
       "        vertical-align: top;\n",
       "    }\n",
       "\n",
       "    .dataframe thead th {\n",
       "        text-align: right;\n",
       "    }\n",
       "</style>\n",
       "<table border=\"1\" class=\"dataframe\">\n",
       "  <thead>\n",
       "    <tr style=\"text-align: right;\">\n",
       "      <th></th>\n",
       "      <th>user_id</th>\n",
       "      <th>event_name</th>\n",
       "      <th>event_timestamp</th>\n",
       "      <th>utm_source</th>\n",
       "    </tr>\n",
       "  </thead>\n",
       "  <tbody>\n",
       "    <tr>\n",
       "      <th>8714</th>\n",
       "      <td>9222385022196670624</td>\n",
       "      <td>blog</td>\n",
       "      <td>2019-10-10 03:17:05.831971584</td>\n",
       "      <td>blog</td>\n",
       "    </tr>\n",
       "    <tr>\n",
       "      <th>9518</th>\n",
       "      <td>9222385022196670624</td>\n",
       "      <td>catalog/divani/bed_bed_frame/</td>\n",
       "      <td>2019-10-11 15:51:24.045220608</td>\n",
       "      <td>blog</td>\n",
       "    </tr>\n",
       "    <tr>\n",
       "      <th>9871</th>\n",
       "      <td>9222385022196670624</td>\n",
       "      <td>catalog/divani/bed_bed_frame/</td>\n",
       "      <td>2019-10-12 08:43:03.380238592</td>\n",
       "      <td>blog</td>\n",
       "    </tr>\n",
       "    <tr>\n",
       "      <th>10048</th>\n",
       "      <td>9222385022196670624</td>\n",
       "      <td>catalog/divani/bed_bed_frame/</td>\n",
       "      <td>2019-10-14 10:18:40.455842816</td>\n",
       "      <td>blog</td>\n",
       "    </tr>\n",
       "    <tr>\n",
       "      <th>10574</th>\n",
       "      <td>9222385022196670624</td>\n",
       "      <td>catalog/divani/bed_bed_frame/</td>\n",
       "      <td>2019-10-15 08:28:20.120013568</td>\n",
       "      <td>blog</td>\n",
       "    </tr>\n",
       "    <tr>\n",
       "      <th>11291</th>\n",
       "      <td>9222385022196670624</td>\n",
       "      <td>catalog/divani/bed_bed_frame/</td>\n",
       "      <td>2019-10-16 19:17:20.757519360</td>\n",
       "      <td>blog</td>\n",
       "    </tr>\n",
       "    <tr>\n",
       "      <th>11591</th>\n",
       "      <td>9222385022196670624</td>\n",
       "      <td>catalog/divani/bed_bed_frame/</td>\n",
       "      <td>2019-10-19 01:19:58.193749760</td>\n",
       "      <td>blog</td>\n",
       "    </tr>\n",
       "    <tr>\n",
       "      <th>12244</th>\n",
       "      <td>9222385022196670624</td>\n",
       "      <td>order/</td>\n",
       "      <td>2019-10-21 03:54:37.494139392</td>\n",
       "      <td>blog</td>\n",
       "    </tr>\n",
       "    <tr>\n",
       "      <th>3393</th>\n",
       "      <td>9222385022196670624</td>\n",
       "      <td>lost</td>\n",
       "      <td>2019-10-21 03:54:38.494139392</td>\n",
       "      <td>blog</td>\n",
       "    </tr>\n",
       "  </tbody>\n",
       "</table>\n",
       "</div>"
      ],
      "text/plain": [
       "                   user_id                     event_name  \\\n",
       "8714   9222385022196670624                           blog   \n",
       "9518   9222385022196670624  catalog/divani/bed_bed_frame/   \n",
       "9871   9222385022196670624  catalog/divani/bed_bed_frame/   \n",
       "10048  9222385022196670624  catalog/divani/bed_bed_frame/   \n",
       "10574  9222385022196670624  catalog/divani/bed_bed_frame/   \n",
       "11291  9222385022196670624  catalog/divani/bed_bed_frame/   \n",
       "11591  9222385022196670624  catalog/divani/bed_bed_frame/   \n",
       "12244  9222385022196670624                         order/   \n",
       "3393   9222385022196670624                           lost   \n",
       "\n",
       "                    event_timestamp utm_source  \n",
       "8714  2019-10-10 03:17:05.831971584       blog  \n",
       "9518  2019-10-11 15:51:24.045220608       blog  \n",
       "9871  2019-10-12 08:43:03.380238592       blog  \n",
       "10048 2019-10-14 10:18:40.455842816       blog  \n",
       "10574 2019-10-15 08:28:20.120013568       blog  \n",
       "11291 2019-10-16 19:17:20.757519360       blog  \n",
       "11591 2019-10-19 01:19:58.193749760       blog  \n",
       "12244 2019-10-21 03:54:37.494139392       blog  \n",
       "3393  2019-10-21 03:54:38.494139392       blog  "
      ]
     },
     "execution_count": 19,
     "metadata": {},
     "output_type": "execute_result"
    }
   ],
   "source": [
    "user=9222385022196670624\n",
    "single_user_trajectory = data_with_lost[data_with_lost.user_id == user]\n",
    "single_user_trajectory"
   ]
  },
  {
   "cell_type": "markdown",
   "metadata": {
    "colab_type": "text",
    "id": "6RfPaa3RRt0M"
   },
   "source": [
    "Состав событий\n"
   ]
  },
  {
   "cell_type": "code",
   "execution_count": 25,
   "metadata": {
    "ExecuteTime": {
     "end_time": "2021-10-02T15:31:29.669168Z",
     "start_time": "2021-10-02T15:31:29.662659Z"
    },
    "colab": {
     "base_uri": "https://localhost:8080/",
     "height": 260
    },
    "colab_type": "code",
    "id": "ByKWoUpQRcpS",
    "outputId": "332021c5-6d23-47f2-caf4-527fa9381a14"
   },
   "outputs": [
    {
     "data": {
      "text/plain": [
       "13                                           blog\n",
       "2                                        facebook\n",
       "83                                       catalog/\n",
       "84                  catalog/divani/bed_bed_frame/\n",
       "81                                     o-kompanii\n",
       "108                                     delivery/\n",
       "310       catalog/pillow/podushka_anatomicheskay/\n",
       "367     catalog/matrasy/sampleonlineshop_gravity/\n",
       "461                                        order/\n",
       "536                            order/confirmation\n",
       "817                                        passed\n",
       "1008                order/payment-option-switcher\n",
       "0                                            lost\n",
       "Name: event_name, dtype: object"
      ]
     },
     "execution_count": 25,
     "metadata": {},
     "output_type": "execute_result"
    }
   ],
   "source": [
    "data_with_lost[event_name].drop_duplicates()"
   ]
  },
  {
   "cell_type": "markdown",
   "metadata": {
    "colab_type": "text",
    "id": "zfS4m5Xor75F"
   },
   "source": [
    "# Граф\n",
    "\n",
    "Посмотрим расположение событий в виде графа\n",
    "\n",
    "Проверяем, что все события присутствуют, корректно отображаются. \n",
    "\n",
    "Однако, сделать вывод о проблемном месте по данной картине затруднительно"
   ]
  },
  {
   "cell_type": "code",
   "execution_count": 21,
   "metadata": {
    "ExecuteTime": {
     "end_time": "2021-10-02T15:27:58.956473Z",
     "start_time": "2021-10-02T15:27:58.870094Z"
    }
   },
   "outputs": [
    {
     "data": {
      "text/html": [
       "\n",
       "        <iframe\n",
       "            width=\"1000\"\n",
       "            height=\"700\"\n",
       "            src=\"experiments/graph_2021-10-02 18_27_58_952464.html\"\n",
       "            frameborder=\"0\"\n",
       "            allowfullscreen\n",
       "        ></iframe>\n",
       "        "
      ],
      "text/plain": [
       "<IPython.lib.display.IFrame at 0x7f86dc3e3bb0>"
      ]
     },
     "metadata": {},
     "output_type": "display_data"
    }
   ],
   "source": [
    "data_with_lost.rete.plot_graph(\n",
    "                     #weight_col='user_id',# None(default), 'column' e.g.'client_id'\n",
    "                     norm_type='node',#'full'(default), None(absolute values), 'node'\n",
    "                     targets={'passed':'green',\n",
    "                                'lost':'red'\n",
    "                               },\n",
    "                     thresh=0.01,\n",
    "                    );"
   ]
  },
  {
   "cell_type": "code",
   "execution_count": 27,
   "metadata": {
    "ExecuteTime": {
     "end_time": "2021-10-02T15:38:23.273738Z",
     "start_time": "2021-10-02T15:38:23.188203Z"
    }
   },
   "outputs": [
    {
     "data": {
      "text/html": [
       "\n",
       "        <iframe\n",
       "            width=\"1000\"\n",
       "            height=\"700\"\n",
       "            src=\"experiments/graph_2021-10-02 18_38_23_269344.html\"\n",
       "            frameborder=\"0\"\n",
       "            allowfullscreen\n",
       "        ></iframe>\n",
       "        "
      ],
      "text/plain": [
       "<IPython.lib.display.IFrame at 0x7f86dec30940>"
      ]
     },
     "metadata": {},
     "output_type": "display_data"
    }
   ],
   "source": [
    "data_with_lost.rete.plot_graph(\n",
    "                     #weight_col='user_id',# None(default), 'column' e.g.'client_id'\n",
    "                     norm_type='node',#'full'(default), None(absolute values), 'node'\n",
    "                     targets={'passed':'green',\n",
    "                                'lost':'red',\n",
    "                              'facebook':'source',\n",
    "                              'blog':'source'\n",
    "                               },\n",
    "                     thresh=0.01,\n",
    "                    );"
   ]
  },
  {
   "cell_type": "markdown",
   "metadata": {
    "colab_type": "text",
    "id": "6UVUxP6pR1ep"
   },
   "source": [
    "Какие переходы между событиями есть в наших данных:\n"
   ]
  },
  {
   "cell_type": "code",
   "execution_count": 28,
   "metadata": {
    "ExecuteTime": {
     "end_time": "2021-10-02T15:50:12.285815Z",
     "start_time": "2021-10-02T15:50:12.253216Z"
    },
    "colab": {},
    "colab_type": "code",
    "id": "Sth0TcdolAts"
   },
   "outputs": [
    {
     "data": {
      "text/html": [
       "<div>\n",
       "<style scoped>\n",
       "    .dataframe tbody tr th:only-of-type {\n",
       "        vertical-align: middle;\n",
       "    }\n",
       "\n",
       "    .dataframe tbody tr th {\n",
       "        vertical-align: top;\n",
       "    }\n",
       "\n",
       "    .dataframe thead th {\n",
       "        text-align: right;\n",
       "    }\n",
       "</style>\n",
       "<table border=\"1\" class=\"dataframe\">\n",
       "  <thead>\n",
       "    <tr style=\"text-align: right;\">\n",
       "      <th></th>\n",
       "      <th>event_name</th>\n",
       "      <th>next_event_name</th>\n",
       "      <th>users_nunique</th>\n",
       "    </tr>\n",
       "  </thead>\n",
       "  <tbody>\n",
       "    <tr>\n",
       "      <th>35</th>\n",
       "      <td>facebook</td>\n",
       "      <td>catalog/</td>\n",
       "      <td>1610</td>\n",
       "    </tr>\n",
       "    <tr>\n",
       "      <th>9</th>\n",
       "      <td>catalog/</td>\n",
       "      <td>catalog/pillow/podushka_anatomicheskay/</td>\n",
       "      <td>881</td>\n",
       "    </tr>\n",
       "    <tr>\n",
       "      <th>38</th>\n",
       "      <td>facebook</td>\n",
       "      <td>lost</td>\n",
       "      <td>837</td>\n",
       "    </tr>\n",
       "    <tr>\n",
       "      <th>2</th>\n",
       "      <td>blog</td>\n",
       "      <td>catalog/divani/bed_bed_frame/</td>\n",
       "      <td>594</td>\n",
       "    </tr>\n",
       "    <tr>\n",
       "      <th>11</th>\n",
       "      <td>catalog/</td>\n",
       "      <td>lost</td>\n",
       "      <td>590</td>\n",
       "    </tr>\n",
       "  </tbody>\n",
       "</table>\n",
       "</div>"
      ],
      "text/plain": [
       "   event_name                          next_event_name  users_nunique\n",
       "35   facebook                                 catalog/           1610\n",
       "9    catalog/  catalog/pillow/podushka_anatomicheskay/            881\n",
       "38   facebook                                     lost            837\n",
       "2        blog            catalog/divani/bed_bed_frame/            594\n",
       "11   catalog/                                     lost            590"
      ]
     },
     "execution_count": 28,
     "metadata": {},
     "output_type": "execute_result"
    }
   ],
   "source": [
    "edgelist = data_with_lost.rete.get_edgelist(weight_col='user_id', norm_type=None, edge_attributes='users_nunique')\n",
    "edgelist.sort_values('users_nunique', ascending=False).head(5)"
   ]
  },
  {
   "cell_type": "markdown",
   "metadata": {},
   "source": [
    "## Фреймворк\n",
    "\n",
    "Анализировать поступенчато, анализируя этапы CJM по конкретной вершине:\n",
    "- смотря входящие в вершину ребра\n",
    "- смотря исходящие из вершины ребра\n",
    "\n",
    "Удобно смотреть в сортировке по абсолютным числам веса перехода"
   ]
  },
  {
   "cell_type": "code",
   "execution_count": 30,
   "metadata": {
    "ExecuteTime": {
     "end_time": "2021-10-02T15:53:18.903923Z",
     "start_time": "2021-10-02T15:53:18.893823Z"
    }
   },
   "outputs": [
    {
     "data": {
      "text/html": [
       "<div>\n",
       "<style scoped>\n",
       "    .dataframe tbody tr th:only-of-type {\n",
       "        vertical-align: middle;\n",
       "    }\n",
       "\n",
       "    .dataframe tbody tr th {\n",
       "        vertical-align: top;\n",
       "    }\n",
       "\n",
       "    .dataframe thead th {\n",
       "        text-align: right;\n",
       "    }\n",
       "</style>\n",
       "<table border=\"1\" class=\"dataframe\">\n",
       "  <thead>\n",
       "    <tr style=\"text-align: right;\">\n",
       "      <th></th>\n",
       "      <th>event_name</th>\n",
       "      <th>next_event_name</th>\n",
       "      <th>users_nunique</th>\n",
       "    </tr>\n",
       "  </thead>\n",
       "  <tbody>\n",
       "    <tr>\n",
       "      <th>35</th>\n",
       "      <td>facebook</td>\n",
       "      <td>catalog/</td>\n",
       "      <td>1610</td>\n",
       "    </tr>\n",
       "    <tr>\n",
       "      <th>24</th>\n",
       "      <td>catalog/pillow/podushka_anatomicheskay/</td>\n",
       "      <td>catalog/</td>\n",
       "      <td>288</td>\n",
       "    </tr>\n",
       "    <tr>\n",
       "      <th>13</th>\n",
       "      <td>catalog/divani/bed_bed_frame/</td>\n",
       "      <td>catalog/</td>\n",
       "      <td>278</td>\n",
       "    </tr>\n",
       "    <tr>\n",
       "      <th>1</th>\n",
       "      <td>blog</td>\n",
       "      <td>catalog/</td>\n",
       "      <td>148</td>\n",
       "    </tr>\n",
       "    <tr>\n",
       "      <th>6</th>\n",
       "      <td>catalog/</td>\n",
       "      <td>catalog/</td>\n",
       "      <td>95</td>\n",
       "    </tr>\n",
       "  </tbody>\n",
       "</table>\n",
       "</div>"
      ],
      "text/plain": [
       "                                 event_name next_event_name  users_nunique\n",
       "35                                 facebook        catalog/           1610\n",
       "24  catalog/pillow/podushka_anatomicheskay/        catalog/            288\n",
       "13            catalog/divani/bed_bed_frame/        catalog/            278\n",
       "1                                      blog        catalog/            148\n",
       "6                                  catalog/        catalog/             95"
      ]
     },
     "execution_count": 30,
     "metadata": {},
     "output_type": "execute_result"
    }
   ],
   "source": [
    "edgelist.query('next_event_name == \"catalog/\"').sort_values('users_nunique', ascending=False).head(5)"
   ]
  },
  {
   "cell_type": "code",
   "execution_count": 31,
   "metadata": {
    "ExecuteTime": {
     "end_time": "2021-10-02T15:54:22.266216Z",
     "start_time": "2021-10-02T15:54:22.256573Z"
    }
   },
   "outputs": [
    {
     "data": {
      "text/html": [
       "<div>\n",
       "<style scoped>\n",
       "    .dataframe tbody tr th:only-of-type {\n",
       "        vertical-align: middle;\n",
       "    }\n",
       "\n",
       "    .dataframe tbody tr th {\n",
       "        vertical-align: top;\n",
       "    }\n",
       "\n",
       "    .dataframe thead th {\n",
       "        text-align: right;\n",
       "    }\n",
       "</style>\n",
       "<table border=\"1\" class=\"dataframe\">\n",
       "  <thead>\n",
       "    <tr style=\"text-align: right;\">\n",
       "      <th></th>\n",
       "      <th>event_name</th>\n",
       "      <th>next_event_name</th>\n",
       "      <th>users_nunique</th>\n",
       "    </tr>\n",
       "  </thead>\n",
       "  <tbody>\n",
       "    <tr>\n",
       "      <th>9</th>\n",
       "      <td>catalog/</td>\n",
       "      <td>catalog/pillow/podushka_anatomicheskay/</td>\n",
       "      <td>881</td>\n",
       "    </tr>\n",
       "    <tr>\n",
       "      <th>11</th>\n",
       "      <td>catalog/</td>\n",
       "      <td>lost</td>\n",
       "      <td>590</td>\n",
       "    </tr>\n",
       "    <tr>\n",
       "      <th>7</th>\n",
       "      <td>catalog/</td>\n",
       "      <td>catalog/divani/bed_bed_frame/</td>\n",
       "      <td>426</td>\n",
       "    </tr>\n",
       "    <tr>\n",
       "      <th>8</th>\n",
       "      <td>catalog/</td>\n",
       "      <td>catalog/matrasy/sampleonlineshop_gravity/</td>\n",
       "      <td>234</td>\n",
       "    </tr>\n",
       "    <tr>\n",
       "      <th>10</th>\n",
       "      <td>catalog/</td>\n",
       "      <td>delivery/</td>\n",
       "      <td>221</td>\n",
       "    </tr>\n",
       "  </tbody>\n",
       "</table>\n",
       "</div>"
      ],
      "text/plain": [
       "   event_name                            next_event_name  users_nunique\n",
       "9    catalog/    catalog/pillow/podushka_anatomicheskay/            881\n",
       "11   catalog/                                       lost            590\n",
       "7    catalog/              catalog/divani/bed_bed_frame/            426\n",
       "8    catalog/  catalog/matrasy/sampleonlineshop_gravity/            234\n",
       "10   catalog/                                  delivery/            221"
      ]
     },
     "execution_count": 31,
     "metadata": {},
     "output_type": "execute_result"
    }
   ],
   "source": [
    "edgelist.query('event_name == \"catalog/\"').sort_values('users_nunique', ascending=False).head(5)"
   ]
  },
  {
   "cell_type": "code",
   "execution_count": 34,
   "metadata": {
    "ExecuteTime": {
     "end_time": "2021-10-02T15:56:45.277715Z",
     "start_time": "2021-10-02T15:56:45.268311Z"
    }
   },
   "outputs": [
    {
     "data": {
      "text/html": [
       "<div>\n",
       "<style scoped>\n",
       "    .dataframe tbody tr th:only-of-type {\n",
       "        vertical-align: middle;\n",
       "    }\n",
       "\n",
       "    .dataframe tbody tr th {\n",
       "        vertical-align: top;\n",
       "    }\n",
       "\n",
       "    .dataframe thead th {\n",
       "        text-align: right;\n",
       "    }\n",
       "</style>\n",
       "<table border=\"1\" class=\"dataframe\">\n",
       "  <thead>\n",
       "    <tr style=\"text-align: right;\">\n",
       "      <th></th>\n",
       "      <th>event_name</th>\n",
       "      <th>next_event_name</th>\n",
       "      <th>users_nunique</th>\n",
       "    </tr>\n",
       "  </thead>\n",
       "  <tbody>\n",
       "    <tr>\n",
       "      <th>57</th>\n",
       "      <td>order/payment-option-switcher</td>\n",
       "      <td>order/confirmation</td>\n",
       "      <td>220</td>\n",
       "    </tr>\n",
       "    <tr>\n",
       "      <th>28</th>\n",
       "      <td>catalog/pillow/podushka_anatomicheskay/</td>\n",
       "      <td>order/confirmation</td>\n",
       "      <td>131</td>\n",
       "    </tr>\n",
       "    <tr>\n",
       "      <th>17</th>\n",
       "      <td>catalog/divani/bed_bed_frame/</td>\n",
       "      <td>order/confirmation</td>\n",
       "      <td>101</td>\n",
       "    </tr>\n",
       "    <tr>\n",
       "      <th>22</th>\n",
       "      <td>catalog/matrasy/sampleonlineshop_gravity/</td>\n",
       "      <td>order/confirmation</td>\n",
       "      <td>62</td>\n",
       "    </tr>\n",
       "  </tbody>\n",
       "</table>\n",
       "</div>"
      ],
      "text/plain": [
       "                                   event_name     next_event_name  \\\n",
       "57              order/payment-option-switcher  order/confirmation   \n",
       "28    catalog/pillow/podushka_anatomicheskay/  order/confirmation   \n",
       "17              catalog/divani/bed_bed_frame/  order/confirmation   \n",
       "22  catalog/matrasy/sampleonlineshop_gravity/  order/confirmation   \n",
       "\n",
       "    users_nunique  \n",
       "57            220  \n",
       "28            131  \n",
       "17            101  \n",
       "22             62  "
      ]
     },
     "execution_count": 34,
     "metadata": {},
     "output_type": "execute_result"
    }
   ],
   "source": [
    "edgelist.query('next_event_name == \"order/confirmation\"').sort_values('users_nunique', ascending=False).head(5)"
   ]
  },
  {
   "cell_type": "code",
   "execution_count": 32,
   "metadata": {
    "ExecuteTime": {
     "end_time": "2021-10-02T15:56:07.715432Z",
     "start_time": "2021-10-02T15:56:07.705741Z"
    }
   },
   "outputs": [
    {
     "data": {
      "text/html": [
       "<div>\n",
       "<style scoped>\n",
       "    .dataframe tbody tr th:only-of-type {\n",
       "        vertical-align: middle;\n",
       "    }\n",
       "\n",
       "    .dataframe tbody tr th {\n",
       "        vertical-align: top;\n",
       "    }\n",
       "\n",
       "    .dataframe thead th {\n",
       "        text-align: right;\n",
       "    }\n",
       "</style>\n",
       "<table border=\"1\" class=\"dataframe\">\n",
       "  <thead>\n",
       "    <tr style=\"text-align: right;\">\n",
       "      <th></th>\n",
       "      <th>event_name</th>\n",
       "      <th>next_event_name</th>\n",
       "      <th>users_nunique</th>\n",
       "    </tr>\n",
       "  </thead>\n",
       "  <tbody>\n",
       "    <tr>\n",
       "      <th>33</th>\n",
       "      <td>delivery/</td>\n",
       "      <td>lost</td>\n",
       "      <td>347</td>\n",
       "    </tr>\n",
       "    <tr>\n",
       "      <th>32</th>\n",
       "      <td>delivery/</td>\n",
       "      <td>facebook</td>\n",
       "      <td>295</td>\n",
       "    </tr>\n",
       "    <tr>\n",
       "      <th>34</th>\n",
       "      <td>delivery/</td>\n",
       "      <td>o-kompanii</td>\n",
       "      <td>100</td>\n",
       "    </tr>\n",
       "    <tr>\n",
       "      <th>30</th>\n",
       "      <td>delivery/</td>\n",
       "      <td>catalog/</td>\n",
       "      <td>91</td>\n",
       "    </tr>\n",
       "    <tr>\n",
       "      <th>31</th>\n",
       "      <td>delivery/</td>\n",
       "      <td>delivery/</td>\n",
       "      <td>85</td>\n",
       "    </tr>\n",
       "  </tbody>\n",
       "</table>\n",
       "</div>"
      ],
      "text/plain": [
       "   event_name next_event_name  users_nunique\n",
       "33  delivery/            lost            347\n",
       "32  delivery/        facebook            295\n",
       "34  delivery/      o-kompanii            100\n",
       "30  delivery/        catalog/             91\n",
       "31  delivery/       delivery/             85"
      ]
     },
     "execution_count": 32,
     "metadata": {},
     "output_type": "execute_result"
    }
   ],
   "source": [
    "edgelist.query('event_name == \"delivery/\"').sort_values('users_nunique', ascending=False).head(5)"
   ]
  },
  {
   "cell_type": "markdown",
   "metadata": {},
   "source": [
    "## Матрица связности"
   ]
  },
  {
   "cell_type": "markdown",
   "metadata": {
    "colab_type": "text",
    "id": "0flhgBZ4R-WH"
   },
   "source": [
    "Построим матрицу переходов пользователей между событиями (матрицу связности)"
   ]
  },
  {
   "cell_type": "code",
   "execution_count": 29,
   "metadata": {
    "ExecuteTime": {
     "end_time": "2021-10-02T15:50:16.419107Z",
     "start_time": "2021-10-02T15:50:16.316627Z"
    },
    "colab": {
     "base_uri": "https://localhost:8080/",
     "height": 436
    },
    "colab_type": "code",
    "id": "jgsjG3ZfzYkq",
    "outputId": "64523de3-57b8-4a70-d1a0-d94bce495fcb"
   },
   "outputs": [
    {
     "name": "stdout",
     "output_type": "stream",
     "text": [
      "\n",
      "\n",
      "\n",
      "\n"
     ]
    },
    {
     "data": {
      "text/html": [
       "<style  type=\"text/css\" >\n",
       "    #T_1bbd7_ th {\n",
       "          font-size: 75%;\n",
       "          text-align: right;\n",
       "    }    #T_1bbd7_ th.col_heading {\n",
       "          font-size: 75%;\n",
       "          text-align: left;\n",
       "          transform: translate(0%,-30%) rotate(-10deg);\n",
       "    }    #T_1bbd7_ caption {\n",
       "          caption-side: bottom;\n",
       "    }#T_1bbd7_row0_col0,#T_1bbd7_row0_col2,#T_1bbd7_row1_col6,#T_1bbd7_row1_col7,#T_1bbd7_row2_col8,#T_1bbd7_row8_col11,#T_1bbd7_row9_col12,#T_1bbd7_row10_col1,#T_1bbd7_row10_col3,#T_1bbd7_row10_col4,#T_1bbd7_row10_col5,#T_1bbd7_row10_col10,#T_1bbd7_row11_col9{\n",
       "            background-color:  #008000;\n",
       "            color:  #f1f1f1;\n",
       "        }#T_1bbd7_row0_col1{\n",
       "            background-color:  #d5e9d5;\n",
       "            color:  #000000;\n",
       "        }#T_1bbd7_row0_col3{\n",
       "            background-color:  #84c084;\n",
       "            color:  #000000;\n",
       "        }#T_1bbd7_row0_col4,#T_1bbd7_row3_col4{\n",
       "            background-color:  #89c389;\n",
       "            color:  #000000;\n",
       "        }#T_1bbd7_row0_col5{\n",
       "            background-color:  #79bc79;\n",
       "            color:  #000000;\n",
       "        }#T_1bbd7_row0_col6,#T_1bbd7_row0_col7,#T_1bbd7_row0_col8,#T_1bbd7_row0_col9,#T_1bbd7_row0_col10,#T_1bbd7_row0_col11,#T_1bbd7_row0_col12,#T_1bbd7_row1_col0,#T_1bbd7_row1_col8,#T_1bbd7_row1_col9,#T_1bbd7_row1_col10,#T_1bbd7_row1_col11,#T_1bbd7_row1_col12,#T_1bbd7_row2_col0,#T_1bbd7_row2_col3,#T_1bbd7_row2_col5,#T_1bbd7_row2_col6,#T_1bbd7_row2_col7,#T_1bbd7_row2_col10,#T_1bbd7_row2_col11,#T_1bbd7_row2_col12,#T_1bbd7_row3_col2,#T_1bbd7_row3_col6,#T_1bbd7_row3_col7,#T_1bbd7_row3_col8,#T_1bbd7_row3_col9,#T_1bbd7_row3_col11,#T_1bbd7_row3_col12,#T_1bbd7_row4_col0,#T_1bbd7_row4_col1,#T_1bbd7_row4_col2,#T_1bbd7_row4_col3,#T_1bbd7_row4_col4,#T_1bbd7_row4_col5,#T_1bbd7_row4_col6,#T_1bbd7_row4_col7,#T_1bbd7_row4_col8,#T_1bbd7_row4_col9,#T_1bbd7_row4_col10,#T_1bbd7_row4_col11,#T_1bbd7_row4_col12,#T_1bbd7_row5_col2,#T_1bbd7_row5_col6,#T_1bbd7_row5_col7,#T_1bbd7_row5_col8,#T_1bbd7_row5_col9,#T_1bbd7_row5_col11,#T_1bbd7_row5_col12,#T_1bbd7_row6_col0,#T_1bbd7_row6_col2,#T_1bbd7_row6_col3,#T_1bbd7_row6_col5,#T_1bbd7_row6_col6,#T_1bbd7_row6_col7,#T_1bbd7_row6_col11,#T_1bbd7_row6_col12,#T_1bbd7_row7_col2,#T_1bbd7_row7_col3,#T_1bbd7_row7_col5,#T_1bbd7_row7_col6,#T_1bbd7_row7_col10,#T_1bbd7_row7_col11,#T_1bbd7_row7_col12,#T_1bbd7_row8_col2,#T_1bbd7_row8_col3,#T_1bbd7_row8_col5,#T_1bbd7_row8_col6,#T_1bbd7_row8_col7,#T_1bbd7_row8_col9,#T_1bbd7_row8_col12,#T_1bbd7_row9_col1,#T_1bbd7_row9_col2,#T_1bbd7_row9_col3,#T_1bbd7_row9_col5,#T_1bbd7_row9_col6,#T_1bbd7_row9_col7,#T_1bbd7_row9_col8,#T_1bbd7_row9_col9,#T_1bbd7_row9_col11,#T_1bbd7_row10_col0,#T_1bbd7_row10_col2,#T_1bbd7_row10_col6,#T_1bbd7_row10_col7,#T_1bbd7_row10_col8,#T_1bbd7_row10_col9,#T_1bbd7_row10_col11,#T_1bbd7_row10_col12,#T_1bbd7_row11_col0,#T_1bbd7_row11_col1,#T_1bbd7_row11_col2,#T_1bbd7_row11_col3,#T_1bbd7_row11_col5,#T_1bbd7_row11_col6,#T_1bbd7_row11_col7,#T_1bbd7_row11_col8,#T_1bbd7_row11_col10,#T_1bbd7_row11_col12,#T_1bbd7_row12_col1,#T_1bbd7_row12_col2,#T_1bbd7_row12_col3,#T_1bbd7_row12_col4,#T_1bbd7_row12_col5,#T_1bbd7_row12_col6,#T_1bbd7_row12_col7,#T_1bbd7_row12_col8,#T_1bbd7_row12_col9,#T_1bbd7_row12_col11,#T_1bbd7_row12_col12{\n",
       "            background-color:  #ebf3eb;\n",
       "            color:  #000000;\n",
       "        }#T_1bbd7_row1_col1{\n",
       "            background-color:  #ddecdd;\n",
       "            color:  #000000;\n",
       "        }#T_1bbd7_row1_col2{\n",
       "            background-color:  #42a042;\n",
       "            color:  #000000;\n",
       "        }#T_1bbd7_row1_col3,#T_1bbd7_row7_col8{\n",
       "            background-color:  #55a955;\n",
       "            color:  #000000;\n",
       "        }#T_1bbd7_row1_col4{\n",
       "            background-color:  #45a245;\n",
       "            color:  #000000;\n",
       "        }#T_1bbd7_row1_col5{\n",
       "            background-color:  #54a954;\n",
       "            color:  #000000;\n",
       "        }#T_1bbd7_row2_col1{\n",
       "            background-color:  #c2dfc2;\n",
       "            color:  #000000;\n",
       "        }#T_1bbd7_row2_col2{\n",
       "            background-color:  #49a449;\n",
       "            color:  #000000;\n",
       "        }#T_1bbd7_row2_col4{\n",
       "            background-color:  #66b266;\n",
       "            color:  #000000;\n",
       "        }#T_1bbd7_row2_col9{\n",
       "            background-color:  #7fbe7f;\n",
       "            color:  #000000;\n",
       "        }#T_1bbd7_row3_col0{\n",
       "            background-color:  #6fb76f;\n",
       "            color:  #000000;\n",
       "        }#T_1bbd7_row3_col1{\n",
       "            background-color:  #deedde;\n",
       "            color:  #000000;\n",
       "        }#T_1bbd7_row3_col3{\n",
       "            background-color:  #b2d7b1;\n",
       "            color:  #000000;\n",
       "        }#T_1bbd7_row3_col5{\n",
       "            background-color:  #a3d0a3;\n",
       "            color:  #000000;\n",
       "        }#T_1bbd7_row3_col10{\n",
       "            background-color:  #1e8f1e;\n",
       "            color:  #000000;\n",
       "        }#T_1bbd7_row5_col0{\n",
       "            background-color:  #74b974;\n",
       "            color:  #000000;\n",
       "        }#T_1bbd7_row5_col1,#T_1bbd7_row11_col4{\n",
       "            background-color:  #dfeddf;\n",
       "            color:  #000000;\n",
       "        }#T_1bbd7_row5_col3{\n",
       "            background-color:  #70b770;\n",
       "            color:  #000000;\n",
       "        }#T_1bbd7_row5_col4{\n",
       "            background-color:  #b3d8b3;\n",
       "            color:  #000000;\n",
       "        }#T_1bbd7_row5_col5{\n",
       "            background-color:  #b0d6b0;\n",
       "            color:  #000000;\n",
       "        }#T_1bbd7_row5_col10{\n",
       "            background-color:  #359a35;\n",
       "            color:  #000000;\n",
       "        }#T_1bbd7_row6_col1,#T_1bbd7_row9_col0{\n",
       "            background-color:  #e5f0e5;\n",
       "            color:  #000000;\n",
       "        }#T_1bbd7_row6_col4,#T_1bbd7_row8_col4{\n",
       "            background-color:  #daebda;\n",
       "            color:  #000000;\n",
       "        }#T_1bbd7_row6_col8{\n",
       "            background-color:  #b7dab7;\n",
       "            color:  #000000;\n",
       "        }#T_1bbd7_row6_col9{\n",
       "            background-color:  #a8d2a8;\n",
       "            color:  #000000;\n",
       "        }#T_1bbd7_row6_col10{\n",
       "            background-color:  #d7e9d7;\n",
       "            color:  #000000;\n",
       "        }#T_1bbd7_row7_col0{\n",
       "            background-color:  #2b952b;\n",
       "            color:  #000000;\n",
       "        }#T_1bbd7_row7_col1{\n",
       "            background-color:  #c1dfc1;\n",
       "            color:  #000000;\n",
       "        }#T_1bbd7_row7_col4{\n",
       "            background-color:  #83c083;\n",
       "            color:  #000000;\n",
       "        }#T_1bbd7_row7_col7,#T_1bbd7_row8_col10{\n",
       "            background-color:  #d4e8d4;\n",
       "            color:  #000000;\n",
       "        }#T_1bbd7_row7_col9{\n",
       "            background-color:  #5fae5f;\n",
       "            color:  #000000;\n",
       "        }#T_1bbd7_row8_col0{\n",
       "            background-color:  #cde5cd;\n",
       "            color:  #000000;\n",
       "        }#T_1bbd7_row8_col1{\n",
       "            background-color:  #e3efe3;\n",
       "            color:  #000000;\n",
       "        }#T_1bbd7_row8_col8{\n",
       "            background-color:  #bbdcbb;\n",
       "            color:  #000000;\n",
       "        }#T_1bbd7_row9_col4{\n",
       "            background-color:  #d8ead8;\n",
       "            color:  #000000;\n",
       "        }#T_1bbd7_row9_col10{\n",
       "            background-color:  #d0e6d0;\n",
       "            color:  #000000;\n",
       "        }#T_1bbd7_row11_col11{\n",
       "            background-color:  #bcdcbc;\n",
       "            color:  #000000;\n",
       "        }#T_1bbd7_row12_col0{\n",
       "            background-color:  #e8f2e8;\n",
       "            color:  #000000;\n",
       "        }#T_1bbd7_row12_col10{\n",
       "            background-color:  #cfe5cf;\n",
       "            color:  #000000;\n",
       "        }</style><table id=\"T_1bbd7_\" ><caption> .</caption><thead>    <tr>        <th class=\"blank level0\" ></th>        <th class=\"col_heading level0 col0\" >blog</th>        <th class=\"col_heading level0 col1\" >catalog/</th>        <th class=\"col_heading level0 col2\" >catalog/divani/bed_bed_frame/</th>        <th class=\"col_heading level0 col3\" >delivery/</th>        <th class=\"col_heading level0 col4\" >lost</th>        <th class=\"col_heading level0 col5\" >o-kompanii</th>        <th class=\"col_heading level0 col6\" >catalog/matrasy/sampleonlineshop_gravity/</th>        <th class=\"col_heading level0 col7\" >catalog/pillow/podushka_anatomicheskay/</th>        <th class=\"col_heading level0 col8\" >order/</th>        <th class=\"col_heading level0 col9\" >order/confirmation</th>        <th class=\"col_heading level0 col10\" >facebook</th>        <th class=\"col_heading level0 col11\" >order/payment-option-switcher</th>        <th class=\"col_heading level0 col12\" >passed</th>    </tr></thead><tbody>\n",
       "                <tr>\n",
       "                        <th id=\"T_1bbd7_level0_row0\" class=\"row_heading level0 row0\" >blog</th>\n",
       "                        <td id=\"T_1bbd7_row0_col0\" class=\"data row0 col0\" >150.000000</td>\n",
       "                        <td id=\"T_1bbd7_row0_col1\" class=\"data row0 col1\" >148.000000</td>\n",
       "                        <td id=\"T_1bbd7_row0_col2\" class=\"data row0 col2\" >594.000000</td>\n",
       "                        <td id=\"T_1bbd7_row0_col3\" class=\"data row0 col3\" >152.000000</td>\n",
       "                        <td id=\"T_1bbd7_row0_col4\" class=\"data row0 col4\" >348.000000</td>\n",
       "                        <td id=\"T_1bbd7_row0_col5\" class=\"data row0 col5\" >158.000000</td>\n",
       "                        <td id=\"T_1bbd7_row0_col6\" class=\"data row0 col6\" >0.000000</td>\n",
       "                        <td id=\"T_1bbd7_row0_col7\" class=\"data row0 col7\" >0.000000</td>\n",
       "                        <td id=\"T_1bbd7_row0_col8\" class=\"data row0 col8\" >0.000000</td>\n",
       "                        <td id=\"T_1bbd7_row0_col9\" class=\"data row0 col9\" >0.000000</td>\n",
       "                        <td id=\"T_1bbd7_row0_col10\" class=\"data row0 col10\" >0.000000</td>\n",
       "                        <td id=\"T_1bbd7_row0_col11\" class=\"data row0 col11\" >0.000000</td>\n",
       "                        <td id=\"T_1bbd7_row0_col12\" class=\"data row0 col12\" >0.000000</td>\n",
       "            </tr>\n",
       "            <tr>\n",
       "                        <th id=\"T_1bbd7_level0_row1\" class=\"row_heading level0 row1\" >catalog/</th>\n",
       "                        <td id=\"T_1bbd7_row1_col0\" class=\"data row1 col0\" >0.000000</td>\n",
       "                        <td id=\"T_1bbd7_row1_col1\" class=\"data row1 col1\" >95.000000</td>\n",
       "                        <td id=\"T_1bbd7_row1_col2\" class=\"data row1 col2\" >426.000000</td>\n",
       "                        <td id=\"T_1bbd7_row1_col3\" class=\"data row1 col3\" >221.000000</td>\n",
       "                        <td id=\"T_1bbd7_row1_col4\" class=\"data row1 col4\" >590.000000</td>\n",
       "                        <td id=\"T_1bbd7_row1_col5\" class=\"data row1 col5\" >211.000000</td>\n",
       "                        <td id=\"T_1bbd7_row1_col6\" class=\"data row1 col6\" >234.000000</td>\n",
       "                        <td id=\"T_1bbd7_row1_col7\" class=\"data row1 col7\" >881.000000</td>\n",
       "                        <td id=\"T_1bbd7_row1_col8\" class=\"data row1 col8\" >0.000000</td>\n",
       "                        <td id=\"T_1bbd7_row1_col9\" class=\"data row1 col9\" >0.000000</td>\n",
       "                        <td id=\"T_1bbd7_row1_col10\" class=\"data row1 col10\" >0.000000</td>\n",
       "                        <td id=\"T_1bbd7_row1_col11\" class=\"data row1 col11\" >0.000000</td>\n",
       "                        <td id=\"T_1bbd7_row1_col12\" class=\"data row1 col12\" >0.000000</td>\n",
       "            </tr>\n",
       "            <tr>\n",
       "                        <th id=\"T_1bbd7_level0_row2\" class=\"row_heading level0 row2\" >catalog/divani/bed_bed_frame/</th>\n",
       "                        <td id=\"T_1bbd7_row2_col0\" class=\"data row2 col0\" >0.000000</td>\n",
       "                        <td id=\"T_1bbd7_row2_col1\" class=\"data row2 col1\" >278.000000</td>\n",
       "                        <td id=\"T_1bbd7_row2_col2\" class=\"data row2 col2\" >409.000000</td>\n",
       "                        <td id=\"T_1bbd7_row2_col3\" class=\"data row2 col3\" >0.000000</td>\n",
       "                        <td id=\"T_1bbd7_row2_col4\" class=\"data row2 col4\" >473.000000</td>\n",
       "                        <td id=\"T_1bbd7_row2_col5\" class=\"data row2 col5\" >0.000000</td>\n",
       "                        <td id=\"T_1bbd7_row2_col6\" class=\"data row2 col6\" >0.000000</td>\n",
       "                        <td id=\"T_1bbd7_row2_col7\" class=\"data row2 col7\" >0.000000</td>\n",
       "                        <td id=\"T_1bbd7_row2_col8\" class=\"data row2 col8\" >228.000000</td>\n",
       "                        <td id=\"T_1bbd7_row2_col9\" class=\"data row2 col9\" >101.000000</td>\n",
       "                        <td id=\"T_1bbd7_row2_col10\" class=\"data row2 col10\" >0.000000</td>\n",
       "                        <td id=\"T_1bbd7_row2_col11\" class=\"data row2 col11\" >0.000000</td>\n",
       "                        <td id=\"T_1bbd7_row2_col12\" class=\"data row2 col12\" >0.000000</td>\n",
       "            </tr>\n",
       "            <tr>\n",
       "                        <th id=\"T_1bbd7_level0_row3\" class=\"row_heading level0 row3\" >delivery/</th>\n",
       "                        <td id=\"T_1bbd7_row3_col0\" class=\"data row3 col0\" >79.000000</td>\n",
       "                        <td id=\"T_1bbd7_row3_col1\" class=\"data row3 col1\" >91.000000</td>\n",
       "                        <td id=\"T_1bbd7_row3_col2\" class=\"data row3 col2\" >0.000000</td>\n",
       "                        <td id=\"T_1bbd7_row3_col3\" class=\"data row3 col3\" >85.000000</td>\n",
       "                        <td id=\"T_1bbd7_row3_col4\" class=\"data row3 col4\" >347.000000</td>\n",
       "                        <td id=\"T_1bbd7_row3_col5\" class=\"data row3 col5\" >100.000000</td>\n",
       "                        <td id=\"T_1bbd7_row3_col6\" class=\"data row3 col6\" >0.000000</td>\n",
       "                        <td id=\"T_1bbd7_row3_col7\" class=\"data row3 col7\" >0.000000</td>\n",
       "                        <td id=\"T_1bbd7_row3_col8\" class=\"data row3 col8\" >0.000000</td>\n",
       "                        <td id=\"T_1bbd7_row3_col9\" class=\"data row3 col9\" >0.000000</td>\n",
       "                        <td id=\"T_1bbd7_row3_col10\" class=\"data row3 col10\" >295.000000</td>\n",
       "                        <td id=\"T_1bbd7_row3_col11\" class=\"data row3 col11\" >0.000000</td>\n",
       "                        <td id=\"T_1bbd7_row3_col12\" class=\"data row3 col12\" >0.000000</td>\n",
       "            </tr>\n",
       "            <tr>\n",
       "                        <th id=\"T_1bbd7_level0_row4\" class=\"row_heading level0 row4\" >lost</th>\n",
       "                        <td id=\"T_1bbd7_row4_col0\" class=\"data row4 col0\" >0.000000</td>\n",
       "                        <td id=\"T_1bbd7_row4_col1\" class=\"data row4 col1\" >0.000000</td>\n",
       "                        <td id=\"T_1bbd7_row4_col2\" class=\"data row4 col2\" >0.000000</td>\n",
       "                        <td id=\"T_1bbd7_row4_col3\" class=\"data row4 col3\" >0.000000</td>\n",
       "                        <td id=\"T_1bbd7_row4_col4\" class=\"data row4 col4\" >0.000000</td>\n",
       "                        <td id=\"T_1bbd7_row4_col5\" class=\"data row4 col5\" >0.000000</td>\n",
       "                        <td id=\"T_1bbd7_row4_col6\" class=\"data row4 col6\" >0.000000</td>\n",
       "                        <td id=\"T_1bbd7_row4_col7\" class=\"data row4 col7\" >0.000000</td>\n",
       "                        <td id=\"T_1bbd7_row4_col8\" class=\"data row4 col8\" >0.000000</td>\n",
       "                        <td id=\"T_1bbd7_row4_col9\" class=\"data row4 col9\" >0.000000</td>\n",
       "                        <td id=\"T_1bbd7_row4_col10\" class=\"data row4 col10\" >0.000000</td>\n",
       "                        <td id=\"T_1bbd7_row4_col11\" class=\"data row4 col11\" >0.000000</td>\n",
       "                        <td id=\"T_1bbd7_row4_col12\" class=\"data row4 col12\" >0.000000</td>\n",
       "            </tr>\n",
       "            <tr>\n",
       "                        <th id=\"T_1bbd7_level0_row5\" class=\"row_heading level0 row5\" >o-kompanii</th>\n",
       "                        <td id=\"T_1bbd7_row5_col0\" class=\"data row5 col0\" >76.000000</td>\n",
       "                        <td id=\"T_1bbd7_row5_col1\" class=\"data row5 col1\" >84.000000</td>\n",
       "                        <td id=\"T_1bbd7_row5_col2\" class=\"data row5 col2\" >0.000000</td>\n",
       "                        <td id=\"T_1bbd7_row5_col3\" class=\"data row5 col3\" >181.000000</td>\n",
       "                        <td id=\"T_1bbd7_row5_col4\" class=\"data row5 col4\" >198.000000</td>\n",
       "                        <td id=\"T_1bbd7_row5_col5\" class=\"data row5 col5\" >82.000000</td>\n",
       "                        <td id=\"T_1bbd7_row5_col6\" class=\"data row5 col6\" >0.000000</td>\n",
       "                        <td id=\"T_1bbd7_row5_col7\" class=\"data row5 col7\" >0.000000</td>\n",
       "                        <td id=\"T_1bbd7_row5_col8\" class=\"data row5 col8\" >0.000000</td>\n",
       "                        <td id=\"T_1bbd7_row5_col9\" class=\"data row5 col9\" >0.000000</td>\n",
       "                        <td id=\"T_1bbd7_row5_col10\" class=\"data row5 col10\" >261.000000</td>\n",
       "                        <td id=\"T_1bbd7_row5_col11\" class=\"data row5 col11\" >0.000000</td>\n",
       "                        <td id=\"T_1bbd7_row5_col12\" class=\"data row5 col12\" >0.000000</td>\n",
       "            </tr>\n",
       "            <tr>\n",
       "                        <th id=\"T_1bbd7_level0_row6\" class=\"row_heading level0 row6\" >catalog/matrasy/sampleonlineshop_gravity/</th>\n",
       "                        <td id=\"T_1bbd7_row6_col0\" class=\"data row6 col0\" >0.000000</td>\n",
       "                        <td id=\"T_1bbd7_row6_col1\" class=\"data row6 col1\" >44.000000</td>\n",
       "                        <td id=\"T_1bbd7_row6_col2\" class=\"data row6 col2\" >0.000000</td>\n",
       "                        <td id=\"T_1bbd7_row6_col3\" class=\"data row6 col3\" >0.000000</td>\n",
       "                        <td id=\"T_1bbd7_row6_col4\" class=\"data row6 col4\" >60.000000</td>\n",
       "                        <td id=\"T_1bbd7_row6_col5\" class=\"data row6 col5\" >0.000000</td>\n",
       "                        <td id=\"T_1bbd7_row6_col6\" class=\"data row6 col6\" >0.000000</td>\n",
       "                        <td id=\"T_1bbd7_row6_col7\" class=\"data row6 col7\" >0.000000</td>\n",
       "                        <td id=\"T_1bbd7_row6_col8\" class=\"data row6 col8\" >50.000000</td>\n",
       "                        <td id=\"T_1bbd7_row6_col9\" class=\"data row6 col9\" >62.000000</td>\n",
       "                        <td id=\"T_1bbd7_row6_col10\" class=\"data row6 col10\" >28.000000</td>\n",
       "                        <td id=\"T_1bbd7_row6_col11\" class=\"data row6 col11\" >0.000000</td>\n",
       "                        <td id=\"T_1bbd7_row6_col12\" class=\"data row6 col12\" >0.000000</td>\n",
       "            </tr>\n",
       "            <tr>\n",
       "                        <th id=\"T_1bbd7_level0_row7\" class=\"row_heading level0 row7\" >catalog/pillow/podushka_anatomicheskay/</th>\n",
       "                        <td id=\"T_1bbd7_row7_col0\" class=\"data row7 col0\" >122.000000</td>\n",
       "                        <td id=\"T_1bbd7_row7_col1\" class=\"data row7 col1\" >288.000000</td>\n",
       "                        <td id=\"T_1bbd7_row7_col2\" class=\"data row7 col2\" >0.000000</td>\n",
       "                        <td id=\"T_1bbd7_row7_col3\" class=\"data row7 col3\" >0.000000</td>\n",
       "                        <td id=\"T_1bbd7_row7_col4\" class=\"data row7 col4\" >371.000000</td>\n",
       "                        <td id=\"T_1bbd7_row7_col5\" class=\"data row7 col5\" >0.000000</td>\n",
       "                        <td id=\"T_1bbd7_row7_col6\" class=\"data row7 col6\" >0.000000</td>\n",
       "                        <td id=\"T_1bbd7_row7_col7\" class=\"data row7 col7\" >85.000000</td>\n",
       "                        <td id=\"T_1bbd7_row7_col8\" class=\"data row7 col8\" >146.000000</td>\n",
       "                        <td id=\"T_1bbd7_row7_col9\" class=\"data row7 col9\" >131.000000</td>\n",
       "                        <td id=\"T_1bbd7_row7_col10\" class=\"data row7 col10\" >0.000000</td>\n",
       "                        <td id=\"T_1bbd7_row7_col11\" class=\"data row7 col11\" >0.000000</td>\n",
       "                        <td id=\"T_1bbd7_row7_col12\" class=\"data row7 col12\" >0.000000</td>\n",
       "            </tr>\n",
       "            <tr>\n",
       "                        <th id=\"T_1bbd7_level0_row8\" class=\"row_heading level0 row8\" >order/</th>\n",
       "                        <td id=\"T_1bbd7_row8_col0\" class=\"data row8 col0\" >19.000000</td>\n",
       "                        <td id=\"T_1bbd7_row8_col1\" class=\"data row8 col1\" >54.000000</td>\n",
       "                        <td id=\"T_1bbd7_row8_col2\" class=\"data row8 col2\" >0.000000</td>\n",
       "                        <td id=\"T_1bbd7_row8_col3\" class=\"data row8 col3\" >0.000000</td>\n",
       "                        <td id=\"T_1bbd7_row8_col4\" class=\"data row8 col4\" >60.000000</td>\n",
       "                        <td id=\"T_1bbd7_row8_col5\" class=\"data row8 col5\" >0.000000</td>\n",
       "                        <td id=\"T_1bbd7_row8_col6\" class=\"data row8 col6\" >0.000000</td>\n",
       "                        <td id=\"T_1bbd7_row8_col7\" class=\"data row8 col7\" >0.000000</td>\n",
       "                        <td id=\"T_1bbd7_row8_col8\" class=\"data row8 col8\" >47.000000</td>\n",
       "                        <td id=\"T_1bbd7_row8_col9\" class=\"data row8 col9\" >0.000000</td>\n",
       "                        <td id=\"T_1bbd7_row8_col10\" class=\"data row8 col10\" >32.000000</td>\n",
       "                        <td id=\"T_1bbd7_row8_col11\" class=\"data row8 col11\" >267.000000</td>\n",
       "                        <td id=\"T_1bbd7_row8_col12\" class=\"data row8 col12\" >0.000000</td>\n",
       "            </tr>\n",
       "            <tr>\n",
       "                        <th id=\"T_1bbd7_level0_row9\" class=\"row_heading level0 row9\" >order/confirmation</th>\n",
       "                        <td id=\"T_1bbd7_row9_col0\" class=\"data row9 col0\" >4.000000</td>\n",
       "                        <td id=\"T_1bbd7_row9_col1\" class=\"data row9 col1\" >0.000000</td>\n",
       "                        <td id=\"T_1bbd7_row9_col2\" class=\"data row9 col2\" >0.000000</td>\n",
       "                        <td id=\"T_1bbd7_row9_col3\" class=\"data row9 col3\" >0.000000</td>\n",
       "                        <td id=\"T_1bbd7_row9_col4\" class=\"data row9 col4\" >67.000000</td>\n",
       "                        <td id=\"T_1bbd7_row9_col5\" class=\"data row9 col5\" >0.000000</td>\n",
       "                        <td id=\"T_1bbd7_row9_col6\" class=\"data row9 col6\" >0.000000</td>\n",
       "                        <td id=\"T_1bbd7_row9_col7\" class=\"data row9 col7\" >0.000000</td>\n",
       "                        <td id=\"T_1bbd7_row9_col8\" class=\"data row9 col8\" >0.000000</td>\n",
       "                        <td id=\"T_1bbd7_row9_col9\" class=\"data row9 col9\" >0.000000</td>\n",
       "                        <td id=\"T_1bbd7_row9_col10\" class=\"data row9 col10\" >39.000000</td>\n",
       "                        <td id=\"T_1bbd7_row9_col11\" class=\"data row9 col11\" >0.000000</td>\n",
       "                        <td id=\"T_1bbd7_row9_col12\" class=\"data row9 col12\" >401.000000</td>\n",
       "            </tr>\n",
       "            <tr>\n",
       "                        <th id=\"T_1bbd7_level0_row10\" class=\"row_heading level0 row10\" >facebook</th>\n",
       "                        <td id=\"T_1bbd7_row10_col0\" class=\"data row10 col0\" >0.000000</td>\n",
       "                        <td id=\"T_1bbd7_row10_col1\" class=\"data row10 col1\" >1610.000000</td>\n",
       "                        <td id=\"T_1bbd7_row10_col2\" class=\"data row10 col2\" >0.000000</td>\n",
       "                        <td id=\"T_1bbd7_row10_col3\" class=\"data row10 col3\" >347.000000</td>\n",
       "                        <td id=\"T_1bbd7_row10_col4\" class=\"data row10 col4\" >837.000000</td>\n",
       "                        <td id=\"T_1bbd7_row10_col5\" class=\"data row10 col5\" >328.000000</td>\n",
       "                        <td id=\"T_1bbd7_row10_col6\" class=\"data row10 col6\" >0.000000</td>\n",
       "                        <td id=\"T_1bbd7_row10_col7\" class=\"data row10 col7\" >0.000000</td>\n",
       "                        <td id=\"T_1bbd7_row10_col8\" class=\"data row10 col8\" >0.000000</td>\n",
       "                        <td id=\"T_1bbd7_row10_col9\" class=\"data row10 col9\" >0.000000</td>\n",
       "                        <td id=\"T_1bbd7_row10_col10\" class=\"data row10 col10\" >339.000000</td>\n",
       "                        <td id=\"T_1bbd7_row10_col11\" class=\"data row10 col11\" >0.000000</td>\n",
       "                        <td id=\"T_1bbd7_row10_col12\" class=\"data row10 col12\" >0.000000</td>\n",
       "            </tr>\n",
       "            <tr>\n",
       "                        <th id=\"T_1bbd7_level0_row11\" class=\"row_heading level0 row11\" >order/payment-option-switcher</th>\n",
       "                        <td id=\"T_1bbd7_row11_col0\" class=\"data row11 col0\" >0.000000</td>\n",
       "                        <td id=\"T_1bbd7_row11_col1\" class=\"data row11 col1\" >0.000000</td>\n",
       "                        <td id=\"T_1bbd7_row11_col2\" class=\"data row11 col2\" >0.000000</td>\n",
       "                        <td id=\"T_1bbd7_row11_col3\" class=\"data row11 col3\" >0.000000</td>\n",
       "                        <td id=\"T_1bbd7_row11_col4\" class=\"data row11 col4\" >45.000000</td>\n",
       "                        <td id=\"T_1bbd7_row11_col5\" class=\"data row11 col5\" >0.000000</td>\n",
       "                        <td id=\"T_1bbd7_row11_col6\" class=\"data row11 col6\" >0.000000</td>\n",
       "                        <td id=\"T_1bbd7_row11_col7\" class=\"data row11 col7\" >0.000000</td>\n",
       "                        <td id=\"T_1bbd7_row11_col8\" class=\"data row11 col8\" >0.000000</td>\n",
       "                        <td id=\"T_1bbd7_row11_col9\" class=\"data row11 col9\" >220.000000</td>\n",
       "                        <td id=\"T_1bbd7_row11_col10\" class=\"data row11 col10\" >0.000000</td>\n",
       "                        <td id=\"T_1bbd7_row11_col11\" class=\"data row11 col11\" >54.000000</td>\n",
       "                        <td id=\"T_1bbd7_row11_col12\" class=\"data row11 col12\" >0.000000</td>\n",
       "            </tr>\n",
       "            <tr>\n",
       "                        <th id=\"T_1bbd7_level0_row12\" class=\"row_heading level0 row12\" >passed</th>\n",
       "                        <td id=\"T_1bbd7_row12_col0\" class=\"data row12 col0\" >2.000000</td>\n",
       "                        <td id=\"T_1bbd7_row12_col1\" class=\"data row12 col1\" >0.000000</td>\n",
       "                        <td id=\"T_1bbd7_row12_col2\" class=\"data row12 col2\" >0.000000</td>\n",
       "                        <td id=\"T_1bbd7_row12_col3\" class=\"data row12 col3\" >0.000000</td>\n",
       "                        <td id=\"T_1bbd7_row12_col4\" class=\"data row12 col4\" >0.000000</td>\n",
       "                        <td id=\"T_1bbd7_row12_col5\" class=\"data row12 col5\" >0.000000</td>\n",
       "                        <td id=\"T_1bbd7_row12_col6\" class=\"data row12 col6\" >0.000000</td>\n",
       "                        <td id=\"T_1bbd7_row12_col7\" class=\"data row12 col7\" >0.000000</td>\n",
       "                        <td id=\"T_1bbd7_row12_col8\" class=\"data row12 col8\" >0.000000</td>\n",
       "                        <td id=\"T_1bbd7_row12_col9\" class=\"data row12 col9\" >0.000000</td>\n",
       "                        <td id=\"T_1bbd7_row12_col10\" class=\"data row12 col10\" >40.000000</td>\n",
       "                        <td id=\"T_1bbd7_row12_col11\" class=\"data row12 col11\" >0.000000</td>\n",
       "                        <td id=\"T_1bbd7_row12_col12\" class=\"data row12 col12\" >0.000000</td>\n",
       "            </tr>\n",
       "    </tbody></table>"
      ],
      "text/plain": [
       "<pandas.io.formats.style.Styler at 0x7f86df09e4c0>"
      ]
     },
     "execution_count": 29,
     "metadata": {},
     "output_type": "execute_result"
    }
   ],
   "source": [
    "df = data_with_lost.rete.get_adjacency(weight_col='user_id', norm_type=None)\n",
    "\n",
    "def rotateheader():\n",
    "    return  [\n",
    "     dict(selector=\"th\", props=[(\"font-size\", \"75%\"),\n",
    "                            (\"text-align\", \"right\")\n",
    "                          ]),\n",
    "        dict(selector=\"th.col_heading\", props=[(\"font-size\", \"75%\"),\n",
    "                            (\"text-align\", \"left\"),\n",
    "                            (\"transform\", \"translate(0%,-30%) rotate(-10deg)\")\n",
    "                          ]),\n",
    "             dict(selector=\"caption\", props=[(\"caption-side\", \"bottom\")])\n",
    "                ]\n",
    "\n",
    "cm = sns.light_palette(\"green\", as_cmap=True)\n",
    "print(\"\\n\\n\\n\")\n",
    "df.style.background_gradient(cmap=cm).set_table_styles(rotateheader()).set_caption(\" .\")"
   ]
  },
  {
   "cell_type": "markdown",
   "metadata": {
    "colab_type": "text",
    "id": "B78aLnPtSIdm"
   },
   "source": [
    "Отнормируем матрицу на число уникальных пользователей\n"
   ]
  },
  {
   "cell_type": "code",
   "execution_count": 32,
   "metadata": {
    "ExecuteTime": {
     "end_time": "2021-10-01T23:15:24.274063Z",
     "start_time": "2021-10-01T23:15:24.201252Z"
    },
    "colab": {
     "base_uri": "https://localhost:8080/",
     "height": 436
    },
    "colab_type": "code",
    "id": "iZvmvqOh3d-1",
    "outputId": "eaba4dec-4c7b-474e-b4fc-4ea1f9a04307"
   },
   "outputs": [
    {
     "name": "stdout",
     "output_type": "stream",
     "text": [
      "\n",
      "\n",
      "\n",
      "\n"
     ]
    },
    {
     "data": {
      "text/html": [
       "<style  type=\"text/css\" >\n",
       "    #T_3bd08_ th {\n",
       "          font-size: 75%;\n",
       "          text-align: right;\n",
       "    }    #T_3bd08_ th.col_heading {\n",
       "          font-size: 75%;\n",
       "          text-align: left;\n",
       "          transform: translate(0%,-30%) rotate(-10deg);\n",
       "    }    #T_3bd08_ caption {\n",
       "          caption-side: bottom;\n",
       "    }#T_3bd08_row0_col0{\n",
       "            background-color:  #0c860c;\n",
       "            color:  #f1f1f1;\n",
       "        }#T_3bd08_row0_col1,#T_3bd08_row8_col1{\n",
       "            background-color:  #b9dbb9;\n",
       "            color:  #000000;\n",
       "        }#T_3bd08_row0_col2,#T_3bd08_row0_col5,#T_3bd08_row1_col6,#T_3bd08_row1_col7,#T_3bd08_row2_col4,#T_3bd08_row2_col8,#T_3bd08_row3_col10,#T_3bd08_row5_col3,#T_3bd08_row5_col10,#T_3bd08_row7_col0,#T_3bd08_row8_col11,#T_3bd08_row9_col12,#T_3bd08_row10_col1,#T_3bd08_row11_col9{\n",
       "            background-color:  #008000;\n",
       "            color:  #f1f1f1;\n",
       "        }#T_3bd08_row0_col3,#T_3bd08_row7_col1{\n",
       "            background-color:  #6db56d;\n",
       "            color:  #000000;\n",
       "        }#T_3bd08_row0_col4{\n",
       "            background-color:  #51a851;\n",
       "            color:  #000000;\n",
       "        }#T_3bd08_row0_col6,#T_3bd08_row0_col7,#T_3bd08_row0_col8,#T_3bd08_row0_col9,#T_3bd08_row0_col10,#T_3bd08_row0_col11,#T_3bd08_row0_col12,#T_3bd08_row1_col0,#T_3bd08_row1_col8,#T_3bd08_row1_col9,#T_3bd08_row1_col10,#T_3bd08_row1_col11,#T_3bd08_row1_col12,#T_3bd08_row2_col0,#T_3bd08_row2_col3,#T_3bd08_row2_col5,#T_3bd08_row2_col6,#T_3bd08_row2_col7,#T_3bd08_row2_col10,#T_3bd08_row2_col11,#T_3bd08_row2_col12,#T_3bd08_row3_col2,#T_3bd08_row3_col6,#T_3bd08_row3_col7,#T_3bd08_row3_col8,#T_3bd08_row3_col9,#T_3bd08_row3_col11,#T_3bd08_row3_col12,#T_3bd08_row4_col0,#T_3bd08_row4_col1,#T_3bd08_row4_col2,#T_3bd08_row4_col3,#T_3bd08_row4_col4,#T_3bd08_row4_col5,#T_3bd08_row4_col6,#T_3bd08_row4_col7,#T_3bd08_row4_col8,#T_3bd08_row4_col9,#T_3bd08_row4_col10,#T_3bd08_row4_col11,#T_3bd08_row4_col12,#T_3bd08_row5_col2,#T_3bd08_row5_col6,#T_3bd08_row5_col7,#T_3bd08_row5_col8,#T_3bd08_row5_col9,#T_3bd08_row5_col11,#T_3bd08_row5_col12,#T_3bd08_row6_col0,#T_3bd08_row6_col2,#T_3bd08_row6_col3,#T_3bd08_row6_col5,#T_3bd08_row6_col6,#T_3bd08_row6_col7,#T_3bd08_row6_col11,#T_3bd08_row6_col12,#T_3bd08_row7_col2,#T_3bd08_row7_col3,#T_3bd08_row7_col5,#T_3bd08_row7_col6,#T_3bd08_row7_col10,#T_3bd08_row7_col11,#T_3bd08_row7_col12,#T_3bd08_row8_col2,#T_3bd08_row8_col3,#T_3bd08_row8_col5,#T_3bd08_row8_col6,#T_3bd08_row8_col7,#T_3bd08_row8_col9,#T_3bd08_row8_col12,#T_3bd08_row9_col1,#T_3bd08_row9_col2,#T_3bd08_row9_col3,#T_3bd08_row9_col5,#T_3bd08_row9_col6,#T_3bd08_row9_col7,#T_3bd08_row9_col8,#T_3bd08_row9_col9,#T_3bd08_row9_col11,#T_3bd08_row10_col0,#T_3bd08_row10_col2,#T_3bd08_row10_col6,#T_3bd08_row10_col7,#T_3bd08_row10_col8,#T_3bd08_row10_col9,#T_3bd08_row10_col11,#T_3bd08_row10_col12,#T_3bd08_row11_col0,#T_3bd08_row11_col1,#T_3bd08_row11_col2,#T_3bd08_row11_col3,#T_3bd08_row11_col5,#T_3bd08_row11_col6,#T_3bd08_row11_col7,#T_3bd08_row11_col8,#T_3bd08_row11_col10,#T_3bd08_row11_col12,#T_3bd08_row12_col1,#T_3bd08_row12_col2,#T_3bd08_row12_col3,#T_3bd08_row12_col4,#T_3bd08_row12_col5,#T_3bd08_row12_col6,#T_3bd08_row12_col7,#T_3bd08_row12_col8,#T_3bd08_row12_col9,#T_3bd08_row12_col11,#T_3bd08_row12_col12{\n",
       "            background-color:  #ebf3eb;\n",
       "            color:  #000000;\n",
       "        }#T_3bd08_row1_col1{\n",
       "            background-color:  #d8ead8;\n",
       "            color:  #000000;\n",
       "        }#T_3bd08_row1_col2{\n",
       "            background-color:  #8ac48a;\n",
       "            color:  #000000;\n",
       "        }#T_3bd08_row1_col3,#T_3bd08_row2_col1{\n",
       "            background-color:  #82c082;\n",
       "            color:  #000000;\n",
       "        }#T_3bd08_row1_col4{\n",
       "            background-color:  #55a955;\n",
       "            color:  #000000;\n",
       "        }#T_3bd08_row1_col5{\n",
       "            background-color:  #379b37;\n",
       "            color:  #000000;\n",
       "        }#T_3bd08_row2_col2{\n",
       "            background-color:  #359a35;\n",
       "            color:  #000000;\n",
       "        }#T_3bd08_row2_col9{\n",
       "            background-color:  #cfe5cf;\n",
       "            color:  #000000;\n",
       "        }#T_3bd08_row3_col0{\n",
       "            background-color:  #4aa44a;\n",
       "            color:  #000000;\n",
       "        }#T_3bd08_row3_col1,#T_3bd08_row7_col9{\n",
       "            background-color:  #c0dec0;\n",
       "            color:  #000000;\n",
       "        }#T_3bd08_row3_col3{\n",
       "            background-color:  #89c389;\n",
       "            color:  #000000;\n",
       "        }#T_3bd08_row3_col4{\n",
       "            background-color:  #178b17;\n",
       "            color:  #000000;\n",
       "        }#T_3bd08_row3_col5{\n",
       "            background-color:  #1d8e1d;\n",
       "            color:  #000000;\n",
       "        }#T_3bd08_row5_col0{\n",
       "            background-color:  #3b9d3b;\n",
       "            color:  #000000;\n",
       "        }#T_3bd08_row5_col1{\n",
       "            background-color:  #beddbe;\n",
       "            color:  #000000;\n",
       "        }#T_3bd08_row5_col4{\n",
       "            background-color:  #62b062;\n",
       "            color:  #000000;\n",
       "        }#T_3bd08_row5_col5{\n",
       "            background-color:  #2c962c;\n",
       "            color:  #000000;\n",
       "        }#T_3bd08_row6_col1,#T_3bd08_row8_col4{\n",
       "            background-color:  #a2cfa2;\n",
       "            color:  #000000;\n",
       "        }#T_3bd08_row6_col4{\n",
       "            background-color:  #69b369;\n",
       "            color:  #000000;\n",
       "        }#T_3bd08_row6_col8{\n",
       "            background-color:  #0a850a;\n",
       "            color:  #f1f1f1;\n",
       "        }#T_3bd08_row6_col9{\n",
       "            background-color:  #9fce9f;\n",
       "            color:  #000000;\n",
       "        }#T_3bd08_row6_col10{\n",
       "            background-color:  #9bcc9b;\n",
       "            color:  #000000;\n",
       "        }#T_3bd08_row7_col4{\n",
       "            background-color:  #158a15;\n",
       "            color:  #000000;\n",
       "        }#T_3bd08_row7_col7{\n",
       "            background-color:  #b7dab7;\n",
       "            color:  #000000;\n",
       "        }#T_3bd08_row7_col8{\n",
       "            background-color:  #3d9e3d;\n",
       "            color:  #000000;\n",
       "        }#T_3bd08_row8_col0{\n",
       "            background-color:  #9dcd9d;\n",
       "            color:  #000000;\n",
       "        }#T_3bd08_row8_col8{\n",
       "            background-color:  #74b974;\n",
       "            color:  #000000;\n",
       "        }#T_3bd08_row8_col10,#T_3bd08_row9_col10{\n",
       "            background-color:  #b8dab8;\n",
       "            color:  #000000;\n",
       "        }#T_3bd08_row9_col0{\n",
       "            background-color:  #deedde;\n",
       "            color:  #000000;\n",
       "        }#T_3bd08_row9_col4{\n",
       "            background-color:  #a7d2a7;\n",
       "            color:  #000000;\n",
       "        }#T_3bd08_row10_col3{\n",
       "            background-color:  #6eb66e;\n",
       "            color:  #000000;\n",
       "        }#T_3bd08_row10_col4{\n",
       "            background-color:  #4ba54a;\n",
       "            color:  #000000;\n",
       "        }#T_3bd08_row10_col5{\n",
       "            background-color:  #188c18;\n",
       "            color:  #000000;\n",
       "        }#T_3bd08_row10_col10{\n",
       "            background-color:  #97ca97;\n",
       "            color:  #000000;\n",
       "        }#T_3bd08_row11_col4{\n",
       "            background-color:  #95c995;\n",
       "            color:  #000000;\n",
       "        }#T_3bd08_row11_col11{\n",
       "            background-color:  #a1cfa1;\n",
       "            color:  #000000;\n",
       "        }#T_3bd08_row12_col0{\n",
       "            background-color:  #e2efe2;\n",
       "            color:  #000000;\n",
       "        }#T_3bd08_row12_col10{\n",
       "            background-color:  #a9d3a9;\n",
       "            color:  #000000;\n",
       "        }</style><table id=\"T_3bd08_\" ><caption> .</caption><thead>    <tr>        <th class=\"blank level0\" ></th>        <th class=\"col_heading level0 col0\" >blog</th>        <th class=\"col_heading level0 col1\" >catalog/</th>        <th class=\"col_heading level0 col2\" >catalog/divani/bed_bed_frame/</th>        <th class=\"col_heading level0 col3\" >delivery/</th>        <th class=\"col_heading level0 col4\" >lost</th>        <th class=\"col_heading level0 col5\" >o-kompanii</th>        <th class=\"col_heading level0 col6\" >catalog/matrasy/sampleonlineshop_gravity/</th>        <th class=\"col_heading level0 col7\" >catalog/pillow/podushka_anatomicheskay/</th>        <th class=\"col_heading level0 col8\" >order/</th>        <th class=\"col_heading level0 col9\" >order/confirmation</th>        <th class=\"col_heading level0 col10\" >facebook</th>        <th class=\"col_heading level0 col11\" >order/payment-option-switcher</th>        <th class=\"col_heading level0 col12\" >passed</th>    </tr></thead><tbody>\n",
       "                <tr>\n",
       "                        <th id=\"T_3bd08_level0_row0\" class=\"row_heading level0 row0\" >blog</th>\n",
       "                        <td id=\"T_3bd08_row0_col0\" class=\"data row0 col0\" >0.131119</td>\n",
       "                        <td id=\"T_3bd08_row0_col1\" class=\"data row0 col1\" >0.129371</td>\n",
       "                        <td id=\"T_3bd08_row0_col2\" class=\"data row0 col2\" >0.519231</td>\n",
       "                        <td id=\"T_3bd08_row0_col3\" class=\"data row0 col3\" >0.132867</td>\n",
       "                        <td id=\"T_3bd08_row0_col4\" class=\"data row0 col4\" >0.304196</td>\n",
       "                        <td id=\"T_3bd08_row0_col5\" class=\"data row0 col5\" >0.138112</td>\n",
       "                        <td id=\"T_3bd08_row0_col6\" class=\"data row0 col6\" >0.000000</td>\n",
       "                        <td id=\"T_3bd08_row0_col7\" class=\"data row0 col7\" >0.000000</td>\n",
       "                        <td id=\"T_3bd08_row0_col8\" class=\"data row0 col8\" >0.000000</td>\n",
       "                        <td id=\"T_3bd08_row0_col9\" class=\"data row0 col9\" >0.000000</td>\n",
       "                        <td id=\"T_3bd08_row0_col10\" class=\"data row0 col10\" >0.000000</td>\n",
       "                        <td id=\"T_3bd08_row0_col11\" class=\"data row0 col11\" >0.000000</td>\n",
       "                        <td id=\"T_3bd08_row0_col12\" class=\"data row0 col12\" >0.000000</td>\n",
       "            </tr>\n",
       "            <tr>\n",
       "                        <th id=\"T_3bd08_level0_row1\" class=\"row_heading level0 row1\" >catalog/</th>\n",
       "                        <td id=\"T_3bd08_row1_col0\" class=\"data row1 col0\" >0.000000</td>\n",
       "                        <td id=\"T_3bd08_row1_col1\" class=\"data row1 col1\" >0.047548</td>\n",
       "                        <td id=\"T_3bd08_row1_col2\" class=\"data row1 col2\" >0.213213</td>\n",
       "                        <td id=\"T_3bd08_row1_col3\" class=\"data row1 col3\" >0.110611</td>\n",
       "                        <td id=\"T_3bd08_row1_col4\" class=\"data row1 col4\" >0.295295</td>\n",
       "                        <td id=\"T_3bd08_row1_col5\" class=\"data row1 col5\" >0.105606</td>\n",
       "                        <td id=\"T_3bd08_row1_col6\" class=\"data row1 col6\" >0.117117</td>\n",
       "                        <td id=\"T_3bd08_row1_col7\" class=\"data row1 col7\" >0.440941</td>\n",
       "                        <td id=\"T_3bd08_row1_col8\" class=\"data row1 col8\" >0.000000</td>\n",
       "                        <td id=\"T_3bd08_row1_col9\" class=\"data row1 col9\" >0.000000</td>\n",
       "                        <td id=\"T_3bd08_row1_col10\" class=\"data row1 col10\" >0.000000</td>\n",
       "                        <td id=\"T_3bd08_row1_col11\" class=\"data row1 col11\" >0.000000</td>\n",
       "                        <td id=\"T_3bd08_row1_col12\" class=\"data row1 col12\" >0.000000</td>\n",
       "            </tr>\n",
       "            <tr>\n",
       "                        <th id=\"T_3bd08_level0_row2\" class=\"row_heading level0 row2\" >catalog/divani/bed_bed_frame/</th>\n",
       "                        <td id=\"T_3bd08_row2_col0\" class=\"data row2 col0\" >0.000000</td>\n",
       "                        <td id=\"T_3bd08_row2_col1\" class=\"data row2 col1\" >0.272549</td>\n",
       "                        <td id=\"T_3bd08_row2_col2\" class=\"data row2 col2\" >0.400980</td>\n",
       "                        <td id=\"T_3bd08_row2_col3\" class=\"data row2 col3\" >0.000000</td>\n",
       "                        <td id=\"T_3bd08_row2_col4\" class=\"data row2 col4\" >0.463725</td>\n",
       "                        <td id=\"T_3bd08_row2_col5\" class=\"data row2 col5\" >0.000000</td>\n",
       "                        <td id=\"T_3bd08_row2_col6\" class=\"data row2 col6\" >0.000000</td>\n",
       "                        <td id=\"T_3bd08_row2_col7\" class=\"data row2 col7\" >0.000000</td>\n",
       "                        <td id=\"T_3bd08_row2_col8\" class=\"data row2 col8\" >0.223529</td>\n",
       "                        <td id=\"T_3bd08_row2_col9\" class=\"data row2 col9\" >0.099020</td>\n",
       "                        <td id=\"T_3bd08_row2_col10\" class=\"data row2 col10\" >0.000000</td>\n",
       "                        <td id=\"T_3bd08_row2_col11\" class=\"data row2 col11\" >0.000000</td>\n",
       "                        <td id=\"T_3bd08_row2_col12\" class=\"data row2 col12\" >0.000000</td>\n",
       "            </tr>\n",
       "            <tr>\n",
       "                        <th id=\"T_3bd08_level0_row3\" class=\"row_heading level0 row3\" >delivery/</th>\n",
       "                        <td id=\"T_3bd08_row3_col0\" class=\"data row3 col0\" >0.095066</td>\n",
       "                        <td id=\"T_3bd08_row3_col1\" class=\"data row3 col1\" >0.109507</td>\n",
       "                        <td id=\"T_3bd08_row3_col2\" class=\"data row3 col2\" >0.000000</td>\n",
       "                        <td id=\"T_3bd08_row3_col3\" class=\"data row3 col3\" >0.102286</td>\n",
       "                        <td id=\"T_3bd08_row3_col4\" class=\"data row3 col4\" >0.417569</td>\n",
       "                        <td id=\"T_3bd08_row3_col5\" class=\"data row3 col5\" >0.120337</td>\n",
       "                        <td id=\"T_3bd08_row3_col6\" class=\"data row3 col6\" >0.000000</td>\n",
       "                        <td id=\"T_3bd08_row3_col7\" class=\"data row3 col7\" >0.000000</td>\n",
       "                        <td id=\"T_3bd08_row3_col8\" class=\"data row3 col8\" >0.000000</td>\n",
       "                        <td id=\"T_3bd08_row3_col9\" class=\"data row3 col9\" >0.000000</td>\n",
       "                        <td id=\"T_3bd08_row3_col10\" class=\"data row3 col10\" >0.354994</td>\n",
       "                        <td id=\"T_3bd08_row3_col11\" class=\"data row3 col11\" >0.000000</td>\n",
       "                        <td id=\"T_3bd08_row3_col12\" class=\"data row3 col12\" >0.000000</td>\n",
       "            </tr>\n",
       "            <tr>\n",
       "                        <th id=\"T_3bd08_level0_row4\" class=\"row_heading level0 row4\" >lost</th>\n",
       "                        <td id=\"T_3bd08_row4_col0\" class=\"data row4 col0\" >0.000000</td>\n",
       "                        <td id=\"T_3bd08_row4_col1\" class=\"data row4 col1\" >0.000000</td>\n",
       "                        <td id=\"T_3bd08_row4_col2\" class=\"data row4 col2\" >0.000000</td>\n",
       "                        <td id=\"T_3bd08_row4_col3\" class=\"data row4 col3\" >0.000000</td>\n",
       "                        <td id=\"T_3bd08_row4_col4\" class=\"data row4 col4\" >0.000000</td>\n",
       "                        <td id=\"T_3bd08_row4_col5\" class=\"data row4 col5\" >0.000000</td>\n",
       "                        <td id=\"T_3bd08_row4_col6\" class=\"data row4 col6\" >0.000000</td>\n",
       "                        <td id=\"T_3bd08_row4_col7\" class=\"data row4 col7\" >0.000000</td>\n",
       "                        <td id=\"T_3bd08_row4_col8\" class=\"data row4 col8\" >0.000000</td>\n",
       "                        <td id=\"T_3bd08_row4_col9\" class=\"data row4 col9\" >0.000000</td>\n",
       "                        <td id=\"T_3bd08_row4_col10\" class=\"data row4 col10\" >0.000000</td>\n",
       "                        <td id=\"T_3bd08_row4_col11\" class=\"data row4 col11\" >0.000000</td>\n",
       "                        <td id=\"T_3bd08_row4_col12\" class=\"data row4 col12\" >0.000000</td>\n",
       "            </tr>\n",
       "            <tr>\n",
       "                        <th id=\"T_3bd08_level0_row5\" class=\"row_heading level0 row5\" >o-kompanii</th>\n",
       "                        <td id=\"T_3bd08_row5_col0\" class=\"data row5 col0\" >0.103542</td>\n",
       "                        <td id=\"T_3bd08_row5_col1\" class=\"data row5 col1\" >0.114441</td>\n",
       "                        <td id=\"T_3bd08_row5_col2\" class=\"data row5 col2\" >0.000000</td>\n",
       "                        <td id=\"T_3bd08_row5_col3\" class=\"data row5 col3\" >0.246594</td>\n",
       "                        <td id=\"T_3bd08_row5_col4\" class=\"data row5 col4\" >0.269755</td>\n",
       "                        <td id=\"T_3bd08_row5_col5\" class=\"data row5 col5\" >0.111717</td>\n",
       "                        <td id=\"T_3bd08_row5_col6\" class=\"data row5 col6\" >0.000000</td>\n",
       "                        <td id=\"T_3bd08_row5_col7\" class=\"data row5 col7\" >0.000000</td>\n",
       "                        <td id=\"T_3bd08_row5_col8\" class=\"data row5 col8\" >0.000000</td>\n",
       "                        <td id=\"T_3bd08_row5_col9\" class=\"data row5 col9\" >0.000000</td>\n",
       "                        <td id=\"T_3bd08_row5_col10\" class=\"data row5 col10\" >0.355586</td>\n",
       "                        <td id=\"T_3bd08_row5_col11\" class=\"data row5 col11\" >0.000000</td>\n",
       "                        <td id=\"T_3bd08_row5_col12\" class=\"data row5 col12\" >0.000000</td>\n",
       "            </tr>\n",
       "            <tr>\n",
       "                        <th id=\"T_3bd08_level0_row6\" class=\"row_heading level0 row6\" >catalog/matrasy/sampleonlineshop_gravity/</th>\n",
       "                        <td id=\"T_3bd08_row6_col0\" class=\"data row6 col0\" >0.000000</td>\n",
       "                        <td id=\"T_3bd08_row6_col1\" class=\"data row6 col1\" >0.188034</td>\n",
       "                        <td id=\"T_3bd08_row6_col2\" class=\"data row6 col2\" >0.000000</td>\n",
       "                        <td id=\"T_3bd08_row6_col3\" class=\"data row6 col3\" >0.000000</td>\n",
       "                        <td id=\"T_3bd08_row6_col4\" class=\"data row6 col4\" >0.256410</td>\n",
       "                        <td id=\"T_3bd08_row6_col5\" class=\"data row6 col5\" >0.000000</td>\n",
       "                        <td id=\"T_3bd08_row6_col6\" class=\"data row6 col6\" >0.000000</td>\n",
       "                        <td id=\"T_3bd08_row6_col7\" class=\"data row6 col7\" >0.000000</td>\n",
       "                        <td id=\"T_3bd08_row6_col8\" class=\"data row6 col8\" >0.213675</td>\n",
       "                        <td id=\"T_3bd08_row6_col9\" class=\"data row6 col9\" >0.264957</td>\n",
       "                        <td id=\"T_3bd08_row6_col10\" class=\"data row6 col10\" >0.119658</td>\n",
       "                        <td id=\"T_3bd08_row6_col11\" class=\"data row6 col11\" >0.000000</td>\n",
       "                        <td id=\"T_3bd08_row6_col12\" class=\"data row6 col12\" >0.000000</td>\n",
       "            </tr>\n",
       "            <tr>\n",
       "                        <th id=\"T_3bd08_level0_row7\" class=\"row_heading level0 row7\" >catalog/pillow/podushka_anatomicheskay/</th>\n",
       "                        <td id=\"T_3bd08_row7_col0\" class=\"data row7 col0\" >0.138479</td>\n",
       "                        <td id=\"T_3bd08_row7_col1\" class=\"data row7 col1\" >0.326901</td>\n",
       "                        <td id=\"T_3bd08_row7_col2\" class=\"data row7 col2\" >0.000000</td>\n",
       "                        <td id=\"T_3bd08_row7_col3\" class=\"data row7 col3\" >0.000000</td>\n",
       "                        <td id=\"T_3bd08_row7_col4\" class=\"data row7 col4\" >0.421112</td>\n",
       "                        <td id=\"T_3bd08_row7_col5\" class=\"data row7 col5\" >0.000000</td>\n",
       "                        <td id=\"T_3bd08_row7_col6\" class=\"data row7 col6\" >0.000000</td>\n",
       "                        <td id=\"T_3bd08_row7_col7\" class=\"data row7 col7\" >0.096481</td>\n",
       "                        <td id=\"T_3bd08_row7_col8\" class=\"data row7 col8\" >0.165721</td>\n",
       "                        <td id=\"T_3bd08_row7_col9\" class=\"data row7 col9\" >0.148695</td>\n",
       "                        <td id=\"T_3bd08_row7_col10\" class=\"data row7 col10\" >0.000000</td>\n",
       "                        <td id=\"T_3bd08_row7_col11\" class=\"data row7 col11\" >0.000000</td>\n",
       "                        <td id=\"T_3bd08_row7_col12\" class=\"data row7 col12\" >0.000000</td>\n",
       "            </tr>\n",
       "            <tr>\n",
       "                        <th id=\"T_3bd08_level0_row8\" class=\"row_heading level0 row8\" >order/</th>\n",
       "                        <td id=\"T_3bd08_row8_col0\" class=\"data row8 col0\" >0.045673</td>\n",
       "                        <td id=\"T_3bd08_row8_col1\" class=\"data row8 col1\" >0.129808</td>\n",
       "                        <td id=\"T_3bd08_row8_col2\" class=\"data row8 col2\" >0.000000</td>\n",
       "                        <td id=\"T_3bd08_row8_col3\" class=\"data row8 col3\" >0.000000</td>\n",
       "                        <td id=\"T_3bd08_row8_col4\" class=\"data row8 col4\" >0.144231</td>\n",
       "                        <td id=\"T_3bd08_row8_col5\" class=\"data row8 col5\" >0.000000</td>\n",
       "                        <td id=\"T_3bd08_row8_col6\" class=\"data row8 col6\" >0.000000</td>\n",
       "                        <td id=\"T_3bd08_row8_col7\" class=\"data row8 col7\" >0.000000</td>\n",
       "                        <td id=\"T_3bd08_row8_col8\" class=\"data row8 col8\" >0.112981</td>\n",
       "                        <td id=\"T_3bd08_row8_col9\" class=\"data row8 col9\" >0.000000</td>\n",
       "                        <td id=\"T_3bd08_row8_col10\" class=\"data row8 col10\" >0.076923</td>\n",
       "                        <td id=\"T_3bd08_row8_col11\" class=\"data row8 col11\" >0.641827</td>\n",
       "                        <td id=\"T_3bd08_row8_col12\" class=\"data row8 col12\" >0.000000</td>\n",
       "            </tr>\n",
       "            <tr>\n",
       "                        <th id=\"T_3bd08_level0_row9\" class=\"row_heading level0 row9\" >order/confirmation</th>\n",
       "                        <td id=\"T_3bd08_row9_col0\" class=\"data row9 col0\" >0.007952</td>\n",
       "                        <td id=\"T_3bd08_row9_col1\" class=\"data row9 col1\" >0.000000</td>\n",
       "                        <td id=\"T_3bd08_row9_col2\" class=\"data row9 col2\" >0.000000</td>\n",
       "                        <td id=\"T_3bd08_row9_col3\" class=\"data row9 col3\" >0.000000</td>\n",
       "                        <td id=\"T_3bd08_row9_col4\" class=\"data row9 col4\" >0.133201</td>\n",
       "                        <td id=\"T_3bd08_row9_col5\" class=\"data row9 col5\" >0.000000</td>\n",
       "                        <td id=\"T_3bd08_row9_col6\" class=\"data row9 col6\" >0.000000</td>\n",
       "                        <td id=\"T_3bd08_row9_col7\" class=\"data row9 col7\" >0.000000</td>\n",
       "                        <td id=\"T_3bd08_row9_col8\" class=\"data row9 col8\" >0.000000</td>\n",
       "                        <td id=\"T_3bd08_row9_col9\" class=\"data row9 col9\" >0.000000</td>\n",
       "                        <td id=\"T_3bd08_row9_col10\" class=\"data row9 col10\" >0.077535</td>\n",
       "                        <td id=\"T_3bd08_row9_col11\" class=\"data row9 col11\" >0.000000</td>\n",
       "                        <td id=\"T_3bd08_row9_col12\" class=\"data row9 col12\" >0.797217</td>\n",
       "            </tr>\n",
       "            <tr>\n",
       "                        <th id=\"T_3bd08_level0_row10\" class=\"row_heading level0 row10\" >facebook</th>\n",
       "                        <td id=\"T_3bd08_row10_col0\" class=\"data row10 col0\" >0.000000</td>\n",
       "                        <td id=\"T_3bd08_row10_col1\" class=\"data row10 col1\" >0.606860</td>\n",
       "                        <td id=\"T_3bd08_row10_col2\" class=\"data row10 col2\" >0.000000</td>\n",
       "                        <td id=\"T_3bd08_row10_col3\" class=\"data row10 col3\" >0.130795</td>\n",
       "                        <td id=\"T_3bd08_row10_col4\" class=\"data row10 col4\" >0.315492</td>\n",
       "                        <td id=\"T_3bd08_row10_col5\" class=\"data row10 col5\" >0.123634</td>\n",
       "                        <td id=\"T_3bd08_row10_col6\" class=\"data row10 col6\" >0.000000</td>\n",
       "                        <td id=\"T_3bd08_row10_col7\" class=\"data row10 col7\" >0.000000</td>\n",
       "                        <td id=\"T_3bd08_row10_col8\" class=\"data row10 col8\" >0.000000</td>\n",
       "                        <td id=\"T_3bd08_row10_col9\" class=\"data row10 col9\" >0.000000</td>\n",
       "                        <td id=\"T_3bd08_row10_col10\" class=\"data row10 col10\" >0.127780</td>\n",
       "                        <td id=\"T_3bd08_row10_col11\" class=\"data row10 col11\" >0.000000</td>\n",
       "                        <td id=\"T_3bd08_row10_col12\" class=\"data row10 col12\" >0.000000</td>\n",
       "            </tr>\n",
       "            <tr>\n",
       "                        <th id=\"T_3bd08_level0_row11\" class=\"row_heading level0 row11\" >order/payment-option-switcher</th>\n",
       "                        <td id=\"T_3bd08_row11_col0\" class=\"data row11 col0\" >0.000000</td>\n",
       "                        <td id=\"T_3bd08_row11_col1\" class=\"data row11 col1\" >0.000000</td>\n",
       "                        <td id=\"T_3bd08_row11_col2\" class=\"data row11 col2\" >0.000000</td>\n",
       "                        <td id=\"T_3bd08_row11_col3\" class=\"data row11 col3\" >0.000000</td>\n",
       "                        <td id=\"T_3bd08_row11_col4\" class=\"data row11 col4\" >0.168539</td>\n",
       "                        <td id=\"T_3bd08_row11_col5\" class=\"data row11 col5\" >0.000000</td>\n",
       "                        <td id=\"T_3bd08_row11_col6\" class=\"data row11 col6\" >0.000000</td>\n",
       "                        <td id=\"T_3bd08_row11_col7\" class=\"data row11 col7\" >0.000000</td>\n",
       "                        <td id=\"T_3bd08_row11_col8\" class=\"data row11 col8\" >0.000000</td>\n",
       "                        <td id=\"T_3bd08_row11_col9\" class=\"data row11 col9\" >0.823970</td>\n",
       "                        <td id=\"T_3bd08_row11_col10\" class=\"data row11 col10\" >0.000000</td>\n",
       "                        <td id=\"T_3bd08_row11_col11\" class=\"data row11 col11\" >0.202247</td>\n",
       "                        <td id=\"T_3bd08_row11_col12\" class=\"data row11 col12\" >0.000000</td>\n",
       "            </tr>\n",
       "            <tr>\n",
       "                        <th id=\"T_3bd08_level0_row12\" class=\"row_heading level0 row12\" >passed</th>\n",
       "                        <td id=\"T_3bd08_row12_col0\" class=\"data row12 col0\" >0.004988</td>\n",
       "                        <td id=\"T_3bd08_row12_col1\" class=\"data row12 col1\" >0.000000</td>\n",
       "                        <td id=\"T_3bd08_row12_col2\" class=\"data row12 col2\" >0.000000</td>\n",
       "                        <td id=\"T_3bd08_row12_col3\" class=\"data row12 col3\" >0.000000</td>\n",
       "                        <td id=\"T_3bd08_row12_col4\" class=\"data row12 col4\" >0.000000</td>\n",
       "                        <td id=\"T_3bd08_row12_col5\" class=\"data row12 col5\" >0.000000</td>\n",
       "                        <td id=\"T_3bd08_row12_col6\" class=\"data row12 col6\" >0.000000</td>\n",
       "                        <td id=\"T_3bd08_row12_col7\" class=\"data row12 col7\" >0.000000</td>\n",
       "                        <td id=\"T_3bd08_row12_col8\" class=\"data row12 col8\" >0.000000</td>\n",
       "                        <td id=\"T_3bd08_row12_col9\" class=\"data row12 col9\" >0.000000</td>\n",
       "                        <td id=\"T_3bd08_row12_col10\" class=\"data row12 col10\" >0.099751</td>\n",
       "                        <td id=\"T_3bd08_row12_col11\" class=\"data row12 col11\" >0.000000</td>\n",
       "                        <td id=\"T_3bd08_row12_col12\" class=\"data row12 col12\" >0.000000</td>\n",
       "            </tr>\n",
       "    </tbody></table>"
      ],
      "text/plain": [
       "<pandas.io.formats.style.Styler at 0x7fc968570ac0>"
      ]
     },
     "execution_count": 32,
     "metadata": {},
     "output_type": "execute_result"
    }
   ],
   "source": [
    "df = data_with_lost.rete.get_adjacency(weight_col='user_id', norm_type='node')\n",
    "\n",
    "cm = sns.light_palette(\"green\", as_cmap=True)\n",
    "print(\"\\n\\n\\n\")\n",
    "df.style.background_gradient(cmap=cm).set_table_styles(rotateheader()).set_caption(\" .\")"
   ]
  },
  {
   "cell_type": "markdown",
   "metadata": {},
   "source": [
    "# Петли и последовательности\n",
    "Какие петли и какие вообще паттерны есть в траекторих пользователей, какие из них коррелируют с оттоком пользователей, а какие с конверсией"
   ]
  },
  {
   "cell_type": "markdown",
   "metadata": {},
   "source": [
    "Обратите внимание, что в численных столбцах могут воспроизводиться не такие числа как на видео и синтаксис также немного отличается\n",
    "Это связано с тем, что:\n",
    "- Вышел новый релиз библиотеки с момента записи\n",
    "- Внутри функции происходит балансировка классов ('Good' и 'Bad').\n",
    "Для меньшего класса берутся все его значения, а для большего отбирается такое же количество юзеров функией np.random\n",
    "Чтобы обеспечить воспроизводимость нужно устанавливать параметр random_state"
   ]
  },
  {
   "cell_type": "markdown",
   "metadata": {
    "colab_type": "text",
    "id": "3RmNvGY5SdpX"
   },
   "source": [
    "Петли:"
   ]
  },
  {
   "cell_type": "code",
   "execution_count": 36,
   "metadata": {
    "ExecuteTime": {
     "end_time": "2021-10-02T16:37:53.821989Z",
     "start_time": "2021-10-02T16:37:53.811971Z"
    }
   },
   "outputs": [
    {
     "ename": "AttributeError",
     "evalue": "'RetentioneeringDataset' object has no attribute 'find_loops'",
     "output_type": "error",
     "traceback": [
      "\u001b[0;31m---------------------------------------------------------------------------\u001b[0m",
      "\u001b[0;31mAttributeError\u001b[0m                            Traceback (most recent call last)",
      "\u001b[0;32m<ipython-input-36-14862e93fe86>\u001b[0m in \u001b[0;36m<module>\u001b[0;34m\u001b[0m\n\u001b[0;32m----> 1\u001b[0;31m \u001b[0mloops\u001b[0m \u001b[0;34m=\u001b[0m \u001b[0mdata\u001b[0m\u001b[0;34m.\u001b[0m\u001b[0mrete\u001b[0m\u001b[0;34m.\u001b[0m\u001b[0mfind_loops\u001b[0m\u001b[0;34m(\u001b[0m\u001b[0mtarget_list\u001b[0m\u001b[0;34m=\u001b[0m\u001b[0;34m[\u001b[0m\u001b[0;34m'passed'\u001b[0m\u001b[0;34m]\u001b[0m\u001b[0;34m,\u001b[0m \u001b[0mngram_range\u001b[0m\u001b[0;34m=\u001b[0m\u001b[0;34m(\u001b[0m\u001b[0;36m2\u001b[0m\u001b[0;34m,\u001b[0m\u001b[0;36m6\u001b[0m\u001b[0;34m)\u001b[0m\u001b[0;34m,\u001b[0m \u001b[0mrandom_state\u001b[0m \u001b[0;34m=\u001b[0m \u001b[0;32mTrue\u001b[0m\u001b[0;34m)\u001b[0m\u001b[0;34m\u001b[0m\u001b[0;34m\u001b[0m\u001b[0m\n\u001b[0m\u001b[1;32m      2\u001b[0m \u001b[0mloops\u001b[0m\u001b[0;34m.\u001b[0m\u001b[0msort_values\u001b[0m\u001b[0;34m(\u001b[0m\u001b[0;34m[\u001b[0m\u001b[0;34m'Lost2Good'\u001b[0m\u001b[0;34m]\u001b[0m\u001b[0;34m,\u001b[0m\u001b[0mascending\u001b[0m \u001b[0;34m=\u001b[0m \u001b[0;32mFalse\u001b[0m\u001b[0;34m)\u001b[0m\u001b[0;34m.\u001b[0m\u001b[0mhead\u001b[0m\u001b[0;34m(\u001b[0m\u001b[0;36m20\u001b[0m\u001b[0;34m)\u001b[0m\u001b[0;34m\u001b[0m\u001b[0;34m\u001b[0m\u001b[0m\n",
      "\u001b[0;31mAttributeError\u001b[0m: 'RetentioneeringDataset' object has no attribute 'find_loops'"
     ]
    }
   ],
   "source": [
    "loops = data.rete.find_loops(target_list=['passed'], ngram_range=(2,6))\n",
    "loops.sort_values(['Lost2Good'],ascending = False).head(20)"
   ]
  },
  {
   "cell_type": "code",
   "execution_count": 33,
   "metadata": {
    "colab": {
     "base_uri": "https://localhost:8080/",
     "height": 325
    },
    "colab_type": "code",
    "id": "OFcfeTO00d_8",
    "outputId": "03d56731-97a8-4bd8-b418-e237d7e256b2"
   },
   "outputs": [
    {
     "data": {
      "text/html": [
       "<div>\n",
       "<style scoped>\n",
       "    .dataframe tbody tr th:only-of-type {\n",
       "        vertical-align: middle;\n",
       "    }\n",
       "\n",
       "    .dataframe tbody tr th {\n",
       "        vertical-align: top;\n",
       "    }\n",
       "\n",
       "    .dataframe thead th {\n",
       "        text-align: right;\n",
       "    }\n",
       "</style>\n",
       "<table border=\"1\" class=\"dataframe\">\n",
       "  <thead>\n",
       "    <tr style=\"text-align: right;\">\n",
       "      <th></th>\n",
       "      <th>Sequence</th>\n",
       "      <th>Good</th>\n",
       "      <th>Lost</th>\n",
       "      <th>Lost2Good</th>\n",
       "      <th>GoodUnique</th>\n",
       "      <th>LostUnique</th>\n",
       "      <th>UniqueLost2Good</th>\n",
       "      <th>SequenceType</th>\n",
       "    </tr>\n",
       "  </thead>\n",
       "  <tbody>\n",
       "    <tr>\n",
       "      <th>2</th>\n",
       "      <td>blog~~blog</td>\n",
       "      <td>6</td>\n",
       "      <td>26</td>\n",
       "      <td>4.33</td>\n",
       "      <td>6</td>\n",
       "      <td>20</td>\n",
       "      <td>3.33</td>\n",
       "      <td>loop</td>\n",
       "    </tr>\n",
       "    <tr>\n",
       "      <th>4</th>\n",
       "      <td>delivery/~~delivery/</td>\n",
       "      <td>8</td>\n",
       "      <td>14</td>\n",
       "      <td>1.75</td>\n",
       "      <td>7</td>\n",
       "      <td>12</td>\n",
       "      <td>1.71</td>\n",
       "      <td>loop</td>\n",
       "    </tr>\n",
       "    <tr>\n",
       "      <th>3</th>\n",
       "      <td>o-kompanii~~o-kompanii</td>\n",
       "      <td>12</td>\n",
       "      <td>19</td>\n",
       "      <td>1.58</td>\n",
       "      <td>9</td>\n",
       "      <td>13</td>\n",
       "      <td>1.44</td>\n",
       "      <td>loop</td>\n",
       "    </tr>\n",
       "    <tr>\n",
       "      <th>0</th>\n",
       "      <td>catalog/divani/bed_bed_frame/~~catalog/divani/bed_bed_frame/</td>\n",
       "      <td>77</td>\n",
       "      <td>121</td>\n",
       "      <td>1.57</td>\n",
       "      <td>45</td>\n",
       "      <td>44</td>\n",
       "      <td>0.98</td>\n",
       "      <td>loop</td>\n",
       "    </tr>\n",
       "    <tr>\n",
       "      <th>5</th>\n",
       "      <td>catalog/pillow/podushka_anatomicheskay/~~catalog/pillow/podushka_anatomicheskay/</td>\n",
       "      <td>10</td>\n",
       "      <td>12</td>\n",
       "      <td>1.20</td>\n",
       "      <td>6</td>\n",
       "      <td>9</td>\n",
       "      <td>1.50</td>\n",
       "      <td>loop</td>\n",
       "    </tr>\n",
       "    <tr>\n",
       "      <th>6</th>\n",
       "      <td>catalog/~~catalog/</td>\n",
       "      <td>8</td>\n",
       "      <td>9</td>\n",
       "      <td>1.12</td>\n",
       "      <td>7</td>\n",
       "      <td>8</td>\n",
       "      <td>1.14</td>\n",
       "      <td>loop</td>\n",
       "    </tr>\n",
       "    <tr>\n",
       "      <th>1</th>\n",
       "      <td>facebook~~facebook</td>\n",
       "      <td>48</td>\n",
       "      <td>30</td>\n",
       "      <td>0.62</td>\n",
       "      <td>46</td>\n",
       "      <td>25</td>\n",
       "      <td>0.54</td>\n",
       "      <td>loop</td>\n",
       "    </tr>\n",
       "    <tr>\n",
       "      <th>7</th>\n",
       "      <td>order/~~order/</td>\n",
       "      <td>19</td>\n",
       "      <td>7</td>\n",
       "      <td>0.37</td>\n",
       "      <td>17</td>\n",
       "      <td>7</td>\n",
       "      <td>0.41</td>\n",
       "      <td>loop</td>\n",
       "    </tr>\n",
       "    <tr>\n",
       "      <th>8</th>\n",
       "      <td>order/payment-option-switcher~~order/payment-option-switcher</td>\n",
       "      <td>37</td>\n",
       "      <td>4</td>\n",
       "      <td>0.11</td>\n",
       "      <td>30</td>\n",
       "      <td>3</td>\n",
       "      <td>0.10</td>\n",
       "      <td>loop</td>\n",
       "    </tr>\n",
       "  </tbody>\n",
       "</table>\n",
       "</div>"
      ],
      "text/plain": [
       "                                                                           Sequence  Good  Lost  Lost2Good  GoodUnique  LostUnique  UniqueLost2Good SequenceType\n",
       "2                                                                        blog~~blog     6    26       4.33           6          20             3.33         loop\n",
       "4                                                              delivery/~~delivery/     8    14       1.75           7          12             1.71         loop\n",
       "3                                                            o-kompanii~~o-kompanii    12    19       1.58           9          13             1.44         loop\n",
       "0                      catalog/divani/bed_bed_frame/~~catalog/divani/bed_bed_frame/    77   121       1.57          45          44             0.98         loop\n",
       "5  catalog/pillow/podushka_anatomicheskay/~~catalog/pillow/podushka_anatomicheskay/    10    12       1.20           6           9             1.50         loop\n",
       "6                                                                catalog/~~catalog/     8     9       1.12           7           8             1.14         loop\n",
       "1                                                                facebook~~facebook    48    30       0.62          46          25             0.54         loop\n",
       "7                                                                    order/~~order/    19     7       0.37          17           7             0.41         loop\n",
       "8                      order/payment-option-switcher~~order/payment-option-switcher    37     4       0.11          30           3             0.10         loop"
      ]
     },
     "execution_count": 33,
     "metadata": {},
     "output_type": "execute_result"
    }
   ],
   "source": [
    "#loops = data.rete.find_loops(target_list=['passed'], ngram_range=(2,6) )\n",
    "#loops.sort_values(['Lost2Good'],ascending = False).head(20)"
   ]
  },
  {
   "cell_type": "markdown",
   "metadata": {
    "colab_type": "text",
    "id": "MbTTQQqqSffL"
   },
   "source": [
    "Подпоследовательности:\n"
   ]
  },
  {
   "cell_type": "code",
   "execution_count": 34,
   "metadata": {},
   "outputs": [
    {
     "data": {
      "text/html": [
       "<div>\n",
       "<style scoped>\n",
       "    .dataframe tbody tr th:only-of-type {\n",
       "        vertical-align: middle;\n",
       "    }\n",
       "\n",
       "    .dataframe tbody tr th {\n",
       "        vertical-align: top;\n",
       "    }\n",
       "\n",
       "    .dataframe thead th {\n",
       "        text-align: right;\n",
       "    }\n",
       "</style>\n",
       "<table border=\"1\" class=\"dataframe\">\n",
       "  <thead>\n",
       "    <tr style=\"text-align: right;\">\n",
       "      <th></th>\n",
       "      <th>Sequence</th>\n",
       "      <th>Good</th>\n",
       "      <th>Lost</th>\n",
       "      <th>Lost2Good</th>\n",
       "      <th>GoodUnique</th>\n",
       "      <th>LostUnique</th>\n",
       "      <th>UniqueLost2Good</th>\n",
       "      <th>SequenceType</th>\n",
       "    </tr>\n",
       "  </thead>\n",
       "  <tbody>\n",
       "    <tr>\n",
       "      <th>88</th>\n",
       "      <td>catalog/pillow/podushka_anatomicheskay/~~blog~~catalog/divani/bed_bed_frame/~~catalog/divani/bed_bed_frame/~~catalog...</td>\n",
       "      <td>1</td>\n",
       "      <td>5</td>\n",
       "      <td>5.00</td>\n",
       "      <td>1</td>\n",
       "      <td>5</td>\n",
       "      <td>5.00</td>\n",
       "      <td>-</td>\n",
       "    </tr>\n",
       "    <tr>\n",
       "      <th>110</th>\n",
       "      <td>order/~~blog</td>\n",
       "      <td>1</td>\n",
       "      <td>5</td>\n",
       "      <td>5.00</td>\n",
       "      <td>1</td>\n",
       "      <td>5</td>\n",
       "      <td>5.00</td>\n",
       "      <td>-</td>\n",
       "    </tr>\n",
       "    <tr>\n",
       "      <th>109</th>\n",
       "      <td>catalog/divani/bed_bed_frame/~~order/~~blog</td>\n",
       "      <td>1</td>\n",
       "      <td>5</td>\n",
       "      <td>5.00</td>\n",
       "      <td>1</td>\n",
       "      <td>5</td>\n",
       "      <td>5.00</td>\n",
       "      <td>-</td>\n",
       "    </tr>\n",
       "    <tr>\n",
       "      <th>107</th>\n",
       "      <td>order/~~catalog/~~catalog/pillow/podushka_anatomicheskay/</td>\n",
       "      <td>1</td>\n",
       "      <td>5</td>\n",
       "      <td>5.00</td>\n",
       "      <td>1</td>\n",
       "      <td>5</td>\n",
       "      <td>5.00</td>\n",
       "      <td>-</td>\n",
       "    </tr>\n",
       "    <tr>\n",
       "      <th>104</th>\n",
       "      <td>catalog/divani/bed_bed_frame/~~order/~~catalog/~~catalog/pillow/podushka_anatomicheskay/</td>\n",
       "      <td>1</td>\n",
       "      <td>5</td>\n",
       "      <td>5.00</td>\n",
       "      <td>1</td>\n",
       "      <td>5</td>\n",
       "      <td>5.00</td>\n",
       "      <td>-</td>\n",
       "    </tr>\n",
       "    <tr>\n",
       "      <th>86</th>\n",
       "      <td>blog~~catalog/~~catalog/pillow/podushka_anatomicheskay/~~catalog/pillow/podushka_anatomicheskay/</td>\n",
       "      <td>1</td>\n",
       "      <td>5</td>\n",
       "      <td>5.00</td>\n",
       "      <td>1</td>\n",
       "      <td>5</td>\n",
       "      <td>5.00</td>\n",
       "      <td>-</td>\n",
       "    </tr>\n",
       "    <tr>\n",
       "      <th>34</th>\n",
       "      <td>catalog/divani/bed_bed_frame/~~catalog/divani/bed_bed_frame/~~catalog/divani/bed_bed_frame/~~catalog/divani/bed_bed_...</td>\n",
       "      <td>3</td>\n",
       "      <td>14</td>\n",
       "      <td>4.67</td>\n",
       "      <td>2</td>\n",
       "      <td>5</td>\n",
       "      <td>2.50</td>\n",
       "      <td>loop</td>\n",
       "    </tr>\n",
       "    <tr>\n",
       "      <th>15</th>\n",
       "      <td>blog~~blog</td>\n",
       "      <td>6</td>\n",
       "      <td>26</td>\n",
       "      <td>4.33</td>\n",
       "      <td>6</td>\n",
       "      <td>20</td>\n",
       "      <td>3.33</td>\n",
       "      <td>loop</td>\n",
       "    </tr>\n",
       "    <tr>\n",
       "      <th>134</th>\n",
       "      <td>catalog/~~catalog/~~catalog/pillow/podushka_anatomicheskay/~~catalog/pillow/podushka_anatomicheskay/</td>\n",
       "      <td>1</td>\n",
       "      <td>4</td>\n",
       "      <td>4.00</td>\n",
       "      <td>1</td>\n",
       "      <td>4</td>\n",
       "      <td>4.00</td>\n",
       "      <td>-</td>\n",
       "    </tr>\n",
       "    <tr>\n",
       "      <th>20</th>\n",
       "      <td>catalog/divani/bed_bed_frame/~~catalog/divani/bed_bed_frame/~~catalog/divani/bed_bed_frame/~~catalog/divani/bed_bed_...</td>\n",
       "      <td>6</td>\n",
       "      <td>23</td>\n",
       "      <td>3.83</td>\n",
       "      <td>3</td>\n",
       "      <td>9</td>\n",
       "      <td>3.00</td>\n",
       "      <td>loop</td>\n",
       "    </tr>\n",
       "    <tr>\n",
       "      <th>7</th>\n",
       "      <td>catalog/divani/bed_bed_frame/~~catalog/divani/bed_bed_frame/~~catalog/divani/bed_bed_frame/~~catalog/divani/bed_bed_...</td>\n",
       "      <td>14</td>\n",
       "      <td>44</td>\n",
       "      <td>3.14</td>\n",
       "      <td>8</td>\n",
       "      <td>21</td>\n",
       "      <td>2.62</td>\n",
       "      <td>loop</td>\n",
       "    </tr>\n",
       "    <tr>\n",
       "      <th>151</th>\n",
       "      <td>catalog/~~catalog/pillow/podushka_anatomicheskay/~~blog~~catalog/divani/bed_bed_frame/~~catalog/divani/bed_bed_frame/</td>\n",
       "      <td>1</td>\n",
       "      <td>3</td>\n",
       "      <td>3.00</td>\n",
       "      <td>1</td>\n",
       "      <td>3</td>\n",
       "      <td>3.00</td>\n",
       "      <td>-</td>\n",
       "    </tr>\n",
       "    <tr>\n",
       "      <th>192</th>\n",
       "      <td>catalog/pillow/podushka_anatomicheskay/~~catalog/pillow/podushka_anatomicheskay/~~catalog/~~catalog/pillow/podushka_...</td>\n",
       "      <td>1</td>\n",
       "      <td>3</td>\n",
       "      <td>3.00</td>\n",
       "      <td>1</td>\n",
       "      <td>3</td>\n",
       "      <td>3.00</td>\n",
       "      <td>cycle</td>\n",
       "    </tr>\n",
       "    <tr>\n",
       "      <th>59</th>\n",
       "      <td>blog~~catalog/divani/bed_bed_frame/~~catalog/divani/bed_bed_frame/~~catalog/divani/bed_bed_frame/~~catalog/divani/be...</td>\n",
       "      <td>3</td>\n",
       "      <td>9</td>\n",
       "      <td>3.00</td>\n",
       "      <td>3</td>\n",
       "      <td>9</td>\n",
       "      <td>3.00</td>\n",
       "      <td>-</td>\n",
       "    </tr>\n",
       "    <tr>\n",
       "      <th>147</th>\n",
       "      <td>catalog/pillow/podushka_anatomicheskay/~~blog~~catalog/divani/bed_bed_frame/~~catalog/divani/bed_bed_frame/~~catalog...</td>\n",
       "      <td>1</td>\n",
       "      <td>3</td>\n",
       "      <td>3.00</td>\n",
       "      <td>1</td>\n",
       "      <td>3</td>\n",
       "      <td>3.00</td>\n",
       "      <td>-</td>\n",
       "    </tr>\n",
       "    <tr>\n",
       "      <th>139</th>\n",
       "      <td>catalog/~~catalog/matrasy/sampleonlineshop_gravity/~~order/~~catalog/</td>\n",
       "      <td>1</td>\n",
       "      <td>3</td>\n",
       "      <td>3.00</td>\n",
       "      <td>1</td>\n",
       "      <td>3</td>\n",
       "      <td>3.00</td>\n",
       "      <td>cycle</td>\n",
       "    </tr>\n",
       "    <tr>\n",
       "      <th>146</th>\n",
       "      <td>catalog/divani/bed_bed_frame/~~catalog/divani/bed_bed_frame/~~catalog/divani/bed_bed_frame/~~catalog/~~catalog/pillo...</td>\n",
       "      <td>1</td>\n",
       "      <td>3</td>\n",
       "      <td>3.00</td>\n",
       "      <td>1</td>\n",
       "      <td>3</td>\n",
       "      <td>3.00</td>\n",
       "      <td>-</td>\n",
       "    </tr>\n",
       "    <tr>\n",
       "      <th>194</th>\n",
       "      <td>catalog/pillow/podushka_anatomicheskay/~~catalog/pillow/podushka_anatomicheskay/~~catalog/pillow/podushka_anatomiche...</td>\n",
       "      <td>1</td>\n",
       "      <td>3</td>\n",
       "      <td>3.00</td>\n",
       "      <td>1</td>\n",
       "      <td>3</td>\n",
       "      <td>3.00</td>\n",
       "      <td>loop</td>\n",
       "    </tr>\n",
       "    <tr>\n",
       "      <th>158</th>\n",
       "      <td>blog~~catalog/~~catalog/~~catalog/pillow/podushka_anatomicheskay/</td>\n",
       "      <td>1</td>\n",
       "      <td>3</td>\n",
       "      <td>3.00</td>\n",
       "      <td>1</td>\n",
       "      <td>3</td>\n",
       "      <td>3.00</td>\n",
       "      <td>-</td>\n",
       "    </tr>\n",
       "    <tr>\n",
       "      <th>156</th>\n",
       "      <td>blog~~catalog/~~catalog/~~catalog/pillow/podushka_anatomicheskay/~~catalog/pillow/podushka_anatomicheskay/</td>\n",
       "      <td>1</td>\n",
       "      <td>3</td>\n",
       "      <td>3.00</td>\n",
       "      <td>1</td>\n",
       "      <td>3</td>\n",
       "      <td>3.00</td>\n",
       "      <td>-</td>\n",
       "    </tr>\n",
       "  </tbody>\n",
       "</table>\n",
       "</div>"
      ],
      "text/plain": [
       "                                                                                                                    Sequence  Good  Lost  Lost2Good  GoodUnique  LostUnique  UniqueLost2Good SequenceType\n",
       "88   catalog/pillow/podushka_anatomicheskay/~~blog~~catalog/divani/bed_bed_frame/~~catalog/divani/bed_bed_frame/~~catalog...     1     5       5.00           1           5             5.00            -\n",
       "110                                                                                                             order/~~blog     1     5       5.00           1           5             5.00            -\n",
       "109                                                                              catalog/divani/bed_bed_frame/~~order/~~blog     1     5       5.00           1           5             5.00            -\n",
       "107                                                                order/~~catalog/~~catalog/pillow/podushka_anatomicheskay/     1     5       5.00           1           5             5.00            -\n",
       "104                                 catalog/divani/bed_bed_frame/~~order/~~catalog/~~catalog/pillow/podushka_anatomicheskay/     1     5       5.00           1           5             5.00            -\n",
       "86                          blog~~catalog/~~catalog/pillow/podushka_anatomicheskay/~~catalog/pillow/podushka_anatomicheskay/     1     5       5.00           1           5             5.00            -\n",
       "34   catalog/divani/bed_bed_frame/~~catalog/divani/bed_bed_frame/~~catalog/divani/bed_bed_frame/~~catalog/divani/bed_bed_...     3    14       4.67           2           5             2.50         loop\n",
       "15                                                                                                                blog~~blog     6    26       4.33           6          20             3.33         loop\n",
       "134                     catalog/~~catalog/~~catalog/pillow/podushka_anatomicheskay/~~catalog/pillow/podushka_anatomicheskay/     1     4       4.00           1           4             4.00            -\n",
       "20   catalog/divani/bed_bed_frame/~~catalog/divani/bed_bed_frame/~~catalog/divani/bed_bed_frame/~~catalog/divani/bed_bed_...     6    23       3.83           3           9             3.00         loop\n",
       "7    catalog/divani/bed_bed_frame/~~catalog/divani/bed_bed_frame/~~catalog/divani/bed_bed_frame/~~catalog/divani/bed_bed_...    14    44       3.14           8          21             2.62         loop\n",
       "151    catalog/~~catalog/pillow/podushka_anatomicheskay/~~blog~~catalog/divani/bed_bed_frame/~~catalog/divani/bed_bed_frame/     1     3       3.00           1           3             3.00            -\n",
       "192  catalog/pillow/podushka_anatomicheskay/~~catalog/pillow/podushka_anatomicheskay/~~catalog/~~catalog/pillow/podushka_...     1     3       3.00           1           3             3.00        cycle\n",
       "59   blog~~catalog/divani/bed_bed_frame/~~catalog/divani/bed_bed_frame/~~catalog/divani/bed_bed_frame/~~catalog/divani/be...     3     9       3.00           3           9             3.00            -\n",
       "147  catalog/pillow/podushka_anatomicheskay/~~blog~~catalog/divani/bed_bed_frame/~~catalog/divani/bed_bed_frame/~~catalog...     1     3       3.00           1           3             3.00            -\n",
       "139                                                    catalog/~~catalog/matrasy/sampleonlineshop_gravity/~~order/~~catalog/     1     3       3.00           1           3             3.00        cycle\n",
       "146  catalog/divani/bed_bed_frame/~~catalog/divani/bed_bed_frame/~~catalog/divani/bed_bed_frame/~~catalog/~~catalog/pillo...     1     3       3.00           1           3             3.00            -\n",
       "194  catalog/pillow/podushka_anatomicheskay/~~catalog/pillow/podushka_anatomicheskay/~~catalog/pillow/podushka_anatomiche...     1     3       3.00           1           3             3.00         loop\n",
       "158                                                        blog~~catalog/~~catalog/~~catalog/pillow/podushka_anatomicheskay/     1     3       3.00           1           3             3.00            -\n",
       "156               blog~~catalog/~~catalog/~~catalog/pillow/podushka_anatomicheskay/~~catalog/pillow/podushka_anatomicheskay/     1     3       3.00           1           3             3.00            -"
      ]
     },
     "execution_count": 34,
     "metadata": {},
     "output_type": "execute_result"
    }
   ],
   "source": [
    "# sequences = data.rete.find_sequences(target_list=['passed'],fraction=1,\n",
    "#                                  ngram_range=(2,6),\n",
    "#                                   #preprocessing='collapse_loops'\n",
    "#                                     random_state=42)\n",
    "# sequences[sequences['Good']!=0].sort_values(['Lost2Good'],ascending = False).head(20)"
   ]
  },
  {
   "cell_type": "markdown",
   "metadata": {
    "colab_type": "text",
    "id": "ZCd-tgksr75I"
   },
   "source": [
    "# Кластеризация\n",
    "\n",
    "Сделаем кластеризацию и оценим, на какие кластеры распадаются наши данные по конверсии"
   ]
  },
  {
   "cell_type": "markdown",
   "metadata": {},
   "source": [
    "результаты кластеризации могут меняться, если при вопроизведении ноутбука вы используете другую версию sklearn, в этом примере версия 0.24.2"
   ]
  },
  {
   "cell_type": "markdown",
   "metadata": {
    "colab_type": "text",
    "id": "v7-FlQ65SnzI"
   },
   "source": [
    "Построим TSNE проекцию пользователей из TF-IDF пространства:"
   ]
  },
  {
   "cell_type": "code",
   "execution_count": 55,
   "metadata": {
    "ExecuteTime": {
     "end_time": "2021-10-02T18:12:04.711484Z",
     "start_time": "2021-10-02T18:12:04.396268Z"
    }
   },
   "outputs": [],
   "source": [
    "data_with_lost.rete.get_clusters(method='kmeans',\n",
    "                       n_clusters=10,\n",
    "                       feature_type='tfidf',\n",
    "                       ngram_range=(1,2));"
   ]
  },
  {
   "cell_type": "code",
   "execution_count": 44,
   "metadata": {
    "ExecuteTime": {
     "end_time": "2021-10-02T17:26:16.469102Z",
     "start_time": "2021-10-02T17:26:05.179923Z"
    },
    "colab": {
     "base_uri": "https://localhost:8080/",
     "height": 294
    },
    "colab_type": "code",
    "id": "T8d8BM6E3c3x",
    "outputId": "3f0a96cf-1eab-4223-8081-1ae93efda85a"
   },
   "outputs": [
    {
     "data": {
      "image/png": "[encoded data removed]",
      "text/plain": [
       "<Figure size 576x432 with 1 Axes>"
      ]
     },
     "metadata": {
      "needs_background": "light"
     },
     "output_type": "display_data"
    }
   ],
   "source": [
    "data_with_lost.rete.project(method='tsne', plot_type='clusters');"
   ]
  },
  {
   "cell_type": "code",
   "execution_count": 45,
   "metadata": {
    "ExecuteTime": {
     "end_time": "2021-10-02T17:27:01.050116Z",
     "start_time": "2021-10-02T17:26:49.908270Z"
    },
    "colab": {
     "base_uri": "https://localhost:8080/",
     "height": 294
    },
    "colab_type": "code",
    "id": "e6_fMlz_34QN",
    "outputId": "32f56918-2084-400f-cb90-3559c7ea2880"
   },
   "outputs": [
    {
     "data": {
      "image/png": "[encoded data removed]",
      "text/plain": [
       "<Figure size 576x432 with 1 Axes>"
      ]
     },
     "metadata": {
      "needs_background": "light"
     },
     "output_type": "display_data"
    }
   ],
   "source": [
    "data_with_lost.rete.project(method='tsne', \n",
    "                  plot_type='targets',\n",
    "                  targets=['passed']);"
   ]
  },
  {
   "cell_type": "markdown",
   "metadata": {
    "colab_type": "text",
    "id": "k6LhflvBS1bI"
   },
   "source": [
    "Построим граф для нескольких кластеров"
   ]
  },
  {
   "cell_type": "code",
   "execution_count": 46,
   "metadata": {
    "ExecuteTime": {
     "end_time": "2021-10-02T17:28:21.367910Z",
     "start_time": "2021-10-02T17:28:21.311316Z"
    },
    "colab": {
     "base_uri": "https://localhost:8080/",
     "height": 1000
    },
    "colab_type": "code",
    "id": "EPu0GyYP8HXr",
    "outputId": "673e2e31-46e4-4a9a-90cd-556537967811"
   },
   "outputs": [
    {
     "data": {
      "text/html": [
       "\n",
       "        <iframe\n",
       "            width=\"1000\"\n",
       "            height=\"700\"\n",
       "            src=\"experiments/graph_2021-10-02 20_28_21_362954.html\"\n",
       "            frameborder=\"0\"\n",
       "            allowfullscreen\n",
       "        ></iframe>\n",
       "        "
      ],
      "text/plain": [
       "<IPython.lib.display.IFrame at 0x7f86dce133a0>"
      ]
     },
     "metadata": {},
     "output_type": "display_data"
    }
   ],
   "source": [
    "#самый конверсионный кластер\n",
    "data_with_lost.rete.filter_cluster(5).rete.plot_graph(\n",
    "                     norm_type=None,\n",
    "                     targets={'passed':'green',\n",
    "                              'lost':'red',\n",
    "                              'facebook':'source',\n",
    "                              'blog':'source'\n",
    "                               },\n",
    "                     thresh=30,\n",
    "                    );"
   ]
  },
  {
   "cell_type": "code",
   "execution_count": 48,
   "metadata": {
    "ExecuteTime": {
     "end_time": "2021-10-02T17:39:12.907630Z",
     "start_time": "2021-10-02T17:39:12.851572Z"
    },
    "colab": {
     "base_uri": "https://localhost:8080/",
     "height": 1000
    },
    "colab_type": "code",
    "id": "M5mFXHs78vbx",
    "outputId": "b1b8b45c-d3ee-4014-f52c-a1dec13c8017"
   },
   "outputs": [
    {
     "data": {
      "text/html": [
       "\n",
       "        <iframe\n",
       "            width=\"1000\"\n",
       "            height=\"700\"\n",
       "            src=\"experiments/graph_2021-10-02 20_39_12_902830.html\"\n",
       "            frameborder=\"0\"\n",
       "            allowfullscreen\n",
       "        ></iframe>\n",
       "        "
      ],
      "text/plain": [
       "<IPython.lib.display.IFrame at 0x7f86dcdf57c0>"
      ]
     },
     "metadata": {},
     "output_type": "display_data"
    }
   ],
   "source": [
    "#9 кластер тоже с высокой конверсией\n",
    "data_with_lost.rete.filter_cluster(6).rete.plot_graph(\n",
    "                     norm_type=None,\n",
    "                     targets={'passed':'green',\n",
    "                              'lost':'red',\n",
    "                              'facebook':'source',\n",
    "                              'blog':'source'\n",
    "                               },\n",
    "                     thresh=30,\n",
    "                    );"
   ]
  },
  {
   "cell_type": "code",
   "execution_count": 49,
   "metadata": {
    "ExecuteTime": {
     "end_time": "2021-10-02T17:56:36.925069Z",
     "start_time": "2021-10-02T17:56:36.865761Z"
    },
    "colab": {},
    "colab_type": "code",
    "id": "gghvSIr4OtqB"
   },
   "outputs": [
    {
     "data": {
      "text/html": [
       "\n",
       "        <iframe\n",
       "            width=\"1000\"\n",
       "            height=\"700\"\n",
       "            src=\"experiments/graph_2021-10-02 20_56_36_920956.html\"\n",
       "            frameborder=\"0\"\n",
       "            allowfullscreen\n",
       "        ></iframe>\n",
       "        "
      ],
      "text/plain": [
       "<IPython.lib.display.IFrame at 0x7f86dcdf7bb0>"
      ]
     },
     "metadata": {},
     "output_type": "display_data"
    }
   ],
   "source": [
    "data_with_lost.rete.filter_cluster(9).rete.plot_graph(\n",
    "                     norm_type=None,\n",
    "                     targets={'passed':'green',\n",
    "                                'lost':'red',\n",
    "                              'facebook':'source',\n",
    "                              'blog':'source'\n",
    "                               },\n",
    "                     thresh=0,\n",
    "                    );"
   ]
  },
  {
   "cell_type": "markdown",
   "metadata": {},
   "source": [
    "Тут прям с первой секунды видно - куча людей из фейсбука уходят, после того как зашли на раздел доставки. И видно что таких людей дофига. Можно смело детальнее анализировать этот кейс"
   ]
  },
  {
   "cell_type": "markdown",
   "metadata": {
    "colab_type": "text",
    "id": "aTuy4jZOS65D"
   },
   "source": [
    "Исследуем профиль этого кластера - какие события как часто вызывались пользователями этого кластера"
   ]
  },
  {
   "cell_type": "code",
   "execution_count": 39,
   "metadata": {
    "colab": {
     "base_uri": "https://localhost:8080/",
     "height": 729
    },
    "colab_type": "code",
    "id": "VLHcRVhN6u0k",
    "outputId": "ff837d84-6800-43be-9890-c515ce605d81"
   },
   "outputs": [
    {
     "data": {
      "image/png": "[encoded data removed]",
      "text/plain": [
       "<Figure size 720x576 with 2 Axes>"
      ]
     },
     "metadata": {
      "needs_background": "light"
     },
     "output_type": "display_data"
    }
   ],
   "source": [
    "step_matrix_9 = data_with_lost.rete.filter_cluster(9).rete.step_matrix(max_steps=15,\n",
    "                                  targets=['passed'])"
   ]
  },
  {
   "cell_type": "code",
   "execution_count": 40,
   "metadata": {},
   "outputs": [
    {
     "data": {
      "image/png": "[encoded data removed]",
      "text/plain": [
       "<Figure size 576x432 with 2 Axes>"
      ]
     },
     "metadata": {
      "needs_background": "light"
     },
     "output_type": "display_data"
    }
   ],
   "source": [
    "sns.heatmap(data_with_lost.rete.filter_cluster(9).rete.get_adjacency());"
   ]
  },
  {
   "cell_type": "markdown",
   "metadata": {
    "colab_type": "text",
    "id": "Sgn4tXAZTFrW"
   },
   "source": [
    "Более детальное рассмотрение Топ-10 событий кластера и сравнение со всеми пользователями всех кластеров"
   ]
  },
  {
   "cell_type": "code",
   "execution_count": 41,
   "metadata": {
    "colab": {
     "base_uri": "https://localhost:8080/",
     "height": 371
    },
    "colab_type": "code",
    "id": "K1nkwGi1O4E3",
    "outputId": "51972c04-8c6e-4e77-b6bc-ee1ae509d4dc"
   },
   "outputs": [
    {
     "data": {
      "image/png": "[encoded data removed]",
      "text/plain": [
       "<Figure size 576x432 with 1 Axes>"
      ]
     },
     "metadata": {
      "needs_background": "light"
     },
     "output_type": "display_data"
    }
   ],
   "source": [
    "data_with_lost.rete.cluster_event_dist(9, top_n=10)"
   ]
  },
  {
   "cell_type": "code",
   "execution_count": 42,
   "metadata": {},
   "outputs": [
    {
     "data": {
      "image/png": "[encoded data removed]",
      "text/plain": [
       "<Figure size 576x432 with 1 Axes>"
      ]
     },
     "metadata": {
      "needs_background": "light"
     },
     "output_type": "display_data"
    }
   ],
   "source": [
    "data_with_lost.rete.cluster_event_dist(5,9, top_n=10)"
   ]
  },
  {
   "cell_type": "markdown",
   "metadata": {},
   "source": [
    "## Кластеризация Н-грам длины 2"
   ]
  },
  {
   "cell_type": "markdown",
   "metadata": {
    "colab_type": "text",
    "id": "SbLiD7_nTOB4"
   },
   "source": [
    "Расширим N-граммы длины 1 до N-грамм длины 2: учтём переходы"
   ]
  },
  {
   "cell_type": "code",
   "execution_count": 52,
   "metadata": {
    "ExecuteTime": {
     "end_time": "2021-10-02T18:11:06.555857Z",
     "start_time": "2021-10-02T18:10:53.903920Z"
    },
    "colab": {
     "base_uri": "https://localhost:8080/",
     "height": 288
    },
    "colab_type": "code",
    "id": "DIQafrPZ12ua",
    "outputId": "2ad2d02a-bf0d-4814-d700-7425c0cf87d9"
   },
   "outputs": [
    {
     "data": {
      "image/png": "[encoded data removed]",
      "text/plain": [
       "<Figure size 576x432 with 1 Axes>"
      ]
     },
     "metadata": {
      "needs_background": "light"
     },
     "output_type": "display_data"
    }
   ],
   "source": [
    "data_with_lost.rete.project(plot_type='clusters', ngram_range=(1, 2));"
   ]
  },
  {
   "cell_type": "markdown",
   "metadata": {
    "colab_type": "text",
    "id": "Rx9ILnBzTfO1"
   },
   "source": [
    "Сколько у нас уникальных событий:"
   ]
  },
  {
   "cell_type": "code",
   "execution_count": 44,
   "metadata": {
    "colab": {
     "base_uri": "https://localhost:8080/",
     "height": 35
    },
    "colab_type": "code",
    "id": "mUQjp9vR4DHv",
    "outputId": "46158e5b-fc5b-4df3-fcd4-30d48a85cba7"
   },
   "outputs": [
    {
     "data": {
      "text/plain": [
       "12"
      ]
     },
     "execution_count": 44,
     "metadata": {},
     "output_type": "execute_result"
    }
   ],
   "source": [
    "data['event_name'].nunique()"
   ]
  },
  {
   "cell_type": "markdown",
   "metadata": {
    "colab_type": "text",
    "id": "IjU_rsMkTh1O"
   },
   "source": [
    "Сколько уникальных переходов:"
   ]
  },
  {
   "cell_type": "code",
   "execution_count": 45,
   "metadata": {
    "colab": {
     "base_uri": "https://localhost:8080/",
     "height": 35
    },
    "colab_type": "code",
    "id": "OzlkMDVH6sZ9",
    "outputId": "0e5e8f25-ab17-4e36-f1d3-b5e4622b828f"
   },
   "outputs": [
    {
     "data": {
      "text/plain": [
       "50"
      ]
     },
     "execution_count": 45,
     "metadata": {},
     "output_type": "execute_result"
    }
   ],
   "source": [
    "edgelist = data.rete.get_edgelist()\n",
    "edgelist.shape[0]"
   ]
  },
  {
   "cell_type": "code",
   "execution_count": 46,
   "metadata": {
    "colab": {
     "base_uri": "https://localhost:8080/",
     "height": 288
    },
    "colab_type": "code",
    "id": "JFVgHE-C7RPf",
    "outputId": "046d5ee7-1aa7-41dc-baca-c79ad736065c"
   },
   "outputs": [
    {
     "data": {
      "image/png": "[encoded data removed]",
      "text/plain": [
       "<Figure size 648x432 with 1 Axes>"
      ]
     },
     "metadata": {
      "needs_background": "light"
     },
     "output_type": "display_data"
    }
   ],
   "source": [
    "data.rete.get_clusters(n_clusters=10,\n",
    "                       plot_type='cluster_bar',\n",
    "                       targets=['passed'],\n",
    "                       ngram_range=(1, 2));"
   ]
  },
  {
   "cell_type": "code",
   "execution_count": 54,
   "metadata": {
    "ExecuteTime": {
     "end_time": "2021-10-02T18:11:56.041892Z",
     "start_time": "2021-10-02T18:11:56.032089Z"
    },
    "colab": {},
    "colab_type": "code",
    "id": "2IGzANSJ9Hfx"
   },
   "outputs": [
    {
     "ename": "AttributeError",
     "evalue": "Run .rete.get_clusters() before using plot_type='clusters' to obtain clusters mapping",
     "output_type": "error",
     "traceback": [
      "\u001b[0;31m---------------------------------------------------------------------------\u001b[0m",
      "\u001b[0;31mAttributeError\u001b[0m                            Traceback (most recent call last)",
      "\u001b[0;32m<ipython-input-54-5bd0f628f2de>\u001b[0m in \u001b[0;36m<module>\u001b[0;34m\u001b[0m\n\u001b[0;32m----> 1\u001b[0;31m \u001b[0mdata\u001b[0m\u001b[0;34m.\u001b[0m\u001b[0mrete\u001b[0m\u001b[0;34m.\u001b[0m\u001b[0mproject\u001b[0m\u001b[0;34m(\u001b[0m\u001b[0mplot_type\u001b[0m\u001b[0;34m=\u001b[0m\u001b[0;34m'clusters'\u001b[0m\u001b[0;34m,\u001b[0m \u001b[0mngram_range\u001b[0m\u001b[0;34m=\u001b[0m\u001b[0;34m(\u001b[0m\u001b[0;36m1\u001b[0m\u001b[0;34m,\u001b[0m \u001b[0;36m1\u001b[0m\u001b[0;34m)\u001b[0m\u001b[0;34m)\u001b[0m\u001b[0;34m;\u001b[0m\u001b[0;34m\u001b[0m\u001b[0;34m\u001b[0m\u001b[0m\n\u001b[0m",
      "\u001b[0;32m~/.local/lib/python3.8/site-packages/retentioneering/core/core_functions/project.py\u001b[0m in \u001b[0;36mproject\u001b[0;34m(self, method, targets, ngram_range, feature_type, plot_type, **kwargs)\u001b[0m\n\u001b[1;32m     62\u001b[0m             \u001b[0mlegend_title\u001b[0m \u001b[0;34m=\u001b[0m \u001b[0;34m'cluster number:'\u001b[0m\u001b[0;34m\u001b[0m\u001b[0;34m\u001b[0m\u001b[0m\n\u001b[1;32m     63\u001b[0m         \u001b[0;32melse\u001b[0m\u001b[0;34m:\u001b[0m\u001b[0;34m\u001b[0m\u001b[0;34m\u001b[0m\u001b[0m\n\u001b[0;32m---> 64\u001b[0;31m             \u001b[0;32mraise\u001b[0m \u001b[0mAttributeError\u001b[0m\u001b[0;34m(\u001b[0m\u001b[0;34m\"Run .rete.get_clusters() before using plot_type='clusters' to obtain clusters mapping\"\u001b[0m\u001b[0;34m)\u001b[0m\u001b[0;34m\u001b[0m\u001b[0;34m\u001b[0m\u001b[0m\n\u001b[0m\u001b[1;32m     65\u001b[0m \u001b[0;34m\u001b[0m\u001b[0m\n\u001b[1;32m     66\u001b[0m     \u001b[0;32melif\u001b[0m \u001b[0mplot_type\u001b[0m \u001b[0;34m==\u001b[0m \u001b[0;34m'targets'\u001b[0m\u001b[0;34m:\u001b[0m\u001b[0;34m\u001b[0m\u001b[0;34m\u001b[0m\u001b[0m\n",
      "\u001b[0;31mAttributeError\u001b[0m: Run .rete.get_clusters() before using plot_type='clusters' to obtain clusters mapping"
     ]
    }
   ],
   "source": [
    "data.rete.project(plot_type='clusters', ngram_range=(1, 1));"
   ]
  },
  {
   "cell_type": "code",
   "execution_count": 47,
   "metadata": {
    "ExecuteTime": {
     "end_time": "2021-10-02T18:12:16.075056Z",
     "start_time": "2021-10-02T18:12:16.065557Z"
    },
    "colab": {},
    "colab_type": "code",
    "id": "2IGzANSJ9Hfx"
   },
   "outputs": [
    {
     "data": {
      "image/png": "[encoded data removed]",
      "text/plain": [
       "<Figure size 576x432 with 1 Axes>"
      ]
     },
     "metadata": {
      "needs_background": "light"
     },
     "output_type": "display_data"
    }
   ],
   "source": [
    "data.rete.project(plot_type='clusters', ngram_range=(1, 2));"
   ]
  },
  {
   "cell_type": "code",
   "execution_count": 56,
   "metadata": {
    "ExecuteTime": {
     "end_time": "2021-10-02T18:12:16.075056Z",
     "start_time": "2021-10-02T18:12:16.065557Z"
    },
    "colab": {},
    "colab_type": "code",
    "id": "2IGzANSJ9Hfx"
   },
   "outputs": [
    {
     "ename": "AttributeError",
     "evalue": "Run .rete.get_clusters() before using plot_type='clusters' to obtain clusters mapping",
     "output_type": "error",
     "traceback": [
      "\u001b[0;31m---------------------------------------------------------------------------\u001b[0m",
      "\u001b[0;31mAttributeError\u001b[0m                            Traceback (most recent call last)",
      "\u001b[0;32m<ipython-input-56-d82e92240f58>\u001b[0m in \u001b[0;36m<module>\u001b[0;34m\u001b[0m\n\u001b[0;32m----> 1\u001b[0;31m \u001b[0mdata\u001b[0m\u001b[0;34m.\u001b[0m\u001b[0mrete\u001b[0m\u001b[0;34m.\u001b[0m\u001b[0mproject\u001b[0m\u001b[0;34m(\u001b[0m\u001b[0mplot_type\u001b[0m\u001b[0;34m=\u001b[0m\u001b[0;34m'clusters'\u001b[0m\u001b[0;34m,\u001b[0m \u001b[0mngram_range\u001b[0m\u001b[0;34m=\u001b[0m\u001b[0;34m(\u001b[0m\u001b[0;36m1\u001b[0m\u001b[0;34m,\u001b[0m \u001b[0;36m3\u001b[0m\u001b[0;34m)\u001b[0m\u001b[0;34m)\u001b[0m\u001b[0;34m;\u001b[0m\u001b[0;34m\u001b[0m\u001b[0;34m\u001b[0m\u001b[0m\n\u001b[0m",
      "\u001b[0;32m~/.local/lib/python3.8/site-packages/retentioneering/core/core_functions/project.py\u001b[0m in \u001b[0;36mproject\u001b[0;34m(self, method, targets, ngram_range, feature_type, plot_type, **kwargs)\u001b[0m\n\u001b[1;32m     62\u001b[0m             \u001b[0mlegend_title\u001b[0m \u001b[0;34m=\u001b[0m \u001b[0;34m'cluster number:'\u001b[0m\u001b[0;34m\u001b[0m\u001b[0;34m\u001b[0m\u001b[0m\n\u001b[1;32m     63\u001b[0m         \u001b[0;32melse\u001b[0m\u001b[0;34m:\u001b[0m\u001b[0;34m\u001b[0m\u001b[0;34m\u001b[0m\u001b[0m\n\u001b[0;32m---> 64\u001b[0;31m             \u001b[0;32mraise\u001b[0m \u001b[0mAttributeError\u001b[0m\u001b[0;34m(\u001b[0m\u001b[0;34m\"Run .rete.get_clusters() before using plot_type='clusters' to obtain clusters mapping\"\u001b[0m\u001b[0;34m)\u001b[0m\u001b[0;34m\u001b[0m\u001b[0;34m\u001b[0m\u001b[0m\n\u001b[0m\u001b[1;32m     65\u001b[0m \u001b[0;34m\u001b[0m\u001b[0m\n\u001b[1;32m     66\u001b[0m     \u001b[0;32melif\u001b[0m \u001b[0mplot_type\u001b[0m \u001b[0;34m==\u001b[0m \u001b[0;34m'targets'\u001b[0m\u001b[0;34m:\u001b[0m\u001b[0;34m\u001b[0m\u001b[0;34m\u001b[0m\u001b[0m\n",
      "\u001b[0;31mAttributeError\u001b[0m: Run .rete.get_clusters() before using plot_type='clusters' to obtain clusters mapping"
     ]
    }
   ],
   "source": [
    "data.rete.project(plot_type='clusters', ngram_range=(1, 3));"
   ]
  }
 ],
 "metadata": {
  "colab": {
   "collapsed_sections": [],
   "name": "Clustering_and_transitions.ipynb",
   "provenance": []
  },
  "kernelspec": {
   "display_name": "Python 3",
   "language": "python",
   "name": "python3"
  },
  "language_info": {
   "codemirror_mode": {
    "name": "ipython",
    "version": 3
   },
   "file_extension": ".py",
   "mimetype": "text/x-python",
   "name": "python",
   "nbconvert_exporter": "python",
   "pygments_lexer": "ipython3",
   "version": "3.8.8"
  },
  "toc": {
   "base_numbering": 1,
   "nav_menu": {},
   "number_sections": true,
   "sideBar": true,
   "skip_h1_title": false,
   "title_cell": "Table of Contents",
   "title_sidebar": "Contents",
   "toc_cell": false,
   "toc_position": {
    "height": "calc(100% - 180px)",
    "left": "10px",
    "top": "150px",
    "width": "262px"
   },
   "toc_section_display": true,
   "toc_window_display": true
  },
  "varInspector": {
   "cols": {
    "lenName": 16,
    "lenType": 16,
    "lenVar": 40
   },
   "kernels_config": {
    "python": {
     "delete_cmd_postfix": "",
     "delete_cmd_prefix": "del ",
     "library": "var_list.py",
     "varRefreshCmd": "print(var_dic_list())"
    },
    "r": {
     "delete_cmd_postfix": ") ",
     "delete_cmd_prefix": "rm(",
     "library": "var_list.r",
     "varRefreshCmd": "cat(var_dic_list()) "
    }
   },
   "types_to_exclude": [
    "module",
    "function",
    "builtin_function_or_method",
    "instance",
    "_Feature"
   ],
   "window_display": false
  }
 },
 "nbformat": 4,
 "nbformat_minor": 1
}
