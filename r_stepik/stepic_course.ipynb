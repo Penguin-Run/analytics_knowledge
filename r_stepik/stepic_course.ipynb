{
 "cells": [
  {
   "cell_type": "markdown",
   "id": "2dc9b6cf",
   "metadata": {},
   "source": [
    "# Основы"
   ]
  },
  {
   "cell_type": "markdown",
   "id": "c302e9fd",
   "metadata": {},
   "source": [
    "## Переменные"
   ]
  },
  {
   "cell_type": "code",
   "execution_count": 10,
   "id": "b5cbfa1e",
   "metadata": {
    "ExecuteTime": {
     "end_time": "2021-09-04T09:53:27.491268Z",
     "start_time": "2021-09-04T09:53:27.479Z"
    }
   },
   "outputs": [],
   "source": [
    "myvar1 <- 39"
   ]
  },
  {
   "cell_type": "code",
   "execution_count": 12,
   "id": "8c3e0064",
   "metadata": {
    "ExecuteTime": {
     "end_time": "2021-09-04T09:55:02.922164Z",
     "start_time": "2021-09-04T09:55:02.911Z"
    }
   },
   "outputs": [],
   "source": [
    "myvar2  <- 34"
   ]
  },
  {
   "cell_type": "code",
   "execution_count": 13,
   "id": "e1f7c34b",
   "metadata": {
    "ExecuteTime": {
     "end_time": "2021-09-04T09:55:29.561391Z",
     "start_time": "2021-09-04T09:55:29.547Z"
    }
   },
   "outputs": [],
   "source": [
    "myvar2 <- myvar2 + myvar1"
   ]
  },
  {
   "cell_type": "code",
   "execution_count": 14,
   "id": "19ae31e3",
   "metadata": {
    "ExecuteTime": {
     "end_time": "2021-09-04T09:55:32.908672Z",
     "start_time": "2021-09-04T09:55:32.894Z"
    }
   },
   "outputs": [
    {
     "data": {
      "text/html": [
       "73"
      ],
      "text/latex": [
       "73"
      ],
      "text/markdown": [
       "73"
      ],
      "text/plain": [
       "[1] 73"
      ]
     },
     "metadata": {},
     "output_type": "display_data"
    }
   ],
   "source": [
    "myvar2"
   ]
  },
  {
   "cell_type": "code",
   "execution_count": 33,
   "id": "87f45317",
   "metadata": {
    "ExecuteTime": {
     "end_time": "2021-09-04T14:08:42.474460Z",
     "start_time": "2021-09-04T14:08:42.462Z"
    }
   },
   "outputs": [],
   "source": [
    "my_number <- 42\n",
    "my_logical_var <- TRUE"
   ]
  },
  {
   "cell_type": "code",
   "execution_count": null,
   "id": "ca06ae01",
   "metadata": {},
   "outputs": [],
   "source": [
    "number_1 + number_2 > number_3"
   ]
  },
  {
   "cell_type": "code",
   "execution_count": 36,
   "id": "986e13fb",
   "metadata": {
    "ExecuteTime": {
     "end_time": "2021-09-04T21:15:09.552658Z",
     "start_time": "2021-09-04T21:15:09.541Z"
    }
   },
   "outputs": [],
   "source": [
    "the_best_vector <- c(1 : 5000, 7000 : 10000)"
   ]
  },
  {
   "cell_type": "code",
   "execution_count": null,
   "id": "ec2fa191",
   "metadata": {},
   "outputs": [],
   "source": [
    "my_numbers_2 <- my_numbers[c(2, 5, 7, 9, 12, 16, 20)]"
   ]
  },
  {
   "cell_type": "code",
   "execution_count": 44,
   "id": "77ec425e",
   "metadata": {
    "ExecuteTime": {
     "end_time": "2021-09-05T10:23:05.949126Z",
     "start_time": "2021-09-05T10:23:05.882Z"
    }
   },
   "outputs": [
    {
     "ename": "ERROR",
     "evalue": "Error in eval(expr, envir, enclos): объект 'my_vector' не найден\n",
     "output_type": "error",
     "traceback": [
      "Error in eval(expr, envir, enclos): объект 'my_vector' не найден\nTraceback:\n"
     ]
    }
   ],
   "source": [
    "my_sum <- sum(my_vector[my_vector > 10])"
   ]
  },
  {
   "cell_type": "code",
   "execution_count": 55,
   "id": "b5005272",
   "metadata": {
    "ExecuteTime": {
     "end_time": "2021-09-05T10:36:59.072125Z",
     "start_time": "2021-09-05T10:36:59.058Z"
    }
   },
   "outputs": [
    {
     "data": {
      "text/html": [
       "4"
      ],
      "text/latex": [
       "4"
      ],
      "text/markdown": [
       "4"
      ],
      "text/plain": [
       "[1] 4"
      ]
     },
     "metadata": {},
     "output_type": "display_data"
    }
   ],
   "source": [
    "the_best_vector[the_best_vector < 5 & the_best_vector > 3]"
   ]
  },
  {
   "cell_type": "markdown",
   "id": "b6b231da",
   "metadata": {},
   "source": [
    "## Работа с Dataframe"
   ]
  },
  {
   "cell_type": "code",
   "execution_count": 1,
   "id": "818fdfcb",
   "metadata": {
    "ExecuteTime": {
     "end_time": "2021-09-05T11:00:16.992602Z",
     "start_time": "2021-09-05T11:00:16.975Z"
    }
   },
   "outputs": [],
   "source": [
    "df <- read.csv('evals.csv')"
   ]
  },
  {
   "cell_type": "code",
   "execution_count": 10,
   "id": "6f7f651f",
   "metadata": {
    "ExecuteTime": {
     "end_time": "2021-09-05T11:15:51.408236Z",
     "start_time": "2021-09-05T11:15:51.393Z"
    }
   },
   "outputs": [
    {
     "data": {
      "text/html": [
       "<table>\n",
       "<thead><tr><th scope=col>score</th><th scope=col>rank</th><th scope=col>ethnicity</th><th scope=col>gender</th><th scope=col>language</th><th scope=col>age</th><th scope=col>cls_perc_eval</th><th scope=col>cls_did_eval</th><th scope=col>cls_students</th><th scope=col>cls_level</th><th scope=col>...</th><th scope=col>cls_credits</th><th scope=col>bty_f1lower</th><th scope=col>bty_f1upper</th><th scope=col>bty_f2upper</th><th scope=col>bty_m1lower</th><th scope=col>bty_m1upper</th><th scope=col>bty_m2upper</th><th scope=col>bty_avg</th><th scope=col>pic_outfit</th><th scope=col>pic_color</th></tr></thead>\n",
       "<tbody>\n",
       "\t<tr><td>4.7         </td><td>tenure track</td><td>minority    </td><td>female      </td><td>english     </td><td>36          </td><td>55.81395    </td><td>24          </td><td> 43         </td><td>upper       </td><td>...         </td><td>multi credit</td><td>5           </td><td>7           </td><td>6           </td><td>2           </td><td>4           </td><td>6           </td><td>5           </td><td>not formal  </td><td>color       </td></tr>\n",
       "\t<tr><td>4.1         </td><td>tenure track</td><td>minority    </td><td>female      </td><td>english     </td><td>36          </td><td>68.80000    </td><td>86          </td><td>125         </td><td>upper       </td><td>...         </td><td>multi credit</td><td>5           </td><td>7           </td><td>6           </td><td>2           </td><td>4           </td><td>6           </td><td>5           </td><td>not formal  </td><td>color       </td></tr>\n",
       "\t<tr><td>3.9         </td><td>tenure track</td><td>minority    </td><td>female      </td><td>english     </td><td>36          </td><td>60.80000    </td><td>76          </td><td>125         </td><td>upper       </td><td>...         </td><td>multi credit</td><td>5           </td><td>7           </td><td>6           </td><td>2           </td><td>4           </td><td>6           </td><td>5           </td><td>not formal  </td><td>color       </td></tr>\n",
       "</tbody>\n",
       "</table>\n"
      ],
      "text/latex": [
       "\\begin{tabular}{r|lllllllllllllllllllll}\n",
       " score & rank & ethnicity & gender & language & age & cls\\_perc\\_eval & cls\\_did\\_eval & cls\\_students & cls\\_level & ... & cls\\_credits & bty\\_f1lower & bty\\_f1upper & bty\\_f2upper & bty\\_m1lower & bty\\_m1upper & bty\\_m2upper & bty\\_avg & pic\\_outfit & pic\\_color\\\\\n",
       "\\hline\n",
       "\t 4.7          & tenure track & minority     & female       & english      & 36           & 55.81395     & 24           &  43          & upper        & ...          & multi credit & 5            & 7            & 6            & 2            & 4            & 6            & 5            & not formal   & color       \\\\\n",
       "\t 4.1          & tenure track & minority     & female       & english      & 36           & 68.80000     & 86           & 125          & upper        & ...          & multi credit & 5            & 7            & 6            & 2            & 4            & 6            & 5            & not formal   & color       \\\\\n",
       "\t 3.9          & tenure track & minority     & female       & english      & 36           & 60.80000     & 76           & 125          & upper        & ...          & multi credit & 5            & 7            & 6            & 2            & 4            & 6            & 5            & not formal   & color       \\\\\n",
       "\\end{tabular}\n"
      ],
      "text/markdown": [
       "\n",
       "| score | rank | ethnicity | gender | language | age | cls_perc_eval | cls_did_eval | cls_students | cls_level | ... | cls_credits | bty_f1lower | bty_f1upper | bty_f2upper | bty_m1lower | bty_m1upper | bty_m2upper | bty_avg | pic_outfit | pic_color |\n",
       "|---|---|---|---|---|---|---|---|---|---|---|---|---|---|---|---|---|---|---|---|---|\n",
       "| 4.7          | tenure track | minority     | female       | english      | 36           | 55.81395     | 24           |  43          | upper        | ...          | multi credit | 5            | 7            | 6            | 2            | 4            | 6            | 5            | not formal   | color        |\n",
       "| 4.1          | tenure track | minority     | female       | english      | 36           | 68.80000     | 86           | 125          | upper        | ...          | multi credit | 5            | 7            | 6            | 2            | 4            | 6            | 5            | not formal   | color        |\n",
       "| 3.9          | tenure track | minority     | female       | english      | 36           | 60.80000     | 76           | 125          | upper        | ...          | multi credit | 5            | 7            | 6            | 2            | 4            | 6            | 5            | not formal   | color        |\n",
       "\n"
      ],
      "text/plain": [
       "  score rank         ethnicity gender language age cls_perc_eval cls_did_eval\n",
       "1 4.7   tenure track minority  female english  36  55.81395      24          \n",
       "2 4.1   tenure track minority  female english  36  68.80000      86          \n",
       "3 3.9   tenure track minority  female english  36  60.80000      76          \n",
       "  cls_students cls_level ... cls_credits  bty_f1lower bty_f1upper bty_f2upper\n",
       "1  43          upper     ... multi credit 5           7           6          \n",
       "2 125          upper     ... multi credit 5           7           6          \n",
       "3 125          upper     ... multi credit 5           7           6          \n",
       "  bty_m1lower bty_m1upper bty_m2upper bty_avg pic_outfit pic_color\n",
       "1 2           4           6           5       not formal color    \n",
       "2 2           4           6           5       not formal color    \n",
       "3 2           4           6           5       not formal color    "
      ]
     },
     "metadata": {},
     "output_type": "display_data"
    }
   ],
   "source": [
    "head(df, 3)"
   ]
  },
  {
   "cell_type": "code",
   "execution_count": 6,
   "id": "08f6017d",
   "metadata": {
    "ExecuteTime": {
     "end_time": "2021-09-05T11:14:13.794876Z",
     "start_time": "2021-09-05T11:14:13.773Z"
    }
   },
   "outputs": [
    {
     "name": "stdout",
     "output_type": "stream",
     "text": [
      "'data.frame':\t463 obs. of  21 variables:\n",
      " $ score        : num  4.7 4.1 3.9 4.8 4.6 4.3 2.8 4.1 3.4 4.5 ...\n",
      " $ rank         : Factor w/ 3 levels \"teaching\",\"tenure track\",..: 2 2 2 2 3 3 3 3 3 3 ...\n",
      " $ ethnicity    : Factor w/ 2 levels \"minority\",\"not minority\": 1 1 1 1 2 2 2 2 2 2 ...\n",
      " $ gender       : Factor w/ 2 levels \"female\",\"male\": 1 1 1 1 2 2 2 2 2 1 ...\n",
      " $ language     : Factor w/ 2 levels \"english\",\"non-english\": 1 1 1 1 1 1 1 1 1 1 ...\n",
      " $ age          : int  36 36 36 36 59 59 59 51 51 40 ...\n",
      " $ cls_perc_eval: num  55.8 68.8 60.8 62.6 85 ...\n",
      " $ cls_did_eval : int  24 86 76 77 17 35 39 55 111 40 ...\n",
      " $ cls_students : int  43 125 125 123 20 40 44 55 195 46 ...\n",
      " $ cls_level    : Factor w/ 2 levels \"lower\",\"upper\": 2 2 2 2 2 2 2 2 2 2 ...\n",
      " $ cls_profs    : Factor w/ 2 levels \"multiple\",\"single\": 2 2 2 2 1 1 1 2 2 2 ...\n",
      " $ cls_credits  : Factor w/ 2 levels \"multi credit\",..: 1 1 1 1 1 1 1 1 1 1 ...\n",
      " $ bty_f1lower  : int  5 5 5 5 4 4 4 5 5 2 ...\n",
      " $ bty_f1upper  : int  7 7 7 7 4 4 4 2 2 5 ...\n",
      " $ bty_f2upper  : int  6 6 6 6 2 2 2 5 5 4 ...\n",
      " $ bty_m1lower  : int  2 2 2 2 2 2 2 2 2 3 ...\n",
      " $ bty_m1upper  : int  4 4 4 4 3 3 3 3 3 3 ...\n",
      " $ bty_m2upper  : int  6 6 6 6 3 3 3 3 3 2 ...\n",
      " $ bty_avg      : num  5 5 5 5 3 ...\n",
      " $ pic_outfit   : Factor w/ 2 levels \"formal\",\"not formal\": 2 2 2 2 2 2 2 2 2 2 ...\n",
      " $ pic_color    : Factor w/ 2 levels \"black&white\",..: 2 2 2 2 2 2 2 2 2 2 ...\n"
     ]
    }
   ],
   "source": [
    "# variable, type of variable, levels of factor vars\n",
    "str(df)"
   ]
  },
  {
   "cell_type": "code",
   "execution_count": 11,
   "id": "ba287b0e",
   "metadata": {
    "ExecuteTime": {
     "end_time": "2021-09-05T11:16:01.734392Z",
     "start_time": "2021-09-05T11:16:01.718Z"
    }
   },
   "outputs": [
    {
     "data": {
      "text/plain": [
       "     score                 rank            ethnicity      gender   \n",
       " Min.   :2.300   teaching    :102   minority    : 64   female:195  \n",
       " 1st Qu.:3.800   tenure track:108   not minority:399   male  :268  \n",
       " Median :4.300   tenured     :253                                  \n",
       " Mean   :4.175                                                     \n",
       " 3rd Qu.:4.600                                                     \n",
       " Max.   :5.000                                                     \n",
       "        language        age        cls_perc_eval     cls_did_eval   \n",
       " english    :435   Min.   :29.00   Min.   : 10.42   Min.   :  5.00  \n",
       " non-english: 28   1st Qu.:42.00   1st Qu.: 62.70   1st Qu.: 15.00  \n",
       "                   Median :48.00   Median : 76.92   Median : 23.00  \n",
       "                   Mean   :48.37   Mean   : 74.43   Mean   : 36.62  \n",
       "                   3rd Qu.:57.00   3rd Qu.: 87.25   3rd Qu.: 40.00  \n",
       "                   Max.   :73.00   Max.   :100.00   Max.   :380.00  \n",
       "  cls_students    cls_level      cls_profs         cls_credits   bty_f1lower   \n",
       " Min.   :  8.00   lower:157   multiple:306   multi credit:436   Min.   :1.000  \n",
       " 1st Qu.: 19.00   upper:306   single  :157   one credit  : 27   1st Qu.:2.000  \n",
       " Median : 29.00                                                 Median :4.000  \n",
       " Mean   : 55.18                                                 Mean   :3.963  \n",
       " 3rd Qu.: 60.00                                                 3rd Qu.:5.000  \n",
       " Max.   :581.00                                                 Max.   :8.000  \n",
       "  bty_f1upper     bty_f2upper      bty_m1lower     bty_m1upper   \n",
       " Min.   :1.000   Min.   : 1.000   Min.   :1.000   Min.   :1.000  \n",
       " 1st Qu.:4.000   1st Qu.: 4.000   1st Qu.:2.000   1st Qu.:3.000  \n",
       " Median :5.000   Median : 5.000   Median :3.000   Median :4.000  \n",
       " Mean   :5.019   Mean   : 5.214   Mean   :3.413   Mean   :4.147  \n",
       " 3rd Qu.:7.000   3rd Qu.: 6.000   3rd Qu.:5.000   3rd Qu.:5.000  \n",
       " Max.   :9.000   Max.   :10.000   Max.   :7.000   Max.   :9.000  \n",
       "  bty_m2upper       bty_avg           pic_outfit        pic_color  \n",
       " Min.   :1.000   Min.   :1.667   formal    : 77   black&white: 78  \n",
       " 1st Qu.:4.000   1st Qu.:3.167   not formal:386   color      :385  \n",
       " Median :5.000   Median :4.333                                     \n",
       " Mean   :4.752   Mean   :4.418                                     \n",
       " 3rd Qu.:6.000   3rd Qu.:5.500                                     \n",
       " Max.   :9.000   Max.   :8.167                                     "
      ]
     },
     "metadata": {},
     "output_type": "display_data"
    }
   ],
   "source": [
    "# variables, min/max/q1/q3 for quantitive, levels and value_counts of them for nominative vars\n",
    "summary(df)"
   ]
  },
  {
   "cell_type": "code",
   "execution_count": 13,
   "id": "b3fadc0e",
   "metadata": {
    "ExecuteTime": {
     "end_time": "2021-09-05T11:23:11.222676Z",
     "start_time": "2021-09-05T11:23:11.210Z"
    }
   },
   "outputs": [
    {
     "data": {
      "text/html": [
       "<ol class=list-inline>\n",
       "\t<li>'score'</li>\n",
       "\t<li>'rank'</li>\n",
       "\t<li>'ethnicity'</li>\n",
       "\t<li>'gender'</li>\n",
       "\t<li>'language'</li>\n",
       "\t<li>'age'</li>\n",
       "\t<li>'cls_perc_eval'</li>\n",
       "\t<li>'cls_did_eval'</li>\n",
       "\t<li>'cls_students'</li>\n",
       "\t<li>'cls_level'</li>\n",
       "\t<li>'cls_profs'</li>\n",
       "\t<li>'cls_credits'</li>\n",
       "\t<li>'bty_f1lower'</li>\n",
       "\t<li>'bty_f1upper'</li>\n",
       "\t<li>'bty_f2upper'</li>\n",
       "\t<li>'bty_m1lower'</li>\n",
       "\t<li>'bty_m1upper'</li>\n",
       "\t<li>'bty_m2upper'</li>\n",
       "\t<li>'bty_avg'</li>\n",
       "\t<li>'pic_outfit'</li>\n",
       "\t<li>'pic_color'</li>\n",
       "</ol>\n"
      ],
      "text/latex": [
       "\\begin{enumerate*}\n",
       "\\item 'score'\n",
       "\\item 'rank'\n",
       "\\item 'ethnicity'\n",
       "\\item 'gender'\n",
       "\\item 'language'\n",
       "\\item 'age'\n",
       "\\item 'cls\\_perc\\_eval'\n",
       "\\item 'cls\\_did\\_eval'\n",
       "\\item 'cls\\_students'\n",
       "\\item 'cls\\_level'\n",
       "\\item 'cls\\_profs'\n",
       "\\item 'cls\\_credits'\n",
       "\\item 'bty\\_f1lower'\n",
       "\\item 'bty\\_f1upper'\n",
       "\\item 'bty\\_f2upper'\n",
       "\\item 'bty\\_m1lower'\n",
       "\\item 'bty\\_m1upper'\n",
       "\\item 'bty\\_m2upper'\n",
       "\\item 'bty\\_avg'\n",
       "\\item 'pic\\_outfit'\n",
       "\\item 'pic\\_color'\n",
       "\\end{enumerate*}\n"
      ],
      "text/markdown": [
       "1. 'score'\n",
       "2. 'rank'\n",
       "3. 'ethnicity'\n",
       "4. 'gender'\n",
       "5. 'language'\n",
       "6. 'age'\n",
       "7. 'cls_perc_eval'\n",
       "8. 'cls_did_eval'\n",
       "9. 'cls_students'\n",
       "10. 'cls_level'\n",
       "11. 'cls_profs'\n",
       "12. 'cls_credits'\n",
       "13. 'bty_f1lower'\n",
       "14. 'bty_f1upper'\n",
       "15. 'bty_f2upper'\n",
       "16. 'bty_m1lower'\n",
       "17. 'bty_m1upper'\n",
       "18. 'bty_m2upper'\n",
       "19. 'bty_avg'\n",
       "20. 'pic_outfit'\n",
       "21. 'pic_color'\n",
       "\n",
       "\n"
      ],
      "text/plain": [
       " [1] \"score\"         \"rank\"          \"ethnicity\"     \"gender\"       \n",
       " [5] \"language\"      \"age\"           \"cls_perc_eval\" \"cls_did_eval\" \n",
       " [9] \"cls_students\"  \"cls_level\"     \"cls_profs\"     \"cls_credits\"  \n",
       "[13] \"bty_f1lower\"   \"bty_f1upper\"   \"bty_f2upper\"   \"bty_m1lower\"  \n",
       "[17] \"bty_m1upper\"   \"bty_m2upper\"   \"bty_avg\"       \"pic_outfit\"   \n",
       "[21] \"pic_color\"    "
      ]
     },
     "metadata": {},
     "output_type": "display_data"
    }
   ],
   "source": [
    "# возвращает вектор названий переменных\n",
    "names(df)"
   ]
  },
  {
   "cell_type": "code",
   "execution_count": 15,
   "id": "3f003f48",
   "metadata": {
    "ExecuteTime": {
     "end_time": "2021-09-05T11:26:26.595333Z",
     "start_time": "2021-09-05T11:26:26.582Z"
    }
   },
   "outputs": [
    {
     "data": {
      "text/html": [
       "<ol class=list-inline>\n",
       "\t<li>4.7</li>\n",
       "\t<li>4.1</li>\n",
       "\t<li>3.9</li>\n",
       "\t<li>4.8</li>\n",
       "\t<li>4.6</li>\n",
       "\t<li>4.3</li>\n",
       "\t<li>2.8</li>\n",
       "\t<li>4.1</li>\n",
       "\t<li>3.4</li>\n",
       "\t<li>4.5</li>\n",
       "\t<li>3.8</li>\n",
       "\t<li>4.5</li>\n",
       "\t<li>4.6</li>\n",
       "\t<li>3.9</li>\n",
       "\t<li>3.9</li>\n",
       "\t<li>4.3</li>\n",
       "\t<li>4.5</li>\n",
       "\t<li>4.8</li>\n",
       "\t<li>4.6</li>\n",
       "\t<li>4.6</li>\n",
       "\t<li>4.9</li>\n",
       "\t<li>4.6</li>\n",
       "\t<li>4.5</li>\n",
       "\t<li>4.4</li>\n",
       "\t<li>4.6</li>\n",
       "\t<li>4.7</li>\n",
       "\t<li>4.5</li>\n",
       "\t<li>4.8</li>\n",
       "\t<li>4.9</li>\n",
       "\t<li>4.5</li>\n",
       "\t<li>4.4</li>\n",
       "\t<li>4.3</li>\n",
       "\t<li>4.1</li>\n",
       "\t<li>4.2</li>\n",
       "\t<li>3.5</li>\n",
       "\t<li>3.4</li>\n",
       "\t<li>4.5</li>\n",
       "\t<li>4.4</li>\n",
       "\t<li>4.4</li>\n",
       "\t<li>2.5</li>\n",
       "\t<li>4.3</li>\n",
       "\t<li>4.5</li>\n",
       "\t<li>4.8</li>\n",
       "\t<li>4.8</li>\n",
       "\t<li>4.4</li>\n",
       "\t<li>4.7</li>\n",
       "\t<li>4.4</li>\n",
       "\t<li>4.7</li>\n",
       "\t<li>4.5</li>\n",
       "\t<li>4</li>\n",
       "</ol>\n"
      ],
      "text/latex": [
       "\\begin{enumerate*}\n",
       "\\item 4.7\n",
       "\\item 4.1\n",
       "\\item 3.9\n",
       "\\item 4.8\n",
       "\\item 4.6\n",
       "\\item 4.3\n",
       "\\item 2.8\n",
       "\\item 4.1\n",
       "\\item 3.4\n",
       "\\item 4.5\n",
       "\\item 3.8\n",
       "\\item 4.5\n",
       "\\item 4.6\n",
       "\\item 3.9\n",
       "\\item 3.9\n",
       "\\item 4.3\n",
       "\\item 4.5\n",
       "\\item 4.8\n",
       "\\item 4.6\n",
       "\\item 4.6\n",
       "\\item 4.9\n",
       "\\item 4.6\n",
       "\\item 4.5\n",
       "\\item 4.4\n",
       "\\item 4.6\n",
       "\\item 4.7\n",
       "\\item 4.5\n",
       "\\item 4.8\n",
       "\\item 4.9\n",
       "\\item 4.5\n",
       "\\item 4.4\n",
       "\\item 4.3\n",
       "\\item 4.1\n",
       "\\item 4.2\n",
       "\\item 3.5\n",
       "\\item 3.4\n",
       "\\item 4.5\n",
       "\\item 4.4\n",
       "\\item 4.4\n",
       "\\item 2.5\n",
       "\\item 4.3\n",
       "\\item 4.5\n",
       "\\item 4.8\n",
       "\\item 4.8\n",
       "\\item 4.4\n",
       "\\item 4.7\n",
       "\\item 4.4\n",
       "\\item 4.7\n",
       "\\item 4.5\n",
       "\\item 4\n",
       "\\end{enumerate*}\n"
      ],
      "text/markdown": [
       "1. 4.7\n",
       "2. 4.1\n",
       "3. 3.9\n",
       "4. 4.8\n",
       "5. 4.6\n",
       "6. 4.3\n",
       "7. 2.8\n",
       "8. 4.1\n",
       "9. 3.4\n",
       "10. 4.5\n",
       "11. 3.8\n",
       "12. 4.5\n",
       "13. 4.6\n",
       "14. 3.9\n",
       "15. 3.9\n",
       "16. 4.3\n",
       "17. 4.5\n",
       "18. 4.8\n",
       "19. 4.6\n",
       "20. 4.6\n",
       "21. 4.9\n",
       "22. 4.6\n",
       "23. 4.5\n",
       "24. 4.4\n",
       "25. 4.6\n",
       "26. 4.7\n",
       "27. 4.5\n",
       "28. 4.8\n",
       "29. 4.9\n",
       "30. 4.5\n",
       "31. 4.4\n",
       "32. 4.3\n",
       "33. 4.1\n",
       "34. 4.2\n",
       "35. 3.5\n",
       "36. 3.4\n",
       "37. 4.5\n",
       "38. 4.4\n",
       "39. 4.4\n",
       "40. 2.5\n",
       "41. 4.3\n",
       "42. 4.5\n",
       "43. 4.8\n",
       "44. 4.8\n",
       "45. 4.4\n",
       "46. 4.7\n",
       "47. 4.4\n",
       "48. 4.7\n",
       "49. 4.5\n",
       "50. 4\n",
       "\n",
       "\n"
      ],
      "text/plain": [
       " [1] 4.7 4.1 3.9 4.8 4.6 4.3 2.8 4.1 3.4 4.5 3.8 4.5 4.6 3.9 3.9 4.3 4.5 4.8 4.6\n",
       "[20] 4.6 4.9 4.6 4.5 4.4 4.6 4.7 4.5 4.8 4.9 4.5 4.4 4.3 4.1 4.2 3.5 3.4 4.5 4.4\n",
       "[39] 4.4 2.5 4.3 4.5 4.8 4.8 4.4 4.7 4.4 4.7 4.5 4.0"
      ]
     },
     "metadata": {},
     "output_type": "display_data"
    }
   ],
   "source": [
    "df$score[1:50]"
   ]
  },
  {
   "cell_type": "code",
   "execution_count": 17,
   "id": "21a208db",
   "metadata": {
    "ExecuteTime": {
     "end_time": "2021-09-05T11:27:10.682893Z",
     "start_time": "2021-09-05T11:27:10.670Z"
    }
   },
   "outputs": [
    {
     "data": {
      "text/html": [
       "48"
      ],
      "text/latex": [
       "48"
      ],
      "text/markdown": [
       "48"
      ],
      "text/plain": [
       "[1] 48"
      ]
     },
     "metadata": {},
     "output_type": "display_data"
    }
   ],
   "source": [
    "median(df$age)"
   ]
  },
  {
   "cell_type": "code",
   "execution_count": 18,
   "id": "67c955be",
   "metadata": {
    "ExecuteTime": {
     "end_time": "2021-09-05T11:27:30.946698Z",
     "start_time": "2021-09-05T11:27:30.934Z"
    }
   },
   "outputs": [
    {
     "data": {
      "text/plain": [
       "   Min. 1st Qu.  Median    Mean 3rd Qu.    Max. \n",
       "  29.00   42.00   48.00   48.37   57.00   73.00 "
      ]
     },
     "metadata": {},
     "output_type": "display_data"
    }
   ],
   "source": [
    "summary(df$age)"
   ]
  },
  {
   "cell_type": "code",
   "execution_count": 26,
   "id": "94266d9e",
   "metadata": {
    "ExecuteTime": {
     "end_time": "2021-09-05T11:33:03.447163Z",
     "start_time": "2021-09-05T11:33:03.434Z"
    }
   },
   "outputs": [
    {
     "data": {
      "text/html": [
       "463"
      ],
      "text/latex": [
       "463"
      ],
      "text/markdown": [
       "463"
      ],
      "text/plain": [
       "[1] 463"
      ]
     },
     "metadata": {},
     "output_type": "display_data"
    }
   ],
   "source": [
    "# return number of rows\n",
    "nrow(df)"
   ]
  },
  {
   "cell_type": "code",
   "execution_count": 31,
   "id": "2928e0ee",
   "metadata": {
    "ExecuteTime": {
     "end_time": "2021-09-05T11:34:04.139353Z",
     "start_time": "2021-09-05T11:34:04.127Z"
    }
   },
   "outputs": [
    {
     "data": {
      "text/html": [
       "23"
      ],
      "text/latex": [
       "23"
      ],
      "text/markdown": [
       "23"
      ],
      "text/plain": [
       "[1] 23"
      ]
     },
     "metadata": {},
     "output_type": "display_data"
    }
   ],
   "source": [
    "# return number of columns\n",
    "ncol(df)"
   ]
  },
  {
   "cell_type": "code",
   "execution_count": 48,
   "id": "a1bda9bd",
   "metadata": {
    "ExecuteTime": {
     "end_time": "2021-09-05T11:41:30.005353Z",
     "start_time": "2021-09-05T11:41:29.997Z"
    }
   },
   "outputs": [],
   "source": [
    "# 1 : nrow(df)"
   ]
  },
  {
   "cell_type": "markdown",
   "id": "f232d222",
   "metadata": {},
   "source": [
    "### Срезы"
   ]
  },
  {
   "cell_type": "code",
   "execution_count": 33,
   "id": "5a5e8edf",
   "metadata": {
    "ExecuteTime": {
     "end_time": "2021-09-05T11:34:53.343586Z",
     "start_time": "2021-09-05T11:34:53.331Z"
    }
   },
   "outputs": [
    {
     "data": {
      "text/html": [
       "<ol class=list-inline>\n",
       "\t<li>36</li>\n",
       "\t<li>36</li>\n",
       "\t<li>59</li>\n",
       "\t<li>59</li>\n",
       "\t<li>59</li>\n",
       "\t<li>51</li>\n",
       "\t<li>51</li>\n",
       "\t<li>40</li>\n",
       "\t<li>40</li>\n",
       "\t<li>40</li>\n",
       "\t<li>40</li>\n",
       "\t<li>40</li>\n",
       "\t<li>40</li>\n",
       "\t<li>40</li>\n",
       "\t<li>40</li>\n",
       "\t<li>31</li>\n",
       "\t<li>31</li>\n",
       "\t<li>31</li>\n",
       "\t<li>31</li>\n",
       "\t<li>31</li>\n",
       "\t<li>31</li>\n",
       "\t<li>62</li>\n",
       "\t<li>62</li>\n",
       "\t<li>62</li>\n",
       "\t<li>62</li>\n",
       "\t<li>62</li>\n",
       "\t<li>62</li>\n",
       "\t<li>62</li>\n",
       "\t<li>33</li>\n",
       "\t<li>33</li>\n",
       "\t<li>33</li>\n",
       "\t<li>33</li>\n",
       "\t<li>33</li>\n",
       "\t<li>51</li>\n",
       "\t<li>51</li>\n",
       "\t<li>51</li>\n",
       "\t<li>51</li>\n",
       "\t<li>51</li>\n",
       "\t<li>51</li>\n",
       "\t<li>51</li>\n",
       "\t<li>33</li>\n",
       "\t<li>33</li>\n",
       "\t<li>33</li>\n",
       "\t<li>33</li>\n",
       "\t<li>33</li>\n",
       "\t<li>33</li>\n",
       "\t<li>33</li>\n",
       "\t<li>47</li>\n",
       "</ol>\n"
      ],
      "text/latex": [
       "\\begin{enumerate*}\n",
       "\\item 36\n",
       "\\item 36\n",
       "\\item 59\n",
       "\\item 59\n",
       "\\item 59\n",
       "\\item 51\n",
       "\\item 51\n",
       "\\item 40\n",
       "\\item 40\n",
       "\\item 40\n",
       "\\item 40\n",
       "\\item 40\n",
       "\\item 40\n",
       "\\item 40\n",
       "\\item 40\n",
       "\\item 31\n",
       "\\item 31\n",
       "\\item 31\n",
       "\\item 31\n",
       "\\item 31\n",
       "\\item 31\n",
       "\\item 62\n",
       "\\item 62\n",
       "\\item 62\n",
       "\\item 62\n",
       "\\item 62\n",
       "\\item 62\n",
       "\\item 62\n",
       "\\item 33\n",
       "\\item 33\n",
       "\\item 33\n",
       "\\item 33\n",
       "\\item 33\n",
       "\\item 51\n",
       "\\item 51\n",
       "\\item 51\n",
       "\\item 51\n",
       "\\item 51\n",
       "\\item 51\n",
       "\\item 51\n",
       "\\item 33\n",
       "\\item 33\n",
       "\\item 33\n",
       "\\item 33\n",
       "\\item 33\n",
       "\\item 33\n",
       "\\item 33\n",
       "\\item 47\n",
       "\\end{enumerate*}\n"
      ],
      "text/markdown": [
       "1. 36\n",
       "2. 36\n",
       "3. 59\n",
       "4. 59\n",
       "5. 59\n",
       "6. 51\n",
       "7. 51\n",
       "8. 40\n",
       "9. 40\n",
       "10. 40\n",
       "11. 40\n",
       "12. 40\n",
       "13. 40\n",
       "14. 40\n",
       "15. 40\n",
       "16. 31\n",
       "17. 31\n",
       "18. 31\n",
       "19. 31\n",
       "20. 31\n",
       "21. 31\n",
       "22. 62\n",
       "23. 62\n",
       "24. 62\n",
       "25. 62\n",
       "26. 62\n",
       "27. 62\n",
       "28. 62\n",
       "29. 33\n",
       "30. 33\n",
       "31. 33\n",
       "32. 33\n",
       "33. 33\n",
       "34. 51\n",
       "35. 51\n",
       "36. 51\n",
       "37. 51\n",
       "38. 51\n",
       "39. 51\n",
       "40. 51\n",
       "41. 33\n",
       "42. 33\n",
       "43. 33\n",
       "44. 33\n",
       "45. 33\n",
       "46. 33\n",
       "47. 33\n",
       "48. 47\n",
       "\n",
       "\n"
      ],
      "text/plain": [
       " [1] 36 36 59 59 59 51 51 40 40 40 40 40 40 40 40 31 31 31 31 31 31 62 62 62 62\n",
       "[26] 62 62 62 33 33 33 33 33 51 51 51 51 51 51 51 33 33 33 33 33 33 33 47"
      ]
     },
     "metadata": {},
     "output_type": "display_data"
    }
   ],
   "source": [
    "df$age[3:50]"
   ]
  },
  {
   "cell_type": "code",
   "execution_count": 37,
   "id": "322653cf",
   "metadata": {
    "ExecuteTime": {
     "end_time": "2021-09-05T11:35:26.230620Z",
     "start_time": "2021-09-05T11:35:26.217Z"
    },
    "scrolled": true
   },
   "outputs": [
    {
     "data": {
      "text/html": [
       "<table>\n",
       "<thead><tr><th scope=col>gender</th><th scope=col>language</th><th scope=col>age</th><th scope=col>cls_perc_eval</th><th scope=col>cls_did_eval</th><th scope=col>cls_students</th><th scope=col>cls_level</th></tr></thead>\n",
       "<tbody>\n",
       "\t<tr><td>female  </td><td>english </td><td>36      </td><td>55.81395</td><td>24      </td><td>43      </td><td>upper   </td></tr>\n",
       "</tbody>\n",
       "</table>\n"
      ],
      "text/latex": [
       "\\begin{tabular}{r|lllllll}\n",
       " gender & language & age & cls\\_perc\\_eval & cls\\_did\\_eval & cls\\_students & cls\\_level\\\\\n",
       "\\hline\n",
       "\t female   & english  & 36       & 55.81395 & 24       & 43       & upper   \\\\\n",
       "\\end{tabular}\n"
      ],
      "text/markdown": [
       "\n",
       "| gender | language | age | cls_perc_eval | cls_did_eval | cls_students | cls_level |\n",
       "|---|---|---|---|---|---|---|\n",
       "| female   | english  | 36       | 55.81395 | 24       | 43       | upper    |\n",
       "\n"
      ],
      "text/plain": [
       "  gender language age cls_perc_eval cls_did_eval cls_students cls_level\n",
       "1 female english  36  55.81395      24           43           upper    "
      ]
     },
     "metadata": {},
     "output_type": "display_data"
    }
   ],
   "source": [
    "df[1, 4:10]"
   ]
  },
  {
   "cell_type": "code",
   "execution_count": 39,
   "id": "84bac23a",
   "metadata": {
    "ExecuteTime": {
     "end_time": "2021-09-05T11:35:59.346328Z",
     "start_time": "2021-09-05T11:35:59.334Z"
    }
   },
   "outputs": [
    {
     "data": {
      "text/html": [
       "<ol class=list-inline>\n",
       "\t<li>'score'</li>\n",
       "\t<li>'rank'</li>\n",
       "\t<li>'ethnicity'</li>\n",
       "\t<li>'gender'</li>\n",
       "\t<li>'language'</li>\n",
       "\t<li>'age'</li>\n",
       "\t<li>'cls_perc_eval'</li>\n",
       "\t<li>'cls_did_eval'</li>\n",
       "\t<li>'cls_students'</li>\n",
       "\t<li>'cls_level'</li>\n",
       "\t<li>'cls_profs'</li>\n",
       "\t<li>'cls_credits'</li>\n",
       "\t<li>'bty_f1lower'</li>\n",
       "\t<li>'bty_f1upper'</li>\n",
       "\t<li>'bty_f2upper'</li>\n",
       "\t<li>'bty_m1lower'</li>\n",
       "\t<li>'bty_m1upper'</li>\n",
       "\t<li>'bty_m2upper'</li>\n",
       "\t<li>'bty_avg'</li>\n",
       "\t<li>'pic_outfit'</li>\n",
       "\t<li>'pic_color'</li>\n",
       "\t<li>'new_columns'</li>\n",
       "\t<li>'new_columns_2'</li>\n",
       "</ol>\n"
      ],
      "text/latex": [
       "\\begin{enumerate*}\n",
       "\\item 'score'\n",
       "\\item 'rank'\n",
       "\\item 'ethnicity'\n",
       "\\item 'gender'\n",
       "\\item 'language'\n",
       "\\item 'age'\n",
       "\\item 'cls\\_perc\\_eval'\n",
       "\\item 'cls\\_did\\_eval'\n",
       "\\item 'cls\\_students'\n",
       "\\item 'cls\\_level'\n",
       "\\item 'cls\\_profs'\n",
       "\\item 'cls\\_credits'\n",
       "\\item 'bty\\_f1lower'\n",
       "\\item 'bty\\_f1upper'\n",
       "\\item 'bty\\_f2upper'\n",
       "\\item 'bty\\_m1lower'\n",
       "\\item 'bty\\_m1upper'\n",
       "\\item 'bty\\_m2upper'\n",
       "\\item 'bty\\_avg'\n",
       "\\item 'pic\\_outfit'\n",
       "\\item 'pic\\_color'\n",
       "\\item 'new\\_columns'\n",
       "\\item 'new\\_columns\\_2'\n",
       "\\end{enumerate*}\n"
      ],
      "text/markdown": [
       "1. 'score'\n",
       "2. 'rank'\n",
       "3. 'ethnicity'\n",
       "4. 'gender'\n",
       "5. 'language'\n",
       "6. 'age'\n",
       "7. 'cls_perc_eval'\n",
       "8. 'cls_did_eval'\n",
       "9. 'cls_students'\n",
       "10. 'cls_level'\n",
       "11. 'cls_profs'\n",
       "12. 'cls_credits'\n",
       "13. 'bty_f1lower'\n",
       "14. 'bty_f1upper'\n",
       "15. 'bty_f2upper'\n",
       "16. 'bty_m1lower'\n",
       "17. 'bty_m1upper'\n",
       "18. 'bty_m2upper'\n",
       "19. 'bty_avg'\n",
       "20. 'pic_outfit'\n",
       "21. 'pic_color'\n",
       "22. 'new_columns'\n",
       "23. 'new_columns_2'\n",
       "\n",
       "\n"
      ],
      "text/plain": [
       " [1] \"score\"         \"rank\"          \"ethnicity\"     \"gender\"       \n",
       " [5] \"language\"      \"age\"           \"cls_perc_eval\" \"cls_did_eval\" \n",
       " [9] \"cls_students\"  \"cls_level\"     \"cls_profs\"     \"cls_credits\"  \n",
       "[13] \"bty_f1lower\"   \"bty_f1upper\"   \"bty_f2upper\"   \"bty_m1lower\"  \n",
       "[17] \"bty_m1upper\"   \"bty_m2upper\"   \"bty_avg\"       \"pic_outfit\"   \n",
       "[21] \"pic_color\"     \"new_columns\"   \"new_columns_2\""
      ]
     },
     "metadata": {},
     "output_type": "display_data"
    }
   ],
   "source": [
    "names(df)"
   ]
  },
  {
   "cell_type": "code",
   "execution_count": 41,
   "id": "1f108686",
   "metadata": {
    "ExecuteTime": {
     "end_time": "2021-09-05T11:36:37.161093Z",
     "start_time": "2021-09-05T11:36:37.142Z"
    }
   },
   "outputs": [
    {
     "data": {
      "text/html": [
       "<table>\n",
       "<thead><tr><th scope=col>score</th><th scope=col>gender</th><th scope=col>language</th><th scope=col>age</th><th scope=col>cls_perc_eval</th><th scope=col>cls_students</th></tr></thead>\n",
       "<tbody>\n",
       "\t<tr><td>4.7      </td><td>female   </td><td>english  </td><td>36       </td><td> 55.81395</td><td> 43      </td></tr>\n",
       "\t<tr><td>4.1      </td><td>female   </td><td>english  </td><td>36       </td><td> 68.80000</td><td>125      </td></tr>\n",
       "\t<tr><td>3.9      </td><td>female   </td><td>english  </td><td>36       </td><td> 60.80000</td><td>125      </td></tr>\n",
       "\t<tr><td>4.8      </td><td>female   </td><td>english  </td><td>36       </td><td> 62.60163</td><td>123      </td></tr>\n",
       "\t<tr><td>4.6      </td><td>male     </td><td>english  </td><td>59       </td><td> 85.00000</td><td> 20      </td></tr>\n",
       "\t<tr><td>4.3      </td><td>male     </td><td>english  </td><td>59       </td><td> 87.50000</td><td> 40      </td></tr>\n",
       "\t<tr><td>2.8      </td><td>male     </td><td>english  </td><td>59       </td><td> 88.63636</td><td> 44      </td></tr>\n",
       "\t<tr><td>4.1      </td><td>male     </td><td>english  </td><td>51       </td><td>100.00000</td><td> 55      </td></tr>\n",
       "\t<tr><td>3.4      </td><td>male     </td><td>english  </td><td>51       </td><td> 56.92308</td><td>195      </td></tr>\n",
       "\t<tr><td>4.5      </td><td>female   </td><td>english  </td><td>40       </td><td> 86.95652</td><td> 46      </td></tr>\n",
       "</tbody>\n",
       "</table>\n"
      ],
      "text/latex": [
       "\\begin{tabular}{r|llllll}\n",
       " score & gender & language & age & cls\\_perc\\_eval & cls\\_students\\\\\n",
       "\\hline\n",
       "\t 4.7       & female    & english   & 36        &  55.81395 &  43      \\\\\n",
       "\t 4.1       & female    & english   & 36        &  68.80000 & 125      \\\\\n",
       "\t 3.9       & female    & english   & 36        &  60.80000 & 125      \\\\\n",
       "\t 4.8       & female    & english   & 36        &  62.60163 & 123      \\\\\n",
       "\t 4.6       & male      & english   & 59        &  85.00000 &  20      \\\\\n",
       "\t 4.3       & male      & english   & 59        &  87.50000 &  40      \\\\\n",
       "\t 2.8       & male      & english   & 59        &  88.63636 &  44      \\\\\n",
       "\t 4.1       & male      & english   & 51        & 100.00000 &  55      \\\\\n",
       "\t 3.4       & male      & english   & 51        &  56.92308 & 195      \\\\\n",
       "\t 4.5       & female    & english   & 40        &  86.95652 &  46      \\\\\n",
       "\\end{tabular}\n"
      ],
      "text/markdown": [
       "\n",
       "| score | gender | language | age | cls_perc_eval | cls_students |\n",
       "|---|---|---|---|---|---|\n",
       "| 4.7       | female    | english   | 36        |  55.81395 |  43       |\n",
       "| 4.1       | female    | english   | 36        |  68.80000 | 125       |\n",
       "| 3.9       | female    | english   | 36        |  60.80000 | 125       |\n",
       "| 4.8       | female    | english   | 36        |  62.60163 | 123       |\n",
       "| 4.6       | male      | english   | 59        |  85.00000 |  20       |\n",
       "| 4.3       | male      | english   | 59        |  87.50000 |  40       |\n",
       "| 2.8       | male      | english   | 59        |  88.63636 |  44       |\n",
       "| 4.1       | male      | english   | 51        | 100.00000 |  55       |\n",
       "| 3.4       | male      | english   | 51        |  56.92308 | 195       |\n",
       "| 4.5       | female    | english   | 40        |  86.95652 |  46       |\n",
       "\n"
      ],
      "text/plain": [
       "   score gender language age cls_perc_eval cls_students\n",
       "1  4.7   female english  36   55.81395      43         \n",
       "2  4.1   female english  36   68.80000     125         \n",
       "3  3.9   female english  36   60.80000     125         \n",
       "4  4.8   female english  36   62.60163     123         \n",
       "5  4.6   male   english  59   85.00000      20         \n",
       "6  4.3   male   english  59   87.50000      40         \n",
       "7  2.8   male   english  59   88.63636      44         \n",
       "8  4.1   male   english  51  100.00000      55         \n",
       "9  3.4   male   english  51   56.92308     195         \n",
       "10 4.5   female english  40   86.95652      46         "
      ]
     },
     "metadata": {},
     "output_type": "display_data"
    }
   ],
   "source": [
    "df[1:10, c(1, 4:7, 9)]"
   ]
  },
  {
   "cell_type": "code",
   "execution_count": 46,
   "id": "48d1b0c1",
   "metadata": {
    "ExecuteTime": {
     "end_time": "2021-09-05T11:37:51.139838Z",
     "start_time": "2021-09-05T11:37:51.131Z"
    }
   },
   "outputs": [],
   "source": [
    "# df[, 5:7]"
   ]
  },
  {
   "cell_type": "code",
   "execution_count": 49,
   "id": "8dd5c8ea",
   "metadata": {
    "ExecuteTime": {
     "end_time": "2021-09-05T11:41:46.936029Z",
     "start_time": "2021-09-05T11:41:46.927Z"
    }
   },
   "outputs": [],
   "source": [
    "# более осмысленные срезы"
   ]
  },
  {
   "cell_type": "code",
   "execution_count": 66,
   "id": "26768558",
   "metadata": {
    "ExecuteTime": {
     "end_time": "2021-09-05T11:44:26.763656Z",
     "start_time": "2021-09-05T11:44:26.746Z"
    }
   },
   "outputs": [
    {
     "data": {
      "text/html": [
       "<table>\n",
       "<thead><tr><th></th><th scope=col>score</th><th scope=col>rank</th><th scope=col>ethnicity</th><th scope=col>gender</th><th scope=col>language</th><th scope=col>age</th><th scope=col>cls_perc_eval</th><th scope=col>cls_did_eval</th><th scope=col>cls_students</th><th scope=col>cls_level</th><th scope=col>cls_profs</th><th scope=col>cls_credits</th></tr></thead>\n",
       "<tbody>\n",
       "\t<tr><th scope=row>1</th><td>4.7         </td><td>tenure track</td><td>minority    </td><td>female      </td><td>english     </td><td>36          </td><td>55.81395    </td><td>24          </td><td> 43         </td><td>upper       </td><td>single      </td><td>multi credit</td></tr>\n",
       "\t<tr><th scope=row>2</th><td>4.1         </td><td>tenure track</td><td>minority    </td><td>female      </td><td>english     </td><td>36          </td><td>68.80000    </td><td>86          </td><td>125         </td><td>upper       </td><td>single      </td><td>multi credit</td></tr>\n",
       "\t<tr><th scope=row>3</th><td>3.9         </td><td>tenure track</td><td>minority    </td><td>female      </td><td>english     </td><td>36          </td><td>60.80000    </td><td>76          </td><td>125         </td><td>upper       </td><td>single      </td><td>multi credit</td></tr>\n",
       "\t<tr><th scope=row>4</th><td>4.8         </td><td>tenure track</td><td>minority    </td><td>female      </td><td>english     </td><td>36          </td><td>62.60163    </td><td>77          </td><td>123         </td><td>upper       </td><td>single      </td><td>multi credit</td></tr>\n",
       "\t<tr><th scope=row>10</th><td>4.5         </td><td>tenured     </td><td>not minority</td><td>female      </td><td>english     </td><td>40          </td><td>86.95652    </td><td>40          </td><td> 46         </td><td>upper       </td><td>single      </td><td>multi credit</td></tr>\n",
       "\t<tr><th scope=row>11</th><td>3.8         </td><td>tenured     </td><td>not minority</td><td>female      </td><td>english     </td><td>40          </td><td>88.88889    </td><td>24          </td><td> 27         </td><td>upper       </td><td>single      </td><td>multi credit</td></tr>\n",
       "</tbody>\n",
       "</table>\n"
      ],
      "text/latex": [
       "\\begin{tabular}{r|llllllllllll}\n",
       "  & score & rank & ethnicity & gender & language & age & cls\\_perc\\_eval & cls\\_did\\_eval & cls\\_students & cls\\_level & cls\\_profs & cls\\_credits\\\\\n",
       "\\hline\n",
       "\t1 & 4.7          & tenure track & minority     & female       & english      & 36           & 55.81395     & 24           &  43          & upper        & single       & multi credit\\\\\n",
       "\t2 & 4.1          & tenure track & minority     & female       & english      & 36           & 68.80000     & 86           & 125          & upper        & single       & multi credit\\\\\n",
       "\t3 & 3.9          & tenure track & minority     & female       & english      & 36           & 60.80000     & 76           & 125          & upper        & single       & multi credit\\\\\n",
       "\t4 & 4.8          & tenure track & minority     & female       & english      & 36           & 62.60163     & 77           & 123          & upper        & single       & multi credit\\\\\n",
       "\t10 & 4.5          & tenured      & not minority & female       & english      & 40           & 86.95652     & 40           &  46          & upper        & single       & multi credit\\\\\n",
       "\t11 & 3.8          & tenured      & not minority & female       & english      & 40           & 88.88889     & 24           &  27          & upper        & single       & multi credit\\\\\n",
       "\\end{tabular}\n"
      ],
      "text/markdown": [
       "\n",
       "| <!--/--> | score | rank | ethnicity | gender | language | age | cls_perc_eval | cls_did_eval | cls_students | cls_level | cls_profs | cls_credits |\n",
       "|---|---|---|---|---|---|---|---|---|---|---|---|---|\n",
       "| 1 | 4.7          | tenure track | minority     | female       | english      | 36           | 55.81395     | 24           |  43          | upper        | single       | multi credit |\n",
       "| 2 | 4.1          | tenure track | minority     | female       | english      | 36           | 68.80000     | 86           | 125          | upper        | single       | multi credit |\n",
       "| 3 | 3.9          | tenure track | minority     | female       | english      | 36           | 60.80000     | 76           | 125          | upper        | single       | multi credit |\n",
       "| 4 | 4.8          | tenure track | minority     | female       | english      | 36           | 62.60163     | 77           | 123          | upper        | single       | multi credit |\n",
       "| 10 | 4.5          | tenured      | not minority | female       | english      | 40           | 86.95652     | 40           |  46          | upper        | single       | multi credit |\n",
       "| 11 | 3.8          | tenured      | not minority | female       | english      | 40           | 88.88889     | 24           |  27          | upper        | single       | multi credit |\n",
       "\n"
      ],
      "text/plain": [
       "   score rank         ethnicity    gender language age cls_perc_eval\n",
       "1  4.7   tenure track minority     female english  36  55.81395     \n",
       "2  4.1   tenure track minority     female english  36  68.80000     \n",
       "3  3.9   tenure track minority     female english  36  60.80000     \n",
       "4  4.8   tenure track minority     female english  36  62.60163     \n",
       "10 4.5   tenured      not minority female english  40  86.95652     \n",
       "11 3.8   tenured      not minority female english  40  88.88889     \n",
       "   cls_did_eval cls_students cls_level cls_profs cls_credits \n",
       "1  24            43          upper     single    multi credit\n",
       "2  86           125          upper     single    multi credit\n",
       "3  76           125          upper     single    multi credit\n",
       "4  77           123          upper     single    multi credit\n",
       "10 40            46          upper     single    multi credit\n",
       "11 24            27          upper     single    multi credit"
      ]
     },
     "metadata": {},
     "output_type": "display_data"
    }
   ],
   "source": [
    "# df$gender == 'female'\n",
    "head(df[df$gender == 'female', 1:12])"
   ]
  },
  {
   "cell_type": "code",
   "execution_count": 68,
   "id": "5c2d140b",
   "metadata": {
    "ExecuteTime": {
     "end_time": "2021-09-05T11:45:40.589316Z",
     "start_time": "2021-09-05T11:45:40.564Z"
    },
    "scrolled": true
   },
   "outputs": [
    {
     "data": {
      "text/html": [
       "<table>\n",
       "<thead><tr><th></th><th scope=col>score</th><th scope=col>rank</th><th scope=col>ethnicity</th><th scope=col>gender</th><th scope=col>language</th><th scope=col>age</th><th scope=col>cls_perc_eval</th><th scope=col>cls_did_eval</th><th scope=col>cls_students</th><th scope=col>cls_level</th><th scope=col>...</th><th scope=col>bty_f1upper</th><th scope=col>bty_f2upper</th><th scope=col>bty_m1lower</th><th scope=col>bty_m1upper</th><th scope=col>bty_m2upper</th><th scope=col>bty_avg</th><th scope=col>pic_outfit</th><th scope=col>pic_color</th><th scope=col>new_columns</th><th scope=col>new_columns_2</th></tr></thead>\n",
       "<tbody>\n",
       "\t<tr><th scope=row>1</th><td>4.7         </td><td>tenure track</td><td>minority    </td><td>female      </td><td>english     </td><td>36          </td><td>55.81395    </td><td>24          </td><td> 43         </td><td>upper       </td><td>...         </td><td>7           </td><td>6           </td><td>2           </td><td>4           </td><td>6           </td><td>5.000       </td><td>not formal  </td><td>color       </td><td>3.6         </td><td> 1          </td></tr>\n",
       "\t<tr><th scope=row>2</th><td>4.1         </td><td>tenure track</td><td>minority    </td><td>female      </td><td>english     </td><td>36          </td><td>68.80000    </td><td>86          </td><td>125         </td><td>upper       </td><td>...         </td><td>7           </td><td>6           </td><td>2           </td><td>4           </td><td>6           </td><td>5.000       </td><td>not formal  </td><td>color       </td><td>3.6         </td><td> 2          </td></tr>\n",
       "\t<tr><th scope=row>3</th><td>3.9         </td><td>tenure track</td><td>minority    </td><td>female      </td><td>english     </td><td>36          </td><td>60.80000    </td><td>76          </td><td>125         </td><td>upper       </td><td>...         </td><td>7           </td><td>6           </td><td>2           </td><td>4           </td><td>6           </td><td>5.000       </td><td>not formal  </td><td>color       </td><td>3.6         </td><td> 3          </td></tr>\n",
       "\t<tr><th scope=row>4</th><td>4.8         </td><td>tenure track</td><td>minority    </td><td>female      </td><td>english     </td><td>36          </td><td>62.60163    </td><td>77          </td><td>123         </td><td>upper       </td><td>...         </td><td>7           </td><td>6           </td><td>2           </td><td>4           </td><td>6           </td><td>5.000       </td><td>not formal  </td><td>color       </td><td>3.6         </td><td> 4          </td></tr>\n",
       "\t<tr><th scope=row>10</th><td>4.5         </td><td>tenured     </td><td>not minority</td><td>female      </td><td>english     </td><td>40          </td><td>86.95652    </td><td>40          </td><td> 46         </td><td>upper       </td><td>...         </td><td>5           </td><td>4           </td><td>3           </td><td>3           </td><td>2           </td><td>3.167       </td><td>not formal  </td><td>color       </td><td>4.0         </td><td>10          </td></tr>\n",
       "\t<tr><th scope=row>11</th><td>3.8         </td><td>tenured     </td><td>not minority</td><td>female      </td><td>english     </td><td>40          </td><td>88.88889    </td><td>24          </td><td> 27         </td><td>upper       </td><td>...         </td><td>5           </td><td>4           </td><td>3           </td><td>3           </td><td>2           </td><td>3.167       </td><td>not formal  </td><td>color       </td><td>4.0         </td><td>11          </td></tr>\n",
       "</tbody>\n",
       "</table>\n"
      ],
      "text/latex": [
       "\\begin{tabular}{r|lllllllllllllllllllllll}\n",
       "  & score & rank & ethnicity & gender & language & age & cls\\_perc\\_eval & cls\\_did\\_eval & cls\\_students & cls\\_level & ... & bty\\_f1upper & bty\\_f2upper & bty\\_m1lower & bty\\_m1upper & bty\\_m2upper & bty\\_avg & pic\\_outfit & pic\\_color & new\\_columns & new\\_columns\\_2\\\\\n",
       "\\hline\n",
       "\t1 & 4.7          & tenure track & minority     & female       & english      & 36           & 55.81395     & 24           &  43          & upper        & ...          & 7            & 6            & 2            & 4            & 6            & 5.000        & not formal   & color        & 3.6          &  1          \\\\\n",
       "\t2 & 4.1          & tenure track & minority     & female       & english      & 36           & 68.80000     & 86           & 125          & upper        & ...          & 7            & 6            & 2            & 4            & 6            & 5.000        & not formal   & color        & 3.6          &  2          \\\\\n",
       "\t3 & 3.9          & tenure track & minority     & female       & english      & 36           & 60.80000     & 76           & 125          & upper        & ...          & 7            & 6            & 2            & 4            & 6            & 5.000        & not formal   & color        & 3.6          &  3          \\\\\n",
       "\t4 & 4.8          & tenure track & minority     & female       & english      & 36           & 62.60163     & 77           & 123          & upper        & ...          & 7            & 6            & 2            & 4            & 6            & 5.000        & not formal   & color        & 3.6          &  4          \\\\\n",
       "\t10 & 4.5          & tenured      & not minority & female       & english      & 40           & 86.95652     & 40           &  46          & upper        & ...          & 5            & 4            & 3            & 3            & 2            & 3.167        & not formal   & color        & 4.0          & 10          \\\\\n",
       "\t11 & 3.8          & tenured      & not minority & female       & english      & 40           & 88.88889     & 24           &  27          & upper        & ...          & 5            & 4            & 3            & 3            & 2            & 3.167        & not formal   & color        & 4.0          & 11          \\\\\n",
       "\\end{tabular}\n"
      ],
      "text/markdown": [
       "\n",
       "| <!--/--> | score | rank | ethnicity | gender | language | age | cls_perc_eval | cls_did_eval | cls_students | cls_level | ... | bty_f1upper | bty_f2upper | bty_m1lower | bty_m1upper | bty_m2upper | bty_avg | pic_outfit | pic_color | new_columns | new_columns_2 |\n",
       "|---|---|---|---|---|---|---|---|---|---|---|---|---|---|---|---|---|---|---|---|---|---|\n",
       "| 1 | 4.7          | tenure track | minority     | female       | english      | 36           | 55.81395     | 24           |  43          | upper        | ...          | 7            | 6            | 2            | 4            | 6            | 5.000        | not formal   | color        | 3.6          |  1           |\n",
       "| 2 | 4.1          | tenure track | minority     | female       | english      | 36           | 68.80000     | 86           | 125          | upper        | ...          | 7            | 6            | 2            | 4            | 6            | 5.000        | not formal   | color        | 3.6          |  2           |\n",
       "| 3 | 3.9          | tenure track | minority     | female       | english      | 36           | 60.80000     | 76           | 125          | upper        | ...          | 7            | 6            | 2            | 4            | 6            | 5.000        | not formal   | color        | 3.6          |  3           |\n",
       "| 4 | 4.8          | tenure track | minority     | female       | english      | 36           | 62.60163     | 77           | 123          | upper        | ...          | 7            | 6            | 2            | 4            | 6            | 5.000        | not formal   | color        | 3.6          |  4           |\n",
       "| 10 | 4.5          | tenured      | not minority | female       | english      | 40           | 86.95652     | 40           |  46          | upper        | ...          | 5            | 4            | 3            | 3            | 2            | 3.167        | not formal   | color        | 4.0          | 10           |\n",
       "| 11 | 3.8          | tenured      | not minority | female       | english      | 40           | 88.88889     | 24           |  27          | upper        | ...          | 5            | 4            | 3            | 3            | 2            | 3.167        | not formal   | color        | 4.0          | 11           |\n",
       "\n"
      ],
      "text/plain": [
       "   score rank         ethnicity    gender language age cls_perc_eval\n",
       "1  4.7   tenure track minority     female english  36  55.81395     \n",
       "2  4.1   tenure track minority     female english  36  68.80000     \n",
       "3  3.9   tenure track minority     female english  36  60.80000     \n",
       "4  4.8   tenure track minority     female english  36  62.60163     \n",
       "10 4.5   tenured      not minority female english  40  86.95652     \n",
       "11 3.8   tenured      not minority female english  40  88.88889     \n",
       "   cls_did_eval cls_students cls_level ... bty_f1upper bty_f2upper bty_m1lower\n",
       "1  24            43          upper     ... 7           6           2          \n",
       "2  86           125          upper     ... 7           6           2          \n",
       "3  76           125          upper     ... 7           6           2          \n",
       "4  77           123          upper     ... 7           6           2          \n",
       "10 40            46          upper     ... 5           4           3          \n",
       "11 24            27          upper     ... 5           4           3          \n",
       "   bty_m1upper bty_m2upper bty_avg pic_outfit pic_color new_columns\n",
       "1  4           6           5.000   not formal color     3.6        \n",
       "2  4           6           5.000   not formal color     3.6        \n",
       "3  4           6           5.000   not formal color     3.6        \n",
       "4  4           6           5.000   not formal color     3.6        \n",
       "10 3           2           3.167   not formal color     4.0        \n",
       "11 3           2           3.167   not formal color     4.0        \n",
       "   new_columns_2\n",
       "1   1           \n",
       "2   2           \n",
       "3   3           \n",
       "4   4           \n",
       "10 10           \n",
       "11 11           "
      ]
     },
     "metadata": {},
     "output_type": "display_data"
    }
   ],
   "source": [
    "head(subset(df, gender == 'female'))"
   ]
  },
  {
   "cell_type": "code",
   "execution_count": 70,
   "id": "0499ea36",
   "metadata": {
    "ExecuteTime": {
     "end_time": "2021-09-05T11:46:03.685270Z",
     "start_time": "2021-09-05T11:46:03.665Z"
    }
   },
   "outputs": [
    {
     "data": {
      "text/html": [
       "<table>\n",
       "<thead><tr><th></th><th scope=col>score</th><th scope=col>rank</th><th scope=col>ethnicity</th><th scope=col>gender</th><th scope=col>language</th><th scope=col>age</th><th scope=col>cls_perc_eval</th><th scope=col>cls_did_eval</th><th scope=col>cls_students</th><th scope=col>cls_level</th><th scope=col>...</th><th scope=col>bty_f1upper</th><th scope=col>bty_f2upper</th><th scope=col>bty_m1lower</th><th scope=col>bty_m1upper</th><th scope=col>bty_m2upper</th><th scope=col>bty_avg</th><th scope=col>pic_outfit</th><th scope=col>pic_color</th><th scope=col>new_columns</th><th scope=col>new_columns_2</th></tr></thead>\n",
       "<tbody>\n",
       "\t<tr><th scope=row>21</th><td>4.9         </td><td>tenure track</td><td>not minority</td><td>female      </td><td>english     </td><td>31          </td><td>88.88889    </td><td> 40         </td><td> 45         </td><td>upper       </td><td>...         </td><td>9           </td><td>9           </td><td>7           </td><td>6           </td><td>6           </td><td>7.333       </td><td>not formal  </td><td>color       </td><td>3.1         </td><td>21          </td></tr>\n",
       "\t<tr><th scope=row>29</th><td>4.9         </td><td>tenured     </td><td>not minority</td><td>male        </td><td>english     </td><td>62          </td><td>58.04196    </td><td>166         </td><td>286         </td><td>upper       </td><td>...         </td><td>6           </td><td>5           </td><td>5           </td><td>5           </td><td>6           </td><td>5.500       </td><td>formal      </td><td>color       </td><td>6.2         </td><td>29          </td></tr>\n",
       "\t<tr><th scope=row>54</th><td>5.0         </td><td>teaching    </td><td>not minority</td><td>male        </td><td>english     </td><td>47          </td><td>90.90909    </td><td> 10         </td><td> 11         </td><td>lower       </td><td>...         </td><td>7           </td><td>6           </td><td>3           </td><td>6           </td><td>6           </td><td>5.500       </td><td>not formal  </td><td>color       </td><td>4.7         </td><td>54          </td></tr>\n",
       "\t<tr><th scope=row>55</th><td>4.9         </td><td>teaching    </td><td>not minority</td><td>male        </td><td>english     </td><td>47          </td><td>58.62069    </td><td> 17         </td><td> 29         </td><td>lower       </td><td>...         </td><td>7           </td><td>6           </td><td>3           </td><td>6           </td><td>6           </td><td>5.500       </td><td>not formal  </td><td>color       </td><td>4.7         </td><td>55          </td></tr>\n",
       "\t<tr><th scope=row>57</th><td>5.0         </td><td>teaching    </td><td>not minority</td><td>male        </td><td>english     </td><td>47          </td><td>83.33334    </td><td> 15         </td><td> 18         </td><td>lower       </td><td>...         </td><td>7           </td><td>6           </td><td>3           </td><td>6           </td><td>6           </td><td>5.500       </td><td>not formal  </td><td>color       </td><td>4.7         </td><td>57          </td></tr>\n",
       "\t<tr><th scope=row>59</th><td>5.0         </td><td>teaching    </td><td>not minority</td><td>male        </td><td>english     </td><td>47          </td><td>80.00000    </td><td> 16         </td><td> 20         </td><td>lower       </td><td>...         </td><td>7           </td><td>6           </td><td>3           </td><td>6           </td><td>6           </td><td>5.500       </td><td>not formal  </td><td>color       </td><td>4.7         </td><td>59          </td></tr>\n",
       "</tbody>\n",
       "</table>\n"
      ],
      "text/latex": [
       "\\begin{tabular}{r|lllllllllllllllllllllll}\n",
       "  & score & rank & ethnicity & gender & language & age & cls\\_perc\\_eval & cls\\_did\\_eval & cls\\_students & cls\\_level & ... & bty\\_f1upper & bty\\_f2upper & bty\\_m1lower & bty\\_m1upper & bty\\_m2upper & bty\\_avg & pic\\_outfit & pic\\_color & new\\_columns & new\\_columns\\_2\\\\\n",
       "\\hline\n",
       "\t21 & 4.9          & tenure track & not minority & female       & english      & 31           & 88.88889     &  40          &  45          & upper        & ...          & 9            & 9            & 7            & 6            & 6            & 7.333        & not formal   & color        & 3.1          & 21          \\\\\n",
       "\t29 & 4.9          & tenured      & not minority & male         & english      & 62           & 58.04196     & 166          & 286          & upper        & ...          & 6            & 5            & 5            & 5            & 6            & 5.500        & formal       & color        & 6.2          & 29          \\\\\n",
       "\t54 & 5.0          & teaching     & not minority & male         & english      & 47           & 90.90909     &  10          &  11          & lower        & ...          & 7            & 6            & 3            & 6            & 6            & 5.500        & not formal   & color        & 4.7          & 54          \\\\\n",
       "\t55 & 4.9          & teaching     & not minority & male         & english      & 47           & 58.62069     &  17          &  29          & lower        & ...          & 7            & 6            & 3            & 6            & 6            & 5.500        & not formal   & color        & 4.7          & 55          \\\\\n",
       "\t57 & 5.0          & teaching     & not minority & male         & english      & 47           & 83.33334     &  15          &  18          & lower        & ...          & 7            & 6            & 3            & 6            & 6            & 5.500        & not formal   & color        & 4.7          & 57          \\\\\n",
       "\t59 & 5.0          & teaching     & not minority & male         & english      & 47           & 80.00000     &  16          &  20          & lower        & ...          & 7            & 6            & 3            & 6            & 6            & 5.500        & not formal   & color        & 4.7          & 59          \\\\\n",
       "\\end{tabular}\n"
      ],
      "text/markdown": [
       "\n",
       "| <!--/--> | score | rank | ethnicity | gender | language | age | cls_perc_eval | cls_did_eval | cls_students | cls_level | ... | bty_f1upper | bty_f2upper | bty_m1lower | bty_m1upper | bty_m2upper | bty_avg | pic_outfit | pic_color | new_columns | new_columns_2 |\n",
       "|---|---|---|---|---|---|---|---|---|---|---|---|---|---|---|---|---|---|---|---|---|---|\n",
       "| 21 | 4.9          | tenure track | not minority | female       | english      | 31           | 88.88889     |  40          |  45          | upper        | ...          | 9            | 9            | 7            | 6            | 6            | 7.333        | not formal   | color        | 3.1          | 21           |\n",
       "| 29 | 4.9          | tenured      | not minority | male         | english      | 62           | 58.04196     | 166          | 286          | upper        | ...          | 6            | 5            | 5            | 5            | 6            | 5.500        | formal       | color        | 6.2          | 29           |\n",
       "| 54 | 5.0          | teaching     | not minority | male         | english      | 47           | 90.90909     |  10          |  11          | lower        | ...          | 7            | 6            | 3            | 6            | 6            | 5.500        | not formal   | color        | 4.7          | 54           |\n",
       "| 55 | 4.9          | teaching     | not minority | male         | english      | 47           | 58.62069     |  17          |  29          | lower        | ...          | 7            | 6            | 3            | 6            | 6            | 5.500        | not formal   | color        | 4.7          | 55           |\n",
       "| 57 | 5.0          | teaching     | not minority | male         | english      | 47           | 83.33334     |  15          |  18          | lower        | ...          | 7            | 6            | 3            | 6            | 6            | 5.500        | not formal   | color        | 4.7          | 57           |\n",
       "| 59 | 5.0          | teaching     | not minority | male         | english      | 47           | 80.00000     |  16          |  20          | lower        | ...          | 7            | 6            | 3            | 6            | 6            | 5.500        | not formal   | color        | 4.7          | 59           |\n",
       "\n"
      ],
      "text/plain": [
       "   score rank         ethnicity    gender language age cls_perc_eval\n",
       "21 4.9   tenure track not minority female english  31  88.88889     \n",
       "29 4.9   tenured      not minority male   english  62  58.04196     \n",
       "54 5.0   teaching     not minority male   english  47  90.90909     \n",
       "55 4.9   teaching     not minority male   english  47  58.62069     \n",
       "57 5.0   teaching     not minority male   english  47  83.33334     \n",
       "59 5.0   teaching     not minority male   english  47  80.00000     \n",
       "   cls_did_eval cls_students cls_level ... bty_f1upper bty_f2upper bty_m1lower\n",
       "21  40           45          upper     ... 9           9           7          \n",
       "29 166          286          upper     ... 6           5           5          \n",
       "54  10           11          lower     ... 7           6           3          \n",
       "55  17           29          lower     ... 7           6           3          \n",
       "57  15           18          lower     ... 7           6           3          \n",
       "59  16           20          lower     ... 7           6           3          \n",
       "   bty_m1upper bty_m2upper bty_avg pic_outfit pic_color new_columns\n",
       "21 6           6           7.333   not formal color     3.1        \n",
       "29 5           6           5.500   formal     color     6.2        \n",
       "54 6           6           5.500   not formal color     4.7        \n",
       "55 6           6           5.500   not formal color     4.7        \n",
       "57 6           6           5.500   not formal color     4.7        \n",
       "59 6           6           5.500   not formal color     4.7        \n",
       "   new_columns_2\n",
       "21 21           \n",
       "29 29           \n",
       "54 54           \n",
       "55 55           \n",
       "57 57           \n",
       "59 59           "
      ]
     },
     "metadata": {},
     "output_type": "display_data"
    }
   ],
   "source": [
    "head(subset(df, score > 4.8))"
   ]
  },
  {
   "cell_type": "code",
   "execution_count": 121,
   "id": "6398fb45",
   "metadata": {
    "ExecuteTime": {
     "end_time": "2021-09-05T12:09:29.800274Z",
     "start_time": "2021-09-05T12:09:29.789Z"
    }
   },
   "outputs": [
    {
     "data": {
      "text/html": [
       "<ol class=list-inline>\n",
       "\t<li>'score'</li>\n",
       "\t<li>'rank'</li>\n",
       "\t<li>'ethnicity'</li>\n",
       "\t<li>'gender'</li>\n",
       "\t<li>'language'</li>\n",
       "\t<li>'age'</li>\n",
       "\t<li>'cls_perc_eval'</li>\n",
       "\t<li>'cls_did_eval'</li>\n",
       "\t<li>'cls_students'</li>\n",
       "\t<li>'cls_level'</li>\n",
       "\t<li>'cls_profs'</li>\n",
       "\t<li>'cls_credits'</li>\n",
       "\t<li>'bty_f1lower'</li>\n",
       "\t<li>'bty_f1upper'</li>\n",
       "\t<li>'bty_f2upper'</li>\n",
       "\t<li>'bty_m1lower'</li>\n",
       "\t<li>'bty_m1upper'</li>\n",
       "\t<li>'bty_m2upper'</li>\n",
       "\t<li>'bty_avg'</li>\n",
       "\t<li>'pic_outfit'</li>\n",
       "\t<li>'pic_color'</li>\n",
       "\t<li>'new_columns'</li>\n",
       "\t<li>'new_columns_2'</li>\n",
       "</ol>\n"
      ],
      "text/latex": [
       "\\begin{enumerate*}\n",
       "\\item 'score'\n",
       "\\item 'rank'\n",
       "\\item 'ethnicity'\n",
       "\\item 'gender'\n",
       "\\item 'language'\n",
       "\\item 'age'\n",
       "\\item 'cls\\_perc\\_eval'\n",
       "\\item 'cls\\_did\\_eval'\n",
       "\\item 'cls\\_students'\n",
       "\\item 'cls\\_level'\n",
       "\\item 'cls\\_profs'\n",
       "\\item 'cls\\_credits'\n",
       "\\item 'bty\\_f1lower'\n",
       "\\item 'bty\\_f1upper'\n",
       "\\item 'bty\\_f2upper'\n",
       "\\item 'bty\\_m1lower'\n",
       "\\item 'bty\\_m1upper'\n",
       "\\item 'bty\\_m2upper'\n",
       "\\item 'bty\\_avg'\n",
       "\\item 'pic\\_outfit'\n",
       "\\item 'pic\\_color'\n",
       "\\item 'new\\_columns'\n",
       "\\item 'new\\_columns\\_2'\n",
       "\\end{enumerate*}\n"
      ],
      "text/markdown": [
       "1. 'score'\n",
       "2. 'rank'\n",
       "3. 'ethnicity'\n",
       "4. 'gender'\n",
       "5. 'language'\n",
       "6. 'age'\n",
       "7. 'cls_perc_eval'\n",
       "8. 'cls_did_eval'\n",
       "9. 'cls_students'\n",
       "10. 'cls_level'\n",
       "11. 'cls_profs'\n",
       "12. 'cls_credits'\n",
       "13. 'bty_f1lower'\n",
       "14. 'bty_f1upper'\n",
       "15. 'bty_f2upper'\n",
       "16. 'bty_m1lower'\n",
       "17. 'bty_m1upper'\n",
       "18. 'bty_m2upper'\n",
       "19. 'bty_avg'\n",
       "20. 'pic_outfit'\n",
       "21. 'pic_color'\n",
       "22. 'new_columns'\n",
       "23. 'new_columns_2'\n",
       "\n",
       "\n"
      ],
      "text/plain": [
       " [1] \"score\"         \"rank\"          \"ethnicity\"     \"gender\"       \n",
       " [5] \"language\"      \"age\"           \"cls_perc_eval\" \"cls_did_eval\" \n",
       " [9] \"cls_students\"  \"cls_level\"     \"cls_profs\"     \"cls_credits\"  \n",
       "[13] \"bty_f1lower\"   \"bty_f1upper\"   \"bty_f2upper\"   \"bty_m1lower\"  \n",
       "[17] \"bty_m1upper\"   \"bty_m2upper\"   \"bty_avg\"       \"pic_outfit\"   \n",
       "[21] \"pic_color\"     \"new_columns\"   \"new_columns_2\""
      ]
     },
     "metadata": {},
     "output_type": "display_data"
    }
   ],
   "source": [
    "names(df)"
   ]
  },
  {
   "cell_type": "code",
   "execution_count": 123,
   "id": "d3902468",
   "metadata": {
    "ExecuteTime": {
     "end_time": "2021-09-05T12:09:44.294855Z",
     "start_time": "2021-09-05T12:09:44.279Z"
    },
    "scrolled": true
   },
   "outputs": [
    {
     "data": {
      "text/html": [
       "<table>\n",
       "<thead><tr><th></th><th scope=col>score</th><th scope=col>ethnicity</th><th scope=col>bty_m1lower</th><th scope=col>cls_credits</th></tr></thead>\n",
       "<tbody>\n",
       "\t<tr><th scope=row>1</th><td>4.7         </td><td>minority    </td><td>2           </td><td>multi credit</td></tr>\n",
       "\t<tr><th scope=row>2</th><td>4.1         </td><td>minority    </td><td>2           </td><td>multi credit</td></tr>\n",
       "\t<tr><th scope=row>3</th><td>3.9         </td><td>minority    </td><td>2           </td><td>multi credit</td></tr>\n",
       "\t<tr><th scope=row>4</th><td>4.8         </td><td>minority    </td><td>2           </td><td>multi credit</td></tr>\n",
       "\t<tr><th scope=row>10</th><td>4.5         </td><td>not minority</td><td>3           </td><td>multi credit</td></tr>\n",
       "\t<tr><th scope=row>11</th><td>3.8         </td><td>not minority</td><td>3           </td><td>multi credit</td></tr>\n",
       "</tbody>\n",
       "</table>\n"
      ],
      "text/latex": [
       "\\begin{tabular}{r|llll}\n",
       "  & score & ethnicity & bty\\_m1lower & cls\\_credits\\\\\n",
       "\\hline\n",
       "\t1 & 4.7          & minority     & 2            & multi credit\\\\\n",
       "\t2 & 4.1          & minority     & 2            & multi credit\\\\\n",
       "\t3 & 3.9          & minority     & 2            & multi credit\\\\\n",
       "\t4 & 4.8          & minority     & 2            & multi credit\\\\\n",
       "\t10 & 4.5          & not minority & 3            & multi credit\\\\\n",
       "\t11 & 3.8          & not minority & 3            & multi credit\\\\\n",
       "\\end{tabular}\n"
      ],
      "text/markdown": [
       "\n",
       "| <!--/--> | score | ethnicity | bty_m1lower | cls_credits |\n",
       "|---|---|---|---|---|\n",
       "| 1 | 4.7          | minority     | 2            | multi credit |\n",
       "| 2 | 4.1          | minority     | 2            | multi credit |\n",
       "| 3 | 3.9          | minority     | 2            | multi credit |\n",
       "| 4 | 4.8          | minority     | 2            | multi credit |\n",
       "| 10 | 4.5          | not minority | 3            | multi credit |\n",
       "| 11 | 3.8          | not minority | 3            | multi credit |\n",
       "\n"
      ],
      "text/plain": [
       "   score ethnicity    bty_m1lower cls_credits \n",
       "1  4.7   minority     2           multi credit\n",
       "2  4.1   minority     2           multi credit\n",
       "3  3.9   minority     2           multi credit\n",
       "4  4.8   minority     2           multi credit\n",
       "10 4.5   not minority 3           multi credit\n",
       "11 3.8   not minority 3           multi credit"
      ]
     },
     "metadata": {},
     "output_type": "display_data"
    }
   ],
   "source": [
    "df[1:6, c('score', 'ethnicity', 'bty_m1lower', 'cls_credits')]"
   ]
  },
  {
   "cell_type": "code",
   "execution_count": 129,
   "id": "f6e30233",
   "metadata": {
    "ExecuteTime": {
     "end_time": "2021-09-05T12:11:48.854120Z",
     "start_time": "2021-09-05T12:11:48.836Z"
    },
    "scrolled": true
   },
   "outputs": [
    {
     "data": {
      "text/html": [
       "<table>\n",
       "<thead><tr><th></th><th scope=col>cls_perc_eval</th><th scope=col>cls_did_eval</th><th scope=col>cls_students</th><th scope=col>cls_level</th><th scope=col>cls_profs</th><th scope=col>cls_credits</th><th scope=col>bty_f1lower</th><th scope=col>bty_f1upper</th><th scope=col>bty_f2upper</th><th scope=col>bty_m1lower</th><th scope=col>bty_m1upper</th><th scope=col>bty_m2upper</th><th scope=col>bty_avg</th><th scope=col>pic_outfit</th><th scope=col>pic_color</th><th scope=col>new_columns</th><th scope=col>new_columns_2</th></tr></thead>\n",
       "<tbody>\n",
       "\t<tr><th scope=row>1</th><td>55.81395    </td><td>24          </td><td> 43         </td><td>upper       </td><td>single      </td><td>multi credit</td><td>5           </td><td>7           </td><td>6           </td><td>2           </td><td>4           </td><td>6           </td><td>5.000       </td><td>not formal  </td><td>color       </td><td>3.6         </td><td> 1          </td></tr>\n",
       "\t<tr><th scope=row>2</th><td>68.80000    </td><td>86          </td><td>125         </td><td>upper       </td><td>single      </td><td>multi credit</td><td>5           </td><td>7           </td><td>6           </td><td>2           </td><td>4           </td><td>6           </td><td>5.000       </td><td>not formal  </td><td>color       </td><td>3.6         </td><td> 2          </td></tr>\n",
       "\t<tr><th scope=row>3</th><td>60.80000    </td><td>76          </td><td>125         </td><td>upper       </td><td>single      </td><td>multi credit</td><td>5           </td><td>7           </td><td>6           </td><td>2           </td><td>4           </td><td>6           </td><td>5.000       </td><td>not formal  </td><td>color       </td><td>3.6         </td><td> 3          </td></tr>\n",
       "\t<tr><th scope=row>4</th><td>62.60163    </td><td>77          </td><td>123         </td><td>upper       </td><td>single      </td><td>multi credit</td><td>5           </td><td>7           </td><td>6           </td><td>2           </td><td>4           </td><td>6           </td><td>5.000       </td><td>not formal  </td><td>color       </td><td>3.6         </td><td> 4          </td></tr>\n",
       "\t<tr><th scope=row>10</th><td>86.95652    </td><td>40          </td><td> 46         </td><td>upper       </td><td>single      </td><td>multi credit</td><td>2           </td><td>5           </td><td>4           </td><td>3           </td><td>3           </td><td>2           </td><td>3.167       </td><td>not formal  </td><td>color       </td><td>4.0         </td><td>10          </td></tr>\n",
       "\t<tr><th scope=row>11</th><td>88.88889    </td><td>24          </td><td> 27         </td><td>upper       </td><td>single      </td><td>multi credit</td><td>2           </td><td>5           </td><td>4           </td><td>3           </td><td>3           </td><td>2           </td><td>3.167       </td><td>not formal  </td><td>color       </td><td>4.0         </td><td>11          </td></tr>\n",
       "</tbody>\n",
       "</table>\n"
      ],
      "text/latex": [
       "\\begin{tabular}{r|lllllllllllllllll}\n",
       "  & cls\\_perc\\_eval & cls\\_did\\_eval & cls\\_students & cls\\_level & cls\\_profs & cls\\_credits & bty\\_f1lower & bty\\_f1upper & bty\\_f2upper & bty\\_m1lower & bty\\_m1upper & bty\\_m2upper & bty\\_avg & pic\\_outfit & pic\\_color & new\\_columns & new\\_columns\\_2\\\\\n",
       "\\hline\n",
       "\t1 & 55.81395     & 24           &  43          & upper        & single       & multi credit & 5            & 7            & 6            & 2            & 4            & 6            & 5.000        & not formal   & color        & 3.6          &  1          \\\\\n",
       "\t2 & 68.80000     & 86           & 125          & upper        & single       & multi credit & 5            & 7            & 6            & 2            & 4            & 6            & 5.000        & not formal   & color        & 3.6          &  2          \\\\\n",
       "\t3 & 60.80000     & 76           & 125          & upper        & single       & multi credit & 5            & 7            & 6            & 2            & 4            & 6            & 5.000        & not formal   & color        & 3.6          &  3          \\\\\n",
       "\t4 & 62.60163     & 77           & 123          & upper        & single       & multi credit & 5            & 7            & 6            & 2            & 4            & 6            & 5.000        & not formal   & color        & 3.6          &  4          \\\\\n",
       "\t10 & 86.95652     & 40           &  46          & upper        & single       & multi credit & 2            & 5            & 4            & 3            & 3            & 2            & 3.167        & not formal   & color        & 4.0          & 10          \\\\\n",
       "\t11 & 88.88889     & 24           &  27          & upper        & single       & multi credit & 2            & 5            & 4            & 3            & 3            & 2            & 3.167        & not formal   & color        & 4.0          & 11          \\\\\n",
       "\\end{tabular}\n"
      ],
      "text/markdown": [
       "\n",
       "| <!--/--> | cls_perc_eval | cls_did_eval | cls_students | cls_level | cls_profs | cls_credits | bty_f1lower | bty_f1upper | bty_f2upper | bty_m1lower | bty_m1upper | bty_m2upper | bty_avg | pic_outfit | pic_color | new_columns | new_columns_2 |\n",
       "|---|---|---|---|---|---|---|---|---|---|---|---|---|---|---|---|---|---|\n",
       "| 1 | 55.81395     | 24           |  43          | upper        | single       | multi credit | 5            | 7            | 6            | 2            | 4            | 6            | 5.000        | not formal   | color        | 3.6          |  1           |\n",
       "| 2 | 68.80000     | 86           | 125          | upper        | single       | multi credit | 5            | 7            | 6            | 2            | 4            | 6            | 5.000        | not formal   | color        | 3.6          |  2           |\n",
       "| 3 | 60.80000     | 76           | 125          | upper        | single       | multi credit | 5            | 7            | 6            | 2            | 4            | 6            | 5.000        | not formal   | color        | 3.6          |  3           |\n",
       "| 4 | 62.60163     | 77           | 123          | upper        | single       | multi credit | 5            | 7            | 6            | 2            | 4            | 6            | 5.000        | not formal   | color        | 3.6          |  4           |\n",
       "| 10 | 86.95652     | 40           |  46          | upper        | single       | multi credit | 2            | 5            | 4            | 3            | 3            | 2            | 3.167        | not formal   | color        | 4.0          | 10           |\n",
       "| 11 | 88.88889     | 24           |  27          | upper        | single       | multi credit | 2            | 5            | 4            | 3            | 3            | 2            | 3.167        | not formal   | color        | 4.0          | 11           |\n",
       "\n"
      ],
      "text/plain": [
       "   cls_perc_eval cls_did_eval cls_students cls_level cls_profs cls_credits \n",
       "1  55.81395      24            43          upper     single    multi credit\n",
       "2  68.80000      86           125          upper     single    multi credit\n",
       "3  60.80000      76           125          upper     single    multi credit\n",
       "4  62.60163      77           123          upper     single    multi credit\n",
       "10 86.95652      40            46          upper     single    multi credit\n",
       "11 88.88889      24            27          upper     single    multi credit\n",
       "   bty_f1lower bty_f1upper bty_f2upper bty_m1lower bty_m1upper bty_m2upper\n",
       "1  5           7           6           2           4           6          \n",
       "2  5           7           6           2           4           6          \n",
       "3  5           7           6           2           4           6          \n",
       "4  5           7           6           2           4           6          \n",
       "10 2           5           4           3           3           2          \n",
       "11 2           5           4           3           3           2          \n",
       "   bty_avg pic_outfit pic_color new_columns new_columns_2\n",
       "1  5.000   not formal color     3.6          1           \n",
       "2  5.000   not formal color     3.6          2           \n",
       "3  5.000   not formal color     3.6          3           \n",
       "4  5.000   not formal color     3.6          4           \n",
       "10 3.167   not formal color     4.0         10           \n",
       "11 3.167   not formal color     4.0         11           "
      ]
     },
     "metadata": {},
     "output_type": "display_data"
    }
   ],
   "source": [
    "# вывести все колонки кромер первых шести\n",
    "df[1:6, -c(1:6)]"
   ]
  },
  {
   "cell_type": "code",
   "execution_count": 130,
   "id": "ba84b3a1",
   "metadata": {
    "ExecuteTime": {
     "end_time": "2021-09-05T12:12:12.089147Z",
     "start_time": "2021-09-05T12:12:12.072Z"
    }
   },
   "outputs": [
    {
     "data": {
      "text/html": [
       "<table>\n",
       "<thead><tr><th></th><th scope=col>mpg</th><th scope=col>cyl</th><th scope=col>disp</th><th scope=col>hp</th><th scope=col>drat</th><th scope=col>wt</th><th scope=col>qsec</th><th scope=col>vs</th><th scope=col>am</th><th scope=col>gear</th><th scope=col>carb</th><th scope=col>even_gear</th></tr></thead>\n",
       "<tbody>\n",
       "\t<tr><th scope=row>Mazda RX4</th><td>21.0 </td><td>6    </td><td>160.0</td><td>110  </td><td>3.90 </td><td>2.620</td><td>16.46</td><td>0    </td><td>1    </td><td>4    </td><td>4    </td><td>1    </td></tr>\n",
       "\t<tr><th scope=row>Mazda RX4 Wag</th><td>21.0 </td><td>6    </td><td>160.0</td><td>110  </td><td>3.90 </td><td>2.875</td><td>17.02</td><td>0    </td><td>1    </td><td>4    </td><td>4    </td><td>1    </td></tr>\n",
       "\t<tr><th scope=row>Lotus Europa</th><td>30.4 </td><td>4    </td><td> 95.1</td><td>113  </td><td>3.77 </td><td>1.513</td><td>16.90</td><td>1    </td><td>1    </td><td>5    </td><td>2    </td><td>0    </td></tr>\n",
       "\t<tr><th scope=row>Ford Pantera L</th><td>15.8 </td><td>8    </td><td>351.0</td><td>264  </td><td>4.22 </td><td>3.170</td><td>14.50</td><td>0    </td><td>1    </td><td>5    </td><td>4    </td><td>0    </td></tr>\n",
       "\t<tr><th scope=row>Ferrari Dino</th><td>19.7 </td><td>6    </td><td>145.0</td><td>175  </td><td>3.62 </td><td>2.770</td><td>15.50</td><td>0    </td><td>1    </td><td>5    </td><td>6    </td><td>0    </td></tr>\n",
       "\t<tr><th scope=row>Maserati Bora</th><td>15.0 </td><td>8    </td><td>301.0</td><td>335  </td><td>3.54 </td><td>3.570</td><td>14.60</td><td>0    </td><td>1    </td><td>5    </td><td>8    </td><td>0    </td></tr>\n",
       "\t<tr><th scope=row>Volvo 142E</th><td>21.4 </td><td>4    </td><td>121.0</td><td>109  </td><td>4.11 </td><td>2.780</td><td>18.60</td><td>1    </td><td>1    </td><td>4    </td><td>2    </td><td>1    </td></tr>\n",
       "</tbody>\n",
       "</table>\n"
      ],
      "text/latex": [
       "\\begin{tabular}{r|llllllllllll}\n",
       "  & mpg & cyl & disp & hp & drat & wt & qsec & vs & am & gear & carb & even\\_gear\\\\\n",
       "\\hline\n",
       "\tMazda RX4 & 21.0  & 6     & 160.0 & 110   & 3.90  & 2.620 & 16.46 & 0     & 1     & 4     & 4     & 1    \\\\\n",
       "\tMazda RX4 Wag & 21.0  & 6     & 160.0 & 110   & 3.90  & 2.875 & 17.02 & 0     & 1     & 4     & 4     & 1    \\\\\n",
       "\tLotus Europa & 30.4  & 4     &  95.1 & 113   & 3.77  & 1.513 & 16.90 & 1     & 1     & 5     & 2     & 0    \\\\\n",
       "\tFord Pantera L & 15.8  & 8     & 351.0 & 264   & 4.22  & 3.170 & 14.50 & 0     & 1     & 5     & 4     & 0    \\\\\n",
       "\tFerrari Dino & 19.7  & 6     & 145.0 & 175   & 3.62  & 2.770 & 15.50 & 0     & 1     & 5     & 6     & 0    \\\\\n",
       "\tMaserati Bora & 15.0  & 8     & 301.0 & 335   & 3.54  & 3.570 & 14.60 & 0     & 1     & 5     & 8     & 0    \\\\\n",
       "\tVolvo 142E & 21.4  & 4     & 121.0 & 109   & 4.11  & 2.780 & 18.60 & 1     & 1     & 4     & 2     & 1    \\\\\n",
       "\\end{tabular}\n"
      ],
      "text/markdown": [
       "\n",
       "| <!--/--> | mpg | cyl | disp | hp | drat | wt | qsec | vs | am | gear | carb | even_gear |\n",
       "|---|---|---|---|---|---|---|---|---|---|---|---|---|\n",
       "| Mazda RX4 | 21.0  | 6     | 160.0 | 110   | 3.90  | 2.620 | 16.46 | 0     | 1     | 4     | 4     | 1     |\n",
       "| Mazda RX4 Wag | 21.0  | 6     | 160.0 | 110   | 3.90  | 2.875 | 17.02 | 0     | 1     | 4     | 4     | 1     |\n",
       "| Lotus Europa | 30.4  | 4     |  95.1 | 113   | 3.77  | 1.513 | 16.90 | 1     | 1     | 5     | 2     | 0     |\n",
       "| Ford Pantera L | 15.8  | 8     | 351.0 | 264   | 4.22  | 3.170 | 14.50 | 0     | 1     | 5     | 4     | 0     |\n",
       "| Ferrari Dino | 19.7  | 6     | 145.0 | 175   | 3.62  | 2.770 | 15.50 | 0     | 1     | 5     | 6     | 0     |\n",
       "| Maserati Bora | 15.0  | 8     | 301.0 | 335   | 3.54  | 3.570 | 14.60 | 0     | 1     | 5     | 8     | 0     |\n",
       "| Volvo 142E | 21.4  | 4     | 121.0 | 109   | 4.11  | 2.780 | 18.60 | 1     | 1     | 4     | 2     | 1     |\n",
       "\n"
      ],
      "text/plain": [
       "               mpg  cyl disp  hp  drat wt    qsec  vs am gear carb even_gear\n",
       "Mazda RX4      21.0 6   160.0 110 3.90 2.620 16.46 0  1  4    4    1        \n",
       "Mazda RX4 Wag  21.0 6   160.0 110 3.90 2.875 17.02 0  1  4    4    1        \n",
       "Lotus Europa   30.4 4    95.1 113 3.77 1.513 16.90 1  1  5    2    0        \n",
       "Ford Pantera L 15.8 8   351.0 264 4.22 3.170 14.50 0  1  5    4    0        \n",
       "Ferrari Dino   19.7 6   145.0 175 3.62 2.770 15.50 0  1  5    6    0        \n",
       "Maserati Bora  15.0 8   301.0 335 3.54 3.570 14.60 0  1  5    8    0        \n",
       "Volvo 142E     21.4 4   121.0 109 4.11 2.780 18.60 1  1  4    2    1        "
      ]
     },
     "metadata": {},
     "output_type": "display_data"
    }
   ],
   "source": [
    "# Для более сложных запросов используйте функцию subset()\n",
    "subset(mtcars, hp > 100 & am == 1)"
   ]
  },
  {
   "cell_type": "code",
   "execution_count": 135,
   "id": "d829b5b2",
   "metadata": {
    "ExecuteTime": {
     "end_time": "2021-09-05T12:13:13.806272Z",
     "start_time": "2021-09-05T12:13:13.793Z"
    }
   },
   "outputs": [],
   "source": [
    "# Добавить новую переменную можно при помощи оператора $\n",
    "mtcars$new_var <- 1:32"
   ]
  },
  {
   "cell_type": "code",
   "execution_count": 136,
   "id": "12026170",
   "metadata": {
    "ExecuteTime": {
     "end_time": "2021-09-05T12:13:14.002102Z",
     "start_time": "2021-09-05T12:13:13.988Z"
    }
   },
   "outputs": [
    {
     "data": {
      "text/html": [
       "<ol class=list-inline>\n",
       "\t<li>'mpg'</li>\n",
       "\t<li>'cyl'</li>\n",
       "\t<li>'disp'</li>\n",
       "\t<li>'hp'</li>\n",
       "\t<li>'drat'</li>\n",
       "\t<li>'wt'</li>\n",
       "\t<li>'qsec'</li>\n",
       "\t<li>'vs'</li>\n",
       "\t<li>'am'</li>\n",
       "\t<li>'gear'</li>\n",
       "\t<li>'carb'</li>\n",
       "\t<li>'even_gear'</li>\n",
       "\t<li>'new_var'</li>\n",
       "</ol>\n"
      ],
      "text/latex": [
       "\\begin{enumerate*}\n",
       "\\item 'mpg'\n",
       "\\item 'cyl'\n",
       "\\item 'disp'\n",
       "\\item 'hp'\n",
       "\\item 'drat'\n",
       "\\item 'wt'\n",
       "\\item 'qsec'\n",
       "\\item 'vs'\n",
       "\\item 'am'\n",
       "\\item 'gear'\n",
       "\\item 'carb'\n",
       "\\item 'even\\_gear'\n",
       "\\item 'new\\_var'\n",
       "\\end{enumerate*}\n"
      ],
      "text/markdown": [
       "1. 'mpg'\n",
       "2. 'cyl'\n",
       "3. 'disp'\n",
       "4. 'hp'\n",
       "5. 'drat'\n",
       "6. 'wt'\n",
       "7. 'qsec'\n",
       "8. 'vs'\n",
       "9. 'am'\n",
       "10. 'gear'\n",
       "11. 'carb'\n",
       "12. 'even_gear'\n",
       "13. 'new_var'\n",
       "\n",
       "\n"
      ],
      "text/plain": [
       " [1] \"mpg\"       \"cyl\"       \"disp\"      \"hp\"        \"drat\"      \"wt\"       \n",
       " [7] \"qsec\"      \"vs\"        \"am\"        \"gear\"      \"carb\"      \"even_gear\"\n",
       "[13] \"new_var\"  "
      ]
     },
     "metadata": {},
     "output_type": "display_data"
    }
   ],
   "source": [
    "names(mtcars)"
   ]
  },
  {
   "cell_type": "code",
   "execution_count": 137,
   "id": "b33d7357",
   "metadata": {
    "ExecuteTime": {
     "end_time": "2021-09-05T12:13:14.208842Z",
     "start_time": "2021-09-05T12:13:14.195Z"
    }
   },
   "outputs": [],
   "source": [
    "# Чтобы удалить переменную из данных, используйте такую конструкцию:\n",
    "mtcars$new_var <- NULL"
   ]
  },
  {
   "cell_type": "code",
   "execution_count": 138,
   "id": "ae57635b",
   "metadata": {
    "ExecuteTime": {
     "end_time": "2021-09-05T12:13:14.444652Z",
     "start_time": "2021-09-05T12:13:14.430Z"
    }
   },
   "outputs": [
    {
     "data": {
      "text/html": [
       "<ol class=list-inline>\n",
       "\t<li>'mpg'</li>\n",
       "\t<li>'cyl'</li>\n",
       "\t<li>'disp'</li>\n",
       "\t<li>'hp'</li>\n",
       "\t<li>'drat'</li>\n",
       "\t<li>'wt'</li>\n",
       "\t<li>'qsec'</li>\n",
       "\t<li>'vs'</li>\n",
       "\t<li>'am'</li>\n",
       "\t<li>'gear'</li>\n",
       "\t<li>'carb'</li>\n",
       "\t<li>'even_gear'</li>\n",
       "</ol>\n"
      ],
      "text/latex": [
       "\\begin{enumerate*}\n",
       "\\item 'mpg'\n",
       "\\item 'cyl'\n",
       "\\item 'disp'\n",
       "\\item 'hp'\n",
       "\\item 'drat'\n",
       "\\item 'wt'\n",
       "\\item 'qsec'\n",
       "\\item 'vs'\n",
       "\\item 'am'\n",
       "\\item 'gear'\n",
       "\\item 'carb'\n",
       "\\item 'even\\_gear'\n",
       "\\end{enumerate*}\n"
      ],
      "text/markdown": [
       "1. 'mpg'\n",
       "2. 'cyl'\n",
       "3. 'disp'\n",
       "4. 'hp'\n",
       "5. 'drat'\n",
       "6. 'wt'\n",
       "7. 'qsec'\n",
       "8. 'vs'\n",
       "9. 'am'\n",
       "10. 'gear'\n",
       "11. 'carb'\n",
       "12. 'even_gear'\n",
       "\n",
       "\n"
      ],
      "text/plain": [
       " [1] \"mpg\"       \"cyl\"       \"disp\"      \"hp\"        \"drat\"      \"wt\"       \n",
       " [7] \"qsec\"      \"vs\"        \"am\"        \"gear\"      \"carb\"      \"even_gear\""
      ]
     },
     "metadata": {},
     "output_type": "display_data"
    }
   ],
   "source": [
    "names(mtcars)"
   ]
  },
  {
   "cell_type": "markdown",
   "id": "d1a11a37",
   "metadata": {},
   "source": [
    "### rbind cbind"
   ]
  },
  {
   "cell_type": "code",
   "execution_count": 87,
   "id": "f82bc606",
   "metadata": {
    "ExecuteTime": {
     "end_time": "2021-09-05T11:54:03.650731Z",
     "start_time": "2021-09-05T11:54:03.639Z"
    }
   },
   "outputs": [],
   "source": [
    "df1 <- subset(df, gender == 'female')\n",
    "df2 <- subset(df, gender == 'male')"
   ]
  },
  {
   "cell_type": "code",
   "execution_count": 88,
   "id": "f8586988",
   "metadata": {
    "ExecuteTime": {
     "end_time": "2021-09-05T11:54:17.496654Z",
     "start_time": "2021-09-05T11:54:17.486Z"
    }
   },
   "outputs": [],
   "source": [
    "# сеодеиняет строки двух дф\n",
    "df <- rbind(df1, df2)"
   ]
  },
  {
   "cell_type": "code",
   "execution_count": 90,
   "id": "9abd8956",
   "metadata": {
    "ExecuteTime": {
     "end_time": "2021-09-05T11:54:58.234237Z",
     "start_time": "2021-09-05T11:54:58.224Z"
    }
   },
   "outputs": [],
   "source": [
    "df1 <- df[, 1:10]\n",
    "df2 <- df[, 11:ncol(df)]"
   ]
  },
  {
   "cell_type": "code",
   "execution_count": 91,
   "id": "10b8ace3",
   "metadata": {
    "ExecuteTime": {
     "end_time": "2021-09-05T11:54:58.452024Z",
     "start_time": "2021-09-05T11:54:58.441Z"
    }
   },
   "outputs": [],
   "source": [
    "# соединяет дф'ы по столбцам\n",
    "df <- cbind(df1, df2)"
   ]
  },
  {
   "cell_type": "markdown",
   "id": "b1010977",
   "metadata": {},
   "source": []
  },
  {
   "cell_type": "code",
   "execution_count": 97,
   "id": "e7dd476c",
   "metadata": {
    "ExecuteTime": {
     "end_time": "2021-09-05T11:56:41.110168Z",
     "start_time": "2021-09-05T11:56:41.096Z"
    }
   },
   "outputs": [],
   "source": [
    "library(help = 'datasets')"
   ]
  },
  {
   "cell_type": "code",
   "execution_count": 117,
   "id": "c438f53a",
   "metadata": {
    "ExecuteTime": {
     "end_time": "2021-09-05T12:06:40.585986Z",
     "start_time": "2021-09-05T12:06:40.576Z"
    }
   },
   "outputs": [],
   "source": [
    "# В этой задче поработаем со встроенными данными mtcars. В датафрэйме mtcars создайте новую колонку (переменную) \n",
    "# под названием even_gear, в которой будут единицы, если значение переменной (gear) четное, и нули если количество нечетное.\n",
    "\n",
    "mtcars$even_gear <- abs(mtcars$gear %% 2 - 1)"
   ]
  },
  {
   "cell_type": "code",
   "execution_count": 118,
   "id": "feebdba4",
   "metadata": {
    "ExecuteTime": {
     "end_time": "2021-09-05T12:06:40.959531Z",
     "start_time": "2021-09-05T12:06:40.947Z"
    }
   },
   "outputs": [],
   "source": [
    "# Продолжим нашу работу с данными mtcars. Теперь ваша задача создать переменную - вектор mpg_4 \n",
    "# и сохранить в нее значения расхода топлива (mpg) для машин с четырьмя цилиндрами (cyl). \n",
    "\n",
    "# mpg_4 <- mtcars[mtcars$cyl == 4, ]$mpg\n",
    "mpg_4 <- mtcars$mpg[mtcars$cyl == 4]"
   ]
  },
  {
   "cell_type": "code",
   "execution_count": 114,
   "id": "f78cc639",
   "metadata": {
    "ExecuteTime": {
     "end_time": "2021-09-05T12:04:52.685108Z",
     "start_time": "2021-09-05T12:04:52.675Z"
    }
   },
   "outputs": [
    {
     "ename": "ERROR",
     "evalue": "Error in eval(expr, envir, enclos): объект 'mini_mtcars' не найден\n",
     "output_type": "error",
     "traceback": [
      "Error in eval(expr, envir, enclos): объект 'mini_mtcars' не найден\nTraceback:\n"
     ]
    }
   ],
   "source": []
  },
  {
   "cell_type": "code",
   "execution_count": 119,
   "id": "aaa8ba7c",
   "metadata": {
    "ExecuteTime": {
     "end_time": "2021-09-05T12:06:41.309258Z",
     "start_time": "2021-09-05T12:06:41.297Z"
    }
   },
   "outputs": [],
   "source": [
    "# Ваша задача создать новый dataframe под названием mini_mtcars, в котором будут сохранены только \n",
    "# третья, седьмая, десятая, двенадцатая и последняя строчка датафрейма mtcars.\n",
    "mini_mtcars <- mtcars[c(3, 7, 10, 12, nrow(mtcars)),]"
   ]
  },
  {
   "cell_type": "markdown",
   "id": "f6f51eb2",
   "metadata": {},
   "source": [
    "## Элементы синтаксиса"
   ]
  },
  {
   "cell_type": "markdown",
   "id": "4468e222",
   "metadata": {},
   "source": [
    "### if else"
   ]
  },
  {
   "cell_type": "code",
   "execution_count": 140,
   "id": "d1ff2da0",
   "metadata": {
    "ExecuteTime": {
     "end_time": "2021-09-05T12:18:36.461391Z",
     "start_time": "2021-09-05T12:18:36.449Z"
    }
   },
   "outputs": [
    {
     "name": "stdout",
     "output_type": "stream",
     "text": [
      "[1] \"equal to 10\"\n"
     ]
    }
   ],
   "source": [
    "a <- 10\n",
    "\n",
    "if (a > 10) {\n",
    "    print('more than 10')\n",
    "} else if (a == 10 ){\n",
    "    print('equal to 10')\n",
    "} else\n",
    "    print('less than 10')"
   ]
  },
  {
   "cell_type": "code",
   "execution_count": 141,
   "id": "ff8d893d",
   "metadata": {
    "ExecuteTime": {
     "end_time": "2021-09-05T12:19:09.216766Z",
     "start_time": "2021-09-05T12:19:09.205Z"
    }
   },
   "outputs": [
    {
     "data": {
      "text/html": [
       "'positive'"
      ],
      "text/latex": [
       "'positive'"
      ],
      "text/markdown": [
       "'positive'"
      ],
      "text/plain": [
       "[1] \"positive\""
      ]
     },
     "metadata": {},
     "output_type": "display_data"
    }
   ],
   "source": [
    "ifelse(a > 0, 'positive', 'not positive')"
   ]
  },
  {
   "cell_type": "code",
   "execution_count": 142,
   "id": "2e0e99a7",
   "metadata": {
    "ExecuteTime": {
     "end_time": "2021-09-05T12:20:15.071193Z",
     "start_time": "2021-09-05T12:20:15.054Z"
    }
   },
   "outputs": [
    {
     "data": {
      "text/html": [
       "<ol class=list-inline>\n",
       "\t<li>'positive'</li>\n",
       "\t<li>'positive'</li>\n",
       "\t<li>'positive'</li>\n",
       "\t<li>'positive'</li>\n",
       "\t<li>'not positive'</li>\n",
       "\t<li>'positive'</li>\n",
       "</ol>\n"
      ],
      "text/latex": [
       "\\begin{enumerate*}\n",
       "\\item 'positive'\n",
       "\\item 'positive'\n",
       "\\item 'positive'\n",
       "\\item 'positive'\n",
       "\\item 'not positive'\n",
       "\\item 'positive'\n",
       "\\end{enumerate*}\n"
      ],
      "text/markdown": [
       "1. 'positive'\n",
       "2. 'positive'\n",
       "3. 'positive'\n",
       "4. 'positive'\n",
       "5. 'not positive'\n",
       "6. 'positive'\n",
       "\n",
       "\n"
      ],
      "text/plain": [
       "[1] \"positive\"     \"positive\"     \"positive\"     \"positive\"     \"not positive\"\n",
       "[6] \"positive\"    "
      ]
     },
     "metadata": {},
     "output_type": "display_data"
    }
   ],
   "source": [
    "b  <- c(1, 2, 3, 4, -5, 5)\n",
    "ifelse(b > 0, 'positive', 'not positive')"
   ]
  },
  {
   "cell_type": "markdown",
   "id": "baa5bea3",
   "metadata": {},
   "source": [
    "### loops"
   ]
  },
  {
   "cell_type": "code",
   "execution_count": 147,
   "id": "61cb0d60",
   "metadata": {
    "ExecuteTime": {
     "end_time": "2021-09-05T12:23:53.600824Z",
     "start_time": "2021-09-05T12:23:53.587Z"
    }
   },
   "outputs": [
    {
     "name": "stdout",
     "output_type": "stream",
     "text": [
      "[1] 1\n",
      "[1] 2\n",
      "[1] 3\n",
      "[1] 4\n",
      "[1] 5\n"
     ]
    }
   ],
   "source": [
    "for (i in 1:5) {\n",
    "    print(i)\n",
    "}"
   ]
  },
  {
   "cell_type": "code",
   "execution_count": 148,
   "id": "a7a8b117",
   "metadata": {
    "ExecuteTime": {
     "end_time": "2021-09-05T12:23:59.726574Z",
     "start_time": "2021-09-05T12:23:59.713Z"
    }
   },
   "outputs": [
    {
     "name": "stdout",
     "output_type": "stream",
     "text": [
      "[1] \"mpg\"\n",
      "[1] \"cyl\"\n",
      "[1] \"disp\"\n",
      "[1] \"hp\"\n",
      "[1] \"drat\"\n",
      "[1] \"wt\"\n",
      "[1] \"qsec\"\n",
      "[1] \"vs\"\n",
      "[1] \"am\"\n",
      "[1] \"gear\"\n",
      "[1] \"carb\"\n",
      "[1] \"even_gear\"\n"
     ]
    }
   ],
   "source": [
    "for (i in 1:ncol(mtcars))\n",
    "    print(names(mtcars)[i])"
   ]
  },
  {
   "cell_type": "markdown",
   "id": "3a015e39",
   "metadata": {},
   "source": [
    "### if + loops"
   ]
  },
  {
   "cell_type": "code",
   "execution_count": 155,
   "id": "6c3e9748",
   "metadata": {
    "ExecuteTime": {
     "end_time": "2021-09-05T12:29:11.637941Z",
     "start_time": "2021-09-05T12:29:11.604Z"
    }
   },
   "outputs": [],
   "source": [
    "# for + if\n",
    "\n",
    "df$quality <- rep(NA, nrow(df))\n",
    "\n",
    "for (i in 1:nrow(df)) {\n",
    "    if (df[i, c('score')] > 4)\n",
    "        df[i, c('quality')] <- 'good'\n",
    "    else\n",
    "        df$quality[i] <- 'not good'\n",
    "}"
   ]
  },
  {
   "cell_type": "code",
   "execution_count": 156,
   "id": "f3a502f1",
   "metadata": {
    "ExecuteTime": {
     "end_time": "2021-09-05T12:29:11.952636Z",
     "start_time": "2021-09-05T12:29:11.940Z"
    }
   },
   "outputs": [],
   "source": [
    "df$quality <- ifelse(df$score > 4, 'good', 'not good')"
   ]
  },
  {
   "cell_type": "code",
   "execution_count": 160,
   "id": "866be5bf",
   "metadata": {
    "ExecuteTime": {
     "end_time": "2021-09-05T12:31:12.250010Z",
     "start_time": "2021-09-05T12:31:12.236Z"
    }
   },
   "outputs": [
    {
     "name": "stdout",
     "output_type": "stream",
     "text": [
      "numeric(0)\n",
      "[1] 4.7\n",
      "[1] 4.1\n",
      "[1] 3.9\n",
      "[1] 4.8\n",
      "[1] 4.5\n",
      "[1] 3.8\n"
     ]
    }
   ],
   "source": [
    "# while loop\n",
    "i <- 0\n",
    "\n",
    "while (i <= 6) {\n",
    "    print(df$score[i])\n",
    "    i <- i + 1\n",
    "}"
   ]
  },
  {
   "cell_type": "code",
   "execution_count": 161,
   "id": "c761fc8e",
   "metadata": {
    "ExecuteTime": {
     "end_time": "2021-09-05T12:40:16.642979Z",
     "start_time": "2021-09-05T12:40:16.631Z"
    }
   },
   "outputs": [],
   "source": [
    "# Создайте новую числовую переменную  new_var в данных mtcars, которая содержит единицы в строчках, если в машине \n",
    "# не меньше четырёх карбюраторов (переменная \"carb\") или больше шести цилиндров (переменная \"cyl\"). \n",
    "# В строчках, в которых условие не выполняется, должны стоять нули.\n",
    "\n",
    "mtcars$new_var <- ifelse(mtcars$carb >= 4 | mtcars$cyl > 6, 1, 0)"
   ]
  },
  {
   "cell_type": "code",
   "execution_count": 162,
   "id": "40213667",
   "metadata": {
    "ExecuteTime": {
     "end_time": "2021-09-05T12:40:24.483468Z",
     "start_time": "2021-09-05T12:40:24.443Z"
    }
   },
   "outputs": [
    {
     "data": {
      "text/html": [
       "<table>\n",
       "<thead><tr><th></th><th scope=col>mpg</th><th scope=col>cyl</th><th scope=col>disp</th><th scope=col>hp</th><th scope=col>drat</th><th scope=col>wt</th><th scope=col>qsec</th><th scope=col>vs</th><th scope=col>am</th><th scope=col>gear</th><th scope=col>carb</th><th scope=col>even_gear</th><th scope=col>new_var</th></tr></thead>\n",
       "<tbody>\n",
       "\t<tr><th scope=row>Mazda RX4</th><td>21.0 </td><td>6    </td><td>160.0</td><td>110  </td><td>3.90 </td><td>2.620</td><td>16.46</td><td>0    </td><td>1    </td><td>4    </td><td>4    </td><td>1    </td><td>1    </td></tr>\n",
       "\t<tr><th scope=row>Mazda RX4 Wag</th><td>21.0 </td><td>6    </td><td>160.0</td><td>110  </td><td>3.90 </td><td>2.875</td><td>17.02</td><td>0    </td><td>1    </td><td>4    </td><td>4    </td><td>1    </td><td>1    </td></tr>\n",
       "\t<tr><th scope=row>Datsun 710</th><td>22.8 </td><td>4    </td><td>108.0</td><td> 93  </td><td>3.85 </td><td>2.320</td><td>18.61</td><td>1    </td><td>1    </td><td>4    </td><td>1    </td><td>1    </td><td>0    </td></tr>\n",
       "\t<tr><th scope=row>Hornet 4 Drive</th><td>21.4 </td><td>6    </td><td>258.0</td><td>110  </td><td>3.08 </td><td>3.215</td><td>19.44</td><td>1    </td><td>0    </td><td>3    </td><td>1    </td><td>0    </td><td>0    </td></tr>\n",
       "\t<tr><th scope=row>Hornet Sportabout</th><td>18.7 </td><td>8    </td><td>360.0</td><td>175  </td><td>3.15 </td><td>3.440</td><td>17.02</td><td>0    </td><td>0    </td><td>3    </td><td>2    </td><td>0    </td><td>1    </td></tr>\n",
       "\t<tr><th scope=row>Valiant</th><td>18.1 </td><td>6    </td><td>225.0</td><td>105  </td><td>2.76 </td><td>3.460</td><td>20.22</td><td>1    </td><td>0    </td><td>3    </td><td>1    </td><td>0    </td><td>0    </td></tr>\n",
       "\t<tr><th scope=row>Duster 360</th><td>14.3 </td><td>8    </td><td>360.0</td><td>245  </td><td>3.21 </td><td>3.570</td><td>15.84</td><td>0    </td><td>0    </td><td>3    </td><td>4    </td><td>0    </td><td>1    </td></tr>\n",
       "\t<tr><th scope=row>Merc 240D</th><td>24.4 </td><td>4    </td><td>146.7</td><td> 62  </td><td>3.69 </td><td>3.190</td><td>20.00</td><td>1    </td><td>0    </td><td>4    </td><td>2    </td><td>1    </td><td>0    </td></tr>\n",
       "\t<tr><th scope=row>Merc 230</th><td>22.8 </td><td>4    </td><td>140.8</td><td> 95  </td><td>3.92 </td><td>3.150</td><td>22.90</td><td>1    </td><td>0    </td><td>4    </td><td>2    </td><td>1    </td><td>0    </td></tr>\n",
       "\t<tr><th scope=row>Merc 280</th><td>19.2 </td><td>6    </td><td>167.6</td><td>123  </td><td>3.92 </td><td>3.440</td><td>18.30</td><td>1    </td><td>0    </td><td>4    </td><td>4    </td><td>1    </td><td>1    </td></tr>\n",
       "\t<tr><th scope=row>Merc 280C</th><td>17.8 </td><td>6    </td><td>167.6</td><td>123  </td><td>3.92 </td><td>3.440</td><td>18.90</td><td>1    </td><td>0    </td><td>4    </td><td>4    </td><td>1    </td><td>1    </td></tr>\n",
       "\t<tr><th scope=row>Merc 450SE</th><td>16.4 </td><td>8    </td><td>275.8</td><td>180  </td><td>3.07 </td><td>4.070</td><td>17.40</td><td>0    </td><td>0    </td><td>3    </td><td>3    </td><td>0    </td><td>1    </td></tr>\n",
       "\t<tr><th scope=row>Merc 450SL</th><td>17.3 </td><td>8    </td><td>275.8</td><td>180  </td><td>3.07 </td><td>3.730</td><td>17.60</td><td>0    </td><td>0    </td><td>3    </td><td>3    </td><td>0    </td><td>1    </td></tr>\n",
       "\t<tr><th scope=row>Merc 450SLC</th><td>15.2 </td><td>8    </td><td>275.8</td><td>180  </td><td>3.07 </td><td>3.780</td><td>18.00</td><td>0    </td><td>0    </td><td>3    </td><td>3    </td><td>0    </td><td>1    </td></tr>\n",
       "\t<tr><th scope=row>Cadillac Fleetwood</th><td>10.4 </td><td>8    </td><td>472.0</td><td>205  </td><td>2.93 </td><td>5.250</td><td>17.98</td><td>0    </td><td>0    </td><td>3    </td><td>4    </td><td>0    </td><td>1    </td></tr>\n",
       "\t<tr><th scope=row>Lincoln Continental</th><td>10.4 </td><td>8    </td><td>460.0</td><td>215  </td><td>3.00 </td><td>5.424</td><td>17.82</td><td>0    </td><td>0    </td><td>3    </td><td>4    </td><td>0    </td><td>1    </td></tr>\n",
       "\t<tr><th scope=row>Chrysler Imperial</th><td>14.7 </td><td>8    </td><td>440.0</td><td>230  </td><td>3.23 </td><td>5.345</td><td>17.42</td><td>0    </td><td>0    </td><td>3    </td><td>4    </td><td>0    </td><td>1    </td></tr>\n",
       "\t<tr><th scope=row>Fiat 128</th><td>32.4 </td><td>4    </td><td> 78.7</td><td> 66  </td><td>4.08 </td><td>2.200</td><td>19.47</td><td>1    </td><td>1    </td><td>4    </td><td>1    </td><td>1    </td><td>0    </td></tr>\n",
       "\t<tr><th scope=row>Honda Civic</th><td>30.4 </td><td>4    </td><td> 75.7</td><td> 52  </td><td>4.93 </td><td>1.615</td><td>18.52</td><td>1    </td><td>1    </td><td>4    </td><td>2    </td><td>1    </td><td>0    </td></tr>\n",
       "\t<tr><th scope=row>Toyota Corolla</th><td>33.9 </td><td>4    </td><td> 71.1</td><td> 65  </td><td>4.22 </td><td>1.835</td><td>19.90</td><td>1    </td><td>1    </td><td>4    </td><td>1    </td><td>1    </td><td>0    </td></tr>\n",
       "\t<tr><th scope=row>Toyota Corona</th><td>21.5 </td><td>4    </td><td>120.1</td><td> 97  </td><td>3.70 </td><td>2.465</td><td>20.01</td><td>1    </td><td>0    </td><td>3    </td><td>1    </td><td>0    </td><td>0    </td></tr>\n",
       "\t<tr><th scope=row>Dodge Challenger</th><td>15.5 </td><td>8    </td><td>318.0</td><td>150  </td><td>2.76 </td><td>3.520</td><td>16.87</td><td>0    </td><td>0    </td><td>3    </td><td>2    </td><td>0    </td><td>1    </td></tr>\n",
       "\t<tr><th scope=row>AMC Javelin</th><td>15.2 </td><td>8    </td><td>304.0</td><td>150  </td><td>3.15 </td><td>3.435</td><td>17.30</td><td>0    </td><td>0    </td><td>3    </td><td>2    </td><td>0    </td><td>1    </td></tr>\n",
       "\t<tr><th scope=row>Camaro Z28</th><td>13.3 </td><td>8    </td><td>350.0</td><td>245  </td><td>3.73 </td><td>3.840</td><td>15.41</td><td>0    </td><td>0    </td><td>3    </td><td>4    </td><td>0    </td><td>1    </td></tr>\n",
       "\t<tr><th scope=row>Pontiac Firebird</th><td>19.2 </td><td>8    </td><td>400.0</td><td>175  </td><td>3.08 </td><td>3.845</td><td>17.05</td><td>0    </td><td>0    </td><td>3    </td><td>2    </td><td>0    </td><td>1    </td></tr>\n",
       "\t<tr><th scope=row>Fiat X1-9</th><td>27.3 </td><td>4    </td><td> 79.0</td><td> 66  </td><td>4.08 </td><td>1.935</td><td>18.90</td><td>1    </td><td>1    </td><td>4    </td><td>1    </td><td>1    </td><td>0    </td></tr>\n",
       "\t<tr><th scope=row>Porsche 914-2</th><td>26.0 </td><td>4    </td><td>120.3</td><td> 91  </td><td>4.43 </td><td>2.140</td><td>16.70</td><td>0    </td><td>1    </td><td>5    </td><td>2    </td><td>0    </td><td>0    </td></tr>\n",
       "\t<tr><th scope=row>Lotus Europa</th><td>30.4 </td><td>4    </td><td> 95.1</td><td>113  </td><td>3.77 </td><td>1.513</td><td>16.90</td><td>1    </td><td>1    </td><td>5    </td><td>2    </td><td>0    </td><td>0    </td></tr>\n",
       "\t<tr><th scope=row>Ford Pantera L</th><td>15.8 </td><td>8    </td><td>351.0</td><td>264  </td><td>4.22 </td><td>3.170</td><td>14.50</td><td>0    </td><td>1    </td><td>5    </td><td>4    </td><td>0    </td><td>1    </td></tr>\n",
       "\t<tr><th scope=row>Ferrari Dino</th><td>19.7 </td><td>6    </td><td>145.0</td><td>175  </td><td>3.62 </td><td>2.770</td><td>15.50</td><td>0    </td><td>1    </td><td>5    </td><td>6    </td><td>0    </td><td>1    </td></tr>\n",
       "\t<tr><th scope=row>Maserati Bora</th><td>15.0 </td><td>8    </td><td>301.0</td><td>335  </td><td>3.54 </td><td>3.570</td><td>14.60</td><td>0    </td><td>1    </td><td>5    </td><td>8    </td><td>0    </td><td>1    </td></tr>\n",
       "\t<tr><th scope=row>Volvo 142E</th><td>21.4 </td><td>4    </td><td>121.0</td><td>109  </td><td>4.11 </td><td>2.780</td><td>18.60</td><td>1    </td><td>1    </td><td>4    </td><td>2    </td><td>1    </td><td>0    </td></tr>\n",
       "</tbody>\n",
       "</table>\n"
      ],
      "text/latex": [
       "\\begin{tabular}{r|lllllllllllll}\n",
       "  & mpg & cyl & disp & hp & drat & wt & qsec & vs & am & gear & carb & even\\_gear & new\\_var\\\\\n",
       "\\hline\n",
       "\tMazda RX4 & 21.0  & 6     & 160.0 & 110   & 3.90  & 2.620 & 16.46 & 0     & 1     & 4     & 4     & 1     & 1    \\\\\n",
       "\tMazda RX4 Wag & 21.0  & 6     & 160.0 & 110   & 3.90  & 2.875 & 17.02 & 0     & 1     & 4     & 4     & 1     & 1    \\\\\n",
       "\tDatsun 710 & 22.8  & 4     & 108.0 &  93   & 3.85  & 2.320 & 18.61 & 1     & 1     & 4     & 1     & 1     & 0    \\\\\n",
       "\tHornet 4 Drive & 21.4  & 6     & 258.0 & 110   & 3.08  & 3.215 & 19.44 & 1     & 0     & 3     & 1     & 0     & 0    \\\\\n",
       "\tHornet Sportabout & 18.7  & 8     & 360.0 & 175   & 3.15  & 3.440 & 17.02 & 0     & 0     & 3     & 2     & 0     & 1    \\\\\n",
       "\tValiant & 18.1  & 6     & 225.0 & 105   & 2.76  & 3.460 & 20.22 & 1     & 0     & 3     & 1     & 0     & 0    \\\\\n",
       "\tDuster 360 & 14.3  & 8     & 360.0 & 245   & 3.21  & 3.570 & 15.84 & 0     & 0     & 3     & 4     & 0     & 1    \\\\\n",
       "\tMerc 240D & 24.4  & 4     & 146.7 &  62   & 3.69  & 3.190 & 20.00 & 1     & 0     & 4     & 2     & 1     & 0    \\\\\n",
       "\tMerc 230 & 22.8  & 4     & 140.8 &  95   & 3.92  & 3.150 & 22.90 & 1     & 0     & 4     & 2     & 1     & 0    \\\\\n",
       "\tMerc 280 & 19.2  & 6     & 167.6 & 123   & 3.92  & 3.440 & 18.30 & 1     & 0     & 4     & 4     & 1     & 1    \\\\\n",
       "\tMerc 280C & 17.8  & 6     & 167.6 & 123   & 3.92  & 3.440 & 18.90 & 1     & 0     & 4     & 4     & 1     & 1    \\\\\n",
       "\tMerc 450SE & 16.4  & 8     & 275.8 & 180   & 3.07  & 4.070 & 17.40 & 0     & 0     & 3     & 3     & 0     & 1    \\\\\n",
       "\tMerc 450SL & 17.3  & 8     & 275.8 & 180   & 3.07  & 3.730 & 17.60 & 0     & 0     & 3     & 3     & 0     & 1    \\\\\n",
       "\tMerc 450SLC & 15.2  & 8     & 275.8 & 180   & 3.07  & 3.780 & 18.00 & 0     & 0     & 3     & 3     & 0     & 1    \\\\\n",
       "\tCadillac Fleetwood & 10.4  & 8     & 472.0 & 205   & 2.93  & 5.250 & 17.98 & 0     & 0     & 3     & 4     & 0     & 1    \\\\\n",
       "\tLincoln Continental & 10.4  & 8     & 460.0 & 215   & 3.00  & 5.424 & 17.82 & 0     & 0     & 3     & 4     & 0     & 1    \\\\\n",
       "\tChrysler Imperial & 14.7  & 8     & 440.0 & 230   & 3.23  & 5.345 & 17.42 & 0     & 0     & 3     & 4     & 0     & 1    \\\\\n",
       "\tFiat 128 & 32.4  & 4     &  78.7 &  66   & 4.08  & 2.200 & 19.47 & 1     & 1     & 4     & 1     & 1     & 0    \\\\\n",
       "\tHonda Civic & 30.4  & 4     &  75.7 &  52   & 4.93  & 1.615 & 18.52 & 1     & 1     & 4     & 2     & 1     & 0    \\\\\n",
       "\tToyota Corolla & 33.9  & 4     &  71.1 &  65   & 4.22  & 1.835 & 19.90 & 1     & 1     & 4     & 1     & 1     & 0    \\\\\n",
       "\tToyota Corona & 21.5  & 4     & 120.1 &  97   & 3.70  & 2.465 & 20.01 & 1     & 0     & 3     & 1     & 0     & 0    \\\\\n",
       "\tDodge Challenger & 15.5  & 8     & 318.0 & 150   & 2.76  & 3.520 & 16.87 & 0     & 0     & 3     & 2     & 0     & 1    \\\\\n",
       "\tAMC Javelin & 15.2  & 8     & 304.0 & 150   & 3.15  & 3.435 & 17.30 & 0     & 0     & 3     & 2     & 0     & 1    \\\\\n",
       "\tCamaro Z28 & 13.3  & 8     & 350.0 & 245   & 3.73  & 3.840 & 15.41 & 0     & 0     & 3     & 4     & 0     & 1    \\\\\n",
       "\tPontiac Firebird & 19.2  & 8     & 400.0 & 175   & 3.08  & 3.845 & 17.05 & 0     & 0     & 3     & 2     & 0     & 1    \\\\\n",
       "\tFiat X1-9 & 27.3  & 4     &  79.0 &  66   & 4.08  & 1.935 & 18.90 & 1     & 1     & 4     & 1     & 1     & 0    \\\\\n",
       "\tPorsche 914-2 & 26.0  & 4     & 120.3 &  91   & 4.43  & 2.140 & 16.70 & 0     & 1     & 5     & 2     & 0     & 0    \\\\\n",
       "\tLotus Europa & 30.4  & 4     &  95.1 & 113   & 3.77  & 1.513 & 16.90 & 1     & 1     & 5     & 2     & 0     & 0    \\\\\n",
       "\tFord Pantera L & 15.8  & 8     & 351.0 & 264   & 4.22  & 3.170 & 14.50 & 0     & 1     & 5     & 4     & 0     & 1    \\\\\n",
       "\tFerrari Dino & 19.7  & 6     & 145.0 & 175   & 3.62  & 2.770 & 15.50 & 0     & 1     & 5     & 6     & 0     & 1    \\\\\n",
       "\tMaserati Bora & 15.0  & 8     & 301.0 & 335   & 3.54  & 3.570 & 14.60 & 0     & 1     & 5     & 8     & 0     & 1    \\\\\n",
       "\tVolvo 142E & 21.4  & 4     & 121.0 & 109   & 4.11  & 2.780 & 18.60 & 1     & 1     & 4     & 2     & 1     & 0    \\\\\n",
       "\\end{tabular}\n"
      ],
      "text/markdown": [
       "\n",
       "| <!--/--> | mpg | cyl | disp | hp | drat | wt | qsec | vs | am | gear | carb | even_gear | new_var |\n",
       "|---|---|---|---|---|---|---|---|---|---|---|---|---|---|\n",
       "| Mazda RX4 | 21.0  | 6     | 160.0 | 110   | 3.90  | 2.620 | 16.46 | 0     | 1     | 4     | 4     | 1     | 1     |\n",
       "| Mazda RX4 Wag | 21.0  | 6     | 160.0 | 110   | 3.90  | 2.875 | 17.02 | 0     | 1     | 4     | 4     | 1     | 1     |\n",
       "| Datsun 710 | 22.8  | 4     | 108.0 |  93   | 3.85  | 2.320 | 18.61 | 1     | 1     | 4     | 1     | 1     | 0     |\n",
       "| Hornet 4 Drive | 21.4  | 6     | 258.0 | 110   | 3.08  | 3.215 | 19.44 | 1     | 0     | 3     | 1     | 0     | 0     |\n",
       "| Hornet Sportabout | 18.7  | 8     | 360.0 | 175   | 3.15  | 3.440 | 17.02 | 0     | 0     | 3     | 2     | 0     | 1     |\n",
       "| Valiant | 18.1  | 6     | 225.0 | 105   | 2.76  | 3.460 | 20.22 | 1     | 0     | 3     | 1     | 0     | 0     |\n",
       "| Duster 360 | 14.3  | 8     | 360.0 | 245   | 3.21  | 3.570 | 15.84 | 0     | 0     | 3     | 4     | 0     | 1     |\n",
       "| Merc 240D | 24.4  | 4     | 146.7 |  62   | 3.69  | 3.190 | 20.00 | 1     | 0     | 4     | 2     | 1     | 0     |\n",
       "| Merc 230 | 22.8  | 4     | 140.8 |  95   | 3.92  | 3.150 | 22.90 | 1     | 0     | 4     | 2     | 1     | 0     |\n",
       "| Merc 280 | 19.2  | 6     | 167.6 | 123   | 3.92  | 3.440 | 18.30 | 1     | 0     | 4     | 4     | 1     | 1     |\n",
       "| Merc 280C | 17.8  | 6     | 167.6 | 123   | 3.92  | 3.440 | 18.90 | 1     | 0     | 4     | 4     | 1     | 1     |\n",
       "| Merc 450SE | 16.4  | 8     | 275.8 | 180   | 3.07  | 4.070 | 17.40 | 0     | 0     | 3     | 3     | 0     | 1     |\n",
       "| Merc 450SL | 17.3  | 8     | 275.8 | 180   | 3.07  | 3.730 | 17.60 | 0     | 0     | 3     | 3     | 0     | 1     |\n",
       "| Merc 450SLC | 15.2  | 8     | 275.8 | 180   | 3.07  | 3.780 | 18.00 | 0     | 0     | 3     | 3     | 0     | 1     |\n",
       "| Cadillac Fleetwood | 10.4  | 8     | 472.0 | 205   | 2.93  | 5.250 | 17.98 | 0     | 0     | 3     | 4     | 0     | 1     |\n",
       "| Lincoln Continental | 10.4  | 8     | 460.0 | 215   | 3.00  | 5.424 | 17.82 | 0     | 0     | 3     | 4     | 0     | 1     |\n",
       "| Chrysler Imperial | 14.7  | 8     | 440.0 | 230   | 3.23  | 5.345 | 17.42 | 0     | 0     | 3     | 4     | 0     | 1     |\n",
       "| Fiat 128 | 32.4  | 4     |  78.7 |  66   | 4.08  | 2.200 | 19.47 | 1     | 1     | 4     | 1     | 1     | 0     |\n",
       "| Honda Civic | 30.4  | 4     |  75.7 |  52   | 4.93  | 1.615 | 18.52 | 1     | 1     | 4     | 2     | 1     | 0     |\n",
       "| Toyota Corolla | 33.9  | 4     |  71.1 |  65   | 4.22  | 1.835 | 19.90 | 1     | 1     | 4     | 1     | 1     | 0     |\n",
       "| Toyota Corona | 21.5  | 4     | 120.1 |  97   | 3.70  | 2.465 | 20.01 | 1     | 0     | 3     | 1     | 0     | 0     |\n",
       "| Dodge Challenger | 15.5  | 8     | 318.0 | 150   | 2.76  | 3.520 | 16.87 | 0     | 0     | 3     | 2     | 0     | 1     |\n",
       "| AMC Javelin | 15.2  | 8     | 304.0 | 150   | 3.15  | 3.435 | 17.30 | 0     | 0     | 3     | 2     | 0     | 1     |\n",
       "| Camaro Z28 | 13.3  | 8     | 350.0 | 245   | 3.73  | 3.840 | 15.41 | 0     | 0     | 3     | 4     | 0     | 1     |\n",
       "| Pontiac Firebird | 19.2  | 8     | 400.0 | 175   | 3.08  | 3.845 | 17.05 | 0     | 0     | 3     | 2     | 0     | 1     |\n",
       "| Fiat X1-9 | 27.3  | 4     |  79.0 |  66   | 4.08  | 1.935 | 18.90 | 1     | 1     | 4     | 1     | 1     | 0     |\n",
       "| Porsche 914-2 | 26.0  | 4     | 120.3 |  91   | 4.43  | 2.140 | 16.70 | 0     | 1     | 5     | 2     | 0     | 0     |\n",
       "| Lotus Europa | 30.4  | 4     |  95.1 | 113   | 3.77  | 1.513 | 16.90 | 1     | 1     | 5     | 2     | 0     | 0     |\n",
       "| Ford Pantera L | 15.8  | 8     | 351.0 | 264   | 4.22  | 3.170 | 14.50 | 0     | 1     | 5     | 4     | 0     | 1     |\n",
       "| Ferrari Dino | 19.7  | 6     | 145.0 | 175   | 3.62  | 2.770 | 15.50 | 0     | 1     | 5     | 6     | 0     | 1     |\n",
       "| Maserati Bora | 15.0  | 8     | 301.0 | 335   | 3.54  | 3.570 | 14.60 | 0     | 1     | 5     | 8     | 0     | 1     |\n",
       "| Volvo 142E | 21.4  | 4     | 121.0 | 109   | 4.11  | 2.780 | 18.60 | 1     | 1     | 4     | 2     | 1     | 0     |\n",
       "\n"
      ],
      "text/plain": [
       "                    mpg  cyl disp  hp  drat wt    qsec  vs am gear carb\n",
       "Mazda RX4           21.0 6   160.0 110 3.90 2.620 16.46 0  1  4    4   \n",
       "Mazda RX4 Wag       21.0 6   160.0 110 3.90 2.875 17.02 0  1  4    4   \n",
       "Datsun 710          22.8 4   108.0  93 3.85 2.320 18.61 1  1  4    1   \n",
       "Hornet 4 Drive      21.4 6   258.0 110 3.08 3.215 19.44 1  0  3    1   \n",
       "Hornet Sportabout   18.7 8   360.0 175 3.15 3.440 17.02 0  0  3    2   \n",
       "Valiant             18.1 6   225.0 105 2.76 3.460 20.22 1  0  3    1   \n",
       "Duster 360          14.3 8   360.0 245 3.21 3.570 15.84 0  0  3    4   \n",
       "Merc 240D           24.4 4   146.7  62 3.69 3.190 20.00 1  0  4    2   \n",
       "Merc 230            22.8 4   140.8  95 3.92 3.150 22.90 1  0  4    2   \n",
       "Merc 280            19.2 6   167.6 123 3.92 3.440 18.30 1  0  4    4   \n",
       "Merc 280C           17.8 6   167.6 123 3.92 3.440 18.90 1  0  4    4   \n",
       "Merc 450SE          16.4 8   275.8 180 3.07 4.070 17.40 0  0  3    3   \n",
       "Merc 450SL          17.3 8   275.8 180 3.07 3.730 17.60 0  0  3    3   \n",
       "Merc 450SLC         15.2 8   275.8 180 3.07 3.780 18.00 0  0  3    3   \n",
       "Cadillac Fleetwood  10.4 8   472.0 205 2.93 5.250 17.98 0  0  3    4   \n",
       "Lincoln Continental 10.4 8   460.0 215 3.00 5.424 17.82 0  0  3    4   \n",
       "Chrysler Imperial   14.7 8   440.0 230 3.23 5.345 17.42 0  0  3    4   \n",
       "Fiat 128            32.4 4    78.7  66 4.08 2.200 19.47 1  1  4    1   \n",
       "Honda Civic         30.4 4    75.7  52 4.93 1.615 18.52 1  1  4    2   \n",
       "Toyota Corolla      33.9 4    71.1  65 4.22 1.835 19.90 1  1  4    1   \n",
       "Toyota Corona       21.5 4   120.1  97 3.70 2.465 20.01 1  0  3    1   \n",
       "Dodge Challenger    15.5 8   318.0 150 2.76 3.520 16.87 0  0  3    2   \n",
       "AMC Javelin         15.2 8   304.0 150 3.15 3.435 17.30 0  0  3    2   \n",
       "Camaro Z28          13.3 8   350.0 245 3.73 3.840 15.41 0  0  3    4   \n",
       "Pontiac Firebird    19.2 8   400.0 175 3.08 3.845 17.05 0  0  3    2   \n",
       "Fiat X1-9           27.3 4    79.0  66 4.08 1.935 18.90 1  1  4    1   \n",
       "Porsche 914-2       26.0 4   120.3  91 4.43 2.140 16.70 0  1  5    2   \n",
       "Lotus Europa        30.4 4    95.1 113 3.77 1.513 16.90 1  1  5    2   \n",
       "Ford Pantera L      15.8 8   351.0 264 4.22 3.170 14.50 0  1  5    4   \n",
       "Ferrari Dino        19.7 6   145.0 175 3.62 2.770 15.50 0  1  5    6   \n",
       "Maserati Bora       15.0 8   301.0 335 3.54 3.570 14.60 0  1  5    8   \n",
       "Volvo 142E          21.4 4   121.0 109 4.11 2.780 18.60 1  1  4    2   \n",
       "                    even_gear new_var\n",
       "Mazda RX4           1         1      \n",
       "Mazda RX4 Wag       1         1      \n",
       "Datsun 710          1         0      \n",
       "Hornet 4 Drive      0         0      \n",
       "Hornet Sportabout   0         1      \n",
       "Valiant             0         0      \n",
       "Duster 360          0         1      \n",
       "Merc 240D           1         0      \n",
       "Merc 230            1         0      \n",
       "Merc 280            1         1      \n",
       "Merc 280C           1         1      \n",
       "Merc 450SE          0         1      \n",
       "Merc 450SL          0         1      \n",
       "Merc 450SLC         0         1      \n",
       "Cadillac Fleetwood  0         1      \n",
       "Lincoln Continental 0         1      \n",
       "Chrysler Imperial   0         1      \n",
       "Fiat 128            1         0      \n",
       "Honda Civic         1         0      \n",
       "Toyota Corolla      1         0      \n",
       "Toyota Corona       0         0      \n",
       "Dodge Challenger    0         1      \n",
       "AMC Javelin         0         1      \n",
       "Camaro Z28          0         1      \n",
       "Pontiac Firebird    0         1      \n",
       "Fiat X1-9           1         0      \n",
       "Porsche 914-2       0         0      \n",
       "Lotus Europa        0         0      \n",
       "Ford Pantera L      0         1      \n",
       "Ferrari Dino        0         1      \n",
       "Maserati Bora       0         1      \n",
       "Volvo 142E          1         0      "
      ]
     },
     "metadata": {},
     "output_type": "display_data"
    }
   ],
   "source": [
    "mtcars"
   ]
  },
  {
   "cell_type": "markdown",
   "id": "046cabc8",
   "metadata": {},
   "source": [
    "### Time series"
   ]
  },
  {
   "cell_type": "code",
   "execution_count": 170,
   "id": "2c67807e",
   "metadata": {
    "ExecuteTime": {
     "end_time": "2021-09-05T14:12:06.013763Z",
     "start_time": "2021-09-05T14:12:05.972Z"
    }
   },
   "outputs": [],
   "source": [
    "?AirPassengers"
   ]
  },
  {
   "cell_type": "code",
   "execution_count": 171,
   "id": "57ec3229",
   "metadata": {
    "ExecuteTime": {
     "end_time": "2021-09-05T14:12:06.299809Z",
     "start_time": "2021-09-05T14:12:06.253Z"
    }
   },
   "outputs": [
    {
     "name": "stdout",
     "output_type": "stream",
     "text": [
      " Time-Series [1:144] from 1949 to 1961: 112 118 132 129 121 135 148 148 136 119 ...\n"
     ]
    }
   ],
   "source": [
    "str(AirPassengers)"
   ]
  },
  {
   "cell_type": "code",
   "execution_count": 172,
   "id": "eb0d608a",
   "metadata": {
    "ExecuteTime": {
     "end_time": "2021-09-05T14:12:06.518674Z",
     "start_time": "2021-09-05T14:12:06.472Z"
    }
   },
   "outputs": [
    {
     "data": {
      "text/html": [
       "118"
      ],
      "text/latex": [
       "118"
      ],
      "text/markdown": [
       "118"
      ],
      "text/plain": [
       "[1] 118"
      ]
     },
     "metadata": {},
     "output_type": "display_data"
    }
   ],
   "source": [
    "AirPassengers[2]"
   ]
  },
  {
   "cell_type": "code",
   "execution_count": 169,
   "id": "6fc799d7",
   "metadata": {
    "ExecuteTime": {
     "end_time": "2021-09-05T14:11:08.665520Z",
     "start_time": "2021-09-05T14:11:08.654Z"
    }
   },
   "outputs": [
    {
     "data": {
      "text/plain": [
       "   Min. 1st Qu.  Median    Mean 3rd Qu.    Max. \n",
       "  104.0   180.0   265.5   280.3   360.5   622.0 "
      ]
     },
     "metadata": {},
     "output_type": "display_data"
    }
   ],
   "source": [
    "summary(AirPassengers)"
   ]
  },
  {
   "cell_type": "code",
   "execution_count": 173,
   "id": "87e31de7",
   "metadata": {
    "ExecuteTime": {
     "end_time": "2021-09-05T14:12:20.899028Z",
     "start_time": "2021-09-05T14:12:20.882Z"
    }
   },
   "outputs": [
    {
     "data": {
      "text/html": [
       "<ol class=list-inline>\n",
       "\t<li>112</li>\n",
       "\t<li>118</li>\n",
       "\t<li>132</li>\n",
       "\t<li>129</li>\n",
       "\t<li>121</li>\n",
       "\t<li>135</li>\n",
       "\t<li>148</li>\n",
       "\t<li>148</li>\n",
       "\t<li>136</li>\n",
       "\t<li>119</li>\n",
       "\t<li>104</li>\n",
       "\t<li>118</li>\n",
       "\t<li>115</li>\n",
       "\t<li>126</li>\n",
       "\t<li>141</li>\n",
       "\t<li>135</li>\n",
       "\t<li>125</li>\n",
       "\t<li>149</li>\n",
       "\t<li>170</li>\n",
       "\t<li>170</li>\n",
       "\t<li>158</li>\n",
       "\t<li>133</li>\n",
       "\t<li>114</li>\n",
       "\t<li>140</li>\n",
       "\t<li>145</li>\n",
       "\t<li>150</li>\n",
       "\t<li>178</li>\n",
       "\t<li>163</li>\n",
       "\t<li>172</li>\n",
       "\t<li>178</li>\n",
       "\t<li>199</li>\n",
       "\t<li>199</li>\n",
       "\t<li>184</li>\n",
       "\t<li>162</li>\n",
       "\t<li>146</li>\n",
       "\t<li>166</li>\n",
       "\t<li>171</li>\n",
       "\t<li>180</li>\n",
       "\t<li>193</li>\n",
       "\t<li>181</li>\n",
       "\t<li>183</li>\n",
       "\t<li>218</li>\n",
       "\t<li>230</li>\n",
       "\t<li>242</li>\n",
       "\t<li>209</li>\n",
       "\t<li>191</li>\n",
       "\t<li>172</li>\n",
       "\t<li>194</li>\n",
       "\t<li>196</li>\n",
       "\t<li>196</li>\n",
       "\t<li>236</li>\n",
       "\t<li>235</li>\n",
       "\t<li>229</li>\n",
       "\t<li>243</li>\n",
       "\t<li>264</li>\n",
       "\t<li>272</li>\n",
       "\t<li>237</li>\n",
       "\t<li>211</li>\n",
       "\t<li>180</li>\n",
       "\t<li>201</li>\n",
       "\t<li>204</li>\n",
       "\t<li>188</li>\n",
       "\t<li>235</li>\n",
       "\t<li>227</li>\n",
       "\t<li>234</li>\n",
       "\t<li>264</li>\n",
       "\t<li>302</li>\n",
       "\t<li>293</li>\n",
       "\t<li>259</li>\n",
       "\t<li>229</li>\n",
       "\t<li>203</li>\n",
       "\t<li>229</li>\n",
       "\t<li>242</li>\n",
       "\t<li>233</li>\n",
       "\t<li>267</li>\n",
       "\t<li>269</li>\n",
       "\t<li>270</li>\n",
       "\t<li>315</li>\n",
       "\t<li>364</li>\n",
       "\t<li>347</li>\n",
       "\t<li>312</li>\n",
       "\t<li>274</li>\n",
       "\t<li>237</li>\n",
       "\t<li>278</li>\n",
       "\t<li>284</li>\n",
       "\t<li>277</li>\n",
       "\t<li>317</li>\n",
       "\t<li>313</li>\n",
       "\t<li>318</li>\n",
       "\t<li>374</li>\n",
       "\t<li>413</li>\n",
       "\t<li>405</li>\n",
       "\t<li>355</li>\n",
       "\t<li>306</li>\n",
       "\t<li>271</li>\n",
       "\t<li>306</li>\n",
       "\t<li>315</li>\n",
       "\t<li>301</li>\n",
       "\t<li>356</li>\n",
       "\t<li>348</li>\n",
       "\t<li>355</li>\n",
       "\t<li>422</li>\n",
       "\t<li>465</li>\n",
       "\t<li>467</li>\n",
       "\t<li>404</li>\n",
       "\t<li>347</li>\n",
       "\t<li>305</li>\n",
       "\t<li>336</li>\n",
       "\t<li>340</li>\n",
       "\t<li>318</li>\n",
       "\t<li>362</li>\n",
       "\t<li>348</li>\n",
       "\t<li>363</li>\n",
       "\t<li>435</li>\n",
       "\t<li>491</li>\n",
       "\t<li>505</li>\n",
       "\t<li>404</li>\n",
       "\t<li>359</li>\n",
       "\t<li>310</li>\n",
       "\t<li>337</li>\n",
       "\t<li>360</li>\n",
       "\t<li>342</li>\n",
       "\t<li>406</li>\n",
       "\t<li>396</li>\n",
       "\t<li>420</li>\n",
       "\t<li>472</li>\n",
       "\t<li>548</li>\n",
       "\t<li>559</li>\n",
       "\t<li>463</li>\n",
       "\t<li>407</li>\n",
       "\t<li>362</li>\n",
       "\t<li>405</li>\n",
       "\t<li>417</li>\n",
       "\t<li>391</li>\n",
       "\t<li>419</li>\n",
       "\t<li>461</li>\n",
       "\t<li>472</li>\n",
       "\t<li>535</li>\n",
       "\t<li>622</li>\n",
       "\t<li>606</li>\n",
       "\t<li>508</li>\n",
       "\t<li>461</li>\n",
       "\t<li>390</li>\n",
       "\t<li>432</li>\n",
       "</ol>\n"
      ],
      "text/latex": [
       "\\begin{enumerate*}\n",
       "\\item 112\n",
       "\\item 118\n",
       "\\item 132\n",
       "\\item 129\n",
       "\\item 121\n",
       "\\item 135\n",
       "\\item 148\n",
       "\\item 148\n",
       "\\item 136\n",
       "\\item 119\n",
       "\\item 104\n",
       "\\item 118\n",
       "\\item 115\n",
       "\\item 126\n",
       "\\item 141\n",
       "\\item 135\n",
       "\\item 125\n",
       "\\item 149\n",
       "\\item 170\n",
       "\\item 170\n",
       "\\item 158\n",
       "\\item 133\n",
       "\\item 114\n",
       "\\item 140\n",
       "\\item 145\n",
       "\\item 150\n",
       "\\item 178\n",
       "\\item 163\n",
       "\\item 172\n",
       "\\item 178\n",
       "\\item 199\n",
       "\\item 199\n",
       "\\item 184\n",
       "\\item 162\n",
       "\\item 146\n",
       "\\item 166\n",
       "\\item 171\n",
       "\\item 180\n",
       "\\item 193\n",
       "\\item 181\n",
       "\\item 183\n",
       "\\item 218\n",
       "\\item 230\n",
       "\\item 242\n",
       "\\item 209\n",
       "\\item 191\n",
       "\\item 172\n",
       "\\item 194\n",
       "\\item 196\n",
       "\\item 196\n",
       "\\item 236\n",
       "\\item 235\n",
       "\\item 229\n",
       "\\item 243\n",
       "\\item 264\n",
       "\\item 272\n",
       "\\item 237\n",
       "\\item 211\n",
       "\\item 180\n",
       "\\item 201\n",
       "\\item 204\n",
       "\\item 188\n",
       "\\item 235\n",
       "\\item 227\n",
       "\\item 234\n",
       "\\item 264\n",
       "\\item 302\n",
       "\\item 293\n",
       "\\item 259\n",
       "\\item 229\n",
       "\\item 203\n",
       "\\item 229\n",
       "\\item 242\n",
       "\\item 233\n",
       "\\item 267\n",
       "\\item 269\n",
       "\\item 270\n",
       "\\item 315\n",
       "\\item 364\n",
       "\\item 347\n",
       "\\item 312\n",
       "\\item 274\n",
       "\\item 237\n",
       "\\item 278\n",
       "\\item 284\n",
       "\\item 277\n",
       "\\item 317\n",
       "\\item 313\n",
       "\\item 318\n",
       "\\item 374\n",
       "\\item 413\n",
       "\\item 405\n",
       "\\item 355\n",
       "\\item 306\n",
       "\\item 271\n",
       "\\item 306\n",
       "\\item 315\n",
       "\\item 301\n",
       "\\item 356\n",
       "\\item 348\n",
       "\\item 355\n",
       "\\item 422\n",
       "\\item 465\n",
       "\\item 467\n",
       "\\item 404\n",
       "\\item 347\n",
       "\\item 305\n",
       "\\item 336\n",
       "\\item 340\n",
       "\\item 318\n",
       "\\item 362\n",
       "\\item 348\n",
       "\\item 363\n",
       "\\item 435\n",
       "\\item 491\n",
       "\\item 505\n",
       "\\item 404\n",
       "\\item 359\n",
       "\\item 310\n",
       "\\item 337\n",
       "\\item 360\n",
       "\\item 342\n",
       "\\item 406\n",
       "\\item 396\n",
       "\\item 420\n",
       "\\item 472\n",
       "\\item 548\n",
       "\\item 559\n",
       "\\item 463\n",
       "\\item 407\n",
       "\\item 362\n",
       "\\item 405\n",
       "\\item 417\n",
       "\\item 391\n",
       "\\item 419\n",
       "\\item 461\n",
       "\\item 472\n",
       "\\item 535\n",
       "\\item 622\n",
       "\\item 606\n",
       "\\item 508\n",
       "\\item 461\n",
       "\\item 390\n",
       "\\item 432\n",
       "\\end{enumerate*}\n"
      ],
      "text/markdown": [
       "1. 112\n",
       "2. 118\n",
       "3. 132\n",
       "4. 129\n",
       "5. 121\n",
       "6. 135\n",
       "7. 148\n",
       "8. 148\n",
       "9. 136\n",
       "10. 119\n",
       "11. 104\n",
       "12. 118\n",
       "13. 115\n",
       "14. 126\n",
       "15. 141\n",
       "16. 135\n",
       "17. 125\n",
       "18. 149\n",
       "19. 170\n",
       "20. 170\n",
       "21. 158\n",
       "22. 133\n",
       "23. 114\n",
       "24. 140\n",
       "25. 145\n",
       "26. 150\n",
       "27. 178\n",
       "28. 163\n",
       "29. 172\n",
       "30. 178\n",
       "31. 199\n",
       "32. 199\n",
       "33. 184\n",
       "34. 162\n",
       "35. 146\n",
       "36. 166\n",
       "37. 171\n",
       "38. 180\n",
       "39. 193\n",
       "40. 181\n",
       "41. 183\n",
       "42. 218\n",
       "43. 230\n",
       "44. 242\n",
       "45. 209\n",
       "46. 191\n",
       "47. 172\n",
       "48. 194\n",
       "49. 196\n",
       "50. 196\n",
       "51. 236\n",
       "52. 235\n",
       "53. 229\n",
       "54. 243\n",
       "55. 264\n",
       "56. 272\n",
       "57. 237\n",
       "58. 211\n",
       "59. 180\n",
       "60. 201\n",
       "61. 204\n",
       "62. 188\n",
       "63. 235\n",
       "64. 227\n",
       "65. 234\n",
       "66. 264\n",
       "67. 302\n",
       "68. 293\n",
       "69. 259\n",
       "70. 229\n",
       "71. 203\n",
       "72. 229\n",
       "73. 242\n",
       "74. 233\n",
       "75. 267\n",
       "76. 269\n",
       "77. 270\n",
       "78. 315\n",
       "79. 364\n",
       "80. 347\n",
       "81. 312\n",
       "82. 274\n",
       "83. 237\n",
       "84. 278\n",
       "85. 284\n",
       "86. 277\n",
       "87. 317\n",
       "88. 313\n",
       "89. 318\n",
       "90. 374\n",
       "91. 413\n",
       "92. 405\n",
       "93. 355\n",
       "94. 306\n",
       "95. 271\n",
       "96. 306\n",
       "97. 315\n",
       "98. 301\n",
       "99. 356\n",
       "100. 348\n",
       "101. 355\n",
       "102. 422\n",
       "103. 465\n",
       "104. 467\n",
       "105. 404\n",
       "106. 347\n",
       "107. 305\n",
       "108. 336\n",
       "109. 340\n",
       "110. 318\n",
       "111. 362\n",
       "112. 348\n",
       "113. 363\n",
       "114. 435\n",
       "115. 491\n",
       "116. 505\n",
       "117. 404\n",
       "118. 359\n",
       "119. 310\n",
       "120. 337\n",
       "121. 360\n",
       "122. 342\n",
       "123. 406\n",
       "124. 396\n",
       "125. 420\n",
       "126. 472\n",
       "127. 548\n",
       "128. 559\n",
       "129. 463\n",
       "130. 407\n",
       "131. 362\n",
       "132. 405\n",
       "133. 417\n",
       "134. 391\n",
       "135. 419\n",
       "136. 461\n",
       "137. 472\n",
       "138. 535\n",
       "139. 622\n",
       "140. 606\n",
       "141. 508\n",
       "142. 461\n",
       "143. 390\n",
       "144. 432\n",
       "\n",
       "\n"
      ],
      "text/plain": [
       "  [1] 112 118 132 129 121 135 148 148 136 119 104 118 115 126 141 135 125 149\n",
       " [19] 170 170 158 133 114 140 145 150 178 163 172 178 199 199 184 162 146 166\n",
       " [37] 171 180 193 181 183 218 230 242 209 191 172 194 196 196 236 235 229 243\n",
       " [55] 264 272 237 211 180 201 204 188 235 227 234 264 302 293 259 229 203 229\n",
       " [73] 242 233 267 269 270 315 364 347 312 274 237 278 284 277 317 313 318 374\n",
       " [91] 413 405 355 306 271 306 315 301 356 348 355 422 465 467 404 347 305 336\n",
       "[109] 340 318 362 348 363 435 491 505 404 359 310 337 360 342 406 396 420 472\n",
       "[127] 548 559 463 407 362 405 417 391 419 461 472 535 622 606 508 461 390 432"
      ]
     },
     "metadata": {},
     "output_type": "display_data"
    }
   ],
   "source": [
    "as.vector(AirPassengers)"
   ]
  },
  {
   "cell_type": "code",
   "execution_count": 187,
   "id": "a9a70159",
   "metadata": {
    "ExecuteTime": {
     "end_time": "2021-09-05T14:23:35.838486Z",
     "start_time": "2021-09-05T14:23:35.818Z"
    }
   },
   "outputs": [
    {
     "data": {
      "text/html": [
       "23150"
      ],
      "text/latex": [
       "23150"
      ],
      "text/markdown": [
       "23150"
      ],
      "text/plain": [
       "[1] 23150"
      ]
     },
     "metadata": {},
     "output_type": "display_data"
    }
   ],
   "source": [
    "# В этой задаче от вас потребуется узнать некоторую информацию о типах данных в R самостоятельно! \n",
    "# Встроенные в R данные AirPassengers - это новый для нас формат данных типа Time-Series. \n",
    "# Изучите структуру этих данных, прежде чем начать решение задачи! Например напишите команды:\n",
    "\n",
    "good_months <- rep(F, length(AirPassengers))\n",
    "for (i in 2 : length(AirPassengers)) {\n",
    "    good_months[i] <- ifelse(AirPassengers[i] > AirPassengers[i-1], T, F)\n",
    "}\n",
    "\n",
    "sum(AirPassengers[good_months])"
   ]
  },
  {
   "cell_type": "code",
   "execution_count": 226,
   "id": "e2775a74",
   "metadata": {
    "ExecuteTime": {
     "end_time": "2021-09-05T22:14:33.102278Z",
     "start_time": "2021-09-05T22:14:32.836Z"
    }
   },
   "outputs": [],
   "source": [
    "# Для встроенных в R данных AirPassengers рассчитайте скользящее среднее с интервалом сглаживания равным 10. \n",
    "# Напечатайте получившийся результат (первым значением в выводе должно быть среднее для элементов 1:10, \n",
    "# во втором значении - среднее для элементов 2:11 и т.д., в последнем  - среднее для элементов 135 :144)\n",
    "n <- 10\n",
    "\n",
    "moving_average <- \n",
    "(cumsum(AirPassengers)[n:length(AirPassengers)] - c(0, cumsum(AirPassengers))[1:((length(AirPassengers)+1) - n)]) / n"
   ]
  },
  {
   "cell_type": "markdown",
   "id": "151915a4",
   "metadata": {},
   "source": [
    "## Описательные статистики"
   ]
  },
  {
   "cell_type": "markdown",
   "id": "6ed7c9dc",
   "metadata": {},
   "source": [
    "### Factor"
   ]
  },
  {
   "cell_type": "code",
   "execution_count": 243,
   "id": "3d6827d9",
   "metadata": {
    "ExecuteTime": {
     "end_time": "2021-09-06T07:15:52.612259Z",
     "start_time": "2021-09-06T07:15:52.595Z"
    }
   },
   "outputs": [],
   "source": [
    "df <- mtcars"
   ]
  },
  {
   "cell_type": "code",
   "execution_count": 244,
   "id": "0670c35d",
   "metadata": {
    "ExecuteTime": {
     "end_time": "2021-09-06T07:15:53.445048Z",
     "start_time": "2021-09-06T07:15:52.868Z"
    }
   },
   "outputs": [
    {
     "name": "stdout",
     "output_type": "stream",
     "text": [
      "'data.frame':\t32 obs. of  13 variables:\n",
      " $ mpg      : num  21 21 22.8 21.4 18.7 18.1 14.3 24.4 22.8 19.2 ...\n",
      " $ cyl      : num  6 6 4 6 8 6 8 4 4 6 ...\n",
      " $ disp     : num  160 160 108 258 360 ...\n",
      " $ hp       : num  110 110 93 110 175 105 245 62 95 123 ...\n",
      " $ drat     : num  3.9 3.9 3.85 3.08 3.15 2.76 3.21 3.69 3.92 3.92 ...\n",
      " $ wt       : num  2.62 2.88 2.32 3.21 3.44 ...\n",
      " $ qsec     : num  16.5 17 18.6 19.4 17 ...\n",
      " $ vs       : num  0 0 1 1 0 1 0 1 1 1 ...\n",
      " $ am       : num  1 1 1 0 0 0 0 0 0 0 ...\n",
      " $ gear     : num  4 4 4 3 3 3 3 4 4 4 ...\n",
      " $ carb     : num  4 4 1 1 2 1 4 2 2 4 ...\n",
      " $ even_gear: num  1 1 1 0 0 0 0 1 1 1 ...\n",
      " $ new_var  : num  1 1 0 0 1 0 1 0 0 1 ...\n"
     ]
    }
   ],
   "source": [
    "str(df)"
   ]
  },
  {
   "cell_type": "code",
   "execution_count": 248,
   "id": "177e90cb",
   "metadata": {
    "ExecuteTime": {
     "end_time": "2021-09-06T07:16:02.347581Z",
     "start_time": "2021-09-06T07:16:02.326Z"
    }
   },
   "outputs": [],
   "source": [
    "df$vs <- factor(df$vs, labels = c('V', 'S'))\n",
    "df$am <- factor(df$am, labels = c('Auto', 'Manual'))"
   ]
  },
  {
   "cell_type": "code",
   "execution_count": 251,
   "id": "3a1a2dd5",
   "metadata": {
    "ExecuteTime": {
     "end_time": "2021-09-06T07:16:11.747763Z",
     "start_time": "2021-09-06T07:16:11.721Z"
    }
   },
   "outputs": [
    {
     "data": {
      "text/html": [
       "<table>\n",
       "<thead><tr><th></th><th scope=col>vs</th><th scope=col>am</th></tr></thead>\n",
       "<tbody>\n",
       "\t<tr><th scope=row>Mazda RX4</th><td>S     </td><td>Manual</td></tr>\n",
       "\t<tr><th scope=row>Mazda RX4 Wag</th><td>S     </td><td>Manual</td></tr>\n",
       "\t<tr><th scope=row>Datsun 710</th><td>S     </td><td>Manual</td></tr>\n",
       "\t<tr><th scope=row>Hornet 4 Drive</th><td>V     </td><td>Auto  </td></tr>\n",
       "\t<tr><th scope=row>Hornet Sportabout</th><td>V     </td><td>Auto  </td></tr>\n",
       "</tbody>\n",
       "</table>\n"
      ],
      "text/latex": [
       "\\begin{tabular}{r|ll}\n",
       "  & vs & am\\\\\n",
       "\\hline\n",
       "\tMazda RX4 & S      & Manual\\\\\n",
       "\tMazda RX4 Wag & S      & Manual\\\\\n",
       "\tDatsun 710 & S      & Manual\\\\\n",
       "\tHornet 4 Drive & V      & Auto  \\\\\n",
       "\tHornet Sportabout & V      & Auto  \\\\\n",
       "\\end{tabular}\n"
      ],
      "text/markdown": [
       "\n",
       "| <!--/--> | vs | am |\n",
       "|---|---|---|\n",
       "| Mazda RX4 | S      | Manual |\n",
       "| Mazda RX4 Wag | S      | Manual |\n",
       "| Datsun 710 | S      | Manual |\n",
       "| Hornet 4 Drive | V      | Auto   |\n",
       "| Hornet Sportabout | V      | Auto   |\n",
       "\n"
      ],
      "text/plain": [
       "                  vs am    \n",
       "Mazda RX4         S  Manual\n",
       "Mazda RX4 Wag     S  Manual\n",
       "Datsun 710        S  Manual\n",
       "Hornet 4 Drive    V  Auto  \n",
       "Hornet Sportabout V  Auto  "
      ]
     },
     "metadata": {},
     "output_type": "display_data"
    }
   ],
   "source": [
    "df[1:4, c('vs', 'am')]"
   ]
  },
  {
   "cell_type": "code",
   "execution_count": 250,
   "id": "74f29716",
   "metadata": {
    "ExecuteTime": {
     "end_time": "2021-09-06T07:16:03.815552Z",
     "start_time": "2021-09-06T07:16:02.738Z"
    }
   },
   "outputs": [
    {
     "name": "stdout",
     "output_type": "stream",
     "text": [
      "'data.frame':\t32 obs. of  13 variables:\n",
      " $ mpg      : num  21 21 22.8 21.4 18.7 18.1 14.3 24.4 22.8 19.2 ...\n",
      " $ cyl      : num  6 6 4 6 8 6 8 4 4 6 ...\n",
      " $ disp     : num  160 160 108 258 360 ...\n",
      " $ hp       : num  110 110 93 110 175 105 245 62 95 123 ...\n",
      " $ drat     : num  3.9 3.9 3.85 3.08 3.15 2.76 3.21 3.69 3.92 3.92 ...\n",
      " $ wt       : num  2.62 2.88 2.32 3.21 3.44 ...\n",
      " $ qsec     : num  16.5 17 18.6 19.4 17 ...\n",
      " $ vs       : Factor w/ 2 levels \"V\",\"S\": 2 2 2 1 1 1 1 1 1 1 ...\n",
      " $ am       : Factor w/ 2 levels \"Auto\",\"Manual\": 2 2 2 1 1 1 1 1 1 1 ...\n",
      " $ gear     : num  4 4 4 3 3 3 3 4 4 4 ...\n",
      " $ carb     : num  4 4 1 1 2 1 4 2 2 4 ...\n",
      " $ even_gear: num  1 1 1 0 0 0 0 1 1 1 ...\n",
      " $ new_var  : num  1 1 0 0 1 0 1 0 0 1 ...\n"
     ]
    }
   ],
   "source": [
    "str(df)"
   ]
  },
  {
   "cell_type": "markdown",
   "id": "d68fe7c9",
   "metadata": {},
   "source": [
    "### Aggregate"
   ]
  },
  {
   "cell_type": "code",
   "execution_count": 258,
   "id": "63c85ab1",
   "metadata": {
    "ExecuteTime": {
     "end_time": "2021-09-06T07:19:36.907385Z",
     "start_time": "2021-09-06T07:19:36.887Z"
    }
   },
   "outputs": [
    {
     "data": {
      "text/html": [
       "18.8164285714286"
      ],
      "text/latex": [
       "18.8164285714286"
      ],
      "text/markdown": [
       "18.8164285714286"
      ],
      "text/plain": [
       "[1] 18.81643"
      ]
     },
     "metadata": {},
     "output_type": "display_data"
    }
   ],
   "source": [
    "result <- mean(df$qsec[df$cyl != 3 & df$mpg > 20])"
   ]
  },
  {
   "cell_type": "code",
   "execution_count": 259,
   "id": "fb627800",
   "metadata": {
    "ExecuteTime": {
     "end_time": "2021-09-06T07:20:23.356347Z",
     "start_time": "2021-09-06T07:20:23.097Z"
    }
   },
   "outputs": [],
   "source": [
    "# ?aggregate"
   ]
  },
  {
   "cell_type": "code",
   "execution_count": 268,
   "id": "15007771",
   "metadata": {
    "ExecuteTime": {
     "end_time": "2021-09-06T07:23:20.781431Z",
     "start_time": "2021-09-06T07:23:20.752Z"
    }
   },
   "outputs": [
    {
     "data": {
      "text/html": [
       "<table>\n",
       "<thead><tr><th scope=col>VS</th><th scope=col>mean_HP</th></tr></thead>\n",
       "<tbody>\n",
       "\t<tr><td>V       </td><td>160.2632</td></tr>\n",
       "\t<tr><td>S       </td><td>126.8462</td></tr>\n",
       "</tbody>\n",
       "</table>\n"
      ],
      "text/latex": [
       "\\begin{tabular}{r|ll}\n",
       " VS & mean\\_HP\\\\\n",
       "\\hline\n",
       "\t V        & 160.2632\\\\\n",
       "\t S        & 126.8462\\\\\n",
       "\\end{tabular}\n"
      ],
      "text/markdown": [
       "\n",
       "| VS | mean_HP |\n",
       "|---|---|\n",
       "| V        | 160.2632 |\n",
       "| S        | 126.8462 |\n",
       "\n"
      ],
      "text/plain": [
       "  VS mean_HP \n",
       "1 V  160.2632\n",
       "2 S  126.8462"
      ]
     },
     "metadata": {},
     "output_type": "display_data"
    }
   ],
   "source": [
    "mean_hp_vs <- aggregate(x = df$hp, by = list(df$vs), FUN = mean)\n",
    "colnames(mean_hp_vs) <- c('VS', 'mean_HP')\n",
    "\n",
    "mean_hp_vs"
   ]
  },
  {
   "cell_type": "code",
   "execution_count": 30,
   "id": "30ef43b3",
   "metadata": {
    "ExecuteTime": {
     "end_time": "2021-09-07T22:23:39.491503Z",
     "start_time": "2021-09-07T22:23:39.476Z"
    }
   },
   "outputs": [
    {
     "ename": "ERROR",
     "evalue": "Error in as.data.frame.default(data, optional = TRUE): cannot coerce class ‘\"function\"’ to a data.frame\n",
     "output_type": "error",
     "traceback": [
      "Error in as.data.frame.default(data, optional = TRUE): cannot coerce class ‘\"function\"’ to a data.frame\nTraceback:\n",
      "1. aggregate(hp ~ vs, df, mean)",
      "2. aggregate.formula(hp ~ vs, df, mean)",
      "3. eval(m, parent.frame())",
      "4. eval(m, parent.frame())",
      "5. stats::model.frame(formula = hp ~ vs, data = df)",
      "6. model.frame.default(formula = hp ~ vs, data = df)",
      "7. terms(formula, data = data)",
      "8. terms.formula(formula, data = data)",
      "9. as.data.frame(data, optional = TRUE)",
      "10. as.data.frame.default(data, optional = TRUE)",
      "11. stop(gettextf(\"cannot coerce class %s to a data.frame\", sQuote(deparse(class(x))[1L])), \n  .     domain = NA)"
     ]
    }
   ],
   "source": [
    "# альтернативная запись, в виде формулы\n",
    "\n",
    "# по дефолту - не учитывает пропущенные значения\n",
    "aggregate(hp ~ vs, df, mean)"
   ]
  },
  {
   "cell_type": "code",
   "execution_count": 272,
   "id": "c9cb30fe",
   "metadata": {
    "ExecuteTime": {
     "end_time": "2021-09-06T07:25:35.420269Z",
     "start_time": "2021-09-06T07:25:35.391Z"
    }
   },
   "outputs": [
    {
     "data": {
      "text/html": [
       "<table>\n",
       "<thead><tr><th scope=col>vs</th><th scope=col>am</th><th scope=col>hp</th></tr></thead>\n",
       "<tbody>\n",
       "\t<tr><td>V       </td><td>Auto    </td><td>160.2632</td></tr>\n",
       "\t<tr><td>S       </td><td>Manual  </td><td>126.8462</td></tr>\n",
       "</tbody>\n",
       "</table>\n"
      ],
      "text/latex": [
       "\\begin{tabular}{r|lll}\n",
       " vs & am & hp\\\\\n",
       "\\hline\n",
       "\t V        & Auto     & 160.2632\\\\\n",
       "\t S        & Manual   & 126.8462\\\\\n",
       "\\end{tabular}\n"
      ],
      "text/markdown": [
       "\n",
       "| vs | am | hp |\n",
       "|---|---|---|\n",
       "| V        | Auto     | 160.2632 |\n",
       "| S        | Manual   | 126.8462 |\n",
       "\n"
      ],
      "text/plain": [
       "  vs am     hp      \n",
       "1 V  Auto   160.2632\n",
       "2 S  Manual 126.8462"
      ]
     },
     "metadata": {},
     "output_type": "display_data"
    }
   ],
   "source": [
    "aggregate(hp ~ vs + am, df, mean)"
   ]
  },
  {
   "cell_type": "code",
   "execution_count": 276,
   "id": "d94dfd20",
   "metadata": {
    "ExecuteTime": {
     "end_time": "2021-09-06T07:29:15.327386Z",
     "start_time": "2021-09-06T07:29:15.291Z"
    }
   },
   "outputs": [
    {
     "data": {
      "text/html": [
       "<table>\n",
       "<thead><tr><th scope=col>Group.1</th><th scope=col>mpg</th><th scope=col>cyl</th><th scope=col>disp</th><th scope=col>hp</th><th scope=col>drat</th><th scope=col>wt</th><th scope=col>qsec</th><th scope=col>gear</th><th scope=col>carb</th></tr></thead>\n",
       "<tbody>\n",
       "\t<tr><td>V    </td><td>17.3 </td><td>8    </td><td>275.8</td><td>175  </td><td>3.15 </td><td>3.52 </td><td>17.82</td><td>3    </td><td>3    </td></tr>\n",
       "\t<tr><td>S    </td><td>22.8 </td><td>4    </td><td>120.3</td><td>109  </td><td>4.08 </td><td>2.32 </td><td>17.02</td><td>4    </td><td>2    </td></tr>\n",
       "</tbody>\n",
       "</table>\n"
      ],
      "text/latex": [
       "\\begin{tabular}{r|llllllllll}\n",
       " Group.1 & mpg & cyl & disp & hp & drat & wt & qsec & gear & carb\\\\\n",
       "\\hline\n",
       "\t V     & 17.3  & 8     & 275.8 & 175   & 3.15  & 3.52  & 17.82 & 3     & 3    \\\\\n",
       "\t S     & 22.8  & 4     & 120.3 & 109   & 4.08  & 2.32  & 17.02 & 4     & 2    \\\\\n",
       "\\end{tabular}\n"
      ],
      "text/markdown": [
       "\n",
       "| Group.1 | mpg | cyl | disp | hp | drat | wt | qsec | gear | carb |\n",
       "|---|---|---|---|---|---|---|---|---|---|\n",
       "| V     | 17.3  | 8     | 275.8 | 175   | 3.15  | 3.52  | 17.82 | 3     | 3     |\n",
       "| S     | 22.8  | 4     | 120.3 | 109   | 4.08  | 2.32  | 17.02 | 4     | 2     |\n",
       "\n"
      ],
      "text/plain": [
       "  Group.1 mpg  cyl disp  hp  drat wt   qsec  gear carb\n",
       "1 V       17.3 8   275.8 175 3.15 3.52 17.82 3    3   \n",
       "2 S       22.8 4   120.3 109 4.08 2.32 17.02 4    2   "
      ]
     },
     "metadata": {},
     "output_type": "display_data"
    }
   ],
   "source": [
    "df$even_gear <- NULL\n",
    "df$new_var <- NULL\n",
    "\n",
    "aggregate(x = df[, -c(8, 9)], by = list(df$vs), FUN = median)"
   ]
  },
  {
   "cell_type": "code",
   "execution_count": 277,
   "id": "4d4449bc",
   "metadata": {
    "ExecuteTime": {
     "end_time": "2021-09-06T07:30:35.729526Z",
     "start_time": "2021-09-06T07:30:35.705Z"
    }
   },
   "outputs": [
    {
     "data": {
      "text/html": [
       "<table>\n",
       "<thead><tr><th scope=col>Group.1</th><th scope=col>Group.2</th><th scope=col>mpg</th><th scope=col>disp</th></tr></thead>\n",
       "<tbody>\n",
       "\t<tr><td>V        </td><td>Auto     </td><td>3.833966 </td><td>110.17165</td></tr>\n",
       "\t<tr><td>S        </td><td>Manual   </td><td>6.166504 </td><td> 87.20399</td></tr>\n",
       "</tbody>\n",
       "</table>\n"
      ],
      "text/latex": [
       "\\begin{tabular}{r|llll}\n",
       " Group.1 & Group.2 & mpg & disp\\\\\n",
       "\\hline\n",
       "\t V         & Auto      & 3.833966  & 110.17165\\\\\n",
       "\t S         & Manual    & 6.166504  &  87.20399\\\\\n",
       "\\end{tabular}\n"
      ],
      "text/markdown": [
       "\n",
       "| Group.1 | Group.2 | mpg | disp |\n",
       "|---|---|---|---|\n",
       "| V         | Auto      | 3.833966  | 110.17165 |\n",
       "| S         | Manual    | 6.166504  |  87.20399 |\n",
       "\n"
      ],
      "text/plain": [
       "  Group.1 Group.2 mpg      disp     \n",
       "1 V       Auto    3.833966 110.17165\n",
       "2 S       Manual  6.166504  87.20399"
      ]
     },
     "metadata": {},
     "output_type": "display_data"
    }
   ],
   "source": [
    "aggregate(x = df[, c(1, 3)], by = list(df$vs, df$am), FUN = sd)"
   ]
  },
  {
   "cell_type": "code",
   "execution_count": 281,
   "id": "87e688e5",
   "metadata": {
    "ExecuteTime": {
     "end_time": "2021-09-06T07:33:27.388046Z",
     "start_time": "2021-09-06T07:33:27.365Z"
    }
   },
   "outputs": [
    {
     "data": {
      "text/html": [
       "<table>\n",
       "<thead><tr><th scope=col>vs</th><th scope=col>am</th><th scope=col>mpg</th><th scope=col>disp</th></tr></thead>\n",
       "<tbody>\n",
       "\t<tr><td>V        </td><td>Auto     </td><td>3.833966 </td><td>110.17165</td></tr>\n",
       "\t<tr><td>S        </td><td>Manual   </td><td>6.166504 </td><td> 87.20399</td></tr>\n",
       "</tbody>\n",
       "</table>\n"
      ],
      "text/latex": [
       "\\begin{tabular}{r|llll}\n",
       " vs & am & mpg & disp\\\\\n",
       "\\hline\n",
       "\t V         & Auto      & 3.833966  & 110.17165\\\\\n",
       "\t S         & Manual    & 6.166504  &  87.20399\\\\\n",
       "\\end{tabular}\n"
      ],
      "text/markdown": [
       "\n",
       "| vs | am | mpg | disp |\n",
       "|---|---|---|---|\n",
       "| V         | Auto      | 3.833966  | 110.17165 |\n",
       "| S         | Manual    | 6.166504  |  87.20399 |\n",
       "\n"
      ],
      "text/plain": [
       "  vs am     mpg      disp     \n",
       "1 V  Auto   3.833966 110.17165\n",
       "2 S  Manual 6.166504  87.20399"
      ]
     },
     "metadata": {},
     "output_type": "display_data"
    }
   ],
   "source": [
    "# альтернативная более лаконичная запись через формулу\n",
    "aggregate(cbind(mpg, disp) ~ vs + am, df, sd)"
   ]
  },
  {
   "cell_type": "code",
   "execution_count": 282,
   "id": "0f56e801",
   "metadata": {
    "ExecuteTime": {
     "end_time": "2021-09-06T07:35:00.504110Z",
     "start_time": "2021-09-06T07:35:00.485Z"
    }
   },
   "outputs": [
    {
     "data": {
      "text/html": [
       "18.8164285714286"
      ],
      "text/latex": [
       "18.8164285714286"
      ],
      "text/markdown": [
       "18.8164285714286"
      ],
      "text/plain": [
       "[1] 18.81643"
      ]
     },
     "metadata": {},
     "output_type": "display_data"
    }
   ],
   "source": [
    "mean(df$qsec[df$cyl != 3 & df$mpg > 20])"
   ]
  },
  {
   "cell_type": "code",
   "execution_count": 283,
   "id": "c329abea",
   "metadata": {
    "ExecuteTime": {
     "end_time": "2021-09-06T07:36:28.191098Z",
     "start_time": "2021-09-06T07:36:28.166Z"
    }
   },
   "outputs": [
    {
     "data": {
      "text/html": [
       "<table>\n",
       "<thead><tr><th scope=col>am</th><th scope=col>hp</th><th scope=col>disp</th></tr></thead>\n",
       "<tbody>\n",
       "\t<tr><td>Auto     </td><td>53.90820 </td><td>110.17165</td></tr>\n",
       "\t<tr><td>Manual   </td><td>84.06232 </td><td> 87.20399</td></tr>\n",
       "</tbody>\n",
       "</table>\n"
      ],
      "text/latex": [
       "\\begin{tabular}{r|lll}\n",
       " am & hp & disp\\\\\n",
       "\\hline\n",
       "\t Auto      & 53.90820  & 110.17165\\\\\n",
       "\t Manual    & 84.06232  &  87.20399\\\\\n",
       "\\end{tabular}\n"
      ],
      "text/markdown": [
       "\n",
       "| am | hp | disp |\n",
       "|---|---|---|\n",
       "| Auto      | 53.90820  | 110.17165 |\n",
       "| Manual    | 84.06232  |  87.20399 |\n",
       "\n"
      ],
      "text/plain": [
       "  am     hp       disp     \n",
       "1 Auto   53.90820 110.17165\n",
       "2 Manual 84.06232  87.20399"
      ]
     },
     "metadata": {},
     "output_type": "display_data"
    }
   ],
   "source": [
    "# При помощи функции aggregate рассчитайте стандартное отклонение переменной hp (лошадиные силы) \n",
    "# и переменной disp (вместимости двигателя)  у машин с автоматической и ручной коробкой передач. \n",
    "descriptions_stat <- aggregate(cbind(hp, disp) ~ am, df, sd)"
   ]
  },
  {
   "cell_type": "markdown",
   "id": "ce19b2c3",
   "metadata": {},
   "source": [
    "### Describe"
   ]
  },
  {
   "cell_type": "code",
   "execution_count": 36,
   "id": "c35d2a6c",
   "metadata": {
    "ExecuteTime": {
     "end_time": "2021-09-18T20:06:34.650523Z",
     "start_time": "2021-09-18T20:06:34.501Z"
    }
   },
   "outputs": [],
   "source": [
    "library(psych)"
   ]
  },
  {
   "cell_type": "code",
   "execution_count": 5,
   "id": "56a47b44",
   "metadata": {
    "ExecuteTime": {
     "end_time": "2021-09-07T08:44:55.521212Z",
     "start_time": "2021-09-07T08:44:55.499Z"
    }
   },
   "outputs": [
    {
     "data": {
      "text/html": [
       "<table>\n",
       "<thead><tr><th></th><th scope=col>vars</th><th scope=col>n</th><th scope=col>mean</th><th scope=col>sd</th><th scope=col>min</th><th scope=col>max</th><th scope=col>range</th><th scope=col>se</th></tr></thead>\n",
       "<tbody>\n",
       "\t<tr><th scope=row>mpg</th><td> 1         </td><td>32         </td><td> 20.090625 </td><td>  6.0269481</td><td>10.400     </td><td> 33.900    </td><td> 23.500    </td><td> 1.06542396</td></tr>\n",
       "\t<tr><th scope=row>cyl</th><td> 2         </td><td>32         </td><td>  6.187500 </td><td>  1.7859216</td><td> 4.000     </td><td>  8.000    </td><td>  4.000    </td><td> 0.31570933</td></tr>\n",
       "\t<tr><th scope=row>disp</th><td> 3         </td><td>32         </td><td>230.721875 </td><td>123.9386938</td><td>71.100     </td><td>472.000    </td><td>400.900    </td><td>21.90947271</td></tr>\n",
       "\t<tr><th scope=row>hp</th><td> 4         </td><td>32         </td><td>146.687500 </td><td> 68.5628685</td><td>52.000     </td><td>335.000    </td><td>283.000    </td><td>12.12031731</td></tr>\n",
       "\t<tr><th scope=row>drat</th><td> 5         </td><td>32         </td><td>  3.596563 </td><td>  0.5346787</td><td> 2.760     </td><td>  4.930    </td><td>  2.170    </td><td> 0.09451874</td></tr>\n",
       "\t<tr><th scope=row>wt</th><td> 6         </td><td>32         </td><td>  3.217250 </td><td>  0.9784574</td><td> 1.513     </td><td>  5.424    </td><td>  3.911    </td><td> 0.17296847</td></tr>\n",
       "\t<tr><th scope=row>qsec</th><td> 7         </td><td>32         </td><td> 17.848750 </td><td>  1.7869432</td><td>14.500     </td><td> 22.900    </td><td>  8.400    </td><td> 0.31588992</td></tr>\n",
       "\t<tr><th scope=row>vs</th><td> 8         </td><td>32         </td><td>  0.437500 </td><td>  0.5040161</td><td> 0.000     </td><td>  1.000    </td><td>  1.000    </td><td> 0.08909831</td></tr>\n",
       "\t<tr><th scope=row>am</th><td> 9         </td><td>32         </td><td>  0.406250 </td><td>  0.4989909</td><td> 0.000     </td><td>  1.000    </td><td>  1.000    </td><td> 0.08820997</td></tr>\n",
       "\t<tr><th scope=row>gear</th><td>10         </td><td>32         </td><td>  3.687500 </td><td>  0.7378041</td><td> 3.000     </td><td>  5.000    </td><td>  2.000    </td><td> 0.13042656</td></tr>\n",
       "\t<tr><th scope=row>carb</th><td>11         </td><td>32         </td><td>  2.812500 </td><td>  1.6152000</td><td> 1.000     </td><td>  8.000    </td><td>  7.000    </td><td> 0.28552971</td></tr>\n",
       "</tbody>\n",
       "</table>\n"
      ],
      "text/latex": [
       "\\begin{tabular}{r|llllllll}\n",
       "  & vars & n & mean & sd & min & max & range & se\\\\\n",
       "\\hline\n",
       "\tmpg &  1          & 32          &  20.090625  &   6.0269481 & 10.400      &  33.900     &  23.500     &  1.06542396\\\\\n",
       "\tcyl &  2          & 32          &   6.187500  &   1.7859216 &  4.000      &   8.000     &   4.000     &  0.31570933\\\\\n",
       "\tdisp &  3          & 32          & 230.721875  & 123.9386938 & 71.100      & 472.000     & 400.900     & 21.90947271\\\\\n",
       "\thp &  4          & 32          & 146.687500  &  68.5628685 & 52.000      & 335.000     & 283.000     & 12.12031731\\\\\n",
       "\tdrat &  5          & 32          &   3.596563  &   0.5346787 &  2.760      &   4.930     &   2.170     &  0.09451874\\\\\n",
       "\twt &  6          & 32          &   3.217250  &   0.9784574 &  1.513      &   5.424     &   3.911     &  0.17296847\\\\\n",
       "\tqsec &  7          & 32          &  17.848750  &   1.7869432 & 14.500      &  22.900     &   8.400     &  0.31588992\\\\\n",
       "\tvs &  8          & 32          &   0.437500  &   0.5040161 &  0.000      &   1.000     &   1.000     &  0.08909831\\\\\n",
       "\tam &  9          & 32          &   0.406250  &   0.4989909 &  0.000      &   1.000     &   1.000     &  0.08820997\\\\\n",
       "\tgear & 10          & 32          &   3.687500  &   0.7378041 &  3.000      &   5.000     &   2.000     &  0.13042656\\\\\n",
       "\tcarb & 11          & 32          &   2.812500  &   1.6152000 &  1.000      &   8.000     &   7.000     &  0.28552971\\\\\n",
       "\\end{tabular}\n"
      ],
      "text/markdown": [
       "\n",
       "| <!--/--> | vars | n | mean | sd | min | max | range | se |\n",
       "|---|---|---|---|---|---|---|---|---|\n",
       "| mpg |  1          | 32          |  20.090625  |   6.0269481 | 10.400      |  33.900     |  23.500     |  1.06542396 |\n",
       "| cyl |  2          | 32          |   6.187500  |   1.7859216 |  4.000      |   8.000     |   4.000     |  0.31570933 |\n",
       "| disp |  3          | 32          | 230.721875  | 123.9386938 | 71.100      | 472.000     | 400.900     | 21.90947271 |\n",
       "| hp |  4          | 32          | 146.687500  |  68.5628685 | 52.000      | 335.000     | 283.000     | 12.12031731 |\n",
       "| drat |  5          | 32          |   3.596563  |   0.5346787 |  2.760      |   4.930     |   2.170     |  0.09451874 |\n",
       "| wt |  6          | 32          |   3.217250  |   0.9784574 |  1.513      |   5.424     |   3.911     |  0.17296847 |\n",
       "| qsec |  7          | 32          |  17.848750  |   1.7869432 | 14.500      |  22.900     |   8.400     |  0.31588992 |\n",
       "| vs |  8          | 32          |   0.437500  |   0.5040161 |  0.000      |   1.000     |   1.000     |  0.08909831 |\n",
       "| am |  9          | 32          |   0.406250  |   0.4989909 |  0.000      |   1.000     |   1.000     |  0.08820997 |\n",
       "| gear | 10          | 32          |   3.687500  |   0.7378041 |  3.000      |   5.000     |   2.000     |  0.13042656 |\n",
       "| carb | 11          | 32          |   2.812500  |   1.6152000 |  1.000      |   8.000     |   7.000     |  0.28552971 |\n",
       "\n"
      ],
      "text/plain": [
       "     vars n  mean       sd          min    max     range   se         \n",
       "mpg   1   32  20.090625   6.0269481 10.400  33.900  23.500  1.06542396\n",
       "cyl   2   32   6.187500   1.7859216  4.000   8.000   4.000  0.31570933\n",
       "disp  3   32 230.721875 123.9386938 71.100 472.000 400.900 21.90947271\n",
       "hp    4   32 146.687500  68.5628685 52.000 335.000 283.000 12.12031731\n",
       "drat  5   32   3.596563   0.5346787  2.760   4.930   2.170  0.09451874\n",
       "wt    6   32   3.217250   0.9784574  1.513   5.424   3.911  0.17296847\n",
       "qsec  7   32  17.848750   1.7869432 14.500  22.900   8.400  0.31588992\n",
       "vs    8   32   0.437500   0.5040161  0.000   1.000   1.000  0.08909831\n",
       "am    9   32   0.406250   0.4989909  0.000   1.000   1.000  0.08820997\n",
       "gear 10   32   3.687500   0.7378041  3.000   5.000   2.000  0.13042656\n",
       "carb 11   32   2.812500   1.6152000  1.000   8.000   7.000  0.28552971"
      ]
     },
     "metadata": {},
     "output_type": "display_data"
    }
   ],
   "source": [
    "describe(mtcars, fast = T)"
   ]
  },
  {
   "cell_type": "code",
   "execution_count": 26,
   "id": "a2932382",
   "metadata": {
    "ExecuteTime": {
     "end_time": "2021-09-07T22:04:51.302908Z",
     "start_time": "2021-09-07T22:04:51.253Z"
    }
   },
   "outputs": [
    {
     "data": {
      "text/html": [
       "<table>\n",
       "<thead><tr><th></th><th scope=col>item</th><th scope=col>group1</th><th scope=col>vars</th><th scope=col>n</th><th scope=col>mean</th><th scope=col>sd</th><th scope=col>median</th><th scope=col>trimmed</th><th scope=col>mad</th><th scope=col>min</th><th scope=col>max</th><th scope=col>range</th><th scope=col>skew</th><th scope=col>kurtosis</th><th scope=col>se</th></tr></thead>\n",
       "<tbody>\n",
       "\t<tr><th scope=row>mpg1</th><td>1     </td><td>V     </td><td>1     </td><td>18    </td><td> 16.62</td><td>  3.86</td><td> 15.65</td><td> 16.42</td><td> 2.97 </td><td> 10.40</td><td> 26.00</td><td> 15.60</td><td> 0.48 </td><td>-0.05 </td><td> 0.91 </td></tr>\n",
       "\t<tr><th scope=row>mpg2</th><td>2     </td><td>S     </td><td>1     </td><td>14    </td><td> 24.56</td><td>  5.38</td><td> 22.80</td><td> 24.34</td><td> 6.00 </td><td> 17.80</td><td> 33.90</td><td> 16.10</td><td> 0.41 </td><td>-1.40 </td><td> 1.44 </td></tr>\n",
       "\t<tr><th scope=row>cyl1</th><td>3     </td><td>V     </td><td>2     </td><td>18    </td><td>  7.44</td><td>  1.15</td><td>  8.00</td><td>  7.62</td><td> 0.00 </td><td>  4.00</td><td>  8.00</td><td>  4.00</td><td>-1.74 </td><td> 1.94 </td><td> 0.27 </td></tr>\n",
       "\t<tr><th scope=row>cyl2</th><td>4     </td><td>S     </td><td>2     </td><td>14    </td><td>  4.57</td><td>  0.94</td><td>  4.00</td><td>  4.50</td><td> 0.00 </td><td>  4.00</td><td>  6.00</td><td>  2.00</td><td> 0.85 </td><td>-1.36 </td><td> 0.25 </td></tr>\n",
       "\t<tr><th scope=row>disp1</th><td>5     </td><td>V     </td><td>3     </td><td>18    </td><td>307.15</td><td>106.77</td><td>311.00</td><td>308.52</td><td>72.65 </td><td>120.30</td><td>472.00</td><td>351.70</td><td>-0.26 </td><td>-1.06 </td><td>25.16 </td></tr>\n",
       "\t<tr><th scope=row>disp2</th><td>6     </td><td>S     </td><td>3     </td><td>14    </td><td>132.46</td><td> 56.89</td><td>120.55</td><td>127.11</td><td>61.82 </td><td> 71.10</td><td>258.00</td><td>186.90</td><td> 0.80 </td><td>-0.49 </td><td>15.21 </td></tr>\n",
       "\t<tr><th scope=row>hp1</th><td>7     </td><td>V     </td><td>4     </td><td>18    </td><td>189.72</td><td> 60.28</td><td>180.00</td><td>186.81</td><td>48.18 </td><td> 91.00</td><td>335.00</td><td>244.00</td><td> 0.45 </td><td>-0.15 </td><td>14.21 </td></tr>\n",
       "\t<tr><th scope=row>hp2</th><td>8     </td><td>S     </td><td>4     </td><td>14    </td><td> 91.36</td><td> 24.42</td><td> 96.00</td><td> 92.00</td><td>32.62 </td><td> 52.00</td><td>123.00</td><td> 71.00</td><td>-0.24 </td><td>-1.61 </td><td> 6.53 </td></tr>\n",
       "\t<tr><th scope=row>drat1</th><td>9     </td><td>V     </td><td>5     </td><td>18    </td><td>  3.39</td><td>  0.47</td><td>  3.18</td><td>  3.37</td><td> 0.32 </td><td>  2.76</td><td>  4.43</td><td>  1.67</td><td> 0.74 </td><td>-0.73 </td><td> 0.11 </td></tr>\n",
       "\t<tr><th scope=row>drat2</th><td>10    </td><td>S     </td><td>5     </td><td>14    </td><td>  3.86</td><td>  0.51</td><td>  3.92</td><td>  3.86</td><td> 0.26 </td><td>  2.76</td><td>  4.93</td><td>  2.17</td><td>-0.28 </td><td> 0.46 </td><td> 0.14 </td></tr>\n",
       "\t<tr><th scope=row>wt1</th><td>11    </td><td>V     </td><td>6     </td><td>18    </td><td>  3.69</td><td>  0.90</td><td>  3.57</td><td>  3.68</td><td> 0.50 </td><td>  2.14</td><td>  5.42</td><td>  3.28</td><td> 0.54 </td><td>-0.43 </td><td> 0.21 </td></tr>\n",
       "\t<tr><th scope=row>wt2</th><td>12    </td><td>S     </td><td>6     </td><td>14    </td><td>  2.61</td><td>  0.72</td><td>  2.62</td><td>  2.63</td><td> 0.95 </td><td>  1.51</td><td>  3.46</td><td>  1.95</td><td>-0.17 </td><td>-1.68 </td><td> 0.19 </td></tr>\n",
       "\t<tr><th scope=row>qsec1</th><td>13    </td><td>V     </td><td>7     </td><td>18    </td><td> 16.69</td><td>  1.09</td><td> 17.02</td><td> 16.75</td><td> 0.85 </td><td> 14.50</td><td> 18.00</td><td>  3.50</td><td>-0.71 </td><td>-0.80 </td><td> 0.26 </td></tr>\n",
       "\t<tr><th scope=row>qsec2</th><td>14    </td><td>S     </td><td>7     </td><td>14    </td><td> 19.33</td><td>  1.35</td><td> 19.17</td><td> 19.24</td><td> 1.02 </td><td> 16.90</td><td> 22.90</td><td>  6.00</td><td> 0.86 </td><td> 1.25 </td><td> 0.36 </td></tr>\n",
       "\t<tr><th scope=row>gear1</th><td>15    </td><td>V     </td><td>8     </td><td>18    </td><td>  3.56</td><td>  0.86</td><td>  3.00</td><td>  3.50</td><td> 0.00 </td><td>  3.00</td><td>  5.00</td><td>  2.00</td><td> 0.90 </td><td>-1.07 </td><td> 0.20 </td></tr>\n",
       "\t<tr><th scope=row>gear2</th><td>16    </td><td>S     </td><td>8     </td><td>14    </td><td>  3.86</td><td>  0.53</td><td>  4.00</td><td>  3.83</td><td> 0.00 </td><td>  3.00</td><td>  5.00</td><td>  2.00</td><td>-0.17 </td><td>-0.09 </td><td> 0.14 </td></tr>\n",
       "\t<tr><th scope=row>carb1</th><td>17    </td><td>V     </td><td>9     </td><td>18    </td><td>  3.61</td><td>  1.54</td><td>  4.00</td><td>  3.44</td><td> 1.48 </td><td>  2.00</td><td>  8.00</td><td>  6.00</td><td> 1.17 </td><td> 1.33 </td><td> 0.36 </td></tr>\n",
       "\t<tr><th scope=row>carb2</th><td>18    </td><td>S     </td><td>9     </td><td>14    </td><td>  1.79</td><td>  1.05</td><td>  1.50</td><td>  1.67</td><td> 0.74 </td><td>  1.00</td><td>  4.00</td><td>  3.00</td><td> 1.13 </td><td>-0.03 </td><td> 0.28 </td></tr>\n",
       "</tbody>\n",
       "</table>\n"
      ],
      "text/latex": [
       "\\begin{tabular}{r|lllllllllllllll}\n",
       "  & item & group1 & vars & n & mean & sd & median & trimmed & mad & min & max & range & skew & kurtosis & se\\\\\n",
       "\\hline\n",
       "\tmpg1 & 1      & V      & 1      & 18     &  16.62 &   3.86 &  15.65 &  16.42 &  2.97  &  10.40 &  26.00 &  15.60 &  0.48  & -0.05  &  0.91 \\\\\n",
       "\tmpg2 & 2      & S      & 1      & 14     &  24.56 &   5.38 &  22.80 &  24.34 &  6.00  &  17.80 &  33.90 &  16.10 &  0.41  & -1.40  &  1.44 \\\\\n",
       "\tcyl1 & 3      & V      & 2      & 18     &   7.44 &   1.15 &   8.00 &   7.62 &  0.00  &   4.00 &   8.00 &   4.00 & -1.74  &  1.94  &  0.27 \\\\\n",
       "\tcyl2 & 4      & S      & 2      & 14     &   4.57 &   0.94 &   4.00 &   4.50 &  0.00  &   4.00 &   6.00 &   2.00 &  0.85  & -1.36  &  0.25 \\\\\n",
       "\tdisp1 & 5      & V      & 3      & 18     & 307.15 & 106.77 & 311.00 & 308.52 & 72.65  & 120.30 & 472.00 & 351.70 & -0.26  & -1.06  & 25.16 \\\\\n",
       "\tdisp2 & 6      & S      & 3      & 14     & 132.46 &  56.89 & 120.55 & 127.11 & 61.82  &  71.10 & 258.00 & 186.90 &  0.80  & -0.49  & 15.21 \\\\\n",
       "\thp1 & 7      & V      & 4      & 18     & 189.72 &  60.28 & 180.00 & 186.81 & 48.18  &  91.00 & 335.00 & 244.00 &  0.45  & -0.15  & 14.21 \\\\\n",
       "\thp2 & 8      & S      & 4      & 14     &  91.36 &  24.42 &  96.00 &  92.00 & 32.62  &  52.00 & 123.00 &  71.00 & -0.24  & -1.61  &  6.53 \\\\\n",
       "\tdrat1 & 9      & V      & 5      & 18     &   3.39 &   0.47 &   3.18 &   3.37 &  0.32  &   2.76 &   4.43 &   1.67 &  0.74  & -0.73  &  0.11 \\\\\n",
       "\tdrat2 & 10     & S      & 5      & 14     &   3.86 &   0.51 &   3.92 &   3.86 &  0.26  &   2.76 &   4.93 &   2.17 & -0.28  &  0.46  &  0.14 \\\\\n",
       "\twt1 & 11     & V      & 6      & 18     &   3.69 &   0.90 &   3.57 &   3.68 &  0.50  &   2.14 &   5.42 &   3.28 &  0.54  & -0.43  &  0.21 \\\\\n",
       "\twt2 & 12     & S      & 6      & 14     &   2.61 &   0.72 &   2.62 &   2.63 &  0.95  &   1.51 &   3.46 &   1.95 & -0.17  & -1.68  &  0.19 \\\\\n",
       "\tqsec1 & 13     & V      & 7      & 18     &  16.69 &   1.09 &  17.02 &  16.75 &  0.85  &  14.50 &  18.00 &   3.50 & -0.71  & -0.80  &  0.26 \\\\\n",
       "\tqsec2 & 14     & S      & 7      & 14     &  19.33 &   1.35 &  19.17 &  19.24 &  1.02  &  16.90 &  22.90 &   6.00 &  0.86  &  1.25  &  0.36 \\\\\n",
       "\tgear1 & 15     & V      & 8      & 18     &   3.56 &   0.86 &   3.00 &   3.50 &  0.00  &   3.00 &   5.00 &   2.00 &  0.90  & -1.07  &  0.20 \\\\\n",
       "\tgear2 & 16     & S      & 8      & 14     &   3.86 &   0.53 &   4.00 &   3.83 &  0.00  &   3.00 &   5.00 &   2.00 & -0.17  & -0.09  &  0.14 \\\\\n",
       "\tcarb1 & 17     & V      & 9      & 18     &   3.61 &   1.54 &   4.00 &   3.44 &  1.48  &   2.00 &   8.00 &   6.00 &  1.17  &  1.33  &  0.36 \\\\\n",
       "\tcarb2 & 18     & S      & 9      & 14     &   1.79 &   1.05 &   1.50 &   1.67 &  0.74  &   1.00 &   4.00 &   3.00 &  1.13  & -0.03  &  0.28 \\\\\n",
       "\\end{tabular}\n"
      ],
      "text/markdown": [
       "\n",
       "| <!--/--> | item | group1 | vars | n | mean | sd | median | trimmed | mad | min | max | range | skew | kurtosis | se |\n",
       "|---|---|---|---|---|---|---|---|---|---|---|---|---|---|---|---|\n",
       "| mpg1 | 1      | V      | 1      | 18     |  16.62 |   3.86 |  15.65 |  16.42 |  2.97  |  10.40 |  26.00 |  15.60 |  0.48  | -0.05  |  0.91  |\n",
       "| mpg2 | 2      | S      | 1      | 14     |  24.56 |   5.38 |  22.80 |  24.34 |  6.00  |  17.80 |  33.90 |  16.10 |  0.41  | -1.40  |  1.44  |\n",
       "| cyl1 | 3      | V      | 2      | 18     |   7.44 |   1.15 |   8.00 |   7.62 |  0.00  |   4.00 |   8.00 |   4.00 | -1.74  |  1.94  |  0.27  |\n",
       "| cyl2 | 4      | S      | 2      | 14     |   4.57 |   0.94 |   4.00 |   4.50 |  0.00  |   4.00 |   6.00 |   2.00 |  0.85  | -1.36  |  0.25  |\n",
       "| disp1 | 5      | V      | 3      | 18     | 307.15 | 106.77 | 311.00 | 308.52 | 72.65  | 120.30 | 472.00 | 351.70 | -0.26  | -1.06  | 25.16  |\n",
       "| disp2 | 6      | S      | 3      | 14     | 132.46 |  56.89 | 120.55 | 127.11 | 61.82  |  71.10 | 258.00 | 186.90 |  0.80  | -0.49  | 15.21  |\n",
       "| hp1 | 7      | V      | 4      | 18     | 189.72 |  60.28 | 180.00 | 186.81 | 48.18  |  91.00 | 335.00 | 244.00 |  0.45  | -0.15  | 14.21  |\n",
       "| hp2 | 8      | S      | 4      | 14     |  91.36 |  24.42 |  96.00 |  92.00 | 32.62  |  52.00 | 123.00 |  71.00 | -0.24  | -1.61  |  6.53  |\n",
       "| drat1 | 9      | V      | 5      | 18     |   3.39 |   0.47 |   3.18 |   3.37 |  0.32  |   2.76 |   4.43 |   1.67 |  0.74  | -0.73  |  0.11  |\n",
       "| drat2 | 10     | S      | 5      | 14     |   3.86 |   0.51 |   3.92 |   3.86 |  0.26  |   2.76 |   4.93 |   2.17 | -0.28  |  0.46  |  0.14  |\n",
       "| wt1 | 11     | V      | 6      | 18     |   3.69 |   0.90 |   3.57 |   3.68 |  0.50  |   2.14 |   5.42 |   3.28 |  0.54  | -0.43  |  0.21  |\n",
       "| wt2 | 12     | S      | 6      | 14     |   2.61 |   0.72 |   2.62 |   2.63 |  0.95  |   1.51 |   3.46 |   1.95 | -0.17  | -1.68  |  0.19  |\n",
       "| qsec1 | 13     | V      | 7      | 18     |  16.69 |   1.09 |  17.02 |  16.75 |  0.85  |  14.50 |  18.00 |   3.50 | -0.71  | -0.80  |  0.26  |\n",
       "| qsec2 | 14     | S      | 7      | 14     |  19.33 |   1.35 |  19.17 |  19.24 |  1.02  |  16.90 |  22.90 |   6.00 |  0.86  |  1.25  |  0.36  |\n",
       "| gear1 | 15     | V      | 8      | 18     |   3.56 |   0.86 |   3.00 |   3.50 |  0.00  |   3.00 |   5.00 |   2.00 |  0.90  | -1.07  |  0.20  |\n",
       "| gear2 | 16     | S      | 8      | 14     |   3.86 |   0.53 |   4.00 |   3.83 |  0.00  |   3.00 |   5.00 |   2.00 | -0.17  | -0.09  |  0.14  |\n",
       "| carb1 | 17     | V      | 9      | 18     |   3.61 |   1.54 |   4.00 |   3.44 |  1.48  |   2.00 |   8.00 |   6.00 |  1.17  |  1.33  |  0.36  |\n",
       "| carb2 | 18     | S      | 9      | 14     |   1.79 |   1.05 |   1.50 |   1.67 |  0.74  |   1.00 |   4.00 |   3.00 |  1.13  | -0.03  |  0.28  |\n",
       "\n"
      ],
      "text/plain": [
       "      item group1 vars n  mean   sd     median trimmed mad   min    max   \n",
       "mpg1  1    V      1    18  16.62   3.86  15.65  16.42   2.97  10.40  26.00\n",
       "mpg2  2    S      1    14  24.56   5.38  22.80  24.34   6.00  17.80  33.90\n",
       "cyl1  3    V      2    18   7.44   1.15   8.00   7.62   0.00   4.00   8.00\n",
       "cyl2  4    S      2    14   4.57   0.94   4.00   4.50   0.00   4.00   6.00\n",
       "disp1 5    V      3    18 307.15 106.77 311.00 308.52  72.65 120.30 472.00\n",
       "disp2 6    S      3    14 132.46  56.89 120.55 127.11  61.82  71.10 258.00\n",
       "hp1   7    V      4    18 189.72  60.28 180.00 186.81  48.18  91.00 335.00\n",
       "hp2   8    S      4    14  91.36  24.42  96.00  92.00  32.62  52.00 123.00\n",
       "drat1 9    V      5    18   3.39   0.47   3.18   3.37   0.32   2.76   4.43\n",
       "drat2 10   S      5    14   3.86   0.51   3.92   3.86   0.26   2.76   4.93\n",
       "wt1   11   V      6    18   3.69   0.90   3.57   3.68   0.50   2.14   5.42\n",
       "wt2   12   S      6    14   2.61   0.72   2.62   2.63   0.95   1.51   3.46\n",
       "qsec1 13   V      7    18  16.69   1.09  17.02  16.75   0.85  14.50  18.00\n",
       "qsec2 14   S      7    14  19.33   1.35  19.17  19.24   1.02  16.90  22.90\n",
       "gear1 15   V      8    18   3.56   0.86   3.00   3.50   0.00   3.00   5.00\n",
       "gear2 16   S      8    14   3.86   0.53   4.00   3.83   0.00   3.00   5.00\n",
       "carb1 17   V      9    18   3.61   1.54   4.00   3.44   1.48   2.00   8.00\n",
       "carb2 18   S      9    14   1.79   1.05   1.50   1.67   0.74   1.00   4.00\n",
       "      range  skew  kurtosis se   \n",
       "mpg1   15.60  0.48 -0.05     0.91\n",
       "mpg2   16.10  0.41 -1.40     1.44\n",
       "cyl1    4.00 -1.74  1.94     0.27\n",
       "cyl2    2.00  0.85 -1.36     0.25\n",
       "disp1 351.70 -0.26 -1.06    25.16\n",
       "disp2 186.90  0.80 -0.49    15.21\n",
       "hp1   244.00  0.45 -0.15    14.21\n",
       "hp2    71.00 -0.24 -1.61     6.53\n",
       "drat1   1.67  0.74 -0.73     0.11\n",
       "drat2   2.17 -0.28  0.46     0.14\n",
       "wt1     3.28  0.54 -0.43     0.21\n",
       "wt2     1.95 -0.17 -1.68     0.19\n",
       "qsec1   3.50 -0.71 -0.80     0.26\n",
       "qsec2   6.00  0.86  1.25     0.36\n",
       "gear1   2.00  0.90 -1.07     0.20\n",
       "gear2   2.00 -0.17 -0.09     0.14\n",
       "carb1   6.00  1.17  1.33     0.36\n",
       "carb2   3.00  1.13 -0.03     0.28"
      ]
     },
     "metadata": {},
     "output_type": "display_data"
    }
   ],
   "source": [
    "data(mtcars)\n",
    "mtcars$vs <- factor(mtcars$vs, labels = c('V', 'S'))\n",
    "mtcars$am <- factor(mtcars$am, labels = c('auto', 'manual'))\n",
    "describeBy(x = mtcars[, -c(8, 9)], group = mtcars$vs, fast = F, mat = T, digits = 2)"
   ]
  },
  {
   "cell_type": "code",
   "execution_count": 29,
   "id": "e179cab4",
   "metadata": {
    "ExecuteTime": {
     "end_time": "2021-09-07T22:23:14.841998Z",
     "start_time": "2021-09-07T22:23:14.818Z"
    }
   },
   "outputs": [
    {
     "data": {
      "text/html": [
       "<table>\n",
       "<thead><tr><th></th><th scope=col>item</th><th scope=col>group1</th><th scope=col>group2</th><th scope=col>vars</th><th scope=col>n</th><th scope=col>mean</th><th scope=col>sd</th><th scope=col>median</th><th scope=col>trimmed</th><th scope=col>mad</th><th scope=col>min</th><th scope=col>max</th><th scope=col>range</th><th scope=col>skew</th><th scope=col>kurtosis</th><th scope=col>se</th></tr></thead>\n",
       "<tbody>\n",
       "\t<tr><th scope=row>X11</th><td>1     </td><td>V     </td><td>auto  </td><td>1     </td><td>12    </td><td>357.6 </td><td>71.8  </td><td>355.0 </td><td>354.4 </td><td>96.5  </td><td>275.8 </td><td>472   </td><td>196.2 </td><td>0.3   </td><td>-1.5  </td><td>20.7  </td></tr>\n",
       "\t<tr><th scope=row>X12</th><td>2     </td><td>S     </td><td>auto  </td><td>1     </td><td> 7    </td><td>175.1 </td><td>49.1  </td><td>167.6 </td><td>175.1 </td><td>39.7  </td><td>120.1 </td><td>258   </td><td>137.9 </td><td>0.6   </td><td>-1.4  </td><td>18.6  </td></tr>\n",
       "\t<tr><th scope=row>X13</th><td>3     </td><td>V     </td><td>manual</td><td>1     </td><td> 6    </td><td>206.2 </td><td>95.2  </td><td>160.0 </td><td>206.2 </td><td>40.5  </td><td>120.3 </td><td>351   </td><td>230.7 </td><td>0.5   </td><td>-1.8  </td><td>38.9  </td></tr>\n",
       "\t<tr><th scope=row>X14</th><td>4     </td><td>S     </td><td>manual</td><td>1     </td><td> 7    </td><td> 89.8 </td><td>18.8  </td><td> 79.0 </td><td> 89.8 </td><td>11.7  </td><td> 71.1 </td><td>121   </td><td> 49.9 </td><td>0.5   </td><td>-1.6  </td><td> 7.1  </td></tr>\n",
       "</tbody>\n",
       "</table>\n"
      ],
      "text/latex": [
       "\\begin{tabular}{r|llllllllllllllll}\n",
       "  & item & group1 & group2 & vars & n & mean & sd & median & trimmed & mad & min & max & range & skew & kurtosis & se\\\\\n",
       "\\hline\n",
       "\tX11 & 1      & V      & auto   & 1      & 12     & 357.6  & 71.8   & 355.0  & 354.4  & 96.5   & 275.8  & 472    & 196.2  & 0.3    & -1.5   & 20.7  \\\\\n",
       "\tX12 & 2      & S      & auto   & 1      &  7     & 175.1  & 49.1   & 167.6  & 175.1  & 39.7   & 120.1  & 258    & 137.9  & 0.6    & -1.4   & 18.6  \\\\\n",
       "\tX13 & 3      & V      & manual & 1      &  6     & 206.2  & 95.2   & 160.0  & 206.2  & 40.5   & 120.3  & 351    & 230.7  & 0.5    & -1.8   & 38.9  \\\\\n",
       "\tX14 & 4      & S      & manual & 1      &  7     &  89.8  & 18.8   &  79.0  &  89.8  & 11.7   &  71.1  & 121    &  49.9  & 0.5    & -1.6   &  7.1  \\\\\n",
       "\\end{tabular}\n"
      ],
      "text/markdown": [
       "\n",
       "| <!--/--> | item | group1 | group2 | vars | n | mean | sd | median | trimmed | mad | min | max | range | skew | kurtosis | se |\n",
       "|---|---|---|---|---|---|---|---|---|---|---|---|---|---|---|---|---|\n",
       "| X11 | 1      | V      | auto   | 1      | 12     | 357.6  | 71.8   | 355.0  | 354.4  | 96.5   | 275.8  | 472    | 196.2  | 0.3    | -1.5   | 20.7   |\n",
       "| X12 | 2      | S      | auto   | 1      |  7     | 175.1  | 49.1   | 167.6  | 175.1  | 39.7   | 120.1  | 258    | 137.9  | 0.6    | -1.4   | 18.6   |\n",
       "| X13 | 3      | V      | manual | 1      |  6     | 206.2  | 95.2   | 160.0  | 206.2  | 40.5   | 120.3  | 351    | 230.7  | 0.5    | -1.8   | 38.9   |\n",
       "| X14 | 4      | S      | manual | 1      |  7     |  89.8  | 18.8   |  79.0  |  89.8  | 11.7   |  71.1  | 121    |  49.9  | 0.5    | -1.6   |  7.1   |\n",
       "\n"
      ],
      "text/plain": [
       "    item group1 group2 vars n  mean  sd   median trimmed mad  min   max range\n",
       "X11 1    V      auto   1    12 357.6 71.8 355.0  354.4   96.5 275.8 472 196.2\n",
       "X12 2    S      auto   1     7 175.1 49.1 167.6  175.1   39.7 120.1 258 137.9\n",
       "X13 3    V      manual 1     6 206.2 95.2 160.0  206.2   40.5 120.3 351 230.7\n",
       "X14 4    S      manual 1     7  89.8 18.8  79.0   89.8   11.7  71.1 121  49.9\n",
       "    skew kurtosis se  \n",
       "X11 0.3  -1.5     20.7\n",
       "X12 0.6  -1.4     18.6\n",
       "X13 0.5  -1.8     38.9\n",
       "X14 0.5  -1.6      7.1"
      ]
     },
     "metadata": {},
     "output_type": "display_data"
    }
   ],
   "source": [
    "describeBy(mtcars$disp, group = list(mtcars$vs, mtcars$am), mat = T, digits = 1)"
   ]
  },
  {
   "cell_type": "code",
   "execution_count": 42,
   "id": "7406963b",
   "metadata": {
    "ExecuteTime": {
     "end_time": "2021-09-09T07:28:04.403840Z",
     "start_time": "2021-09-09T07:28:04.389Z"
    }
   },
   "outputs": [
    {
     "name": "stdout",
     "output_type": "stream",
     "text": [
      "'data.frame':\t153 obs. of  6 variables:\n",
      " $ Ozone  : int  41 36 12 18 NA 28 23 19 8 NA ...\n",
      " $ Solar.R: int  190 118 149 313 NA NA 299 99 19 194 ...\n",
      " $ Wind   : num  7.4 8 12.6 11.5 14.3 14.9 8.6 13.8 20.1 8.6 ...\n",
      " $ Temp   : int  67 72 74 62 56 66 65 59 61 69 ...\n",
      " $ Month  : int  5 5 5 5 5 5 5 5 5 5 ...\n",
      " $ Day    : int  1 2 3 4 5 6 7 8 9 10 ...\n"
     ]
    }
   ],
   "source": [
    "str(airquality)"
   ]
  },
  {
   "cell_type": "code",
   "execution_count": 38,
   "id": "d654134d",
   "metadata": {
    "ExecuteTime": {
     "end_time": "2021-09-09T07:25:46.660461Z",
     "start_time": "2021-09-09T07:25:46.646Z"
    }
   },
   "outputs": [],
   "source": [
    "data(airquality)\n",
    "sub <- subset(airquality, Month %in% c(7, 8, 9))\n",
    "result <- aggregate(Ozone ~ Month, sub, length)"
   ]
  },
  {
   "cell_type": "code",
   "execution_count": null,
   "id": "cf579663",
   "metadata": {},
   "outputs": [],
   "source": [
    "describeBy()"
   ]
  },
  {
   "cell_type": "code",
   "execution_count": 43,
   "id": "84d66c46",
   "metadata": {
    "ExecuteTime": {
     "end_time": "2021-09-09T07:28:24.375872Z",
     "start_time": "2021-09-09T07:28:24.353Z"
    }
   },
   "outputs": [
    {
     "data": {
      "text/plain": [
       "\n",
       " Descriptive statistics by group \n",
       ": 7\n",
       "   vars  n mean   sd median trimmed  mad min  max range skew kurtosis   se\n",
       "X1    1 31 8.94 3.04    8.6    8.77 3.41 4.1 14.9  10.8 0.46    -0.73 0.55\n",
       "------------------------------------------------------------ \n",
       ": 8\n",
       "   vars  n mean   sd median trimmed  mad min  max range skew kurtosis   se\n",
       "X1    1 31 8.79 3.23    8.6    8.77 3.41 2.3 15.5  13.2 0.04    -0.69 0.58\n",
       "------------------------------------------------------------ \n",
       ": 9\n",
       "   vars  n  mean   sd median trimmed  mad min  max range  skew kurtosis   se\n",
       "X1    1 30 10.18 3.46   10.3   10.22 3.85 2.8 16.6  13.8 -0.06    -0.76 0.63"
      ]
     },
     "metadata": {},
     "output_type": "display_data"
    }
   ],
   "source": [
    "describeBy(sub$Wind, group = list(sub$Month))"
   ]
  },
  {
   "cell_type": "code",
   "execution_count": 46,
   "id": "61f667bd",
   "metadata": {
    "ExecuteTime": {
     "end_time": "2021-09-09T07:30:19.920361Z",
     "start_time": "2021-09-09T07:30:19.899Z"
    }
   },
   "outputs": [
    {
     "name": "stderr",
     "output_type": "stream",
     "text": [
      "Warning message in FUN(newX[, i], ...):\n",
      "“у 'min' нет не пропущенных аргументов; возвращаю Inf”Warning message in FUN(newX[, i], ...):\n",
      "“у 'max' нет не пропущенных аргументов; возвращаю -Inf”"
     ]
    },
    {
     "data": {
      "text/html": [
       "<table>\n",
       "<thead><tr><th></th><th scope=col>vars</th><th scope=col>n</th><th scope=col>mean</th><th scope=col>sd</th><th scope=col>min</th><th scope=col>max</th><th scope=col>range</th><th scope=col>se</th></tr></thead>\n",
       "<tbody>\n",
       "\t<tr><th scope=row>Sepal.Length</th><td>1         </td><td>150       </td><td>5.843333  </td><td>0.8280661 </td><td>4.3       </td><td> 7.9      </td><td> 3.6      </td><td>0.06761132</td></tr>\n",
       "\t<tr><th scope=row>Sepal.Width</th><td>2         </td><td>150       </td><td>3.057333  </td><td>0.4358663 </td><td>2.0       </td><td> 4.4      </td><td> 2.4      </td><td>0.03558833</td></tr>\n",
       "\t<tr><th scope=row>Petal.Length</th><td>3         </td><td>150       </td><td>3.758000  </td><td>1.7652982 </td><td>1.0       </td><td> 6.9      </td><td> 5.9      </td><td>0.14413600</td></tr>\n",
       "\t<tr><th scope=row>Petal.Width</th><td>4         </td><td>150       </td><td>1.199333  </td><td>0.7622377 </td><td>0.1       </td><td> 2.5      </td><td> 2.4      </td><td>0.06223645</td></tr>\n",
       "\t<tr><th scope=row>Species</th><td>5         </td><td>150       </td><td>     NaN  </td><td>       NA </td><td>Inf       </td><td>-Inf      </td><td>-Inf      </td><td>        NA</td></tr>\n",
       "</tbody>\n",
       "</table>\n"
      ],
      "text/latex": [
       "\\begin{tabular}{r|llllllll}\n",
       "  & vars & n & mean & sd & min & max & range & se\\\\\n",
       "\\hline\n",
       "\tSepal.Length & 1          & 150        & 5.843333   & 0.8280661  & 4.3        &  7.9       &  3.6       & 0.06761132\\\\\n",
       "\tSepal.Width & 2          & 150        & 3.057333   & 0.4358663  & 2.0        &  4.4       &  2.4       & 0.03558833\\\\\n",
       "\tPetal.Length & 3          & 150        & 3.758000   & 1.7652982  & 1.0        &  6.9       &  5.9       & 0.14413600\\\\\n",
       "\tPetal.Width & 4          & 150        & 1.199333   & 0.7622377  & 0.1        &  2.5       &  2.4       & 0.06223645\\\\\n",
       "\tSpecies & 5          & 150        &      NaN   &        NA  & Inf        & -Inf       & -Inf       &         NA\\\\\n",
       "\\end{tabular}\n"
      ],
      "text/markdown": [
       "\n",
       "| <!--/--> | vars | n | mean | sd | min | max | range | se |\n",
       "|---|---|---|---|---|---|---|---|---|\n",
       "| Sepal.Length | 1          | 150        | 5.843333   | 0.8280661  | 4.3        |  7.9       |  3.6       | 0.06761132 |\n",
       "| Sepal.Width | 2          | 150        | 3.057333   | 0.4358663  | 2.0        |  4.4       |  2.4       | 0.03558833 |\n",
       "| Petal.Length | 3          | 150        | 3.758000   | 1.7652982  | 1.0        |  6.9       |  5.9       | 0.14413600 |\n",
       "| Petal.Width | 4          | 150        | 1.199333   | 0.7622377  | 0.1        |  2.5       |  2.4       | 0.06223645 |\n",
       "| Species | 5          | 150        |      NaN   |        NA  | Inf        | -Inf       | -Inf       |         NA |\n",
       "\n"
      ],
      "text/plain": [
       "             vars n   mean     sd        min max  range se        \n",
       "Sepal.Length 1    150 5.843333 0.8280661 4.3  7.9  3.6  0.06761132\n",
       "Sepal.Width  2    150 3.057333 0.4358663 2.0  4.4  2.4  0.03558833\n",
       "Petal.Length 3    150 3.758000 1.7652982 1.0  6.9  5.9  0.14413600\n",
       "Petal.Width  4    150 1.199333 0.7622377 0.1  2.5  2.4  0.06223645\n",
       "Species      5    150      NaN        NA Inf -Inf -Inf          NA"
      ]
     },
     "metadata": {},
     "output_type": "display_data"
    }
   ],
   "source": [
    "describe(iris, fast = T)"
   ]
  },
  {
   "cell_type": "code",
   "execution_count": 54,
   "id": "89fc4852",
   "metadata": {
    "ExecuteTime": {
     "end_time": "2021-09-09T07:32:36.544360Z",
     "start_time": "2021-09-09T07:32:36.523Z"
    },
    "scrolled": true
   },
   "outputs": [
    {
     "data": {
      "text/html": [
       "<table>\n",
       "<thead><tr><th></th><th scope=col>vars</th><th scope=col>n</th><th scope=col>mean</th><th scope=col>sd</th><th scope=col>median</th><th scope=col>trimmed</th><th scope=col>mad</th><th scope=col>min</th><th scope=col>max</th><th scope=col>range</th><th scope=col>skew</th><th scope=col>kurtosis</th><th scope=col>se</th></tr></thead>\n",
       "<tbody>\n",
       "\t<tr><th scope=row>Sepal.Length</th><td>1         </td><td>50        </td><td>6.588     </td><td>0.6358796 </td><td>6.50      </td><td>6.5725    </td><td>0.59304   </td><td>4.9       </td><td>7.9       </td><td>3.0       </td><td> 0.1110286</td><td>-0.2032597</td><td>0.08992695</td></tr>\n",
       "\t<tr><th scope=row>Sepal.Width</th><td>2         </td><td>50        </td><td>2.974     </td><td>0.3224966 </td><td>3.00      </td><td>2.9625    </td><td>0.29652   </td><td>2.2       </td><td>3.8       </td><td>1.6       </td><td> 0.3442849</td><td> 0.3803832</td><td>0.04560791</td></tr>\n",
       "\t<tr><th scope=row>Petal.Length</th><td>3         </td><td>50        </td><td>5.552     </td><td>0.5518947 </td><td>5.55      </td><td>5.5100    </td><td>0.66717   </td><td>4.5       </td><td>6.9       </td><td>2.4       </td><td> 0.5169175</td><td>-0.3651161</td><td>0.07804970</td></tr>\n",
       "\t<tr><th scope=row>Petal.Width</th><td>4         </td><td>50        </td><td>2.026     </td><td>0.2746501 </td><td>2.00      </td><td>2.0325    </td><td>0.29652   </td><td>1.4       </td><td>2.5       </td><td>1.1       </td><td>-0.1218119</td><td>-0.7539586</td><td>0.03884138</td></tr>\n",
       "</tbody>\n",
       "</table>\n"
      ],
      "text/latex": [
       "\\begin{tabular}{r|lllllllllllll}\n",
       "  & vars & n & mean & sd & median & trimmed & mad & min & max & range & skew & kurtosis & se\\\\\n",
       "\\hline\n",
       "\tSepal.Length & 1          & 50         & 6.588      & 0.6358796  & 6.50       & 6.5725     & 0.59304    & 4.9        & 7.9        & 3.0        &  0.1110286 & -0.2032597 & 0.08992695\\\\\n",
       "\tSepal.Width & 2          & 50         & 2.974      & 0.3224966  & 3.00       & 2.9625     & 0.29652    & 2.2        & 3.8        & 1.6        &  0.3442849 &  0.3803832 & 0.04560791\\\\\n",
       "\tPetal.Length & 3          & 50         & 5.552      & 0.5518947  & 5.55       & 5.5100     & 0.66717    & 4.5        & 6.9        & 2.4        &  0.5169175 & -0.3651161 & 0.07804970\\\\\n",
       "\tPetal.Width & 4          & 50         & 2.026      & 0.2746501  & 2.00       & 2.0325     & 0.29652    & 1.4        & 2.5        & 1.1        & -0.1218119 & -0.7539586 & 0.03884138\\\\\n",
       "\\end{tabular}\n"
      ],
      "text/markdown": [
       "\n",
       "| <!--/--> | vars | n | mean | sd | median | trimmed | mad | min | max | range | skew | kurtosis | se |\n",
       "|---|---|---|---|---|---|---|---|---|---|---|---|---|---|\n",
       "| Sepal.Length | 1          | 50         | 6.588      | 0.6358796  | 6.50       | 6.5725     | 0.59304    | 4.9        | 7.9        | 3.0        |  0.1110286 | -0.2032597 | 0.08992695 |\n",
       "| Sepal.Width | 2          | 50         | 2.974      | 0.3224966  | 3.00       | 2.9625     | 0.29652    | 2.2        | 3.8        | 1.6        |  0.3442849 |  0.3803832 | 0.04560791 |\n",
       "| Petal.Length | 3          | 50         | 5.552      | 0.5518947  | 5.55       | 5.5100     | 0.66717    | 4.5        | 6.9        | 2.4        |  0.5169175 | -0.3651161 | 0.07804970 |\n",
       "| Petal.Width | 4          | 50         | 2.026      | 0.2746501  | 2.00       | 2.0325     | 0.29652    | 1.4        | 2.5        | 1.1        | -0.1218119 | -0.7539586 | 0.03884138 |\n",
       "\n"
      ],
      "text/plain": [
       "             vars n  mean  sd        median trimmed mad     min max range\n",
       "Sepal.Length 1    50 6.588 0.6358796 6.50   6.5725  0.59304 4.9 7.9 3.0  \n",
       "Sepal.Width  2    50 2.974 0.3224966 3.00   2.9625  0.29652 2.2 3.8 1.6  \n",
       "Petal.Length 3    50 5.552 0.5518947 5.55   5.5100  0.66717 4.5 6.9 2.4  \n",
       "Petal.Width  4    50 2.026 0.2746501 2.00   2.0325  0.29652 1.4 2.5 1.1  \n",
       "             skew       kurtosis   se        \n",
       "Sepal.Length  0.1110286 -0.2032597 0.08992695\n",
       "Sepal.Width   0.3442849  0.3803832 0.04560791\n",
       "Petal.Length  0.5169175 -0.3651161 0.07804970\n",
       "Petal.Width  -0.1218119 -0.7539586 0.03884138"
      ]
     },
     "metadata": {},
     "output_type": "display_data"
    }
   ],
   "source": [
    "describe(iris[iris$Species == 'virginica', 1:4])"
   ]
  },
  {
   "cell_type": "markdown",
   "id": "94dbde33",
   "metadata": {},
   "source": [
    "### Replace"
   ]
  },
  {
   "cell_type": "code",
   "execution_count": null,
   "id": "19eb5030",
   "metadata": {
    "ExecuteTime": {
     "start_time": "2021-09-18T17:58:16.161Z"
    }
   },
   "outputs": [],
   "source": [
    "?replace"
   ]
  },
  {
   "cell_type": "code",
   "execution_count": 74,
   "id": "116b8f89",
   "metadata": {
    "ExecuteTime": {
     "end_time": "2021-09-09T07:36:37.455108Z",
     "start_time": "2021-09-09T07:36:37.443Z"
    }
   },
   "outputs": [],
   "source": [
    "my_vector <- rnorm(30)\n",
    "my_vector[sample(1:30, 10)] <- NA"
   ]
  },
  {
   "cell_type": "code",
   "execution_count": 77,
   "id": "e1a11178",
   "metadata": {
    "ExecuteTime": {
     "end_time": "2021-09-09T07:37:11.323208Z",
     "start_time": "2021-09-09T07:37:11.309Z"
    }
   },
   "outputs": [
    {
     "data": {
      "text/html": [
       "<ol class=list-inline>\n",
       "\t<li>TRUE</li>\n",
       "\t<li>TRUE</li>\n",
       "\t<li>FALSE</li>\n",
       "\t<li>FALSE</li>\n",
       "\t<li>FALSE</li>\n",
       "\t<li>FALSE</li>\n",
       "\t<li>TRUE</li>\n",
       "\t<li>FALSE</li>\n",
       "\t<li>TRUE</li>\n",
       "\t<li>FALSE</li>\n",
       "\t<li>TRUE</li>\n",
       "\t<li>FALSE</li>\n",
       "\t<li>FALSE</li>\n",
       "\t<li>TRUE</li>\n",
       "\t<li>TRUE</li>\n",
       "\t<li>FALSE</li>\n",
       "\t<li>FALSE</li>\n",
       "\t<li>FALSE</li>\n",
       "\t<li>FALSE</li>\n",
       "\t<li>FALSE</li>\n",
       "\t<li>FALSE</li>\n",
       "\t<li>FALSE</li>\n",
       "\t<li>FALSE</li>\n",
       "\t<li>FALSE</li>\n",
       "\t<li>TRUE</li>\n",
       "\t<li>TRUE</li>\n",
       "\t<li>FALSE</li>\n",
       "\t<li>FALSE</li>\n",
       "\t<li>TRUE</li>\n",
       "\t<li>FALSE</li>\n",
       "</ol>\n"
      ],
      "text/latex": [
       "\\begin{enumerate*}\n",
       "\\item TRUE\n",
       "\\item TRUE\n",
       "\\item FALSE\n",
       "\\item FALSE\n",
       "\\item FALSE\n",
       "\\item FALSE\n",
       "\\item TRUE\n",
       "\\item FALSE\n",
       "\\item TRUE\n",
       "\\item FALSE\n",
       "\\item TRUE\n",
       "\\item FALSE\n",
       "\\item FALSE\n",
       "\\item TRUE\n",
       "\\item TRUE\n",
       "\\item FALSE\n",
       "\\item FALSE\n",
       "\\item FALSE\n",
       "\\item FALSE\n",
       "\\item FALSE\n",
       "\\item FALSE\n",
       "\\item FALSE\n",
       "\\item FALSE\n",
       "\\item FALSE\n",
       "\\item TRUE\n",
       "\\item TRUE\n",
       "\\item FALSE\n",
       "\\item FALSE\n",
       "\\item TRUE\n",
       "\\item FALSE\n",
       "\\end{enumerate*}\n"
      ],
      "text/markdown": [
       "1. TRUE\n",
       "2. TRUE\n",
       "3. FALSE\n",
       "4. FALSE\n",
       "5. FALSE\n",
       "6. FALSE\n",
       "7. TRUE\n",
       "8. FALSE\n",
       "9. TRUE\n",
       "10. FALSE\n",
       "11. TRUE\n",
       "12. FALSE\n",
       "13. FALSE\n",
       "14. TRUE\n",
       "15. TRUE\n",
       "16. FALSE\n",
       "17. FALSE\n",
       "18. FALSE\n",
       "19. FALSE\n",
       "20. FALSE\n",
       "21. FALSE\n",
       "22. FALSE\n",
       "23. FALSE\n",
       "24. FALSE\n",
       "25. TRUE\n",
       "26. TRUE\n",
       "27. FALSE\n",
       "28. FALSE\n",
       "29. TRUE\n",
       "30. FALSE\n",
       "\n",
       "\n"
      ],
      "text/plain": [
       " [1]  TRUE  TRUE FALSE FALSE FALSE FALSE  TRUE FALSE  TRUE FALSE  TRUE FALSE\n",
       "[13] FALSE  TRUE  TRUE FALSE FALSE FALSE FALSE FALSE FALSE FALSE FALSE FALSE\n",
       "[25]  TRUE  TRUE FALSE FALSE  TRUE FALSE"
      ]
     },
     "metadata": {},
     "output_type": "display_data"
    }
   ],
   "source": [
    "is.na(my_vector)"
   ]
  },
  {
   "cell_type": "code",
   "execution_count": 78,
   "id": "1cf084e0",
   "metadata": {
    "ExecuteTime": {
     "end_time": "2021-09-09T07:37:38.842209Z",
     "start_time": "2021-09-09T07:37:38.828Z"
    }
   },
   "outputs": [
    {
     "data": {
      "text/html": [
       "<ol class=list-inline>\n",
       "\t<li>&lt;NA&gt;</li>\n",
       "\t<li>&lt;NA&gt;</li>\n",
       "\t<li>1.54517967909889</li>\n",
       "\t<li>0.847057648880324</li>\n",
       "\t<li>-0.16457167800511</li>\n",
       "\t<li>0.556410134011186</li>\n",
       "\t<li>&lt;NA&gt;</li>\n",
       "\t<li>1.05490393869653</li>\n",
       "\t<li>&lt;NA&gt;</li>\n",
       "\t<li>0.177241326992945</li>\n",
       "\t<li>&lt;NA&gt;</li>\n",
       "\t<li>-0.230157332367081</li>\n",
       "\t<li>-1.56961679438644</li>\n",
       "\t<li>&lt;NA&gt;</li>\n",
       "\t<li>&lt;NA&gt;</li>\n",
       "\t<li>-1.46224327829286</li>\n",
       "\t<li>-0.628400824354752</li>\n",
       "\t<li>-1.76806854406449</li>\n",
       "\t<li>0.328368771105353</li>\n",
       "\t<li>-0.38311872917991</li>\n",
       "\t<li>1.99868153650282</li>\n",
       "\t<li>-0.867840726228802</li>\n",
       "\t<li>1.21001856217991</li>\n",
       "\t<li>2.78961258765855</li>\n",
       "\t<li>&lt;NA&gt;</li>\n",
       "\t<li>&lt;NA&gt;</li>\n",
       "\t<li>0.218433625573757</li>\n",
       "\t<li>0.454069653984713</li>\n",
       "\t<li>&lt;NA&gt;</li>\n",
       "\t<li>0.896574512328486</li>\n",
       "</ol>\n"
      ],
      "text/latex": [
       "\\begin{enumerate*}\n",
       "\\item <NA>\n",
       "\\item <NA>\n",
       "\\item 1.54517967909889\n",
       "\\item 0.847057648880324\n",
       "\\item -0.16457167800511\n",
       "\\item 0.556410134011186\n",
       "\\item <NA>\n",
       "\\item 1.05490393869653\n",
       "\\item <NA>\n",
       "\\item 0.177241326992945\n",
       "\\item <NA>\n",
       "\\item -0.230157332367081\n",
       "\\item -1.56961679438644\n",
       "\\item <NA>\n",
       "\\item <NA>\n",
       "\\item -1.46224327829286\n",
       "\\item -0.628400824354752\n",
       "\\item -1.76806854406449\n",
       "\\item 0.328368771105353\n",
       "\\item -0.38311872917991\n",
       "\\item 1.99868153650282\n",
       "\\item -0.867840726228802\n",
       "\\item 1.21001856217991\n",
       "\\item 2.78961258765855\n",
       "\\item <NA>\n",
       "\\item <NA>\n",
       "\\item 0.218433625573757\n",
       "\\item 0.454069653984713\n",
       "\\item <NA>\n",
       "\\item 0.896574512328486\n",
       "\\end{enumerate*}\n"
      ],
      "text/markdown": [
       "1. &lt;NA&gt;\n",
       "2. &lt;NA&gt;\n",
       "3. 1.54517967909889\n",
       "4. 0.847057648880324\n",
       "5. -0.16457167800511\n",
       "6. 0.556410134011186\n",
       "7. &lt;NA&gt;\n",
       "8. 1.05490393869653\n",
       "9. &lt;NA&gt;\n",
       "10. 0.177241326992945\n",
       "11. &lt;NA&gt;\n",
       "12. -0.230157332367081\n",
       "13. -1.56961679438644\n",
       "14. &lt;NA&gt;\n",
       "15. &lt;NA&gt;\n",
       "16. -1.46224327829286\n",
       "17. -0.628400824354752\n",
       "18. -1.76806854406449\n",
       "19. 0.328368771105353\n",
       "20. -0.38311872917991\n",
       "21. 1.99868153650282\n",
       "22. -0.867840726228802\n",
       "23. 1.21001856217991\n",
       "24. 2.78961258765855\n",
       "25. &lt;NA&gt;\n",
       "26. &lt;NA&gt;\n",
       "27. 0.218433625573757\n",
       "28. 0.454069653984713\n",
       "29. &lt;NA&gt;\n",
       "30. 0.896574512328486\n",
       "\n",
       "\n"
      ],
      "text/plain": [
       " [1]         NA         NA  1.5451797  0.8470576 -0.1645717  0.5564101\n",
       " [7]         NA  1.0549039         NA  0.1772413         NA -0.2301573\n",
       "[13] -1.5696168         NA         NA -1.4622433 -0.6284008 -1.7680685\n",
       "[19]  0.3283688 -0.3831187  1.9986815 -0.8678407  1.2100186  2.7896126\n",
       "[25]         NA         NA  0.2184336  0.4540697         NA  0.8965745"
      ]
     },
     "metadata": {},
     "output_type": "display_data"
    }
   ],
   "source": [
    "replace(my_vector, is.na(my_vector), mean(my_vector))"
   ]
  },
  {
   "cell_type": "markdown",
   "id": "95a52c50",
   "metadata": {},
   "source": [
    "### Continious -> Categorial"
   ]
  },
  {
   "cell_type": "code",
   "execution_count": null,
   "id": "8e316a09",
   "metadata": {},
   "outputs": [],
   "source": [
    "?cut"
   ]
  },
  {
   "cell_type": "code",
   "execution_count": 60,
   "id": "6a20e8b9",
   "metadata": {
    "ExecuteTime": {
     "end_time": "2021-09-18T20:09:21.247262Z",
     "start_time": "2021-09-18T20:09:21.238Z"
    }
   },
   "outputs": [],
   "source": [
    "norm <- rnorm(100, mean = 100, sd = 10)"
   ]
  },
  {
   "cell_type": "code",
   "execution_count": 62,
   "id": "20da5d33",
   "metadata": {
    "ExecuteTime": {
     "end_time": "2021-09-18T20:09:48.087299Z",
     "start_time": "2021-09-18T20:09:48.073Z"
    }
   },
   "outputs": [
    {
     "data": {
      "text/html": [
       "<ol class=list-inline>\n",
       "\t<li>(70,100]</li>\n",
       "\t<li>(100,130]</li>\n",
       "\t<li>(100,130]</li>\n",
       "\t<li>(100,130]</li>\n",
       "\t<li>(70,100]</li>\n",
       "\t<li>(100,130]</li>\n",
       "\t<li>(100,130]</li>\n",
       "\t<li>(70,100]</li>\n",
       "\t<li>(100,130]</li>\n",
       "\t<li>(70,100]</li>\n",
       "\t<li>(70,100]</li>\n",
       "\t<li>(100,130]</li>\n",
       "\t<li>(70,100]</li>\n",
       "\t<li>(70,100]</li>\n",
       "\t<li>(100,130]</li>\n",
       "\t<li>(100,130]</li>\n",
       "\t<li>(100,130]</li>\n",
       "\t<li>(70,100]</li>\n",
       "\t<li>(100,130]</li>\n",
       "\t<li>(70,100]</li>\n",
       "\t<li>(70,100]</li>\n",
       "\t<li>(100,130]</li>\n",
       "\t<li>(70,100]</li>\n",
       "\t<li>(100,130]</li>\n",
       "\t<li>(70,100]</li>\n",
       "\t<li>(70,100]</li>\n",
       "\t<li>(70,100]</li>\n",
       "\t<li>(100,130]</li>\n",
       "\t<li>(100,130]</li>\n",
       "\t<li>(70,100]</li>\n",
       "\t<li>(100,130]</li>\n",
       "\t<li>(100,130]</li>\n",
       "\t<li>(100,130]</li>\n",
       "\t<li>(70,100]</li>\n",
       "\t<li>(100,130]</li>\n",
       "\t<li>(70,100]</li>\n",
       "\t<li>(100,130]</li>\n",
       "\t<li>(100,130]</li>\n",
       "\t<li>(100,130]</li>\n",
       "\t<li>(100,130]</li>\n",
       "\t<li>(100,130]</li>\n",
       "\t<li>(70,100]</li>\n",
       "\t<li>(70,100]</li>\n",
       "\t<li>(70,100]</li>\n",
       "\t<li>(70,100]</li>\n",
       "\t<li>(70,100]</li>\n",
       "\t<li>(70,100]</li>\n",
       "\t<li>(70,100]</li>\n",
       "\t<li>(100,130]</li>\n",
       "\t<li>(100,130]</li>\n",
       "\t<li>(100,130]</li>\n",
       "\t<li>(100,130]</li>\n",
       "\t<li>(70,100]</li>\n",
       "\t<li>(100,130]</li>\n",
       "\t<li>(70,100]</li>\n",
       "\t<li>(100,130]</li>\n",
       "\t<li>(70,100]</li>\n",
       "\t<li>(100,130]</li>\n",
       "\t<li>(70,100]</li>\n",
       "\t<li>(70,100]</li>\n",
       "\t<li>(100,130]</li>\n",
       "\t<li>(100,130]</li>\n",
       "\t<li>(100,130]</li>\n",
       "\t<li>(70,100]</li>\n",
       "\t<li>(100,130]</li>\n",
       "\t<li>(100,130]</li>\n",
       "\t<li>(70,100]</li>\n",
       "\t<li>(70,100]</li>\n",
       "\t<li>(70,100]</li>\n",
       "\t<li>(100,130]</li>\n",
       "\t<li>(70,100]</li>\n",
       "\t<li>(100,130]</li>\n",
       "\t<li>(70,100]</li>\n",
       "\t<li>(70,100]</li>\n",
       "\t<li>(70,100]</li>\n",
       "\t<li>(100,130]</li>\n",
       "\t<li>(70,100]</li>\n",
       "\t<li>(100,130]</li>\n",
       "\t<li>(70,100]</li>\n",
       "\t<li>(70,100]</li>\n",
       "\t<li>(70,100]</li>\n",
       "\t<li>(70,100]</li>\n",
       "\t<li>(70,100]</li>\n",
       "\t<li>(70,100]</li>\n",
       "\t<li>(70,100]</li>\n",
       "\t<li>(100,130]</li>\n",
       "\t<li>(100,130]</li>\n",
       "\t<li>(100,130]</li>\n",
       "\t<li>(100,130]</li>\n",
       "\t<li>(100,130]</li>\n",
       "\t<li>(70,100]</li>\n",
       "\t<li>(70,100]</li>\n",
       "\t<li>(70,100]</li>\n",
       "\t<li>(70,100]</li>\n",
       "\t<li>(100,130]</li>\n",
       "\t<li>(100,130]</li>\n",
       "\t<li>(70,100]</li>\n",
       "\t<li>(100,130]</li>\n",
       "\t<li>(100,130]</li>\n",
       "\t<li>(70,100]</li>\n",
       "</ol>\n",
       "\n",
       "<details>\n",
       "\t<summary style=display:list-item;cursor:pointer>\n",
       "\t\t<strong>Levels</strong>:\n",
       "\t</summary>\n",
       "\t<ol class=list-inline>\n",
       "\t\t<li>'(70,100]'</li>\n",
       "\t\t<li>'(100,130]'</li>\n",
       "\t\t<li>'(130,200]'</li>\n",
       "\t</ol>\n",
       "</details>"
      ],
      "text/latex": [
       "\\begin{enumerate*}\n",
       "\\item (70,100{]}\n",
       "\\item (100,130{]}\n",
       "\\item (100,130{]}\n",
       "\\item (100,130{]}\n",
       "\\item (70,100{]}\n",
       "\\item (100,130{]}\n",
       "\\item (100,130{]}\n",
       "\\item (70,100{]}\n",
       "\\item (100,130{]}\n",
       "\\item (70,100{]}\n",
       "\\item (70,100{]}\n",
       "\\item (100,130{]}\n",
       "\\item (70,100{]}\n",
       "\\item (70,100{]}\n",
       "\\item (100,130{]}\n",
       "\\item (100,130{]}\n",
       "\\item (100,130{]}\n",
       "\\item (70,100{]}\n",
       "\\item (100,130{]}\n",
       "\\item (70,100{]}\n",
       "\\item (70,100{]}\n",
       "\\item (100,130{]}\n",
       "\\item (70,100{]}\n",
       "\\item (100,130{]}\n",
       "\\item (70,100{]}\n",
       "\\item (70,100{]}\n",
       "\\item (70,100{]}\n",
       "\\item (100,130{]}\n",
       "\\item (100,130{]}\n",
       "\\item (70,100{]}\n",
       "\\item (100,130{]}\n",
       "\\item (100,130{]}\n",
       "\\item (100,130{]}\n",
       "\\item (70,100{]}\n",
       "\\item (100,130{]}\n",
       "\\item (70,100{]}\n",
       "\\item (100,130{]}\n",
       "\\item (100,130{]}\n",
       "\\item (100,130{]}\n",
       "\\item (100,130{]}\n",
       "\\item (100,130{]}\n",
       "\\item (70,100{]}\n",
       "\\item (70,100{]}\n",
       "\\item (70,100{]}\n",
       "\\item (70,100{]}\n",
       "\\item (70,100{]}\n",
       "\\item (70,100{]}\n",
       "\\item (70,100{]}\n",
       "\\item (100,130{]}\n",
       "\\item (100,130{]}\n",
       "\\item (100,130{]}\n",
       "\\item (100,130{]}\n",
       "\\item (70,100{]}\n",
       "\\item (100,130{]}\n",
       "\\item (70,100{]}\n",
       "\\item (100,130{]}\n",
       "\\item (70,100{]}\n",
       "\\item (100,130{]}\n",
       "\\item (70,100{]}\n",
       "\\item (70,100{]}\n",
       "\\item (100,130{]}\n",
       "\\item (100,130{]}\n",
       "\\item (100,130{]}\n",
       "\\item (70,100{]}\n",
       "\\item (100,130{]}\n",
       "\\item (100,130{]}\n",
       "\\item (70,100{]}\n",
       "\\item (70,100{]}\n",
       "\\item (70,100{]}\n",
       "\\item (100,130{]}\n",
       "\\item (70,100{]}\n",
       "\\item (100,130{]}\n",
       "\\item (70,100{]}\n",
       "\\item (70,100{]}\n",
       "\\item (70,100{]}\n",
       "\\item (100,130{]}\n",
       "\\item (70,100{]}\n",
       "\\item (100,130{]}\n",
       "\\item (70,100{]}\n",
       "\\item (70,100{]}\n",
       "\\item (70,100{]}\n",
       "\\item (70,100{]}\n",
       "\\item (70,100{]}\n",
       "\\item (70,100{]}\n",
       "\\item (70,100{]}\n",
       "\\item (100,130{]}\n",
       "\\item (100,130{]}\n",
       "\\item (100,130{]}\n",
       "\\item (100,130{]}\n",
       "\\item (100,130{]}\n",
       "\\item (70,100{]}\n",
       "\\item (70,100{]}\n",
       "\\item (70,100{]}\n",
       "\\item (70,100{]}\n",
       "\\item (100,130{]}\n",
       "\\item (100,130{]}\n",
       "\\item (70,100{]}\n",
       "\\item (100,130{]}\n",
       "\\item (100,130{]}\n",
       "\\item (70,100{]}\n",
       "\\end{enumerate*}\n",
       "\n",
       "\\emph{Levels}: \\begin{enumerate*}\n",
       "\\item '(70,100{]}'\n",
       "\\item '(100,130{]}'\n",
       "\\item '(130,200{]}'\n",
       "\\end{enumerate*}\n"
      ],
      "text/markdown": [
       "1. (70,100]\n",
       "2. (100,130]\n",
       "3. (100,130]\n",
       "4. (100,130]\n",
       "5. (70,100]\n",
       "6. (100,130]\n",
       "7. (100,130]\n",
       "8. (70,100]\n",
       "9. (100,130]\n",
       "10. (70,100]\n",
       "11. (70,100]\n",
       "12. (100,130]\n",
       "13. (70,100]\n",
       "14. (70,100]\n",
       "15. (100,130]\n",
       "16. (100,130]\n",
       "17. (100,130]\n",
       "18. (70,100]\n",
       "19. (100,130]\n",
       "20. (70,100]\n",
       "21. (70,100]\n",
       "22. (100,130]\n",
       "23. (70,100]\n",
       "24. (100,130]\n",
       "25. (70,100]\n",
       "26. (70,100]\n",
       "27. (70,100]\n",
       "28. (100,130]\n",
       "29. (100,130]\n",
       "30. (70,100]\n",
       "31. (100,130]\n",
       "32. (100,130]\n",
       "33. (100,130]\n",
       "34. (70,100]\n",
       "35. (100,130]\n",
       "36. (70,100]\n",
       "37. (100,130]\n",
       "38. (100,130]\n",
       "39. (100,130]\n",
       "40. (100,130]\n",
       "41. (100,130]\n",
       "42. (70,100]\n",
       "43. (70,100]\n",
       "44. (70,100]\n",
       "45. (70,100]\n",
       "46. (70,100]\n",
       "47. (70,100]\n",
       "48. (70,100]\n",
       "49. (100,130]\n",
       "50. (100,130]\n",
       "51. (100,130]\n",
       "52. (100,130]\n",
       "53. (70,100]\n",
       "54. (100,130]\n",
       "55. (70,100]\n",
       "56. (100,130]\n",
       "57. (70,100]\n",
       "58. (100,130]\n",
       "59. (70,100]\n",
       "60. (70,100]\n",
       "61. (100,130]\n",
       "62. (100,130]\n",
       "63. (100,130]\n",
       "64. (70,100]\n",
       "65. (100,130]\n",
       "66. (100,130]\n",
       "67. (70,100]\n",
       "68. (70,100]\n",
       "69. (70,100]\n",
       "70. (100,130]\n",
       "71. (70,100]\n",
       "72. (100,130]\n",
       "73. (70,100]\n",
       "74. (70,100]\n",
       "75. (70,100]\n",
       "76. (100,130]\n",
       "77. (70,100]\n",
       "78. (100,130]\n",
       "79. (70,100]\n",
       "80. (70,100]\n",
       "81. (70,100]\n",
       "82. (70,100]\n",
       "83. (70,100]\n",
       "84. (70,100]\n",
       "85. (70,100]\n",
       "86. (100,130]\n",
       "87. (100,130]\n",
       "88. (100,130]\n",
       "89. (100,130]\n",
       "90. (100,130]\n",
       "91. (70,100]\n",
       "92. (70,100]\n",
       "93. (70,100]\n",
       "94. (70,100]\n",
       "95. (100,130]\n",
       "96. (100,130]\n",
       "97. (70,100]\n",
       "98. (100,130]\n",
       "99. (100,130]\n",
       "100. (70,100]\n",
       "\n",
       "\n",
       "\n",
       "**Levels**: 1. '(70,100]'\n",
       "2. '(100,130]'\n",
       "3. '(130,200]'\n",
       "\n",
       "\n"
      ],
      "text/plain": [
       "  [1] (70,100]  (100,130] (100,130] (100,130] (70,100]  (100,130] (100,130]\n",
       "  [8] (70,100]  (100,130] (70,100]  (70,100]  (100,130] (70,100]  (70,100] \n",
       " [15] (100,130] (100,130] (100,130] (70,100]  (100,130] (70,100]  (70,100] \n",
       " [22] (100,130] (70,100]  (100,130] (70,100]  (70,100]  (70,100]  (100,130]\n",
       " [29] (100,130] (70,100]  (100,130] (100,130] (100,130] (70,100]  (100,130]\n",
       " [36] (70,100]  (100,130] (100,130] (100,130] (100,130] (100,130] (70,100] \n",
       " [43] (70,100]  (70,100]  (70,100]  (70,100]  (70,100]  (70,100]  (100,130]\n",
       " [50] (100,130] (100,130] (100,130] (70,100]  (100,130] (70,100]  (100,130]\n",
       " [57] (70,100]  (100,130] (70,100]  (70,100]  (100,130] (100,130] (100,130]\n",
       " [64] (70,100]  (100,130] (100,130] (70,100]  (70,100]  (70,100]  (100,130]\n",
       " [71] (70,100]  (100,130] (70,100]  (70,100]  (70,100]  (100,130] (70,100] \n",
       " [78] (100,130] (70,100]  (70,100]  (70,100]  (70,100]  (70,100]  (70,100] \n",
       " [85] (70,100]  (100,130] (100,130] (100,130] (100,130] (100,130] (70,100] \n",
       " [92] (70,100]  (70,100]  (70,100]  (100,130] (100,130] (70,100]  (100,130]\n",
       " [99] (100,130] (70,100] \n",
       "Levels: (70,100] (100,130] (130,200]"
      ]
     },
     "metadata": {},
     "output_type": "display_data"
    }
   ],
   "source": [
    "# c(500, 100 - 30, 100 - 20, 100 - 10, 100, 100 + 10, 100 + 20, 100 + 30, 500)\n",
    "cut(x = norm, breaks = c(100 - 30, 100, 100 + 30, 200))"
   ]
  },
  {
   "cell_type": "markdown",
   "id": "b6a33f71",
   "metadata": {},
   "source": [
    "# ggplot2"
   ]
  },
  {
   "cell_type": "markdown",
   "id": "13ba566e",
   "metadata": {},
   "source": [
    "Полезные материалы:\n",
    "- top 500 ggplot visualisations:\n",
    "http://r-statistics.co/Top50-Ggplot2-Visualizations-MasterList-R-Code.html#Density%20Plot  "
   ]
  },
  {
   "cell_type": "markdown",
   "id": "cafe0186",
   "metadata": {},
   "source": [
    "## Кастомные функции агрегации"
   ]
  },
  {
   "cell_type": "markdown",
   "id": "3c50b015",
   "metadata": {
    "ExecuteTime": {
     "end_time": "2021-09-18T20:32:20.291685Z",
     "start_time": "2021-09-18T20:32:20.280Z"
    }
   },
   "source": [
    "?stat_summary()  \n",
    "https://stackoverflow.com/questions/37750100/aggregating-data-with-ggplot"
   ]
  },
  {
   "cell_type": "markdown",
   "id": "2dd8e1cb",
   "metadata": {},
   "source": [
    "## кастомные темы"
   ]
  },
  {
   "cell_type": "code",
   "execution_count": 65,
   "id": "fe6dd8e2",
   "metadata": {
    "ExecuteTime": {
     "end_time": "2021-09-18T21:24:25.645147Z",
     "start_time": "2021-09-18T21:24:25.630Z"
    }
   },
   "outputs": [],
   "source": [
    "theme_bluewhite <- function (base_size = 11, base_family = \"\") {\n",
    "    theme_bw() %+replace% \n",
    "    theme(\n",
    "      panel.grid.major  = element_line(color = \"gray\"),\n",
    "      panel.background = element_rect(fill = \"white\"),\n",
    "      panel.border = element_rect(color = \"lightblue\", fill = NA),\n",
    "      axis.line = element_line(color = \"lightblue\"),\n",
    "      axis.ticks = element_line(color = \"lightblue\"),\n",
    "      axis.text = element_text(color = \"steelblue\", size = 18)\n",
    "      )\n",
    "}"
   ]
  },
  {
   "cell_type": "markdown",
   "id": "57bbe999",
   "metadata": {},
   "source": [
    "# Регрессия"
   ]
  },
  {
   "cell_type": "markdown",
   "id": "dba87a56",
   "metadata": {},
   "source": [
    "## Множественная регрессия"
   ]
  },
  {
   "cell_type": "markdown",
   "id": "cfa73dbc",
   "metadata": {},
   "source": [
    "### Проверка, смещается ли коэффициент при отсутствии значимой переменной\n",
    "\n",
    "Несмещенные оценки коэффициентов\n",
    "- Если мы знаем что на зависимые переменную влияет два предиктора, но построим парную регрессию только с одним проектором, то коэффициент этого предиктора будет смещен. Причем тем больше смещен, тем больше был бы коэффициент второго предиктора и чем больше корреляция между самими предикторами\n",
    "(Картаев)\n",
    "\n",
    "Проверить на реальных данных и линреге!!!!\n",
    "\n",
    "Просто я технически не понимаю как обычный линрег может изменять коэффициент одного непрерывного предиткора при добавлении другого НЕПРЕРВЫНОГО предиктора"
   ]
  },
  {
   "cell_type": "code",
   "execution_count": 3,
   "id": "2238bf52",
   "metadata": {
    "ExecuteTime": {
     "end_time": "2021-09-19T14:32:42.044011Z",
     "start_time": "2021-09-19T14:32:42.033Z"
    }
   },
   "outputs": [],
   "source": [
    "states <- read.csv('./data/states.csv')"
   ]
  },
  {
   "cell_type": "code",
   "execution_count": 4,
   "id": "228f21b4",
   "metadata": {
    "ExecuteTime": {
     "end_time": "2021-09-19T14:32:50.499943Z",
     "start_time": "2021-09-19T14:32:50.487Z"
    }
   },
   "outputs": [],
   "source": [
    "fit <- lm(poverty ~ hs_grad, states)\n",
    "fit2 <- lm(poverty ~ hs_grad + female_house, states)"
   ]
  },
  {
   "cell_type": "code",
   "execution_count": 8,
   "id": "607c519a",
   "metadata": {
    "ExecuteTime": {
     "end_time": "2021-09-19T14:33:36.706753Z",
     "start_time": "2021-09-19T14:33:36.694Z"
    }
   },
   "outputs": [
    {
     "name": "stdout",
     "output_type": "stream",
     "text": [
      "(Intercept)     hs_grad \n",
      " 64.7809658  -0.6212167 \n",
      " (Intercept)      hs_grad female_house \n",
      "  58.3202572   -0.5655586    0.1438501 \n"
     ]
    }
   ],
   "source": [
    "print(fit$coefficients)\n",
    "print(fit2$coefficients)"
   ]
  },
  {
   "cell_type": "markdown",
   "id": "94c57b1a",
   "metadata": {},
   "source": [
    "коэффициенты меняются! наташа и учебник Картаева были правы\n"
   ]
  },
  {
   "cell_type": "markdown",
   "id": "656d5e08",
   "metadata": {},
   "source": [
    "### stepik practice"
   ]
  },
  {
   "cell_type": "markdown",
   "id": "29d5132b",
   "metadata": {},
   "source": [
    "#### 1"
   ]
  },
  {
   "cell_type": "markdown",
   "id": "1b243ec3",
   "metadata": {},
   "source": [
    "В переменной df сохранен subset данных mtcars только с переменными \"wt\", \"mpg\", \"disp\", \"drat\", \"hp\". Воспользуйтесь множественным регрессионным анализом, чтобы предсказать вес машины (переменная \"wt\"). Выберите такую комбинацию независимых переменных (из \"mpg\", \"disp\", \"drat\", \"hp\"), чтобы значение R^2 adjusted было наибольшим. Взаимодействия факторов учитывать не надо. "
   ]
  },
  {
   "cell_type": "code",
   "execution_count": 10,
   "id": "ad3709e7",
   "metadata": {
    "ExecuteTime": {
     "end_time": "2021-09-19T14:34:17.085027Z",
     "start_time": "2021-09-19T14:34:17.074Z"
    }
   },
   "outputs": [],
   "source": [
    "data(mtcars)"
   ]
  },
  {
   "cell_type": "code",
   "execution_count": 13,
   "id": "e67f6f6a",
   "metadata": {
    "ExecuteTime": {
     "end_time": "2021-09-19T14:35:03.065048Z",
     "start_time": "2021-09-19T14:35:03.057Z"
    }
   },
   "outputs": [],
   "source": [
    "df <- mtcars[, c(1, 3, 4, 5, 6)]"
   ]
  },
  {
   "cell_type": "code",
   "execution_count": 27,
   "id": "af4e3446",
   "metadata": {
    "ExecuteTime": {
     "end_time": "2021-09-19T14:45:12.596375Z",
     "start_time": "2021-09-19T14:45:12.584Z"
    }
   },
   "outputs": [
    {
     "data": {
      "text/plain": [
       "\n",
       "Call:\n",
       "lm(formula = wt ~ mpg + disp + hp, data = df)\n",
       "\n",
       "Coefficients:\n",
       "(Intercept)          mpg         disp           hp  \n",
       "   4.200313    -0.082135     0.005245    -0.003702  \n"
      ]
     },
     "metadata": {},
     "output_type": "display_data"
    }
   ],
   "source": [
    "lm(wt ~ mpg + disp + hp, df)"
   ]
  },
  {
   "cell_type": "markdown",
   "id": "66331e7e",
   "metadata": {},
   "source": [
    "#### 2"
   ]
  },
  {
   "cell_type": "markdown",
   "id": "0d5261b9",
   "metadata": {},
   "source": [
    "Воспользуйтесь встроенным датасетом attitude, чтобы предсказать рейтинг (rating) по переменным complaints и critical. Каково t-значение для взаимодействия двух факторов?"
   ]
  },
  {
   "cell_type": "code",
   "execution_count": 30,
   "id": "90fb4164",
   "metadata": {
    "ExecuteTime": {
     "end_time": "2021-09-19T14:45:52.928572Z",
     "start_time": "2021-09-19T14:45:52.761Z"
    }
   },
   "outputs": [
    {
     "data": {
      "image/png": "[encoded data removed]",
      "text/plain": [
       "plot without title"
      ]
     },
     "metadata": {
      "image/png": {
       "height": 420,
       "width": 420
      }
     },
     "output_type": "display_data"
    }
   ],
   "source": [
    "data(attitude)\n",
    "pairs(attitude)"
   ]
  },
  {
   "cell_type": "code",
   "execution_count": 50,
   "id": "c1187e6a",
   "metadata": {
    "ExecuteTime": {
     "end_time": "2021-09-19T14:57:56.808674Z",
     "start_time": "2021-09-19T14:57:56.794Z"
    }
   },
   "outputs": [
    {
     "data": {
      "text/plain": [
       "\n",
       "Call:\n",
       "lm(formula = rating ~ complaints + critical, data = attitude)\n",
       "\n",
       "Residuals:\n",
       "     Min       1Q   Median       3Q      Max \n",
       "-12.8338  -5.9910   0.1891   6.3021   9.6406 \n",
       "\n",
       "Coefficients:\n",
       "             Estimate Std. Error t value Pr(>|t|)    \n",
       "(Intercept) 14.251378  11.172337   1.276    0.213    \n",
       "complaints   0.754344   0.101120   7.460 5.03e-08 ***\n",
       "critical     0.001908   0.136069   0.014    0.989    \n",
       "---\n",
       "Signif. codes:  0 ‘***’ 0.001 ‘**’ 0.01 ‘*’ 0.05 ‘.’ 0.1 ‘ ’ 1\n",
       "\n",
       "Residual standard error: 7.122 on 27 degrees of freedom\n",
       "Multiple R-squared:  0.6813,\tAdjusted R-squared:  0.6577 \n",
       "F-statistic: 28.86 on 2 and 27 DF,  p-value: 1.974e-07\n"
      ]
     },
     "metadata": {},
     "output_type": "display_data"
    }
   ],
   "source": [
    "summary(lm(rating ~ complaints + critical, attitude))"
   ]
  },
  {
   "cell_type": "code",
   "execution_count": 47,
   "id": "f07e1835",
   "metadata": {
    "ExecuteTime": {
     "end_time": "2021-09-19T14:56:09.828249Z",
     "start_time": "2021-09-19T14:56:09.814Z"
    }
   },
   "outputs": [
    {
     "data": {
      "text/plain": [
       "\n",
       "Call:\n",
       "lm(formula = rating ~ complaints:critical, data = attitude)\n",
       "\n",
       "Residuals:\n",
       "     Min       1Q   Median       3Q      Max \n",
       "-19.4235  -5.3828   0.4803   6.2561  17.3842 \n",
       "\n",
       "Coefficients:\n",
       "                     Estimate Std. Error t value Pr(>|t|)    \n",
       "(Intercept)         29.123651   6.802801   4.281 0.000197 ***\n",
       "complaints:critical  0.007097   0.001322   5.368 1.01e-05 ***\n",
       "---\n",
       "Signif. codes:  0 ‘***’ 0.001 ‘**’ 0.01 ‘*’ 0.05 ‘.’ 0.1 ‘ ’ 1\n",
       "\n",
       "Residual standard error: 8.696 on 28 degrees of freedom\n",
       "Multiple R-squared:  0.5072,\tAdjusted R-squared:  0.4896 \n",
       "F-statistic: 28.82 on 1 and 28 DF,  p-value: 1.015e-05\n"
      ]
     },
     "metadata": {},
     "output_type": "display_data"
    }
   ],
   "source": [
    "summary(lm(rating ~ complaints:critical, attitude))"
   ]
  },
  {
   "cell_type": "code",
   "execution_count": 48,
   "id": "7da81a95",
   "metadata": {
    "ExecuteTime": {
     "end_time": "2021-09-19T14:57:22.493699Z",
     "start_time": "2021-09-19T14:57:22.480Z"
    }
   },
   "outputs": [
    {
     "data": {
      "text/plain": [
       "\n",
       "Call:\n",
       "lm(formula = rating ~ complaints * critical, data = attitude)\n",
       "\n",
       "Residuals:\n",
       "     Min       1Q   Median       3Q      Max \n",
       "-13.1988  -6.2054   0.3718   6.1426   9.6796 \n",
       "\n",
       "Coefficients:\n",
       "                     Estimate Std. Error t value Pr(>|t|)\n",
       "(Intercept)         26.923536  41.643872   0.647    0.524\n",
       "complaints           0.551382   0.649862   0.848    0.404\n",
       "critical            -0.181353   0.595686  -0.304    0.763\n",
       "complaints:critical  0.002907   0.009192   0.316    0.754\n",
       "\n",
       "Residual standard error: 7.243 on 26 degrees of freedom\n",
       "Multiple R-squared:  0.6825,\tAdjusted R-squared:  0.6459 \n",
       "F-statistic: 18.63 on 3 and 26 DF,  p-value: 1.169e-06\n"
      ]
     },
     "metadata": {},
     "output_type": "display_data"
    }
   ],
   "source": [
    "summary(lm(rating ~ complaints * critical, attitude))"
   ]
  },
  {
   "cell_type": "markdown",
   "id": "3aa06f3a",
   "metadata": {},
   "source": [
    "почему сьехали коэффициенты и взлетели ошидки основных предикторов, когда мы включили в регрессию их взаимоействие??  \n",
    "а если в модели будет только их взаимодействие: то оно будет значимым???  \n",
    "\n",
    "Скорее всего в модели что то ломается, но мультиколлинеарности здесь не вижу"
   ]
  },
  {
   "cell_type": "markdown",
   "id": "07b34e81",
   "metadata": {},
   "source": [
    "в случае, если бы вторая переменная была фактором (фиктивной), то я понимаю почему так: тогда коэффициент при изначальной переменной просто интепретировался бы как повышение именно при уровне фактора 0 \n",
    "\n",
    "а вот в случае с непрерывным пока хз почему так и как это интепретировать"
   ]
  },
  {
   "cell_type": "markdown",
   "id": "f933c3a1",
   "metadata": {},
   "source": [
    "TODO: разобраться с интепретацией взаимодействия двух количественных переменных!!!"
   ]
  },
  {
   "cell_type": "code",
   "execution_count": 51,
   "id": "412f1071",
   "metadata": {
    "ExecuteTime": {
     "end_time": "2021-09-19T15:02:35.637384Z",
     "start_time": "2021-09-19T15:02:35.622Z"
    }
   },
   "outputs": [],
   "source": [
    "data(swiss)"
   ]
  },
  {
   "cell_type": "code",
   "execution_count": 54,
   "id": "2a1148ca",
   "metadata": {
    "ExecuteTime": {
     "end_time": "2021-09-19T15:03:32.777946Z",
     "start_time": "2021-09-19T15:03:32.623Z"
    }
   },
   "outputs": [
    {
     "data": {
      "image/png": "[encoded data removed]",
      "text/plain": [
       "plot without title"
      ]
     },
     "metadata": {
      "image/png": {
       "height": 420,
       "width": 420
      }
     },
     "output_type": "display_data"
    }
   ],
   "source": [
    "pairs(swiss)"
   ]
  }
 ],
 "metadata": {
  "kernelspec": {
   "display_name": "R",
   "language": "R",
   "name": "ir"
  },
  "language_info": {
   "codemirror_mode": "r",
   "file_extension": ".r",
   "mimetype": "text/x-r-source",
   "name": "R",
   "pygments_lexer": "r",
   "version": "3.6.1"
  },
  "toc": {
   "base_numbering": 1,
   "nav_menu": {},
   "number_sections": true,
   "sideBar": true,
   "skip_h1_title": false,
   "title_cell": "Table of Contents",
   "title_sidebar": "Contents",
   "toc_cell": false,
   "toc_position": {
    "height": "calc(100% - 180px)",
    "left": "10px",
    "top": "150px",
    "width": "303.949px"
   },
   "toc_section_display": true,
   "toc_window_display": true
  },
  "varInspector": {
   "cols": {
    "lenName": 16,
    "lenType": 16,
    "lenVar": 40
   },
   "kernels_config": {
    "python": {
     "delete_cmd_postfix": "",
     "delete_cmd_prefix": "del ",
     "library": "var_list.py",
     "varRefreshCmd": "print(var_dic_list())"
    },
    "r": {
     "delete_cmd_postfix": ") ",
     "delete_cmd_prefix": "rm(",
     "library": "var_list.r",
     "varRefreshCmd": "cat(var_dic_list()) "
    }
   },
   "oldHeight": 190.71036400000003,
   "position": {
    "height": "40px",
    "left": "1071.16px",
    "right": "20px",
    "top": "2.92045px",
    "width": "272.003px"
   },
   "types_to_exclude": [
    "module",
    "function",
    "builtin_function_or_method",
    "instance",
    "_Feature"
   ],
   "varInspector_section_display": "none",
   "window_display": true
  }
 },
 "nbformat": 4,
 "nbformat_minor": 5
}
